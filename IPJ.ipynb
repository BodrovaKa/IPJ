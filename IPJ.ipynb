{
 "cells": [
  {
   "cell_type": "code",
   "execution_count": 59,
   "metadata": {},
   "outputs": [],
   "source": [
    "import pandas as pd\n",
    "from datetime import datetime\n",
    "import numpy as np\n",
    "import plotly.graph_objects as go\n",
    "import plotly.express as px\n",
    "from IPython.display import display\n",
    "from plotly.subplots import make_subplots"
   ]
  },
  {
   "cell_type": "markdown",
   "metadata": {},
   "source": [
    "**Author: K.Bodrova:**"
   ]
  },
  {
   "cell_type": "code",
   "execution_count": 60,
   "metadata": {},
   "outputs": [],
   "source": [
    "# Function to read and clean data from CSV files\n",
    "def read_and_clean_data(file_production, file_consumption):\n",
    "    \n",
    "    production_df = pd.read_csv(file_production, delimiter=';')                           # Read data from CSV files\n",
    "    consumption_df = pd.read_csv(file_consumption, delimiter=';')\n",
    "\n",
    "    production_df['Date'] = pd.to_datetime(production_df['Datum'], format='%d.%m.%Y')     # Convert date columns to DateTime objects\n",
    "    production_df['Starttime'] = pd.to_datetime(production_df['Anfang'], format='%H:%M')\n",
    "    consumption_df['Date'] = pd.to_datetime(consumption_df['Datum'], format='%d.%m.%Y')\n",
    "    consumption_df['Starttime'] = pd.to_datetime(consumption_df['Anfang'], format='%H:%M')\n",
    "    \n",
    "    # Clean data formats for renewable energies\n",
    "    production_df['Biomass'] = production_df['Biomasse [MWh] Originalauflösungen'].str.replace(\".\", \"\").str.replace(\",\", \".\").replace('-', 0).astype(float)\n",
    "    production_df['Hydroelectric'] = production_df['Wasserkraft [MWh] Originalauflösungen'].str.replace(\".\", \"\").str.replace(\",\", \".\").replace('-', 0).astype(float)\n",
    "    production_df['Wind Offshore'] = production_df['Wind Offshore [MWh] Originalauflösungen'].str.replace(\".\", \"\").str.replace(\",\", \".\").replace('-', 0).astype(float)\n",
    "    production_df['Wind Onshore'] = production_df['Wind Onshore [MWh] Originalauflösungen'].str.replace(\".\", \"\").str.replace(\",\", \".\").replace('-', 0).astype(float)\n",
    "    production_df['Photovoltaic'] = production_df['Photovoltaik [MWh] Originalauflösungen'].str.replace(\".\", \"\").str.replace(\",\", \".\").replace('-', 0).astype(float)\n",
    "    production_df['Other Renewable'] = production_df['Sonstige Erneuerbare [MWh] Originalauflösungen'].str.replace(\".\", \"\").str.replace(\",\", \".\").replace('-', 0).astype(float)\n",
    "\n",
    "    # Clean data formats for total consumption\n",
    "    consumption_df['Consumption'] = consumption_df['Gesamt (Netzlast) [MWh] Originalauflösungen'].str.replace(\".\", \"\").str.replace(\",\", \".\").astype(float)\n",
    "\n",
    "    # Create a new column for total production\n",
    "    production_df['Total Production'] = production_df[['Biomass', 'Hydroelectric', 'Wind Offshore', 'Wind Onshore', 'Photovoltaic', 'Other Renewable']].sum(axis=1)\n",
    "\n",
    "    # Gruppierung der Produktionsdaten nach Jahr und Summierung der erneuerbaren Energietypen\n",
    "    production_by_type_and_year = production_df.groupby(production_df['Date'].dt.year)[['Biomass', 'Hydroelectric', 'Wind Offshore', 'Wind Onshore', 'Photovoltaic', 'Other Renewable']].sum()\n",
    " \n",
    "    pd.options.display.float_format = '{:.2f}'.format  # Set Pandas to display floating-point numbers with two decimal places\n",
    "\n",
    "    data_by_year = {}  # Aggregation der Daten nach Jahren und Speicherung in einem Dictionary\n",
    "\n",
    "    for year, data in production_df.groupby(production_df['Date'].dt.year):\n",
    "        production_data = data[['Biomass', 'Hydroelectric', 'Wind Offshore', 'Wind Onshore', 'Photovoltaic', 'Other Renewable']].sum()\n",
    "        consumption_data = consumption_df[consumption_df['Date'].dt.year == year]['Consumption']\n",
    "        total_consumption = consumption_data.sum()\n",
    "        data_by_year[year] = {\n",
    "            'Production': production_data.sum(),\n",
    "            'Consumption': total_consumption,\n",
    "            'Biomass': production_data['Biomass'],\n",
    "            'Hydroelectric': production_data['Hydroelectric'],\n",
    "            'Wind Offshore': production_data['Wind Offshore'],\n",
    "            'Wind Onshore': production_data['Wind Onshore'],\n",
    "            'Photovoltaic': production_data['Photovoltaic'],\n",
    "            'Other Renewable': production_data['Other Renewable']\n",
    "        }\n",
    "\n",
    "    total_renewable_production = production_df[['Biomass', 'Hydroelectric', 'Wind Offshore', 'Wind Onshore', 'Photovoltaic', 'Other Renewable']].sum(axis=1)\n",
    "    total_consumption = consumption_df['Consumption']\n",
    "\n",
    "    return production_df, consumption_df, total_renewable_production, total_consumption, data_by_year"
   ]
  },
  {
   "cell_type": "code",
   "execution_count": 77,
   "metadata": {},
   "outputs": [],
   "source": [
    "def read_load_profile(file_path):\n",
    "    # Read the Excel file\n",
    "    load_profile_df = pd.read_excel(file_path, skiprows=8)\n",
    "    \n",
    "    # Rename the columns for clarity\n",
    "    load_profile_df.columns = ['Time', 'Weekday_Summer', 'Saturday_Summer', 'Sunday_Summer', 'Weekday_Winter', 'Saturday_Winter', 'Sunday_Winter']\n",
    "    \n",
    "    # Define a function to replace \"24:00:00\" with \"00:00:00\"\n",
    "    def replace_24_with_00(time_str):   \n",
    "        return time_str.replace('24:00:00', '00:00:00')\n",
    "\n",
    "    # Apply the function to each value in the 'Time' column\n",
    "    load_profile_df['Time'] = load_profile_df['Time'].apply(replace_24_with_00)\n",
    "\n",
    "    # Remove leading and trailing whitespace\n",
    "    load_profile_df['Time'] = load_profile_df['Time'].str.strip()\n",
    "\n",
    "    # Convert the 'Time' column to a DateTime object\n",
    "    load_profile_df['Time'] = pd.to_datetime(load_profile_df['Time'], format='%H:%M:%S').dt.time\n",
    "\n",
    "    # Multiply all values (except 'Time') by 32*10^6\n",
    "    cols_to_update = ['Weekday_Summer', 'Saturday_Summer', 'Sunday_Summer', 'Weekday_Winter', 'Saturday_Winter', 'Sunday_Winter']\n",
    "    load_profile_df[cols_to_update] = load_profile_df[cols_to_update].applymap(lambda x: x * 32 * 10**3) # Multiply by 32*10^3 to convert from MW to W\t\n",
    "    \n",
    "    return load_profile_df"
   ]
  },
  {
   "cell_type": "markdown",
   "metadata": {},
   "source": [
    "**Authors: M.Lauterbach, K.Bodrova:**"
   ]
  },
  {
   "cell_type": "code",
   "execution_count": 62,
   "metadata": {},
   "outputs": [],
   "source": [
    "installed_power_dict = {2020: 122603, 2021: 129551, 2022: 133808}\n",
    "\n",
    "def find_dark_lulls_and_for_years(selected_date, production_df, dark_lulls_dict, columns_to_clean):\n",
    "    \n",
    "    year = selected_date.year  # Get the year of the selected date\n",
    "    \n",
    "    installed_power = installed_power_dict.get(year, None) # Installed power for the corresponding year\n",
    "    \n",
    "    if installed_power is None:\n",
    "        print(f\"No installed power found for the year {year}.\")\n",
    "        return None\n",
    "    \n",
    "    selected_production = production_df[production_df['Date'] == selected_date] # Filter data for the selected date\n",
    "    \n",
    "    total_renewable_production_selected_date = selected_production[columns_to_clean].sum(axis=1).sum() # Sum the renewable energy production for the selected date\n",
    "    \n",
    "    threshold_10_percent = installed_power * 0.1 # Compare with installed power for different thresholds\n",
    "    threshold_20_percent = installed_power * 0.2\n",
    "    \n",
    "    if total_renewable_production_selected_date/24 < threshold_10_percent:\n",
    "        dark_lulls_dict[\"up to 10%\"].append(selected_date)\n",
    "    elif total_renewable_production_selected_date/24 < threshold_20_percent:\n",
    "        dark_lulls_dict[\"up to 20%\"].append(selected_date)\n",
    "    else:\n",
    "        return None\n",
    "\n",
    "def find_dark_lulls_for_years(production_df, columns_to_clean):\n",
    "    # Loop through all days in the years 2020 to 2022\n",
    "    start_date = datetime(2020, 1, 1)\n",
    "    end_date = datetime(2022, 12, 31)\n",
    "\n",
    "    dark_lulls_dict = {\"up to 10%\": [], \"up to 20%\": []}\n",
    "    \n",
    "    current_date = start_date\n",
    "    \n",
    "    while current_date <= end_date:\n",
    "        find_dark_lulls_and_for_years(current_date, production_df, dark_lulls_dict, columns_to_clean)\n",
    "        current_date += pd.DateOffset(days=1)   # Add one day to the current date\n",
    "    \n",
    "    # consecucitve days\n",
    "    for label, days_list in dark_lulls_dict.items():\n",
    "         print('for: ' + label)\n",
    "         print(\"Max consecutive days: \" + str(count_max_consecutive_days(dark_lulls_dict[label])))\n",
    "\n",
    "    # Display the sorted lists\n",
    "    print(\"\\nList of days up to 10%:\")\n",
    "    for day in dark_lulls_dict[\"up to 10%\"]:\n",
    "        print(day.strftime('%d.%m.%Y'))\n",
    "\n",
    "    print(\"\\nList of days up to 20%:\")\n",
    "    for day in dark_lulls_dict[\"up to 20%\"]:\n",
    "        print(day.strftime('%d.%m.%Y'))\n",
    "    \n",
    "    print(\"\\nNumber of days up to 10%:\", len(dark_lulls_dict[\"up to 10%\"]))\n",
    "    print(\"Number of days up to 20%:\", len(dark_lulls_dict[\"up to 20%\"]))\n",
    "\n",
    "\n",
    "# max consecutive days code START\n",
    "def count_max_consecutive_days(date_list):\n",
    "    if not date_list:\n",
    "        return 0\n",
    "    date_list.sort()\n",
    "    max_consecutive = 1\n",
    "    current_consecutive = 1\n",
    "\n",
    "    for i in range(1, len(date_list)):\n",
    "        if (date_list[i] - date_list[i - 1]).days == 1:\n",
    "            current_consecutive += 1\n",
    "            max_consecutive = max(max_consecutive, current_consecutive)\n",
    "        else:\n",
    "            current_consecutive = 1\n",
    "    return max_consecutive\n"
   ]
  },
  {
   "cell_type": "markdown",
   "metadata": {},
   "source": [
    "**Author: K.Bodrova:**"
   ]
  },
  {
   "cell_type": "code",
   "execution_count": 63,
   "metadata": {},
   "outputs": [],
   "source": [
    "# Funktion zur Berechnung und Anzeige des Histogramms für erneuerbare Anteile\n",
    "def calculate_and_display_renewable_shares_histogram(total_renewable_production, total_consumption):\n",
    "    # Berechnung der prozentualen Anteile der erneuerbaren Energieerzeugung am Gesamtverbrauch\n",
    "    percent_renewable = total_renewable_production / total_consumption * 100 \n",
    "\n",
    "    counts, intervals = np.histogram(percent_renewable, bins = np.arange(0, 111, 1))  # Use NumPy to calculate the histogram of the percentage distribution\n",
    "\n",
    "    x = intervals[:-1]                               # Define the x-axis values as the bin edges\n",
    "    labels = [f'{i}%' for i in range(0, 111, 1)]     # Create labels for x-axis ticks (von 0 bis 111 in Einzelnschritten)\n",
    "\n",
    "    fig = go.Figure(data=[go.Bar(x=x, y=counts)])    # Create a bar chart using Plotly\n",
    "\n",
    "    fig.update_layout(xaxis=dict(tickmode='array', tickvals=list(range(0, 111, 5)), ticktext=labels[::5]))  # X-axis label settings\n",
    "\n",
    "    # Title and axis labels settings\n",
    "    fig.update_layout(title='Anzahl der Viertelstunden in Jahren 2020-2022 mit 0-110 % EE-Anteilen',\n",
    "                  xaxis_title='Prozentsatz erneuerbarer Energie',\n",
    "                  yaxis_title='Anzahl der Viertelstunden')\n",
    "\n",
    "    fig.show()"
   ]
  },
  {
   "cell_type": "markdown",
   "metadata": {},
   "source": [
    "**Function to plot energy consumption and production for a selected date.\n",
    " Author: K. Bodrova, Diagram: O. Pearse-Danker:**"
   ]
  },
  {
   "cell_type": "code",
   "execution_count": 64,
   "metadata": {},
   "outputs": [],
   "source": [
    "def plot_energy_consumption_and_production(production_df, consumption_df, columns_to_clean):\n",
    "    selected_date_str = input(\"Enter the selected date (format: YYYY-MM-DD): \") # Ask the user to enter a date    \n",
    "    try:\n",
    "        selected_date = pd.to_datetime(selected_date_str)\n",
    "    except ValueError:\n",
    "        print(\"Invalid date format. Please use the format YYYY-MM-DD.\")\n",
    "        return\n",
    "\n",
    "    selected_production = production_df[production_df['Date'] == selected_date]       # Filter data for the selected date\n",
    "    selected_consumption = consumption_df[consumption_df['Date'] == selected_date]\n",
    "\n",
    "    total_renewable_production_selected_date = selected_production[columns_to_clean].sum(axis=1).sum()\n",
    "    print(f\"Summe der erneuerbaren Energien am {selected_date}: {total_renewable_production_selected_date} MWh\")\n",
    "\n",
    "    fig = make_subplots()                 # Create a new Plotly subplot figure\n",
    "\n",
    "    fig.add_trace(                        # Add the energy consumption trace\n",
    "        go.Scatter(\n",
    "            x=selected_consumption['Starttime'].dt.strftime('%H:%M'),\n",
    "            y=selected_consumption['Consumption'],\n",
    "            mode='lines',\n",
    "            name='Total Consumption',\n",
    "            fill='tozeroy'\n",
    "        )\n",
    "    )\n",
    " \n",
    "    fig.add_trace(                        # Add the renewable energy production trace\n",
    "        go.Scatter(\n",
    "            x=selected_production['Starttime'].dt.strftime('%H:%M'),\n",
    "            y=selected_production['Total Production'],\n",
    "            mode='lines',\n",
    "            name='Total Renewable Production',\n",
    "            fill='tozeroy'\n",
    "        )\n",
    "    )\n",
    "\n",
    "    fig.update_layout(\n",
    "        title=f'Energy Production and Consumption on {selected_date}',\n",
    "        xaxis=dict(title='Time (hours)'),\n",
    "        yaxis=dict(title='Energy (MWh)'),\n",
    "        showlegend=True\n",
    "    )\n",
    "\n",
    "    fig.show()                            # Display the figure"
   ]
  },
  {
   "cell_type": "markdown",
   "metadata": {},
   "source": [
    "**Author: K.Bodrova:**"
   ]
  },
  {
   "cell_type": "code",
   "execution_count": 65,
   "metadata": {},
   "outputs": [],
   "source": [
    "# Funktion zur Berechnung und Anzeige der aggregierten Daten pro Jahr\n",
    "def calculate_and_display_data_by_year(data_by_year):\n",
    "    for year, data in data_by_year.items():\n",
    "        print(f\"Jahr: {year}\")\n",
    "        print(f\"Gesamte erneuerbare Energieproduktion: {data['Production']} MWh\")\n",
    "        print(f\"Gesamtverbrauch: {data['Consumption']} MWh\")\n",
    "        print(f\"Biomasse: {data['Biomass']} MWh\")\n",
    "        print(f\"Wasserkraft: {data['Hydroelectric']} MWh\")\n",
    "        print(f\"Wind Offshore: {data['Wind Offshore']} MWh\")\n",
    "        print(f\"Wind Onshore: {data['Wind Onshore']} MWh\")\n",
    "        print(f\"Photovoltaik: {data['Photovoltaic']} MWh\")\n",
    "        print(f\"Andere erneuerbare Energien: {data['Other Renewable']} MWh\")\n",
    "        print()"
   ]
  },
  {
   "cell_type": "code",
   "execution_count": 66,
   "metadata": {},
   "outputs": [],
   "source": [
    "def plot_energy_data(consumption_df, production_df, selected_date):\n",
    "    fig = make_subplots()\n",
    "\n",
    "    # Add the energy consumption trace\n",
    "    fig.add_trace(\n",
    "        go.Scatter(\n",
    "            x=consumption_df['Starttime'].dt.strftime('%H:%M'),\n",
    "            y=consumption_df['Verbrauch [MWh]'],\n",
    "            mode='lines',\n",
    "            name='Total Consumption',\n",
    "            fill='tozeroy'\n",
    "        )\n",
    "    )\n",
    "\n",
    "    # Add the renewable energy production trace\n",
    "    fig.add_trace(\n",
    "        go.Scatter(\n",
    "            x=production_df['Starttime'].dt.strftime('%H:%M'),\n",
    "            y=production_df['Total Production'],\n",
    "            mode='lines',\n",
    "            name='Total Renewable Production',\n",
    "            fill='tozeroy'\n",
    "        )\n",
    "    )\n",
    "\n",
    "    fig.update_layout(\n",
    "        title=f'Energy Production and Consumption on {selected_date}',\n",
    "        xaxis=dict(title='Time (hours)'),\n",
    "        yaxis=dict(title='Energy (MWh)'),\n",
    "        showlegend=True\n",
    "    )\n",
    "\n",
    "    fig.show()"
   ]
  },
  {
   "cell_type": "code",
   "execution_count": 67,
   "metadata": {},
   "outputs": [],
   "source": [
    "def plot_renewable_percentage(scaled_production_df, verbrauch2030df):\n",
    "    total_scaled_renewable_production = scaled_production_df[['Biomass', 'Hydroelectric', 'Wind Offshore', 'Wind Onshore', 'Photovoltaic', 'Other Renewable']].sum(axis=1)\n",
    "    total_consumption = verbrauch2030df['Verbrauch [MWh]']\n",
    "\n",
    "    # Berechnung der prozentualen Anteile der erneuerbaren Energieerzeugung am Gesamtverbrauch\n",
    "    percent_renewable = total_scaled_renewable_production / total_consumption * 100\n",
    "\n",
    "    counts, intervals = np.histogram(percent_renewable, bins=np.arange(0, 330, 1))  # Use NumPy to calculate the histogram of the percentage distribution\n",
    "\n",
    "    x = intervals[:-1]  # Define the x-axis values as the bin edges\n",
    "    labels = [f'{i}%' for i in range(0, 330, 1)]  # Create labels for x-axis ticks (von 0 bis 111 in Einzelnschritten)\n",
    "\n",
    "    fig = go.Figure(data=[go.Bar(x=x, y=counts)])  # Create a bar chart using Plotly\n",
    "    fig.update_layout(\n",
    "        xaxis=dict(tickmode='array', tickvals=list(range(0, 330, 5)), ticktext=labels[::5]))  # X-axis label settings\n",
    "\n",
    "    # Title and axis labels settings\n",
    "    fig.update_layout(title='Anzahl der Viertelstunden im Jahren 2030 mit 0-330 % EE-Anteil',\n",
    "                  xaxis_title='Prozentsatz erneuerbarer Energie',\n",
    "                  yaxis_title='Anzahl der Viertelstunden')\n",
    "\n",
    "    fig.show()\n",
    "    \n",
    "    data = []\n",
    "\n",
    "    for i in range(301):\n",
    "        # Zählen die Viertelstunden über oder gleich dem Prozentsatz\n",
    "        anzahlViertelstundenProzent = len(percent_renewable[percent_renewable >= i])\n",
    "         # Fügen Sie einen Datensatz zum Speichern in die Liste hinzu\n",
    "        data.append({'Prozentsatz': i, 'Anzahl_Viertelstunden': anzahlViertelstundenProzent})\n",
    "    \n",
    "    result_df = pd.DataFrame(data) # DataFrame erstellen\n",
    "    \n",
    "    fig = go.Figure()\n",
    "\n",
    "    # Fügen einen Balken für die Anzahl der Viertelstunden für jeden Prozentsatz hinzu\n",
    "    fig.add_trace(go.Bar(x=result_df['Prozentsatz'], y=result_df['Anzahl_Viertelstunden']))\n",
    "\n",
    "    # Aktualisieren Sie das Layout für Titel und Achsenbeschriftungen\n",
    "    fig.update_layout(\n",
    "        title='Anzahl der Viertelstunden mit erneuerbarer Energieerzeugung über oder gleich dem Verbrauch',\n",
    "        xaxis=dict(title='Prozentsatz erneuerbarer Energie'),\n",
    "        yaxis=dict(title='Anzahl der Viertelstunden')\n",
    "    )\n",
    "\n",
    "    fig.show()"
   ]
  },
  {
   "cell_type": "code",
   "execution_count": 68,
   "metadata": {},
   "outputs": [],
   "source": [
    "def scale_2030_factors(df,windonshore_2030_factor,windoffshore_2030_factor, pv_2030_factor):\n",
    "        df_copy = df.copy()\n",
    "        df_copy['Wind Onshore'] *= windonshore_2030_factor\n",
    "        df_copy['Wind Offshore'] *= windoffshore_2030_factor\n",
    "        df_copy['Photovoltaic'] *= pv_2030_factor\n",
    "        df_copy['Total Production'] = df_copy[['Biomass', 'Hydroelectric', 'Wind Offshore', 'Wind Onshore', 'Photovoltaic', 'Other Renewable']].sum(axis=1)\n",
    "        return df_copy"
   ]
  },
  {
   "cell_type": "code",
   "execution_count": 69,
   "metadata": {},
   "outputs": [],
   "source": [
    "def consumption_with_load_profile(selected_consumption2030df, load_profile_df, selected_date):\n",
    "    # Convert selected_date to a datetime object\n",
    "    selected_date = pd.to_datetime(selected_date)\n",
    "\n",
    "    # Determine the season and day of the week\n",
    "    if selected_date.month >= 10 and selected_date.day >= 15 or selected_date.month <= 3 and selected_date.day <= 15:\n",
    "        season = 'Winter'\n",
    "    else:\n",
    "        season = 'Summer'\n",
    "\n",
    "    day_of_week = selected_date.day_name()\n",
    "\n",
    "    # Map the day of the week to the corresponding column in load_profile_df\n",
    "    if day_of_week == 'Sunday':\n",
    "        day_column = 'Sunday_' + season\n",
    "    elif day_of_week == 'Saturday':\n",
    "        day_column = 'Saturday_' + season\n",
    "    else:\n",
    "        day_column = 'Weekday_' + season\n",
    "\n",
    "    # Ensure both dataframes have the same index\n",
    "    load_profile_df = load_profile_df.set_index(selected_consumption2030df.index)\n",
    "\n",
    "    # Merge selected_consumption2030df with the correct column of load_profile_df\n",
    "    merged_df = selected_consumption2030df.merge(load_profile_df[[day_column]], left_index=True, right_index=True)\n",
    "\n",
    "    # Add the values in 'Verbrauch [MWh]' with the values in the day_column\n",
    "    merged_df['Verbrauch [MWh]'] = merged_df['Verbrauch [MWh]'] + merged_df[day_column]\n",
    "\n",
    "    # Drop the unnecessary columns\n",
    "    merged_df.drop(columns=[day_column], inplace=True)\n",
    "\n",
    "    return merged_df\n",
    "\n",
    "\n",
    "def get_day_of_week(selected_date):\n",
    "    days_of_week = [\"Monday\", \"Tuesday\", \"Wednesday\", \"Thursday\", \"Friday\", \"Saturday\", \"Sunday\"]\n",
    "    day_index = selected_date.weekday()\n",
    "    return days_of_week[day_index]\n"
   ]
  },
  {
   "cell_type": "markdown",
   "metadata": {},
   "source": [
    "**Authors: L.Dorda, N.Clasen, B.Wolf:**"
   ]
  },
  {
   "cell_type": "code",
   "execution_count": 70,
   "metadata": {},
   "outputs": [],
   "source": [
    "# Function to process and plot data for the year 2030\n",
    "def process_and_plot_2030_dataGut(production_df, consumption_df, load_profile_df, selected_date):\n",
    "    \n",
    "    # POSITIVE SCENARIO Production based on 2020 and BMWK goals\n",
    "    production_2020df = production_df[production_df['Date'].dt.year == 2020]\n",
    "    prognoseErzeugung2030_positive_df = production_2020df.copy()\n",
    "    #prognoseErzeugung2030_positive_df['Date'] = prognoseErzeugung2030_positive_df['Date'].map(lambda x: x.replace(year=2030))\n",
    "    prognoseErzeugung2030_positive_df['Date'] = prognoseErzeugung2030_positive_df['Date'].map(\n",
    "    lambda x: x.replace(year=2030) if not (x.month == 2 and x.day == 29) else x.replace(month=2, day=28, year=2030))\n",
    "\n",
    "    windonshore_2030_factor_2020_positive = 2.13589  # \n",
    "    windoffshore_2030_factor_2020_postive = 3.92721  #\n",
    "    pv_2030_factor_2020_postive = 4.2361193  # assumig PV will increase by 423%\n",
    "\n",
    "    # Scale the data by the factors\n",
    "    scaled_production_df = scale_2030_factors(prognoseErzeugung2030_positive_df, windonshore_2030_factor_2020_positive,windoffshore_2030_factor_2020_postive, pv_2030_factor_2020_postive)\n",
    "\n",
    "    #_________________________________________________________________________________________________________\n",
    "    # Filter the data for the selected date\n",
    "    scaled_selected_production_df = scaled_production_df[scaled_production_df['Date'] == selected_date]\n",
    "\n",
    "    verbrauch2030df = energyConsumption(consumption_df)\n",
    "\n",
    "    selected_consumption2030df = verbrauch2030df[verbrauch2030df['Date'] == selected_date]\n",
    "    scaled_selected_production_df = scaled_selected_production_df[scaled_selected_production_df['Date'] == selected_date]\n",
    "\n",
    "    plot_energy_data(selected_consumption2030df, scaled_selected_production_df, selected_date)\n",
    "    plot_renewable_percentage(scaled_production_df, verbrauch2030df)\n",
    "\n",
    "    return scaled_production_df, verbrauch2030df\n",
    "\n",
    "# Funktion zur Berechnung und Anzeige der aggregierten Daten pro Jahr\n",
    "# Author: Bjarne, Noah\n",
    "def energyConsumption(consumption_df):\n",
    "    verbrauch2022df = consumption_df[consumption_df['Date'].dt.year == 2020]\n",
    "    prognose2030df = verbrauch2022df.copy()\n",
    "    faktor = faktorRechnung(verbrauch2022df, wärmepumpe(), eMobilität())\n",
    "    print(\"Verbr df:\", prognose2030df)\n",
    "    print(\"Faktor: \", faktor)\n",
    "    # Change the year in 'Datum' column to 2030\n",
    "    prognose2030df['Date'] = prognose2030df['Date'].map(lambda x: x.replace(year=2030) if not (x.month == 2 and x.day == 29) else x.replace(month=2, day=28, year=2030))\n",
    "\n",
    "    prognose2030df['Verbrauch [MWh]'] = prognose2030df['Consumption'] * faktor\n",
    "\n",
    "    combined_df = pd.concat([verbrauch2022df[['Starttime', 'Consumption']], prognose2030df[['Verbrauch [MWh]']]], axis=1)\n",
    "    print(\"Verbrauch 2030:\", prognose2030df['Verbrauch [MWh]'].sum()/1000 , \"TWhhusp\\n\")\n",
    "    print(\"Consumption 2022:\", prognose2030df['Consumption'].sum()/1000 , \"TWh\\n\")\n",
    "\n",
    "    return prognose2030df\n",
    "\n",
    "def wärmepumpe():\n",
    "    highScenario = 500000\n",
    "    lowScenario = 236000\n",
    "    middleScenario = 368000\n",
    "    wärmepumpeAnzahl2030 = lowScenario * (2030 - 2023)  # 500k pro Jahr bis 2023\n",
    "\n",
    "    heizstunden = 2000\n",
    "    nennleistung = 15  # 15kW\n",
    "    luftWasserVerhältnis = 206 / 236\n",
    "    erdwärmeVerhältnis = 30 / 236\n",
    "    luftWasserJAZ = 3.1\n",
    "    erdwärmeJAZ = 4.1\n",
    "\n",
    "    # Berechnung der einzelnen Pumpe\n",
    "    luftWasserVerbrauch = wärmepumpeVerbrauchImJahr(heizstunden, nennleistung, luftWasserJAZ)  # in kW/h\n",
    "    erdwärmeVerbrauch = wärmepumpeVerbrauchImJahr(heizstunden, nennleistung, erdwärmeJAZ)  # in kW/h\n",
    "\n",
    "    luftWasserVerhältnisAnzahl = verhältnisAnzahl(wärmepumpeAnzahl2030, luftWasserVerhältnis)\n",
    "    erdwärmeVerhältnisAnzahl = verhältnisAnzahl(wärmepumpeAnzahl2030, erdwärmeVerhältnis)\n",
    "\n",
    "    return luftWasserVerbrauch * luftWasserVerhältnisAnzahl + erdwärmeVerbrauch * erdwärmeVerhältnisAnzahl  # kWh\n",
    "\n",
    "# berechnung des Verbrauchs einer Wärmepumpe im Jahr\n",
    "def wärmepumpeVerbrauchImJahr(heizstunden, nennleistung, jaz): \n",
    "    return (heizstunden * nennleistung) / jaz # (Heizstunden * Nennleistung) / JAZ = Stromverbrauch pro Jahr\n",
    "\n",
    "def verhältnisAnzahl(wärmepumpeAnzahl2030, verhältnis):\n",
    "    return wärmepumpeAnzahl2030 * verhältnis\n",
    "\n",
    "\n",
    "def eMobilität():\n",
    "    highECars = 15000000\n",
    "    lowECars = 8000000\n",
    "    middleECars = 11500000\n",
    "\n",
    "    eMobilität2030 = lowECars  # 15mio bis 20230\n",
    "    eMobilitätBisher = 1307901  # 1.3 mio\n",
    "    verbrauchPro100km = 21  # 21kWh\n",
    "    kilometerProJahr = 15000  # 15.000km\n",
    "\n",
    "    eMobilitätVerbrauch = (verbrauchPro100km / 100) * kilometerProJahr  # kWh\n",
    "\n",
    "    return (eMobilität2030 - eMobilitätBisher) * eMobilitätVerbrauch\n",
    "\n",
    "def faktorRechnung(verbrauch2022df, wärmepumpeHochrechnung2030, eMobilitätHochrechnung2030):\n",
    "    gesamtVerbrauch2022 = (otherFactors(wärmepumpeHochrechnung2030, verbrauch2022df))*1000000000 + 504515946000 # mal1000 weil MWh -> kWh\n",
    "    return (gesamtVerbrauch2022 + wärmepumpeHochrechnung2030 + eMobilitätHochrechnung2030) / (504515946000) #ges Verbrauch 2021\n",
    "\n",
    "def prognoseRechnung(verbrauch2022df, faktor):\n",
    "    verbrauch2030df = verbrauch2022df['Verbrauch [kWh]'] * faktor\n",
    "    return verbrauch2030df\n",
    "\n",
    "def otherFactors(wärmepumpeHochrechnung2030, verbrauch2022df):\n",
    "    indHigh = (wärmepumpeHochrechnung2030*(1+3/7))*(72/26)\n",
    "    indLow = verbrauch2022df['Consumption'].sum()*0.45*0.879/1000000\n",
    "    indMiddle = 0\n",
    "\n",
    "    # positive Faktoren\n",
    "    railway = 5  # TWh\n",
    "    powerNetLoss = 1\n",
    "    industry = indLow\n",
    "\n",
    "    # negative Faktoren\n",
    "    efficiency = 51\n",
    "    other = 6\n",
    "\n",
    "    return railway  + powerNetLoss - efficiency - other + industry/1000000000"
   ]
  },
  {
   "cell_type": "code",
   "execution_count": 71,
   "metadata": {},
   "outputs": [],
   "source": [
    "# Function to process and plot data for the year 2030\n",
    "def process_and_plot_2030_dataGut2(production_df, consumption_df, load_profile_df, selected_date):\n",
    "    # Define constants\n",
    "    windonshore_2030_factor_2020_positive = 2.13589\n",
    "    windoffshore_2030_factor_2020_postive = 3.92721\n",
    "    pv_2030_factor_2020_postive = 4.2361193\n",
    "\n",
    "    # Process production data\n",
    "    production_2020df = production_df[production_df['Date'].dt.year == 2020]\n",
    "    prognoseErzeugung2030_positive_df = production_2020df.copy()\n",
    "    prognoseErzeugung2030_positive_df['Date'] = prognoseErzeugung2030_positive_df['Date'].map(\n",
    "        lambda x: x.replace(year=2030) if not (x.month == 2 and x.day == 29) else x.replace(month=2, day=28, year=2030))\n",
    "    scaled_production_df = scale_2030_factors(prognoseErzeugung2030_positive_df, windonshore_2030_factor_2020_positive,windoffshore_2030_factor_2020_postive, pv_2030_factor_2020_postive)\n",
    "\n",
    "    # Process consumption data\n",
    "    verbrauch2030df = energyConsumption5(consumption_df)\n",
    "    selected_consumption2030df = verbrauch2030df[verbrauch2030df['Date'] == selected_date]\n",
    "\n",
    "    # Filter production data for the selected date\n",
    "    scaled_selected_production_df = scaled_production_df[scaled_production_df['Date'] == selected_date]\n",
    "\n",
    "    print(\"Bevor \")\n",
    "    print(selected_consumption2030df['Verbrauch [MWh]'])\n",
    "    a = consumption_with_load_profile(selected_consumption2030df, load_profile_df, selected_date)\n",
    "    print(\"Nach \")\n",
    "    print(a['Verbrauch [MWh]'])\n",
    "\n",
    "    # Plot data\n",
    "    plot_energy_data(a, scaled_selected_production_df, selected_date)\n",
    "    plot_renewable_percentage(scaled_production_df, verbrauch2030df)   \n",
    "\n",
    "    return scaled_production_df, verbrauch2030df\n",
    "# Funktion zur Berechnung und Anzeige der aggregierten Daten pro Jahr\n",
    "\n",
    "def energyConsumption5(consumption_df):\n",
    "    verbrauch2022df = consumption_df[consumption_df['Date'].dt.year == 2020]\n",
    "    prognose2030df = verbrauch2022df.copy()\n",
    "    faktor = faktorRechnung5(verbrauch2022df, eMobilität5())\n",
    "    print(\"Faktor: \", faktor)\n",
    "    prognose2030df['Date'] = prognose2030df['Date'].map(lambda x: x.replace(year=2030) if not (x.month == 2 and x.day == 29) else x.replace(month=2, day=28, year=2030))\n",
    "    prognose2030df['Verbrauch [MWh]'] = prognose2030df['Consumption'] * faktor\n",
    "    return prognose2030df\n",
    "\n",
    "def wärmepumpe5():\n",
    "    highScenario = 500000\n",
    "    lowScenario = 236000\n",
    "    middleScenario = 368000\n",
    "    wärmepumpeAnzahl2030 = lowScenario * (2030 - 2023)  # 500k pro Jahr bis 2023\n",
    "\n",
    "    heizstunden = 2000\n",
    "    nennleistung = 15  # 15kW\n",
    "    luftWasserVerhältnis = 206 / 236\n",
    "    erdwärmeVerhältnis = 30 / 236\n",
    "    luftWasserJAZ = 3.1\n",
    "    erdwärmeJAZ = 4.1\n",
    "\n",
    "    # Berechnung der einzelnen Pumpe\n",
    "    luftWasserVerbrauch = wärmepumpeVerbrauchImJahr5(heizstunden, nennleistung, luftWasserJAZ)  # in kW/h\n",
    "    erdwärmeVerbrauch = wärmepumpeVerbrauchImJahr5(heizstunden, nennleistung, erdwärmeJAZ)  # in kW/h\n",
    "\n",
    "    luftWasserVerhältnisAnzahl = verhältnisAnzahl5(wärmepumpeAnzahl2030, luftWasserVerhältnis)\n",
    "    erdwärmeVerhältnisAnzahl = verhältnisAnzahl5(wärmepumpeAnzahl2030, erdwärmeVerhältnis)\n",
    "\n",
    "    return luftWasserVerbrauch * luftWasserVerhältnisAnzahl + erdwärmeVerbrauch * erdwärmeVerhältnisAnzahl  # kWh\n",
    "\n",
    "# berechnung des Verbrauchs einer Wärmepumpe im Jahr\n",
    "def wärmepumpeVerbrauchImJahr5(heizstunden, nennleistung, jaz): \n",
    "    return (heizstunden * nennleistung) / jaz # (Heizstunden * Nennleistung) / JAZ = Stromverbrauch pro Jahr\n",
    "\n",
    "def verhältnisAnzahl5(wärmepumpeAnzahl2030, verhältnis):\n",
    "    return wärmepumpeAnzahl2030 * verhältnis\n",
    "\n",
    "\n",
    "def eMobilität5():\n",
    "    highECars = 15000000\n",
    "    lowECars = 8000000\n",
    "    middleECars = 11500000\n",
    "\n",
    "    eMobilität2030 = lowECars  # 15mio bis 20230\n",
    "    eMobilitätBisher = 1307901  # 1.3 mio\n",
    "    verbrauchPro100km = 21  # 21kWh\n",
    "    kilometerProJahr = 15000  # 15.000km\n",
    "\n",
    "    eMobilitätVerbrauch = (verbrauchPro100km / 100) * kilometerProJahr  # kWh\n",
    "\n",
    "    return (eMobilität2030 - eMobilitätBisher) * eMobilitätVerbrauch\n",
    "\n",
    "def faktorRechnung5(verbrauch2022df, eMobilitätHochrechnung2030):\n",
    "    gesamtVerbrauch2022 = (otherFactors5(verbrauch2022df))*1000000000 + 504515946000 # mal1000 weil MWh -> kWh\n",
    "    return (gesamtVerbrauch2022  + eMobilitätHochrechnung2030) / (504515946000) #ges Verbrauch 2021\n",
    "\n",
    "def prognoseRechnung5(verbrauch2022df, faktor):\n",
    "    verbrauch2030df = verbrauch2022df['Verbrauch [kWh]'] * faktor\n",
    "    return verbrauch2030df\n",
    "\n",
    "def otherFactors5( verbrauch2022df):\n",
    "    #indHigh = (wärmepumpeHochrechnung2030*(1+3/7))*(72/26)\n",
    "    indLow = verbrauch2022df['Consumption'].sum()*0.45*0.879/1000000\n",
    "    indMiddle = 0\n",
    "\n",
    "    # positive Faktoren\n",
    "    railway = 5  # TWh\n",
    "    powerNetLoss = 1\n",
    "    industry = indLow\n",
    "\n",
    "    # negative Faktoren\n",
    "    efficiency = 51\n",
    "    other = 6\n",
    "\n",
    "    return railway  + powerNetLoss - efficiency - other + industry/1000000000"
   ]
  },
  {
   "cell_type": "code",
   "execution_count": 72,
   "metadata": {},
   "outputs": [],
   "source": [
    "def process_and_plot_2030_dataSchlecht(production_df, consumption_df, load_profile_df, selected_date):\n",
    "    \n",
    "    # Realistisches Ausbau (based on frauenhofer) Szenario 2030 basierend auf 2022 Wetter (mittleres Wetter) ((2021 wäre schlechtes Wetter))\n",
    "    production_2022df = production_df[production_df['Date'].dt.year == 2022]\n",
    "    prognoseErzeugung2030_realistic_2022_df = production_2022df.copy()\n",
    "    prognoseErzeugung2030_realistic_2022_df['Date'] = prognoseErzeugung2030_realistic_2022_df['Date'].map(lambda x: x.replace(year=2030) if not (x.month == 2 and x.day == 29) else x.replace(month=2, day=28, year=2030))\n",
    "\n",
    "    windonshore_2030_factor_2022_realistic = 1.2921  # \n",
    "    windoffshore_2030_factor_2022_realistic = 2.13621  # \n",
    "    pv_2030_factor_2022_realistic = 1.821041  # assumig PV will increase by 182%\n",
    "\n",
    "    # Scale the data by the factors\n",
    "    scaled_production_df = scale_2030_factors(prognoseErzeugung2030_realistic_2022_df, windonshore_2030_factor_2022_realistic,windoffshore_2030_factor_2022_realistic,  pv_2030_factor_2022_realistic)\n",
    "\n",
    "    # Filter the data for the selected date\n",
    "    scaled_selected_production_df = scaled_production_df[scaled_production_df['Date'] == selected_date]\n",
    "\n",
    "    verbrauch2030df = energyConsumption1(consumption_df)\n",
    "\n",
    "    selected_consumption2030df = verbrauch2030df[verbrauch2030df['Date'] == selected_date]\n",
    "    scaled_selected_production_df = scaled_selected_production_df[scaled_selected_production_df['Date'] == selected_date]\n",
    "\n",
    "    plot_energy_data(selected_consumption2030df, scaled_selected_production_df, selected_date)\n",
    "    plot_renewable_percentage(scaled_production_df, verbrauch2030df)\n",
    "    return scaled_production_df, verbrauch2030df\n",
    "\n",
    "# Funktion zur Berechnung und Anzeige der aggregierten Daten pro Jahr\n",
    "# Author: Bjarne, Noah\n",
    "def energyConsumption1(consumption_df):\n",
    "    wärmepumpeHochrechnung2030 = wärmepumpe1()\n",
    "    eMobilitätHochrechnung2030 = eMobilität1()\n",
    "\n",
    "    verbrauch2022df = consumption_df[consumption_df['Date'].dt.year == 2022]\n",
    "    prognose2030df = verbrauch2022df.copy()\n",
    "    faktor = faktorRechnung1(verbrauch2022df, wärmepumpeHochrechnung2030, eMobilitätHochrechnung2030)\n",
    "\n",
    "    prognose2030df['Date'] = prognose2030df['Date'].map(lambda x: x.replace(year=2030) if not (x.month == 2 and x.day == 29) else x.replace(month=2, day=28, year=2030))\n",
    "\n",
    "    prognose2030df['Verbrauch [MWh]'] = prognose2030df['Consumption'] * faktor\n",
    "\n",
    "    combined_df = pd.concat([verbrauch2022df[['Starttime', 'Consumption']], prognose2030df[['Verbrauch [MWh]']]], axis=1)\n",
    "\n",
    "    return prognose2030df\n",
    "\n",
    "def wärmepumpe1():\n",
    "    highScenario = 500000\n",
    "    lowScenario = 236000\n",
    "    middleScenario = 368000\n",
    "    wärmepumpeAnzahl2030 = highScenario * (2030 - 2023)  # 500k pro Jahr bis 2023\n",
    "\n",
    "    heizstunden = 2000\n",
    "    nennleistung = 15  # 15kW\n",
    "    luftWasserVerhältnis = 206 / 236\n",
    "    erdwärmeVerhältnis = 30 / 236\n",
    "    luftWasserJAZ = 3.1\n",
    "    erdwärmeJAZ = 4.1\n",
    "\n",
    "    # Berechnung der einzelnen Pumpe\n",
    "    luftWasserVerbrauch = wärmepumpeVerbrauchImJahr1(heizstunden, nennleistung, luftWasserJAZ)  # in kW/h\n",
    "    erdwärmeVerbrauch = wärmepumpeVerbrauchImJahr1(heizstunden, nennleistung, erdwärmeJAZ)  # in kW/h\n",
    "\n",
    "    luftWasserVerhältnisAnzahl = verhältnisAnzahl1(wärmepumpeAnzahl2030, luftWasserVerhältnis)\n",
    "    erdwärmeVerhältnisAnzahl = verhältnisAnzahl1(wärmepumpeAnzahl2030, erdwärmeVerhältnis)\n",
    "\n",
    "    return luftWasserVerbrauch * luftWasserVerhältnisAnzahl + erdwärmeVerbrauch * erdwärmeVerhältnisAnzahl  # kWh\n",
    "\n",
    "# berechnung des Verbrauchs einer Wärmepumpe im Jahr\n",
    "def wärmepumpeVerbrauchImJahr1(heizstunden, nennleistung, jaz): \n",
    "    return (heizstunden * nennleistung) / jaz # (Heizstunden * Nennleistung) / JAZ = Stromverbrauch pro Jahr\n",
    "\n",
    "def verhältnisAnzahl1(wärmepumpeAnzahl2030, verhältnis):\n",
    "    return wärmepumpeAnzahl2030 * verhältnis\n",
    "\n",
    "def eMobilität1():\n",
    "    highECars = 15000000\n",
    "    lowECars = 8000000\n",
    "    middleECars = 11500000\n",
    "\n",
    "    eMobilität2030 = highECars  # 15mio bis 20230\n",
    "    eMobilitätBisher = 1307901  # 1.3 mio\n",
    "    verbrauchPro100km = 21  # 21kWh\n",
    "    kilometerProJahr = 15000  # 15.000km\n",
    "\n",
    "    eMobilitätVerbrauch = (verbrauchPro100km / 100) * kilometerProJahr  # kWh\n",
    "\n",
    "    return (eMobilität2030 - eMobilitätBisher) * eMobilitätVerbrauch\n",
    "\n",
    "def faktorRechnung1(verbrauch2022df, wärmepumpeHochrechnung2030, eMobilitätHochrechnung2030):\n",
    "    gesamtVerbrauch2022 = (otherFactors1(wärmepumpeHochrechnung2030, verbrauch2022df))*1000000000 + 504515946000 # mal1000 weil MWh -> kWh\n",
    "    return (gesamtVerbrauch2022 + wärmepumpeHochrechnung2030 + eMobilitätHochrechnung2030) / (504515946000) #ges Verbrauch 2021\n",
    "\n",
    "def prognoseRechnung1(verbrauch2022df, faktor):\n",
    "    verbrauch2030df = verbrauch2022df['Verbrauch [kWh]'] * faktor\n",
    "    return verbrauch2030df\n",
    "\n",
    "def otherFactors1(wärmepumpeHochrechnung2030, verbrauch2022df):\n",
    "    indHigh = (wärmepumpeHochrechnung2030*(1+3/7))*(72/26)\n",
    "    indLow = verbrauch2022df['Consumption'].sum()*0.45*0.879/1000000\n",
    "    indMiddle = 0\n",
    "\n",
    "    # positive Faktoren\n",
    "    railway = 5  # TWh\n",
    "    powerNetLoss = 1\n",
    "    industry = indHigh\n",
    "\n",
    "    # negative Faktoren\n",
    "    efficiency = 51\n",
    "    other = 6\n",
    "\n",
    "    return railway  + powerNetLoss - efficiency - other + industry/1000000000"
   ]
  },
  {
   "cell_type": "code",
   "execution_count": 73,
   "metadata": {},
   "outputs": [],
   "source": [
    "def process_and_plot_2030_dataMi(production_df, consumption_df, load_profile_df, selected_date):\n",
    "        \n",
    "    # Realistisches Ausbau (based on frauenhofer) Szenario 2030 basierend auf 2022 Wetter (mittleres Wetter) ((2021 wäre schlechtes Wetter))\n",
    "    production_2022df = production_df[production_df['Date'].dt.year == 2022]\n",
    "    prognoseErzeugung2030_realistic_2022_df = production_2022df.copy()\n",
    "    prognoseErzeugung2030_realistic_2022_df['Date'] = prognoseErzeugung2030_realistic_2022_df['Date'].map(lambda x: x.replace(year=2030) if not (x.month == 2 and x.day == 29) else x.replace(month=2, day=28, year=2030))\n",
    "\n",
    "    windonshore_2030_factor_2022_realistic = 1.2921  # \n",
    "    windoffshore_2030_factor_2022_realistic = 2.13621  # \n",
    "    pv_2030_factor_2022_realistic = 1.821041  # assumig PV will increase by 182%\n",
    "\n",
    "    # Scale the data by the factors\n",
    "    scaled_production_df = scale_2030_factors(prognoseErzeugung2030_realistic_2022_df, windonshore_2030_factor_2022_realistic,windoffshore_2030_factor_2022_realistic,\n",
    "                                          pv_2030_factor_2022_realistic)\n",
    "\n",
    "    # Filter the data for the selected date\n",
    "    scaled_selected_production_df = scaled_production_df[scaled_production_df['Date'] == selected_date]\n",
    "\n",
    "    verbrauch2030df = energyConsumption2(consumption_df)\n",
    "\n",
    "    selected_consumption2030df = verbrauch2030df[verbrauch2030df['Date'] == selected_date]\n",
    "    scaled_selected_production_df = scaled_selected_production_df[scaled_selected_production_df['Date'] == selected_date]\n",
    "    \n",
    "    plot_energy_data(selected_consumption2030df, scaled_selected_production_df, selected_date) # Plot the data\n",
    "    plot_renewable_percentage(scaled_production_df, verbrauch2030df) # Plot the renewable percentage\n",
    "    return scaled_production_df, verbrauch2030df\n",
    "\n",
    "# Funktion zur Berechnung und Anzeige der aggregierten Daten pro Jahr\n",
    "# Author: Bjarne, Noah\n",
    "def energyConsumption2(consumption_df):\n",
    "    wärmepumpeHochrechnung2030 = wärmepumpe2()\n",
    "    eMobilitätHochrechnung2030 = eMobilität2()\n",
    "\n",
    "    verbrauch2022df = consumption_df[consumption_df['Date'].dt.year == 2022]\n",
    "    prognose2030df = verbrauch2022df.copy()\n",
    "    faktor = faktorRechnung2(verbrauch2022df, wärmepumpeHochrechnung2030, eMobilitätHochrechnung2030)\n",
    "\n",
    "    prognose2030df['Date'] = prognose2030df['Date'].map(lambda x: x.replace(year=2030) if not (x.month == 2 and x.day == 29) else x.replace(month=2, day=28, year=2030))\n",
    "\n",
    "    prognose2030df['Verbrauch [MWh]'] = prognose2030df['Consumption'] * faktor\n",
    "\n",
    "    combined_df = pd.concat([verbrauch2022df[['Starttime', 'Consumption']], prognose2030df[['Verbrauch [MWh]']]], axis=1)\n",
    "\n",
    "    return prognose2030df\n",
    "\n",
    "def wärmepumpe2():\n",
    "    highScenario = 500000\n",
    "    lowScenario = 236000\n",
    "    middleScenario = 368000\n",
    "    wärmepumpeAnzahl2030 = middleScenario * (2030 - 2023)  # 500k pro Jahr bis 2023\n",
    "\n",
    "    heizstunden = 2000\n",
    "    nennleistung = 15  # 15kW\n",
    "    luftWasserVerhältnis = 206 / 236\n",
    "    erdwärmeVerhältnis = 30 / 236\n",
    "    luftWasserJAZ = 3.1\n",
    "    erdwärmeJAZ = 4.1\n",
    "\n",
    "    # Berechnung der einzelnen Pumpe\n",
    "    luftWasserVerbrauch = wärmepumpeVerbrauchImJahr2(heizstunden, nennleistung, luftWasserJAZ)  # in kW/h\n",
    "    erdwärmeVerbrauch = wärmepumpeVerbrauchImJahr2(heizstunden, nennleistung, erdwärmeJAZ)  # in kW/h\n",
    "\n",
    "    luftWasserVerhältnisAnzahl = verhältnisAnzahl2(wärmepumpeAnzahl2030, luftWasserVerhältnis)\n",
    "    erdwärmeVerhältnisAnzahl = verhältnisAnzahl2(wärmepumpeAnzahl2030, erdwärmeVerhältnis)\n",
    "\n",
    "    return luftWasserVerbrauch * luftWasserVerhältnisAnzahl + erdwärmeVerbrauch * erdwärmeVerhältnisAnzahl  # kWh\n",
    "\n",
    "# berechnung des Verbrauchs einer Wärmepumpe im Jahr\n",
    "def wärmepumpeVerbrauchImJahr2(heizstunden, nennleistung, jaz): \n",
    "    return (heizstunden * nennleistung) / jaz # (Heizstunden * Nennleistung) / JAZ = Stromverbrauch pro Jahr\n",
    "\n",
    "def verhältnisAnzahl2(wärmepumpeAnzahl2030, verhältnis):\n",
    "    return wärmepumpeAnzahl2030 * verhältnis\n",
    "\n",
    "def eMobilität2():\n",
    "    highECars = 15000000\n",
    "    lowECars = 8000000\n",
    "    middleECars = 11500000\n",
    "\n",
    "    eMobilität2030 = middleECars  # 15mio bis 20230\n",
    "    eMobilitätBisher = 1307901  # 1.3 mio\n",
    "    verbrauchPro100km = 21  # 21kWh\n",
    "    kilometerProJahr = 15000  # 15.000km\n",
    "\n",
    "    eMobilitätVerbrauch = (verbrauchPro100km / 100) * kilometerProJahr  # kWh\n",
    "\n",
    "    return (eMobilität2030 - eMobilitätBisher) * eMobilitätVerbrauch\n",
    "\n",
    "def faktorRechnung2(verbrauch2022df, wärmepumpeHochrechnung2030, eMobilitätHochrechnung2030):\n",
    "    gesamtVerbrauch2022 = (otherFactors2(wärmepumpeHochrechnung2030, verbrauch2022df))*1000000000 + 504515946000 # mal1000 weil MWh -> kWh\n",
    "    return (gesamtVerbrauch2022 + wärmepumpeHochrechnung2030 + eMobilitätHochrechnung2030) / (504515946000) #ges Verbrauch 2021\n",
    "\n",
    "def prognoseRechnung2(verbrauch2022df, faktor):\n",
    "    verbrauch2030df = verbrauch2022df['Verbrauch [kWh]'] * faktor\n",
    "    return verbrauch2030df\n",
    "\n",
    "def otherFactors2(wärmepumpeHochrechnung2030, verbrauch2022df):\n",
    "    indHigh = (wärmepumpeHochrechnung2030*(1+3/7))*(72/26)\n",
    "    indLow = verbrauch2022df['Consumption'].sum()*0.45*0.879/1000000\n",
    "    indMiddle = 0\n",
    "\n",
    "    # positive Faktoren\n",
    "    railway = 5  # TWh\n",
    "    powerNetLoss = 1\n",
    "    industry = indMiddle\n",
    "\n",
    "    # negative Faktoren\n",
    "    efficiency = 51\n",
    "    other = 6\n",
    "\n",
    "    return railway  + powerNetLoss - efficiency - other + industry/1000000000\n"
   ]
  },
  {
   "cell_type": "code",
   "execution_count": 74,
   "metadata": {},
   "outputs": [],
   "source": [
    "def get_date():\n",
    "    while True:\n",
    "        selected_date_str = input(\"Enter the selected date for year 2030 (DD.MM.YYYY): \")\n",
    "        selected_date = datetime.strptime(selected_date_str, \"%d.%m.%Y\")\n",
    "        \n",
    "        if selected_date.year == 2030:\n",
    "            return selected_date\n",
    "        else:\n",
    "            print(\"Please enter a date from the year 2030.\")"
   ]
  },
  {
   "cell_type": "code",
   "execution_count": 78,
   "metadata": {},
   "outputs": [],
   "source": [
    "# Umrechnungsfaktoren\n",
    "M_to_TWh = 1e-6\n",
    "MWh_to_GWh = 1e-3\n",
    "\n",
    "def powerOfStorage(expected_yearly_consumption, expected_yearly_production,prozent):\n",
    "        # Kopien der DataFrames erstellen, um den Originalinhalt nicht zu verändern\n",
    "        verbrauch_copy = expected_yearly_consumption.copy()\n",
    "        erzeugung_copy = expected_yearly_production.copy()\n",
    "      \n",
    "        # Setzen des Datums als Index für die einfache Berechnung der Differenz\n",
    "        erzeugung_copy.set_index('Datum', inplace=True)\n",
    "        verbrauch_copy.set_index('Datum', inplace=True)\n",
    "      \n",
    "        # Berechnung der Differenz zwischen Verbrauch und Erzeugung auf Viertelstundenbasis\n",
    "        differenz =(verbrauch_copy['Verbrauch [MWh]'] *prozent)- erzeugung_copy['Total Production']\n",
    "      \n",
    "        # Neuer DataFrame für die Differenz erstellen\n",
    "        differenz_data = pd.DataFrame({'Differenz': differenz})\n",
    "      \n",
    "        # Sortieren des DataFrames nach der Spalte 'Differenz'\n",
    "        differenz_data_sorted = differenz_data.sort_values(by='Differenz', ascending=False)\n",
    "      \n",
    "        # Mittelwert der ersten 100 größten Differenzen berechnen\n",
    "        mean_top_100 = differenz_data_sorted.head(100)['Differenz'].mean()\n",
    "        power_in_GW =mean_top_100 /(0.25*1000) #Umrechnung des Mittelwerts in GW und Leistung\n",
    "      \n",
    "        return differenz_data_sorted,power_in_GW\n",
    "  \n",
    "def powerOfStorageforsurplus(expected_yearly_consumption, expected_yearly_production,prozent):\n",
    "        # Kopien der DataFrames erstellen, um den Originalinhalt nicht zu verändern\n",
    "        verbrauch_copy = expected_yearly_consumption.copy()\n",
    "        erzeugung_copy = expected_yearly_production.copy()\n",
    "      \n",
    "        # Setzen des Datums als Index für die einfache Berechnung der Differenz\n",
    "        erzeugung_copy.set_index('Datum', inplace=True)\n",
    "        verbrauch_copy.set_index('Datum', inplace=True)\n",
    "      \n",
    "        # Berechnung der Differenz zwischen Verbrauch und Erzeugung auf Viertelstundenbasis\n",
    "        differenz =erzeugung_copy['Total Production']-(verbrauch_copy['Verbrauch [MWh]']*prozent)\n",
    "      \n",
    "        # Neuer DataFrame für die Differenz erstellen\n",
    "        differenz_data = pd.DataFrame({'Differenz': differenz})\n",
    "      \n",
    "        # Sortieren des DataFrames nach der Spalte 'Differenz'\n",
    "        differenz_data_sorted = differenz_data.sort_values(by='Differenz', ascending=False)\n",
    "      \n",
    "  \n",
    "      \n",
    "        # Mittelwert der ersten 100 größten Differenzen berechnen\n",
    "        mean_top_100 = differenz_data_sorted.head(100)['Differenz'].mean()\n",
    "        power_in_GW =mean_top_100 /(0.25*1000) #Umrechnung des Mittelwerts in GW und Leistung\n",
    "      \n",
    "        return differenz_data_sorted,power_in_GW \n",
    "\n",
    "\n",
    "\n",
    "def capacity(verbrauch_df, erzeugung_df, prozent, start_capacity):\n",
    "        verbrauch_copy = verbrauch_df.copy()\n",
    "        erzeugung_copy = erzeugung_df.copy()\n",
    "        capacity_value = 0\n",
    "        energieSurPlus = 0\n",
    "        efficencie = 0.9\n",
    "\n",
    "        erzeugung_copy.set_index('Datum', inplace=True)\n",
    "        verbrauch_copy.set_index('Datum', inplace=True)\n",
    "\n",
    "        differenz = (verbrauch_copy['Verbrauch [MWh]']) * prozent - erzeugung_copy['Total Production']\n",
    "        differenz_data = pd.DataFrame({'Differenz': differenz})\n",
    "\n",
    "        total_consumption = verbrauch_copy['Verbrauch [MWh]'].sum()\n",
    "        total_production = erzeugung_copy['Total Production'].sum()\n",
    "        \n",
    "        percentage = (total_production / total_consumption)\n",
    "        \n",
    "        if percentage <= prozent:\n",
    "            percentage = percentage*100\n",
    "            print(f\"Die Erzeugung kann den angegebenen Verbrauch nicht decken ({percentage}%).\")\n",
    "            return 0, 0, 0\n",
    "        else:\n",
    "            while capacity_value == 0:\n",
    "                start_capacity += 1000000\n",
    "                capacity_value = start_capacity\n",
    "                \n",
    "                energieSurPlus = 0\n",
    "\n",
    "                for index, value in differenz_data.iterrows():\n",
    "                    if value['Differenz'] > 0:\n",
    "                        if capacity_value - value['Differenz'] < 0:\n",
    "                            remaining_capacity = capacity_value\n",
    "                            capacity_value = 0\n",
    "                            print(f\"Speicher ist leer, es konnten nur {capacity_value} MWh entnommen werden.\")\n",
    "                            break\n",
    "                        else:\n",
    "                            capacity_value -= value['Differenz']\n",
    "\n",
    "                    elif value['Differenz'] < 0:\n",
    "                        if capacity_value + (abs(value['Differenz']) * efficencie) > start_capacity:\n",
    "                            energieSurPlus = capacity_value + abs(value['Differenz']) * efficencie - start_capacity\n",
    "                            capacity_value = start_capacity\n",
    "                        else:\n",
    "                            capacity_value -= (value['Differenz'] * efficencie)\n",
    "            \n",
    "            return capacity_value, start_capacity, energieSurPlus\n",
    "\n",
    "\n",
    "\n",
    "\n",
    "def investmentcost(capacity_needed):   #Eventuell noch prozente von Speicherarten hinzufügen\n",
    "        capacity_in_germany=0  \n",
    "        cost_of_Battery=100 #Einheit sind Euro/kWh\n",
    "\n",
    "        capacity_for_expension=capacity_needed-capacity_in_germany\n",
    "\n",
    "        price=(cost_of_Battery*capacity_for_expension)/(1000000) #Price in Bilion\n",
    "\n",
    "        print(f\"Der Preis in Milliarden beträgt:{price}\")\n",
    "    \n",
    "\n",
    " #----------------------------------\n",
    "    # Power Calculation\n",
    "\n",
    "def calculate_and_plot_power_storage_surplus(expected_yearly_production, expected_yearly_consumption):\n",
    "\n",
    "        # Verwendung der Funktion mit den entsprechenden DataFrames verbrauch2030df und scaled_production_df\n",
    "        result_differenz_sorted_80, power_in_GW_80 = powerOfStorage(expected_yearly_consumption, expected_yearly_production,0.8)\n",
    "        result_differenz_sorted_90, power_in_GW_90 = powerOfStorage(expected_yearly_consumption, expected_yearly_production,0.9)\n",
    "        result_differenz_sorted_100, power_in_GW_100 = powerOfStorage(expected_yearly_consumption, expected_yearly_production,1)\n",
    "\n",
    "        #Benötigte Leistung für den Überschuss\n",
    "        result_differenz_sorted_surplus_80, power_in_GW_surplus_80 = powerOfStorageforsurplus(expected_yearly_consumption, expected_yearly_production,0.8)\n",
    "        result_differenz_sorted_surplus_90, power_in_GW_surplus_90 = powerOfStorageforsurplus(expected_yearly_consumption, expected_yearly_production,0.9)\n",
    "        result_differenz_sorted_surplus_100, power_in_GW_surplus_100 = powerOfStorageforsurplus(expected_yearly_consumption, expected_yearly_production,1)\n",
    "\n",
    "            # Create a DataFrame with the power values for consumption and surplus\n",
    "        df = pd.DataFrame({\n",
    "            'Percentage': ['80%', '90%', '100%'],\n",
    "            'Power in GW (Consumption)': [power_in_GW_80, power_in_GW_90, power_in_GW_100],\n",
    "            'Power in GW (Surplus)': [power_in_GW_surplus_80, power_in_GW_surplus_90, power_in_GW_surplus_100]\n",
    "        })\n",
    "\n",
    "        percentages = ['80%', '90%', '100%']\n",
    "\n",
    "        fig = go.Figure(data=[\n",
    "            go.Bar(name='Power in GW (Consumption)', x=percentages, y=[power_in_GW_80, power_in_GW_90, power_in_GW_100]),\n",
    "            go.Bar(name='Power in GW (Surplus)', x=percentages, y=[power_in_GW_surplus_80, power_in_GW_surplus_90, power_in_GW_surplus_100])\n",
    "        ])\n",
    "\n",
    "        fig.update_layout(\n",
    "            title='Required power of storage [GW] for 80-100 % coverage of consumption and surplus',\n",
    "            xaxis=dict(title='Covered Consumption by storage [%]', tickmode='array', tickvals=[80, 90, 100]),\n",
    "            yaxis=dict(title='Required power of storage [GW]'))\n",
    "\n",
    "\n",
    "        fig.update_layout(barmode='group')\n",
    "        fig.update_traces(width=0.5)  # Adjust the width as per your preference (0.5 is an example)\n",
    "        \n",
    "        fig.show()\n",
    "        display(df)\n",
    "    #----------------------------------\n",
    "    # Capacity Calculation\n",
    "\n",
    "def calculate_and_plot_storage_capacity(expected_yearly_production, expected_yearly_consumption, scenario_to_plot):\n",
    "\n",
    "        # acutal calculation\n",
    "\n",
    "        # capacity_value_80, capacity_value_start_80,energieSurPlus_80  = capacity(expected_yearly_consumption, expected_yearly_production, 0.8, 10000000)\n",
    "        # capacity_value_90, capacity_value_start_90,energieSurPlus_90 = capacity(expected_yearly_consumption, expected_yearly_production, 0.9, 10000000)\n",
    "        # capacity_value_100, capacity_value_start_100,energieSurPlus_100 = capacity(expected_yearly_consumption, expected_yearly_production, 1, 10000000)\n",
    "\n",
    "        # pre entered values for performance\n",
    "        if scenario_to_plot == 'good':\n",
    "            capacity_value_80, capacity_value_start_80,energieSurPlus_80  = 0,11000000,0\n",
    "            capacity_value_90, capacity_value_start_90,energieSurPlus_90 = 0,11000000,0\n",
    "            capacity_value_100, capacity_value_start_100,energieSurPlus_100 = 0,13000000,0\n",
    "        elif scenario_to_plot == 'mid':\n",
    "            capacity_value_80, capacity_value_start_80,energieSurPlus_80  = 0,0,0\n",
    "            capacity_value_90, capacity_value_start_90,energieSurPlus_90 = 0,0,0\n",
    "            capacity_value_100, capacity_value_start_100,energieSurPlus_100 = 0,0,0\n",
    "        elif scenario_to_plot == 'bad':\n",
    "            capacity_value_80, capacity_value_start_80,energieSurPlus_80  = 0,0,0\n",
    "            capacity_value_90, capacity_value_start_90,energieSurPlus_90 = 0,0,0\n",
    "            capacity_value_100, capacity_value_start_100,energieSurPlus_100 = 0,0,0\n",
    "\n",
    "        print(capacity_value_start_80)\n",
    "        print(capacity_value_start_90)\n",
    "        print(capacity_value_start_100)\n",
    "        # investment_cost_80 = investmentcost(capacity_value_start_80)\n",
    "\n",
    "        df = pd.DataFrame({\n",
    "            'Percentage': ['80%', '90%', '100%'],\n",
    "            'Capacity Start Value in TWh': [capacity_value_start_80 * M_to_TWh, capacity_value_start_90 * M_to_TWh, capacity_value_start_100 * M_to_TWh]\n",
    "        })\n",
    "\n",
    "        y_values = [capacity_value_start_80 * M_to_TWh, capacity_value_start_90 * M_to_TWh, capacity_value_start_100 * M_to_TWh]\n",
    "\n",
    "        fig = go.Figure(data=[\n",
    "            go.Bar(name='Capacity in MWh (Consumption)', x=['80%', '90%', '100%'], y=y_values \n",
    "            )\n",
    "        ])\n",
    "\n",
    "        fig.update_layout(\n",
    "            title='Required capacity of storage [TWh] for 80-100 % coverage of consumption and surplus',\n",
    "            xaxis=dict(title='Covered consumption by storage [%]', tickmode='array', tickvals=[80, 90, 100]),\n",
    "            yaxis=dict(title='Required capacity [TWh]')\n",
    "        )\n",
    "\n",
    "        fig.update_traces(width=0.5)  # Adjust the width as per your preference (0.5 is an example)\n",
    "\n",
    "        fig.show()\n",
    "        display(df)\n",
    "\n"
   ]
  },
  {
   "cell_type": "code",
   "execution_count": 79,
   "metadata": {},
   "outputs": [
    {
     "name": "stderr",
     "output_type": "stream",
     "text": [
      "C:\\Users\\bodro\\AppData\\Local\\Temp\\ipykernel_912\\90357250.py:23: FutureWarning:\n",
      "\n",
      "DataFrame.applymap has been deprecated. Use DataFrame.map instead.\n",
      "\n"
     ]
    },
    {
     "name": "stdout",
     "output_type": "stream",
     "text": [
      "gut\n",
      "Verbr df:             Datum Anfang   Ende Gesamt (Netzlast) [MWh] Originalauflösungen  \\\n",
      "0      01.01.2020  00:00  00:15                                   10.964,25   \n",
      "1      01.01.2020  00:15  00:30                                    10.908,5   \n",
      "2      01.01.2020  00:30  00:45                                      10.833   \n",
      "3      01.01.2020  00:45  01:00                                   10.788,25   \n",
      "4      01.01.2020  01:00  01:15                                      10.756   \n",
      "...           ...    ...    ...                                         ...   \n",
      "35131  31.12.2020  22:45  23:00                                      11.637   \n",
      "35132  31.12.2020  23:00  23:15                                    11.485,5   \n",
      "35133  31.12.2020  23:15  23:30                                    11.371,5   \n",
      "35134  31.12.2020  23:30  23:45                                    11.248,5   \n",
      "35135  31.12.2020  23:45  00:00                                   11.129,75   \n",
      "\n",
      "      Residuallast [MWh] Originalauflösungen  \\\n",
      "0                                   9.362,75   \n",
      "1                                   9.311,75   \n",
      "2                                    9.170,5   \n",
      "3                                      9.065   \n",
      "4                                    9.012,5   \n",
      "...                                      ...   \n",
      "35131                                 10.271   \n",
      "35132                              10.160,25   \n",
      "35133                                 10.087   \n",
      "35134                               10.012,5   \n",
      "35135                                  9.950   \n",
      "\n",
      "      Pumpspeicher [MWh] Originalauflösungen       Date           Starttime  \\\n",
      "0                                      48,75 2020-01-01 1900-01-01 00:00:00   \n",
      "1                                      65,25 2020-01-01 1900-01-01 00:15:00   \n",
      "2                                         96 2020-01-01 1900-01-01 00:30:00   \n",
      "3                                     124,75 2020-01-01 1900-01-01 00:45:00   \n",
      "4                                      94,75 2020-01-01 1900-01-01 01:00:00   \n",
      "...                                      ...        ...                 ...   \n",
      "35131                                   43,5 2020-12-31 1900-01-01 22:45:00   \n",
      "35132                                 144,25 2020-12-31 1900-01-01 23:00:00   \n",
      "35133                                 144,25 2020-12-31 1900-01-01 23:15:00   \n",
      "35134                                     48 2020-12-31 1900-01-01 23:30:00   \n",
      "35135                                 121,25 2020-12-31 1900-01-01 23:45:00   \n",
      "\n",
      "       Consumption  \n",
      "0         10964.25  \n",
      "1         10908.50  \n",
      "2         10833.00  \n",
      "3         10788.25  \n",
      "4         10756.00  \n",
      "...            ...  \n",
      "35131     11637.00  \n",
      "35132     11485.50  \n",
      "35133     11371.50  \n",
      "35134     11248.50  \n",
      "35135     11129.75  \n",
      "\n",
      "[35136 rows x 9 columns]\n",
      "Faktor:  0.9714013719548276\n",
      "Verbrauch 2030: 471411.76448496286 TWhhusp\n",
      "\n",
      "Consumption 2022: 485290.40425 TWh\n",
      "\n"
     ]
    },
    {
     "data": {
      "application/vnd.plotly.v1+json": {
       "config": {
        "plotlyServerURL": "https://plot.ly"
       },
       "data": [
        {
         "fill": "tozeroy",
         "mode": "lines",
         "name": "Total Consumption",
         "type": "scatter",
         "x": [
          "00:00",
          "00:15",
          "00:30",
          "00:45",
          "01:00",
          "01:15",
          "01:30",
          "01:45",
          "02:00",
          "02:15",
          "02:30",
          "02:45",
          "03:00",
          "03:15",
          "03:30",
          "03:45",
          "04:00",
          "04:15",
          "04:30",
          "04:45",
          "05:00",
          "05:15",
          "05:30",
          "05:45",
          "06:00",
          "06:15",
          "06:30",
          "06:45",
          "07:00",
          "07:15",
          "07:30",
          "07:45",
          "08:00",
          "08:15",
          "08:30",
          "08:45",
          "09:00",
          "09:15",
          "09:30",
          "09:45",
          "10:00",
          "10:15",
          "10:30",
          "10:45",
          "11:00",
          "11:15",
          "11:30",
          "11:45",
          "12:00",
          "12:15",
          "12:30",
          "12:45",
          "13:00",
          "13:15",
          "13:30",
          "13:45",
          "14:00",
          "14:15",
          "14:30",
          "14:45",
          "15:00",
          "15:15",
          "15:30",
          "15:45",
          "16:00",
          "16:15",
          "16:30",
          "16:45",
          "17:00",
          "17:15",
          "17:30",
          "17:45",
          "18:00",
          "18:15",
          "18:30",
          "18:45",
          "19:00",
          "19:15",
          "19:30",
          "19:45",
          "20:00",
          "20:15",
          "20:30",
          "20:45",
          "21:00",
          "21:15",
          "21:30",
          "21:45",
          "22:00",
          "22:15",
          "22:30",
          "22:45",
          "23:00",
          "23:15",
          "23:30",
          "23:45"
         ],
         "y": [
          11889.95279272709,
          11678.672994326915,
          11574.004496498781,
          11435.57980099522,
          11379.967072450805,
          11273.59862222175,
          11250.042138951847,
          11247.370785178971,
          11236.685370087467,
          11200.986369668128,
          11185.201097373862,
          11205.357675841924,
          11301.283561322463,
          11309.297622641092,
          11338.925364485713,
          11385.309779996556,
          11600.718034227539,
          11673.330286781164,
          11823.89749943416,
          12001.906800844883,
          12436.36606445168,
          12770.042435718164,
          13053.934486671962,
          13489.85085233669,
          14291.742684885401,
          14855.641181305178,
          15245.415981802053,
          15716.059946514166,
          16215.11740135596,
          16454.810689885813,
          16602.706548765935,
          16707.37504659407,
          16993.452750634766,
          17114.39222144314,
          17121.6777317328,
          17140.134357799943,
          17124.834786191655,
          17190.647229141596,
          17270.30214164189,
          17295.801427655704,
          17423.055007381787,
          17491.295953761615,
          17578.96492758054,
          17549.337185735916,
          17590.621744043994,
          17697.718745302016,
          17796.31598455543,
          17795.344583183476,
          17737.78905189515,
          17733.90344640733,
          17690.190384669364,
          17655.948486307956,
          17592.078846101926,
          17579.693478609504,
          17445.640089279736,
          17378.127693928876,
          17502.709919882083,
          17495.424409592422,
          17506.83837571289,
          17453.897000941353,
          17442.96873550686,
          17274.4305974727,
          17151.305473577424,
          17071.89341142012,
          17004.13816572627,
          16847.256844155563,
          16784.1157549785,
          16919.869096709186,
          17167.57644655767,
          17401.44132685579,
          17632.149152695063,
          17830.07218223086,
          17822.300971255223,
          17780.045011575185,
          17809.915603762798,
          17842.943250409262,
          17681.204921978784,
          17570.222315232942,
          17477.696334554246,
          17300.901284858468,
          16923.997552539993,
          16715.146257569708,
          16508.480615686316,
          16313.228939923396,
          16126.477026165081,
          15815.14288645356,
          15517.165515606415,
          15211.659784126623,
          15059.392619072703,
          14781.086126007645,
          14470.966238011066,
          14126.118750967102,
          13859.469074365503,
          13655.717636597978,
          13411.410191551338,
          13261.328679584318
         ]
        },
        {
         "fill": "tozeroy",
         "mode": "lines",
         "name": "Total Renewable Production",
         "type": "scatter",
         "x": [
          "00:00",
          "00:15",
          "00:30",
          "00:45",
          "01:00",
          "01:15",
          "01:30",
          "01:45",
          "02:00",
          "02:15",
          "02:30",
          "02:45",
          "03:00",
          "03:15",
          "03:30",
          "03:45",
          "04:00",
          "04:15",
          "04:30",
          "04:45",
          "05:00",
          "05:15",
          "05:30",
          "05:45",
          "06:00",
          "06:15",
          "06:30",
          "06:45",
          "07:00",
          "07:15",
          "07:30",
          "07:45",
          "08:00",
          "08:15",
          "08:30",
          "08:45",
          "09:00",
          "09:15",
          "09:30",
          "09:45",
          "10:00",
          "10:15",
          "10:30",
          "10:45",
          "11:00",
          "11:15",
          "11:30",
          "11:45",
          "12:00",
          "12:15",
          "12:30",
          "12:45",
          "13:00",
          "13:15",
          "13:30",
          "13:45",
          "14:00",
          "14:15",
          "14:30",
          "14:45",
          "15:00",
          "15:15",
          "15:30",
          "15:45",
          "16:00",
          "16:15",
          "16:30",
          "16:45",
          "17:00",
          "17:15",
          "17:30",
          "17:45",
          "18:00",
          "18:15",
          "18:30",
          "18:45",
          "19:00",
          "19:15",
          "19:30",
          "19:45",
          "20:00",
          "20:15",
          "20:30",
          "20:45",
          "21:00",
          "21:15",
          "21:30",
          "21:45",
          "22:00",
          "22:15",
          "22:30",
          "22:45",
          "23:00",
          "23:15",
          "23:30",
          "23:45"
         ],
         "y": [
          13663.365882499998,
          13467.3166625,
          13552.3284725,
          13774.8006575,
          14149.2742325,
          14660.9963225,
          14789.761502499998,
          14749.0328825,
          14492.789434999999,
          14548.06555,
          14469.8580275,
          14625.078562499999,
          14839.101274999997,
          15213.271729999999,
          15527.69541,
          15865.009955,
          16278.57835,
          16608.671297499997,
          17105.5247275,
          17627.932675,
          17811.78031,
          18018.4481675,
          18233.10139,
          18420.365755,
          19282.3241475,
          19577.370185,
          19668.124839999997,
          19833.13393,
          19939.78701,
          20091.1417125,
          19977.367687324997,
          19820.489927725,
          19810.696888224997,
          19822.455438875,
          19949.55105385,
          20108.642718149997,
          20451.638925775,
          20809.988986425,
          21367.1592948,
          21911.245694225,
          22433.593892824996,
          23007.538693425,
          23604.734520375,
          24038.659381974998,
          24445.121751125,
          24585.329702999996,
          24868.7509706,
          25149.0435831,
          25426.980515425,
          25569.593244350002,
          25652.220467975,
          25606.050480375,
          25706.497851425,
          25558.55284525,
          25585.178685525,
          25443.331502574998,
          25284.475925774997,
          24904.447257525,
          24675.464969925,
          24321.17707105,
          24064.171997799996,
          23538.458050625,
          23283.892928,
          22721.48292155,
          22282.267294974998,
          21876.199310425,
          21445.087876325,
          21007.210257425002,
          20860.084260625,
          20772.036062324998,
          20642.7364825,
          20574.0406075,
          20476.769549999997,
          20587.6137675,
          20405.129549999998,
          20043.418652499997,
          19970.578035,
          19916.996014999997,
          19486.665795,
          19183.928115,
          18657.5542925,
          18056.4458675,
          17621.4830775,
          17009.9985025,
          16610.69984,
          16286.285235,
          15872.643264999999,
          15297.920445,
          14807.218995,
          14395.2882875,
          14223.84564,
          14078.1968225,
          13963.277465,
          14003.5123825,
          14189.1929175,
          14189.280775
         ]
        }
       ],
       "layout": {
        "showlegend": true,
        "template": {
         "data": {
          "bar": [
           {
            "error_x": {
             "color": "#2a3f5f"
            },
            "error_y": {
             "color": "#2a3f5f"
            },
            "marker": {
             "line": {
              "color": "#E5ECF6",
              "width": 0.5
             },
             "pattern": {
              "fillmode": "overlay",
              "size": 10,
              "solidity": 0.2
             }
            },
            "type": "bar"
           }
          ],
          "barpolar": [
           {
            "marker": {
             "line": {
              "color": "#E5ECF6",
              "width": 0.5
             },
             "pattern": {
              "fillmode": "overlay",
              "size": 10,
              "solidity": 0.2
             }
            },
            "type": "barpolar"
           }
          ],
          "carpet": [
           {
            "aaxis": {
             "endlinecolor": "#2a3f5f",
             "gridcolor": "white",
             "linecolor": "white",
             "minorgridcolor": "white",
             "startlinecolor": "#2a3f5f"
            },
            "baxis": {
             "endlinecolor": "#2a3f5f",
             "gridcolor": "white",
             "linecolor": "white",
             "minorgridcolor": "white",
             "startlinecolor": "#2a3f5f"
            },
            "type": "carpet"
           }
          ],
          "choropleth": [
           {
            "colorbar": {
             "outlinewidth": 0,
             "ticks": ""
            },
            "type": "choropleth"
           }
          ],
          "contour": [
           {
            "colorbar": {
             "outlinewidth": 0,
             "ticks": ""
            },
            "colorscale": [
             [
              0,
              "#0d0887"
             ],
             [
              0.1111111111111111,
              "#46039f"
             ],
             [
              0.2222222222222222,
              "#7201a8"
             ],
             [
              0.3333333333333333,
              "#9c179e"
             ],
             [
              0.4444444444444444,
              "#bd3786"
             ],
             [
              0.5555555555555556,
              "#d8576b"
             ],
             [
              0.6666666666666666,
              "#ed7953"
             ],
             [
              0.7777777777777778,
              "#fb9f3a"
             ],
             [
              0.8888888888888888,
              "#fdca26"
             ],
             [
              1,
              "#f0f921"
             ]
            ],
            "type": "contour"
           }
          ],
          "contourcarpet": [
           {
            "colorbar": {
             "outlinewidth": 0,
             "ticks": ""
            },
            "type": "contourcarpet"
           }
          ],
          "heatmap": [
           {
            "colorbar": {
             "outlinewidth": 0,
             "ticks": ""
            },
            "colorscale": [
             [
              0,
              "#0d0887"
             ],
             [
              0.1111111111111111,
              "#46039f"
             ],
             [
              0.2222222222222222,
              "#7201a8"
             ],
             [
              0.3333333333333333,
              "#9c179e"
             ],
             [
              0.4444444444444444,
              "#bd3786"
             ],
             [
              0.5555555555555556,
              "#d8576b"
             ],
             [
              0.6666666666666666,
              "#ed7953"
             ],
             [
              0.7777777777777778,
              "#fb9f3a"
             ],
             [
              0.8888888888888888,
              "#fdca26"
             ],
             [
              1,
              "#f0f921"
             ]
            ],
            "type": "heatmap"
           }
          ],
          "heatmapgl": [
           {
            "colorbar": {
             "outlinewidth": 0,
             "ticks": ""
            },
            "colorscale": [
             [
              0,
              "#0d0887"
             ],
             [
              0.1111111111111111,
              "#46039f"
             ],
             [
              0.2222222222222222,
              "#7201a8"
             ],
             [
              0.3333333333333333,
              "#9c179e"
             ],
             [
              0.4444444444444444,
              "#bd3786"
             ],
             [
              0.5555555555555556,
              "#d8576b"
             ],
             [
              0.6666666666666666,
              "#ed7953"
             ],
             [
              0.7777777777777778,
              "#fb9f3a"
             ],
             [
              0.8888888888888888,
              "#fdca26"
             ],
             [
              1,
              "#f0f921"
             ]
            ],
            "type": "heatmapgl"
           }
          ],
          "histogram": [
           {
            "marker": {
             "pattern": {
              "fillmode": "overlay",
              "size": 10,
              "solidity": 0.2
             }
            },
            "type": "histogram"
           }
          ],
          "histogram2d": [
           {
            "colorbar": {
             "outlinewidth": 0,
             "ticks": ""
            },
            "colorscale": [
             [
              0,
              "#0d0887"
             ],
             [
              0.1111111111111111,
              "#46039f"
             ],
             [
              0.2222222222222222,
              "#7201a8"
             ],
             [
              0.3333333333333333,
              "#9c179e"
             ],
             [
              0.4444444444444444,
              "#bd3786"
             ],
             [
              0.5555555555555556,
              "#d8576b"
             ],
             [
              0.6666666666666666,
              "#ed7953"
             ],
             [
              0.7777777777777778,
              "#fb9f3a"
             ],
             [
              0.8888888888888888,
              "#fdca26"
             ],
             [
              1,
              "#f0f921"
             ]
            ],
            "type": "histogram2d"
           }
          ],
          "histogram2dcontour": [
           {
            "colorbar": {
             "outlinewidth": 0,
             "ticks": ""
            },
            "colorscale": [
             [
              0,
              "#0d0887"
             ],
             [
              0.1111111111111111,
              "#46039f"
             ],
             [
              0.2222222222222222,
              "#7201a8"
             ],
             [
              0.3333333333333333,
              "#9c179e"
             ],
             [
              0.4444444444444444,
              "#bd3786"
             ],
             [
              0.5555555555555556,
              "#d8576b"
             ],
             [
              0.6666666666666666,
              "#ed7953"
             ],
             [
              0.7777777777777778,
              "#fb9f3a"
             ],
             [
              0.8888888888888888,
              "#fdca26"
             ],
             [
              1,
              "#f0f921"
             ]
            ],
            "type": "histogram2dcontour"
           }
          ],
          "mesh3d": [
           {
            "colorbar": {
             "outlinewidth": 0,
             "ticks": ""
            },
            "type": "mesh3d"
           }
          ],
          "parcoords": [
           {
            "line": {
             "colorbar": {
              "outlinewidth": 0,
              "ticks": ""
             }
            },
            "type": "parcoords"
           }
          ],
          "pie": [
           {
            "automargin": true,
            "type": "pie"
           }
          ],
          "scatter": [
           {
            "fillpattern": {
             "fillmode": "overlay",
             "size": 10,
             "solidity": 0.2
            },
            "type": "scatter"
           }
          ],
          "scatter3d": [
           {
            "line": {
             "colorbar": {
              "outlinewidth": 0,
              "ticks": ""
             }
            },
            "marker": {
             "colorbar": {
              "outlinewidth": 0,
              "ticks": ""
             }
            },
            "type": "scatter3d"
           }
          ],
          "scattercarpet": [
           {
            "marker": {
             "colorbar": {
              "outlinewidth": 0,
              "ticks": ""
             }
            },
            "type": "scattercarpet"
           }
          ],
          "scattergeo": [
           {
            "marker": {
             "colorbar": {
              "outlinewidth": 0,
              "ticks": ""
             }
            },
            "type": "scattergeo"
           }
          ],
          "scattergl": [
           {
            "marker": {
             "colorbar": {
              "outlinewidth": 0,
              "ticks": ""
             }
            },
            "type": "scattergl"
           }
          ],
          "scattermapbox": [
           {
            "marker": {
             "colorbar": {
              "outlinewidth": 0,
              "ticks": ""
             }
            },
            "type": "scattermapbox"
           }
          ],
          "scatterpolar": [
           {
            "marker": {
             "colorbar": {
              "outlinewidth": 0,
              "ticks": ""
             }
            },
            "type": "scatterpolar"
           }
          ],
          "scatterpolargl": [
           {
            "marker": {
             "colorbar": {
              "outlinewidth": 0,
              "ticks": ""
             }
            },
            "type": "scatterpolargl"
           }
          ],
          "scatterternary": [
           {
            "marker": {
             "colorbar": {
              "outlinewidth": 0,
              "ticks": ""
             }
            },
            "type": "scatterternary"
           }
          ],
          "surface": [
           {
            "colorbar": {
             "outlinewidth": 0,
             "ticks": ""
            },
            "colorscale": [
             [
              0,
              "#0d0887"
             ],
             [
              0.1111111111111111,
              "#46039f"
             ],
             [
              0.2222222222222222,
              "#7201a8"
             ],
             [
              0.3333333333333333,
              "#9c179e"
             ],
             [
              0.4444444444444444,
              "#bd3786"
             ],
             [
              0.5555555555555556,
              "#d8576b"
             ],
             [
              0.6666666666666666,
              "#ed7953"
             ],
             [
              0.7777777777777778,
              "#fb9f3a"
             ],
             [
              0.8888888888888888,
              "#fdca26"
             ],
             [
              1,
              "#f0f921"
             ]
            ],
            "type": "surface"
           }
          ],
          "table": [
           {
            "cells": {
             "fill": {
              "color": "#EBF0F8"
             },
             "line": {
              "color": "white"
             }
            },
            "header": {
             "fill": {
              "color": "#C8D4E3"
             },
             "line": {
              "color": "white"
             }
            },
            "type": "table"
           }
          ]
         },
         "layout": {
          "annotationdefaults": {
           "arrowcolor": "#2a3f5f",
           "arrowhead": 0,
           "arrowwidth": 1
          },
          "autotypenumbers": "strict",
          "coloraxis": {
           "colorbar": {
            "outlinewidth": 0,
            "ticks": ""
           }
          },
          "colorscale": {
           "diverging": [
            [
             0,
             "#8e0152"
            ],
            [
             0.1,
             "#c51b7d"
            ],
            [
             0.2,
             "#de77ae"
            ],
            [
             0.3,
             "#f1b6da"
            ],
            [
             0.4,
             "#fde0ef"
            ],
            [
             0.5,
             "#f7f7f7"
            ],
            [
             0.6,
             "#e6f5d0"
            ],
            [
             0.7,
             "#b8e186"
            ],
            [
             0.8,
             "#7fbc41"
            ],
            [
             0.9,
             "#4d9221"
            ],
            [
             1,
             "#276419"
            ]
           ],
           "sequential": [
            [
             0,
             "#0d0887"
            ],
            [
             0.1111111111111111,
             "#46039f"
            ],
            [
             0.2222222222222222,
             "#7201a8"
            ],
            [
             0.3333333333333333,
             "#9c179e"
            ],
            [
             0.4444444444444444,
             "#bd3786"
            ],
            [
             0.5555555555555556,
             "#d8576b"
            ],
            [
             0.6666666666666666,
             "#ed7953"
            ],
            [
             0.7777777777777778,
             "#fb9f3a"
            ],
            [
             0.8888888888888888,
             "#fdca26"
            ],
            [
             1,
             "#f0f921"
            ]
           ],
           "sequentialminus": [
            [
             0,
             "#0d0887"
            ],
            [
             0.1111111111111111,
             "#46039f"
            ],
            [
             0.2222222222222222,
             "#7201a8"
            ],
            [
             0.3333333333333333,
             "#9c179e"
            ],
            [
             0.4444444444444444,
             "#bd3786"
            ],
            [
             0.5555555555555556,
             "#d8576b"
            ],
            [
             0.6666666666666666,
             "#ed7953"
            ],
            [
             0.7777777777777778,
             "#fb9f3a"
            ],
            [
             0.8888888888888888,
             "#fdca26"
            ],
            [
             1,
             "#f0f921"
            ]
           ]
          },
          "colorway": [
           "#636efa",
           "#EF553B",
           "#00cc96",
           "#ab63fa",
           "#FFA15A",
           "#19d3f3",
           "#FF6692",
           "#B6E880",
           "#FF97FF",
           "#FECB52"
          ],
          "font": {
           "color": "#2a3f5f"
          },
          "geo": {
           "bgcolor": "white",
           "lakecolor": "white",
           "landcolor": "#E5ECF6",
           "showlakes": true,
           "showland": true,
           "subunitcolor": "white"
          },
          "hoverlabel": {
           "align": "left"
          },
          "hovermode": "closest",
          "mapbox": {
           "style": "light"
          },
          "paper_bgcolor": "white",
          "plot_bgcolor": "#E5ECF6",
          "polar": {
           "angularaxis": {
            "gridcolor": "white",
            "linecolor": "white",
            "ticks": ""
           },
           "bgcolor": "#E5ECF6",
           "radialaxis": {
            "gridcolor": "white",
            "linecolor": "white",
            "ticks": ""
           }
          },
          "scene": {
           "xaxis": {
            "backgroundcolor": "#E5ECF6",
            "gridcolor": "white",
            "gridwidth": 2,
            "linecolor": "white",
            "showbackground": true,
            "ticks": "",
            "zerolinecolor": "white"
           },
           "yaxis": {
            "backgroundcolor": "#E5ECF6",
            "gridcolor": "white",
            "gridwidth": 2,
            "linecolor": "white",
            "showbackground": true,
            "ticks": "",
            "zerolinecolor": "white"
           },
           "zaxis": {
            "backgroundcolor": "#E5ECF6",
            "gridcolor": "white",
            "gridwidth": 2,
            "linecolor": "white",
            "showbackground": true,
            "ticks": "",
            "zerolinecolor": "white"
           }
          },
          "shapedefaults": {
           "line": {
            "color": "#2a3f5f"
           }
          },
          "ternary": {
           "aaxis": {
            "gridcolor": "white",
            "linecolor": "white",
            "ticks": ""
           },
           "baxis": {
            "gridcolor": "white",
            "linecolor": "white",
            "ticks": ""
           },
           "bgcolor": "#E5ECF6",
           "caxis": {
            "gridcolor": "white",
            "linecolor": "white",
            "ticks": ""
           }
          },
          "title": {
           "x": 0.05
          },
          "xaxis": {
           "automargin": true,
           "gridcolor": "white",
           "linecolor": "white",
           "ticks": "",
           "title": {
            "standoff": 15
           },
           "zerolinecolor": "white",
           "zerolinewidth": 2
          },
          "yaxis": {
           "automargin": true,
           "gridcolor": "white",
           "linecolor": "white",
           "ticks": "",
           "title": {
            "standoff": 15
           },
           "zerolinecolor": "white",
           "zerolinewidth": 2
          }
         }
        },
        "title": {
         "text": "Energy Production and Consumption on 2030-02-03 00:00:00"
        },
        "xaxis": {
         "anchor": "y",
         "domain": [
          0,
          1
         ],
         "title": {
          "text": "Time (hours)"
         }
        },
        "yaxis": {
         "anchor": "x",
         "domain": [
          0,
          1
         ],
         "title": {
          "text": "Energy (MWh)"
         }
        }
       }
      }
     },
     "metadata": {},
     "output_type": "display_data"
    },
    {
     "data": {
      "application/vnd.plotly.v1+json": {
       "config": {
        "plotlyServerURL": "https://plot.ly"
       },
       "data": [
        {
         "type": "bar",
         "x": [
          0,
          1,
          2,
          3,
          4,
          5,
          6,
          7,
          8,
          9,
          10,
          11,
          12,
          13,
          14,
          15,
          16,
          17,
          18,
          19,
          20,
          21,
          22,
          23,
          24,
          25,
          26,
          27,
          28,
          29,
          30,
          31,
          32,
          33,
          34,
          35,
          36,
          37,
          38,
          39,
          40,
          41,
          42,
          43,
          44,
          45,
          46,
          47,
          48,
          49,
          50,
          51,
          52,
          53,
          54,
          55,
          56,
          57,
          58,
          59,
          60,
          61,
          62,
          63,
          64,
          65,
          66,
          67,
          68,
          69,
          70,
          71,
          72,
          73,
          74,
          75,
          76,
          77,
          78,
          79,
          80,
          81,
          82,
          83,
          84,
          85,
          86,
          87,
          88,
          89,
          90,
          91,
          92,
          93,
          94,
          95,
          96,
          97,
          98,
          99,
          100,
          101,
          102,
          103,
          104,
          105,
          106,
          107,
          108,
          109,
          110,
          111,
          112,
          113,
          114,
          115,
          116,
          117,
          118,
          119,
          120,
          121,
          122,
          123,
          124,
          125,
          126,
          127,
          128,
          129,
          130,
          131,
          132,
          133,
          134,
          135,
          136,
          137,
          138,
          139,
          140,
          141,
          142,
          143,
          144,
          145,
          146,
          147,
          148,
          149,
          150,
          151,
          152,
          153,
          154,
          155,
          156,
          157,
          158,
          159,
          160,
          161,
          162,
          163,
          164,
          165,
          166,
          167,
          168,
          169,
          170,
          171,
          172,
          173,
          174,
          175,
          176,
          177,
          178,
          179,
          180,
          181,
          182,
          183,
          184,
          185,
          186,
          187,
          188,
          189,
          190,
          191,
          192,
          193,
          194,
          195,
          196,
          197,
          198,
          199,
          200,
          201,
          202,
          203,
          204,
          205,
          206,
          207,
          208,
          209,
          210,
          211,
          212,
          213,
          214,
          215,
          216,
          217,
          218,
          219,
          220,
          221,
          222,
          223,
          224,
          225,
          226,
          227,
          228,
          229,
          230,
          231,
          232,
          233,
          234,
          235,
          236,
          237,
          238,
          239,
          240,
          241,
          242,
          243,
          244,
          245,
          246,
          247,
          248,
          249,
          250,
          251,
          252,
          253,
          254,
          255,
          256,
          257,
          258,
          259,
          260,
          261,
          262,
          263,
          264,
          265,
          266,
          267,
          268,
          269,
          270,
          271,
          272,
          273,
          274,
          275,
          276,
          277,
          278,
          279,
          280,
          281,
          282,
          283,
          284,
          285,
          286,
          287,
          288,
          289,
          290,
          291,
          292,
          293,
          294,
          295,
          296,
          297,
          298,
          299,
          300,
          301,
          302,
          303,
          304,
          305,
          306,
          307,
          308,
          309,
          310,
          311,
          312,
          313,
          314,
          315,
          316,
          317,
          318,
          319,
          320,
          321,
          322,
          323,
          324,
          325,
          326,
          327,
          328
         ],
         "y": [
          0,
          0,
          0,
          0,
          0,
          0,
          0,
          0,
          0,
          0,
          0,
          0,
          1,
          5,
          7,
          9,
          22,
          24,
          24,
          54,
          59,
          82,
          128,
          135,
          120,
          122,
          160,
          173,
          161,
          141,
          169,
          189,
          157,
          174,
          194,
          180,
          179,
          209,
          200,
          167,
          162,
          185,
          224,
          209,
          208,
          167,
          154,
          170,
          161,
          193,
          176,
          188,
          171,
          173,
          185,
          165,
          151,
          165,
          178,
          211,
          189,
          186,
          191,
          185,
          188,
          218,
          218,
          205,
          221,
          226,
          210,
          172,
          173,
          188,
          185,
          184,
          183,
          223,
          180,
          211,
          183,
          189,
          201,
          194,
          211,
          205,
          197,
          225,
          221,
          228,
          214,
          259,
          195,
          214,
          211,
          232,
          196,
          186,
          197,
          215,
          197,
          192,
          186,
          186,
          226,
          183,
          191,
          213,
          190,
          187,
          196,
          207,
          220,
          199,
          231,
          215,
          180,
          206,
          191,
          200,
          175,
          212,
          184,
          165,
          180,
          191,
          184,
          189,
          159,
          183,
          175,
          209,
          172,
          190,
          207,
          208,
          193,
          206,
          198,
          173,
          195,
          149,
          178,
          180,
          159,
          157,
          188,
          149,
          154,
          172,
          158,
          193,
          178,
          150,
          155,
          167,
          136,
          150,
          164,
          133,
          148,
          142,
          141,
          148,
          140,
          142,
          146,
          122,
          122,
          128,
          132,
          137,
          131,
          118,
          127,
          106,
          123,
          140,
          101,
          126,
          113,
          101,
          141,
          108,
          113,
          123,
          114,
          119,
          127,
          92,
          119,
          101,
          126,
          106,
          103,
          113,
          104,
          114,
          95,
          100,
          115,
          101,
          109,
          78,
          73,
          64,
          81,
          62,
          72,
          75,
          57,
          57,
          67,
          58,
          58,
          49,
          46,
          57,
          51,
          52,
          59,
          57,
          55,
          51,
          59,
          61,
          62,
          64,
          55,
          53,
          54,
          64,
          55,
          53,
          52,
          44,
          46,
          50,
          58,
          52,
          47,
          37,
          38,
          39,
          45,
          33,
          26,
          22,
          32,
          31,
          27,
          31,
          28,
          29,
          27,
          21,
          28,
          29,
          27,
          31,
          34,
          32,
          25,
          34,
          27,
          24,
          25,
          22,
          27,
          26,
          28,
          26,
          21,
          41,
          28,
          26,
          20,
          20,
          18,
          13,
          19,
          16,
          15,
          25,
          25,
          22,
          21,
          30,
          21,
          15,
          22,
          11,
          8,
          17,
          16,
          10,
          13,
          14,
          8,
          12,
          12,
          14,
          7,
          4,
          10,
          15,
          10,
          6,
          6,
          15,
          8,
          8,
          8,
          7,
          6,
          8,
          7,
          8,
          8,
          5,
          5,
          7,
          8,
          8,
          10,
          4,
          6,
          8,
          3
         ]
        }
       ],
       "layout": {
        "template": {
         "data": {
          "bar": [
           {
            "error_x": {
             "color": "#2a3f5f"
            },
            "error_y": {
             "color": "#2a3f5f"
            },
            "marker": {
             "line": {
              "color": "#E5ECF6",
              "width": 0.5
             },
             "pattern": {
              "fillmode": "overlay",
              "size": 10,
              "solidity": 0.2
             }
            },
            "type": "bar"
           }
          ],
          "barpolar": [
           {
            "marker": {
             "line": {
              "color": "#E5ECF6",
              "width": 0.5
             },
             "pattern": {
              "fillmode": "overlay",
              "size": 10,
              "solidity": 0.2
             }
            },
            "type": "barpolar"
           }
          ],
          "carpet": [
           {
            "aaxis": {
             "endlinecolor": "#2a3f5f",
             "gridcolor": "white",
             "linecolor": "white",
             "minorgridcolor": "white",
             "startlinecolor": "#2a3f5f"
            },
            "baxis": {
             "endlinecolor": "#2a3f5f",
             "gridcolor": "white",
             "linecolor": "white",
             "minorgridcolor": "white",
             "startlinecolor": "#2a3f5f"
            },
            "type": "carpet"
           }
          ],
          "choropleth": [
           {
            "colorbar": {
             "outlinewidth": 0,
             "ticks": ""
            },
            "type": "choropleth"
           }
          ],
          "contour": [
           {
            "colorbar": {
             "outlinewidth": 0,
             "ticks": ""
            },
            "colorscale": [
             [
              0,
              "#0d0887"
             ],
             [
              0.1111111111111111,
              "#46039f"
             ],
             [
              0.2222222222222222,
              "#7201a8"
             ],
             [
              0.3333333333333333,
              "#9c179e"
             ],
             [
              0.4444444444444444,
              "#bd3786"
             ],
             [
              0.5555555555555556,
              "#d8576b"
             ],
             [
              0.6666666666666666,
              "#ed7953"
             ],
             [
              0.7777777777777778,
              "#fb9f3a"
             ],
             [
              0.8888888888888888,
              "#fdca26"
             ],
             [
              1,
              "#f0f921"
             ]
            ],
            "type": "contour"
           }
          ],
          "contourcarpet": [
           {
            "colorbar": {
             "outlinewidth": 0,
             "ticks": ""
            },
            "type": "contourcarpet"
           }
          ],
          "heatmap": [
           {
            "colorbar": {
             "outlinewidth": 0,
             "ticks": ""
            },
            "colorscale": [
             [
              0,
              "#0d0887"
             ],
             [
              0.1111111111111111,
              "#46039f"
             ],
             [
              0.2222222222222222,
              "#7201a8"
             ],
             [
              0.3333333333333333,
              "#9c179e"
             ],
             [
              0.4444444444444444,
              "#bd3786"
             ],
             [
              0.5555555555555556,
              "#d8576b"
             ],
             [
              0.6666666666666666,
              "#ed7953"
             ],
             [
              0.7777777777777778,
              "#fb9f3a"
             ],
             [
              0.8888888888888888,
              "#fdca26"
             ],
             [
              1,
              "#f0f921"
             ]
            ],
            "type": "heatmap"
           }
          ],
          "heatmapgl": [
           {
            "colorbar": {
             "outlinewidth": 0,
             "ticks": ""
            },
            "colorscale": [
             [
              0,
              "#0d0887"
             ],
             [
              0.1111111111111111,
              "#46039f"
             ],
             [
              0.2222222222222222,
              "#7201a8"
             ],
             [
              0.3333333333333333,
              "#9c179e"
             ],
             [
              0.4444444444444444,
              "#bd3786"
             ],
             [
              0.5555555555555556,
              "#d8576b"
             ],
             [
              0.6666666666666666,
              "#ed7953"
             ],
             [
              0.7777777777777778,
              "#fb9f3a"
             ],
             [
              0.8888888888888888,
              "#fdca26"
             ],
             [
              1,
              "#f0f921"
             ]
            ],
            "type": "heatmapgl"
           }
          ],
          "histogram": [
           {
            "marker": {
             "pattern": {
              "fillmode": "overlay",
              "size": 10,
              "solidity": 0.2
             }
            },
            "type": "histogram"
           }
          ],
          "histogram2d": [
           {
            "colorbar": {
             "outlinewidth": 0,
             "ticks": ""
            },
            "colorscale": [
             [
              0,
              "#0d0887"
             ],
             [
              0.1111111111111111,
              "#46039f"
             ],
             [
              0.2222222222222222,
              "#7201a8"
             ],
             [
              0.3333333333333333,
              "#9c179e"
             ],
             [
              0.4444444444444444,
              "#bd3786"
             ],
             [
              0.5555555555555556,
              "#d8576b"
             ],
             [
              0.6666666666666666,
              "#ed7953"
             ],
             [
              0.7777777777777778,
              "#fb9f3a"
             ],
             [
              0.8888888888888888,
              "#fdca26"
             ],
             [
              1,
              "#f0f921"
             ]
            ],
            "type": "histogram2d"
           }
          ],
          "histogram2dcontour": [
           {
            "colorbar": {
             "outlinewidth": 0,
             "ticks": ""
            },
            "colorscale": [
             [
              0,
              "#0d0887"
             ],
             [
              0.1111111111111111,
              "#46039f"
             ],
             [
              0.2222222222222222,
              "#7201a8"
             ],
             [
              0.3333333333333333,
              "#9c179e"
             ],
             [
              0.4444444444444444,
              "#bd3786"
             ],
             [
              0.5555555555555556,
              "#d8576b"
             ],
             [
              0.6666666666666666,
              "#ed7953"
             ],
             [
              0.7777777777777778,
              "#fb9f3a"
             ],
             [
              0.8888888888888888,
              "#fdca26"
             ],
             [
              1,
              "#f0f921"
             ]
            ],
            "type": "histogram2dcontour"
           }
          ],
          "mesh3d": [
           {
            "colorbar": {
             "outlinewidth": 0,
             "ticks": ""
            },
            "type": "mesh3d"
           }
          ],
          "parcoords": [
           {
            "line": {
             "colorbar": {
              "outlinewidth": 0,
              "ticks": ""
             }
            },
            "type": "parcoords"
           }
          ],
          "pie": [
           {
            "automargin": true,
            "type": "pie"
           }
          ],
          "scatter": [
           {
            "fillpattern": {
             "fillmode": "overlay",
             "size": 10,
             "solidity": 0.2
            },
            "type": "scatter"
           }
          ],
          "scatter3d": [
           {
            "line": {
             "colorbar": {
              "outlinewidth": 0,
              "ticks": ""
             }
            },
            "marker": {
             "colorbar": {
              "outlinewidth": 0,
              "ticks": ""
             }
            },
            "type": "scatter3d"
           }
          ],
          "scattercarpet": [
           {
            "marker": {
             "colorbar": {
              "outlinewidth": 0,
              "ticks": ""
             }
            },
            "type": "scattercarpet"
           }
          ],
          "scattergeo": [
           {
            "marker": {
             "colorbar": {
              "outlinewidth": 0,
              "ticks": ""
             }
            },
            "type": "scattergeo"
           }
          ],
          "scattergl": [
           {
            "marker": {
             "colorbar": {
              "outlinewidth": 0,
              "ticks": ""
             }
            },
            "type": "scattergl"
           }
          ],
          "scattermapbox": [
           {
            "marker": {
             "colorbar": {
              "outlinewidth": 0,
              "ticks": ""
             }
            },
            "type": "scattermapbox"
           }
          ],
          "scatterpolar": [
           {
            "marker": {
             "colorbar": {
              "outlinewidth": 0,
              "ticks": ""
             }
            },
            "type": "scatterpolar"
           }
          ],
          "scatterpolargl": [
           {
            "marker": {
             "colorbar": {
              "outlinewidth": 0,
              "ticks": ""
             }
            },
            "type": "scatterpolargl"
           }
          ],
          "scatterternary": [
           {
            "marker": {
             "colorbar": {
              "outlinewidth": 0,
              "ticks": ""
             }
            },
            "type": "scatterternary"
           }
          ],
          "surface": [
           {
            "colorbar": {
             "outlinewidth": 0,
             "ticks": ""
            },
            "colorscale": [
             [
              0,
              "#0d0887"
             ],
             [
              0.1111111111111111,
              "#46039f"
             ],
             [
              0.2222222222222222,
              "#7201a8"
             ],
             [
              0.3333333333333333,
              "#9c179e"
             ],
             [
              0.4444444444444444,
              "#bd3786"
             ],
             [
              0.5555555555555556,
              "#d8576b"
             ],
             [
              0.6666666666666666,
              "#ed7953"
             ],
             [
              0.7777777777777778,
              "#fb9f3a"
             ],
             [
              0.8888888888888888,
              "#fdca26"
             ],
             [
              1,
              "#f0f921"
             ]
            ],
            "type": "surface"
           }
          ],
          "table": [
           {
            "cells": {
             "fill": {
              "color": "#EBF0F8"
             },
             "line": {
              "color": "white"
             }
            },
            "header": {
             "fill": {
              "color": "#C8D4E3"
             },
             "line": {
              "color": "white"
             }
            },
            "type": "table"
           }
          ]
         },
         "layout": {
          "annotationdefaults": {
           "arrowcolor": "#2a3f5f",
           "arrowhead": 0,
           "arrowwidth": 1
          },
          "autotypenumbers": "strict",
          "coloraxis": {
           "colorbar": {
            "outlinewidth": 0,
            "ticks": ""
           }
          },
          "colorscale": {
           "diverging": [
            [
             0,
             "#8e0152"
            ],
            [
             0.1,
             "#c51b7d"
            ],
            [
             0.2,
             "#de77ae"
            ],
            [
             0.3,
             "#f1b6da"
            ],
            [
             0.4,
             "#fde0ef"
            ],
            [
             0.5,
             "#f7f7f7"
            ],
            [
             0.6,
             "#e6f5d0"
            ],
            [
             0.7,
             "#b8e186"
            ],
            [
             0.8,
             "#7fbc41"
            ],
            [
             0.9,
             "#4d9221"
            ],
            [
             1,
             "#276419"
            ]
           ],
           "sequential": [
            [
             0,
             "#0d0887"
            ],
            [
             0.1111111111111111,
             "#46039f"
            ],
            [
             0.2222222222222222,
             "#7201a8"
            ],
            [
             0.3333333333333333,
             "#9c179e"
            ],
            [
             0.4444444444444444,
             "#bd3786"
            ],
            [
             0.5555555555555556,
             "#d8576b"
            ],
            [
             0.6666666666666666,
             "#ed7953"
            ],
            [
             0.7777777777777778,
             "#fb9f3a"
            ],
            [
             0.8888888888888888,
             "#fdca26"
            ],
            [
             1,
             "#f0f921"
            ]
           ],
           "sequentialminus": [
            [
             0,
             "#0d0887"
            ],
            [
             0.1111111111111111,
             "#46039f"
            ],
            [
             0.2222222222222222,
             "#7201a8"
            ],
            [
             0.3333333333333333,
             "#9c179e"
            ],
            [
             0.4444444444444444,
             "#bd3786"
            ],
            [
             0.5555555555555556,
             "#d8576b"
            ],
            [
             0.6666666666666666,
             "#ed7953"
            ],
            [
             0.7777777777777778,
             "#fb9f3a"
            ],
            [
             0.8888888888888888,
             "#fdca26"
            ],
            [
             1,
             "#f0f921"
            ]
           ]
          },
          "colorway": [
           "#636efa",
           "#EF553B",
           "#00cc96",
           "#ab63fa",
           "#FFA15A",
           "#19d3f3",
           "#FF6692",
           "#B6E880",
           "#FF97FF",
           "#FECB52"
          ],
          "font": {
           "color": "#2a3f5f"
          },
          "geo": {
           "bgcolor": "white",
           "lakecolor": "white",
           "landcolor": "#E5ECF6",
           "showlakes": true,
           "showland": true,
           "subunitcolor": "white"
          },
          "hoverlabel": {
           "align": "left"
          },
          "hovermode": "closest",
          "mapbox": {
           "style": "light"
          },
          "paper_bgcolor": "white",
          "plot_bgcolor": "#E5ECF6",
          "polar": {
           "angularaxis": {
            "gridcolor": "white",
            "linecolor": "white",
            "ticks": ""
           },
           "bgcolor": "#E5ECF6",
           "radialaxis": {
            "gridcolor": "white",
            "linecolor": "white",
            "ticks": ""
           }
          },
          "scene": {
           "xaxis": {
            "backgroundcolor": "#E5ECF6",
            "gridcolor": "white",
            "gridwidth": 2,
            "linecolor": "white",
            "showbackground": true,
            "ticks": "",
            "zerolinecolor": "white"
           },
           "yaxis": {
            "backgroundcolor": "#E5ECF6",
            "gridcolor": "white",
            "gridwidth": 2,
            "linecolor": "white",
            "showbackground": true,
            "ticks": "",
            "zerolinecolor": "white"
           },
           "zaxis": {
            "backgroundcolor": "#E5ECF6",
            "gridcolor": "white",
            "gridwidth": 2,
            "linecolor": "white",
            "showbackground": true,
            "ticks": "",
            "zerolinecolor": "white"
           }
          },
          "shapedefaults": {
           "line": {
            "color": "#2a3f5f"
           }
          },
          "ternary": {
           "aaxis": {
            "gridcolor": "white",
            "linecolor": "white",
            "ticks": ""
           },
           "baxis": {
            "gridcolor": "white",
            "linecolor": "white",
            "ticks": ""
           },
           "bgcolor": "#E5ECF6",
           "caxis": {
            "gridcolor": "white",
            "linecolor": "white",
            "ticks": ""
           }
          },
          "title": {
           "x": 0.05
          },
          "xaxis": {
           "automargin": true,
           "gridcolor": "white",
           "linecolor": "white",
           "ticks": "",
           "title": {
            "standoff": 15
           },
           "zerolinecolor": "white",
           "zerolinewidth": 2
          },
          "yaxis": {
           "automargin": true,
           "gridcolor": "white",
           "linecolor": "white",
           "ticks": "",
           "title": {
            "standoff": 15
           },
           "zerolinecolor": "white",
           "zerolinewidth": 2
          }
         }
        },
        "title": {
         "text": "Anzahl der Viertelstunden im Jahren 2030 mit 0-330 % EE-Anteil"
        },
        "xaxis": {
         "tickmode": "array",
         "ticktext": [
          "0%",
          "5%",
          "10%",
          "15%",
          "20%",
          "25%",
          "30%",
          "35%",
          "40%",
          "45%",
          "50%",
          "55%",
          "60%",
          "65%",
          "70%",
          "75%",
          "80%",
          "85%",
          "90%",
          "95%",
          "100%",
          "105%",
          "110%",
          "115%",
          "120%",
          "125%",
          "130%",
          "135%",
          "140%",
          "145%",
          "150%",
          "155%",
          "160%",
          "165%",
          "170%",
          "175%",
          "180%",
          "185%",
          "190%",
          "195%",
          "200%",
          "205%",
          "210%",
          "215%",
          "220%",
          "225%",
          "230%",
          "235%",
          "240%",
          "245%",
          "250%",
          "255%",
          "260%",
          "265%",
          "270%",
          "275%",
          "280%",
          "285%",
          "290%",
          "295%",
          "300%",
          "305%",
          "310%",
          "315%",
          "320%",
          "325%"
         ],
         "tickvals": [
          0,
          5,
          10,
          15,
          20,
          25,
          30,
          35,
          40,
          45,
          50,
          55,
          60,
          65,
          70,
          75,
          80,
          85,
          90,
          95,
          100,
          105,
          110,
          115,
          120,
          125,
          130,
          135,
          140,
          145,
          150,
          155,
          160,
          165,
          170,
          175,
          180,
          185,
          190,
          195,
          200,
          205,
          210,
          215,
          220,
          225,
          230,
          235,
          240,
          245,
          250,
          255,
          260,
          265,
          270,
          275,
          280,
          285,
          290,
          295,
          300,
          305,
          310,
          315,
          320,
          325
         ],
         "title": {
          "text": "Prozentsatz erneuerbarer Energie"
         }
        },
        "yaxis": {
         "title": {
          "text": "Anzahl der Viertelstunden"
         }
        }
       }
      }
     },
     "metadata": {},
     "output_type": "display_data"
    },
    {
     "data": {
      "application/vnd.plotly.v1+json": {
       "config": {
        "plotlyServerURL": "https://plot.ly"
       },
       "data": [
        {
         "type": "bar",
         "x": [
          0,
          1,
          2,
          3,
          4,
          5,
          6,
          7,
          8,
          9,
          10,
          11,
          12,
          13,
          14,
          15,
          16,
          17,
          18,
          19,
          20,
          21,
          22,
          23,
          24,
          25,
          26,
          27,
          28,
          29,
          30,
          31,
          32,
          33,
          34,
          35,
          36,
          37,
          38,
          39,
          40,
          41,
          42,
          43,
          44,
          45,
          46,
          47,
          48,
          49,
          50,
          51,
          52,
          53,
          54,
          55,
          56,
          57,
          58,
          59,
          60,
          61,
          62,
          63,
          64,
          65,
          66,
          67,
          68,
          69,
          70,
          71,
          72,
          73,
          74,
          75,
          76,
          77,
          78,
          79,
          80,
          81,
          82,
          83,
          84,
          85,
          86,
          87,
          88,
          89,
          90,
          91,
          92,
          93,
          94,
          95,
          96,
          97,
          98,
          99,
          100,
          101,
          102,
          103,
          104,
          105,
          106,
          107,
          108,
          109,
          110,
          111,
          112,
          113,
          114,
          115,
          116,
          117,
          118,
          119,
          120,
          121,
          122,
          123,
          124,
          125,
          126,
          127,
          128,
          129,
          130,
          131,
          132,
          133,
          134,
          135,
          136,
          137,
          138,
          139,
          140,
          141,
          142,
          143,
          144,
          145,
          146,
          147,
          148,
          149,
          150,
          151,
          152,
          153,
          154,
          155,
          156,
          157,
          158,
          159,
          160,
          161,
          162,
          163,
          164,
          165,
          166,
          167,
          168,
          169,
          170,
          171,
          172,
          173,
          174,
          175,
          176,
          177,
          178,
          179,
          180,
          181,
          182,
          183,
          184,
          185,
          186,
          187,
          188,
          189,
          190,
          191,
          192,
          193,
          194,
          195,
          196,
          197,
          198,
          199,
          200,
          201,
          202,
          203,
          204,
          205,
          206,
          207,
          208,
          209,
          210,
          211,
          212,
          213,
          214,
          215,
          216,
          217,
          218,
          219,
          220,
          221,
          222,
          223,
          224,
          225,
          226,
          227,
          228,
          229,
          230,
          231,
          232,
          233,
          234,
          235,
          236,
          237,
          238,
          239,
          240,
          241,
          242,
          243,
          244,
          245,
          246,
          247,
          248,
          249,
          250,
          251,
          252,
          253,
          254,
          255,
          256,
          257,
          258,
          259,
          260,
          261,
          262,
          263,
          264,
          265,
          266,
          267,
          268,
          269,
          270,
          271,
          272,
          273,
          274,
          275,
          276,
          277,
          278,
          279,
          280,
          281,
          282,
          283,
          284,
          285,
          286,
          287,
          288,
          289,
          290,
          291,
          292,
          293,
          294,
          295,
          296,
          297,
          298,
          299,
          300
         ],
         "y": [
          35136,
          35136,
          35136,
          35136,
          35136,
          35136,
          35136,
          35136,
          35136,
          35136,
          35136,
          35136,
          35136,
          35135,
          35130,
          35123,
          35114,
          35092,
          35068,
          35044,
          34990,
          34931,
          34849,
          34721,
          34586,
          34466,
          34344,
          34184,
          34011,
          33850,
          33709,
          33540,
          33351,
          33194,
          33020,
          32826,
          32646,
          32467,
          32258,
          32058,
          31891,
          31729,
          31544,
          31320,
          31111,
          30903,
          30736,
          30582,
          30412,
          30251,
          30058,
          29882,
          29694,
          29523,
          29350,
          29165,
          29000,
          28849,
          28684,
          28506,
          28295,
          28106,
          27920,
          27729,
          27544,
          27356,
          27138,
          26920,
          26715,
          26494,
          26268,
          26058,
          25886,
          25713,
          25525,
          25340,
          25156,
          24973,
          24750,
          24570,
          24359,
          24176,
          23987,
          23786,
          23592,
          23381,
          23176,
          22979,
          22754,
          22533,
          22305,
          22091,
          21832,
          21637,
          21423,
          21212,
          20980,
          20784,
          20598,
          20401,
          20186,
          19989,
          19797,
          19611,
          19425,
          19199,
          19016,
          18825,
          18612,
          18422,
          18235,
          18039,
          17832,
          17612,
          17413,
          17182,
          16967,
          16787,
          16581,
          16390,
          16190,
          16015,
          15803,
          15619,
          15454,
          15274,
          15083,
          14899,
          14710,
          14551,
          14368,
          14193,
          13984,
          13812,
          13622,
          13415,
          13207,
          13014,
          12808,
          12610,
          12437,
          12242,
          12093,
          11915,
          11735,
          11576,
          11419,
          11231,
          11082,
          10928,
          10756,
          10598,
          10405,
          10227,
          10077,
          9922,
          9755,
          9619,
          9469,
          9305,
          9172,
          9024,
          8882,
          8741,
          8593,
          8453,
          8311,
          8165,
          8043,
          7921,
          7793,
          7661,
          7524,
          7393,
          7275,
          7148,
          7042,
          6919,
          6779,
          6678,
          6552,
          6439,
          6338,
          6197,
          6089,
          5976,
          5853,
          5739,
          5620,
          5493,
          5401,
          5282,
          5181,
          5055,
          4949,
          4846,
          4733,
          4629,
          4515,
          4420,
          4320,
          4205,
          4104,
          3995,
          3917,
          3844,
          3780,
          3699,
          3637,
          3565,
          3490,
          3433,
          3376,
          3309,
          3251,
          3193,
          3144,
          3098,
          3041,
          2990,
          2938,
          2879,
          2822,
          2767,
          2716,
          2657,
          2596,
          2534,
          2470,
          2415,
          2362,
          2308,
          2244,
          2189,
          2136,
          2084,
          2040,
          1994,
          1944,
          1886,
          1834,
          1787,
          1750,
          1712,
          1673,
          1628,
          1595,
          1569,
          1547,
          1515,
          1484,
          1457,
          1426,
          1398,
          1369,
          1342,
          1321,
          1293,
          1264,
          1237,
          1206,
          1172,
          1140,
          1115,
          1081,
          1054,
          1030,
          1005,
          983,
          956,
          930,
          902,
          876,
          855,
          814,
          786,
          760,
          740,
          720,
          702,
          689,
          670,
          654,
          639,
          614,
          589,
          567,
          546,
          516,
          495,
          480,
          458,
          447,
          439,
          422,
          406,
          396,
          383,
          369,
          361,
          349
         ]
        }
       ],
       "layout": {
        "template": {
         "data": {
          "bar": [
           {
            "error_x": {
             "color": "#2a3f5f"
            },
            "error_y": {
             "color": "#2a3f5f"
            },
            "marker": {
             "line": {
              "color": "#E5ECF6",
              "width": 0.5
             },
             "pattern": {
              "fillmode": "overlay",
              "size": 10,
              "solidity": 0.2
             }
            },
            "type": "bar"
           }
          ],
          "barpolar": [
           {
            "marker": {
             "line": {
              "color": "#E5ECF6",
              "width": 0.5
             },
             "pattern": {
              "fillmode": "overlay",
              "size": 10,
              "solidity": 0.2
             }
            },
            "type": "barpolar"
           }
          ],
          "carpet": [
           {
            "aaxis": {
             "endlinecolor": "#2a3f5f",
             "gridcolor": "white",
             "linecolor": "white",
             "minorgridcolor": "white",
             "startlinecolor": "#2a3f5f"
            },
            "baxis": {
             "endlinecolor": "#2a3f5f",
             "gridcolor": "white",
             "linecolor": "white",
             "minorgridcolor": "white",
             "startlinecolor": "#2a3f5f"
            },
            "type": "carpet"
           }
          ],
          "choropleth": [
           {
            "colorbar": {
             "outlinewidth": 0,
             "ticks": ""
            },
            "type": "choropleth"
           }
          ],
          "contour": [
           {
            "colorbar": {
             "outlinewidth": 0,
             "ticks": ""
            },
            "colorscale": [
             [
              0,
              "#0d0887"
             ],
             [
              0.1111111111111111,
              "#46039f"
             ],
             [
              0.2222222222222222,
              "#7201a8"
             ],
             [
              0.3333333333333333,
              "#9c179e"
             ],
             [
              0.4444444444444444,
              "#bd3786"
             ],
             [
              0.5555555555555556,
              "#d8576b"
             ],
             [
              0.6666666666666666,
              "#ed7953"
             ],
             [
              0.7777777777777778,
              "#fb9f3a"
             ],
             [
              0.8888888888888888,
              "#fdca26"
             ],
             [
              1,
              "#f0f921"
             ]
            ],
            "type": "contour"
           }
          ],
          "contourcarpet": [
           {
            "colorbar": {
             "outlinewidth": 0,
             "ticks": ""
            },
            "type": "contourcarpet"
           }
          ],
          "heatmap": [
           {
            "colorbar": {
             "outlinewidth": 0,
             "ticks": ""
            },
            "colorscale": [
             [
              0,
              "#0d0887"
             ],
             [
              0.1111111111111111,
              "#46039f"
             ],
             [
              0.2222222222222222,
              "#7201a8"
             ],
             [
              0.3333333333333333,
              "#9c179e"
             ],
             [
              0.4444444444444444,
              "#bd3786"
             ],
             [
              0.5555555555555556,
              "#d8576b"
             ],
             [
              0.6666666666666666,
              "#ed7953"
             ],
             [
              0.7777777777777778,
              "#fb9f3a"
             ],
             [
              0.8888888888888888,
              "#fdca26"
             ],
             [
              1,
              "#f0f921"
             ]
            ],
            "type": "heatmap"
           }
          ],
          "heatmapgl": [
           {
            "colorbar": {
             "outlinewidth": 0,
             "ticks": ""
            },
            "colorscale": [
             [
              0,
              "#0d0887"
             ],
             [
              0.1111111111111111,
              "#46039f"
             ],
             [
              0.2222222222222222,
              "#7201a8"
             ],
             [
              0.3333333333333333,
              "#9c179e"
             ],
             [
              0.4444444444444444,
              "#bd3786"
             ],
             [
              0.5555555555555556,
              "#d8576b"
             ],
             [
              0.6666666666666666,
              "#ed7953"
             ],
             [
              0.7777777777777778,
              "#fb9f3a"
             ],
             [
              0.8888888888888888,
              "#fdca26"
             ],
             [
              1,
              "#f0f921"
             ]
            ],
            "type": "heatmapgl"
           }
          ],
          "histogram": [
           {
            "marker": {
             "pattern": {
              "fillmode": "overlay",
              "size": 10,
              "solidity": 0.2
             }
            },
            "type": "histogram"
           }
          ],
          "histogram2d": [
           {
            "colorbar": {
             "outlinewidth": 0,
             "ticks": ""
            },
            "colorscale": [
             [
              0,
              "#0d0887"
             ],
             [
              0.1111111111111111,
              "#46039f"
             ],
             [
              0.2222222222222222,
              "#7201a8"
             ],
             [
              0.3333333333333333,
              "#9c179e"
             ],
             [
              0.4444444444444444,
              "#bd3786"
             ],
             [
              0.5555555555555556,
              "#d8576b"
             ],
             [
              0.6666666666666666,
              "#ed7953"
             ],
             [
              0.7777777777777778,
              "#fb9f3a"
             ],
             [
              0.8888888888888888,
              "#fdca26"
             ],
             [
              1,
              "#f0f921"
             ]
            ],
            "type": "histogram2d"
           }
          ],
          "histogram2dcontour": [
           {
            "colorbar": {
             "outlinewidth": 0,
             "ticks": ""
            },
            "colorscale": [
             [
              0,
              "#0d0887"
             ],
             [
              0.1111111111111111,
              "#46039f"
             ],
             [
              0.2222222222222222,
              "#7201a8"
             ],
             [
              0.3333333333333333,
              "#9c179e"
             ],
             [
              0.4444444444444444,
              "#bd3786"
             ],
             [
              0.5555555555555556,
              "#d8576b"
             ],
             [
              0.6666666666666666,
              "#ed7953"
             ],
             [
              0.7777777777777778,
              "#fb9f3a"
             ],
             [
              0.8888888888888888,
              "#fdca26"
             ],
             [
              1,
              "#f0f921"
             ]
            ],
            "type": "histogram2dcontour"
           }
          ],
          "mesh3d": [
           {
            "colorbar": {
             "outlinewidth": 0,
             "ticks": ""
            },
            "type": "mesh3d"
           }
          ],
          "parcoords": [
           {
            "line": {
             "colorbar": {
              "outlinewidth": 0,
              "ticks": ""
             }
            },
            "type": "parcoords"
           }
          ],
          "pie": [
           {
            "automargin": true,
            "type": "pie"
           }
          ],
          "scatter": [
           {
            "fillpattern": {
             "fillmode": "overlay",
             "size": 10,
             "solidity": 0.2
            },
            "type": "scatter"
           }
          ],
          "scatter3d": [
           {
            "line": {
             "colorbar": {
              "outlinewidth": 0,
              "ticks": ""
             }
            },
            "marker": {
             "colorbar": {
              "outlinewidth": 0,
              "ticks": ""
             }
            },
            "type": "scatter3d"
           }
          ],
          "scattercarpet": [
           {
            "marker": {
             "colorbar": {
              "outlinewidth": 0,
              "ticks": ""
             }
            },
            "type": "scattercarpet"
           }
          ],
          "scattergeo": [
           {
            "marker": {
             "colorbar": {
              "outlinewidth": 0,
              "ticks": ""
             }
            },
            "type": "scattergeo"
           }
          ],
          "scattergl": [
           {
            "marker": {
             "colorbar": {
              "outlinewidth": 0,
              "ticks": ""
             }
            },
            "type": "scattergl"
           }
          ],
          "scattermapbox": [
           {
            "marker": {
             "colorbar": {
              "outlinewidth": 0,
              "ticks": ""
             }
            },
            "type": "scattermapbox"
           }
          ],
          "scatterpolar": [
           {
            "marker": {
             "colorbar": {
              "outlinewidth": 0,
              "ticks": ""
             }
            },
            "type": "scatterpolar"
           }
          ],
          "scatterpolargl": [
           {
            "marker": {
             "colorbar": {
              "outlinewidth": 0,
              "ticks": ""
             }
            },
            "type": "scatterpolargl"
           }
          ],
          "scatterternary": [
           {
            "marker": {
             "colorbar": {
              "outlinewidth": 0,
              "ticks": ""
             }
            },
            "type": "scatterternary"
           }
          ],
          "surface": [
           {
            "colorbar": {
             "outlinewidth": 0,
             "ticks": ""
            },
            "colorscale": [
             [
              0,
              "#0d0887"
             ],
             [
              0.1111111111111111,
              "#46039f"
             ],
             [
              0.2222222222222222,
              "#7201a8"
             ],
             [
              0.3333333333333333,
              "#9c179e"
             ],
             [
              0.4444444444444444,
              "#bd3786"
             ],
             [
              0.5555555555555556,
              "#d8576b"
             ],
             [
              0.6666666666666666,
              "#ed7953"
             ],
             [
              0.7777777777777778,
              "#fb9f3a"
             ],
             [
              0.8888888888888888,
              "#fdca26"
             ],
             [
              1,
              "#f0f921"
             ]
            ],
            "type": "surface"
           }
          ],
          "table": [
           {
            "cells": {
             "fill": {
              "color": "#EBF0F8"
             },
             "line": {
              "color": "white"
             }
            },
            "header": {
             "fill": {
              "color": "#C8D4E3"
             },
             "line": {
              "color": "white"
             }
            },
            "type": "table"
           }
          ]
         },
         "layout": {
          "annotationdefaults": {
           "arrowcolor": "#2a3f5f",
           "arrowhead": 0,
           "arrowwidth": 1
          },
          "autotypenumbers": "strict",
          "coloraxis": {
           "colorbar": {
            "outlinewidth": 0,
            "ticks": ""
           }
          },
          "colorscale": {
           "diverging": [
            [
             0,
             "#8e0152"
            ],
            [
             0.1,
             "#c51b7d"
            ],
            [
             0.2,
             "#de77ae"
            ],
            [
             0.3,
             "#f1b6da"
            ],
            [
             0.4,
             "#fde0ef"
            ],
            [
             0.5,
             "#f7f7f7"
            ],
            [
             0.6,
             "#e6f5d0"
            ],
            [
             0.7,
             "#b8e186"
            ],
            [
             0.8,
             "#7fbc41"
            ],
            [
             0.9,
             "#4d9221"
            ],
            [
             1,
             "#276419"
            ]
           ],
           "sequential": [
            [
             0,
             "#0d0887"
            ],
            [
             0.1111111111111111,
             "#46039f"
            ],
            [
             0.2222222222222222,
             "#7201a8"
            ],
            [
             0.3333333333333333,
             "#9c179e"
            ],
            [
             0.4444444444444444,
             "#bd3786"
            ],
            [
             0.5555555555555556,
             "#d8576b"
            ],
            [
             0.6666666666666666,
             "#ed7953"
            ],
            [
             0.7777777777777778,
             "#fb9f3a"
            ],
            [
             0.8888888888888888,
             "#fdca26"
            ],
            [
             1,
             "#f0f921"
            ]
           ],
           "sequentialminus": [
            [
             0,
             "#0d0887"
            ],
            [
             0.1111111111111111,
             "#46039f"
            ],
            [
             0.2222222222222222,
             "#7201a8"
            ],
            [
             0.3333333333333333,
             "#9c179e"
            ],
            [
             0.4444444444444444,
             "#bd3786"
            ],
            [
             0.5555555555555556,
             "#d8576b"
            ],
            [
             0.6666666666666666,
             "#ed7953"
            ],
            [
             0.7777777777777778,
             "#fb9f3a"
            ],
            [
             0.8888888888888888,
             "#fdca26"
            ],
            [
             1,
             "#f0f921"
            ]
           ]
          },
          "colorway": [
           "#636efa",
           "#EF553B",
           "#00cc96",
           "#ab63fa",
           "#FFA15A",
           "#19d3f3",
           "#FF6692",
           "#B6E880",
           "#FF97FF",
           "#FECB52"
          ],
          "font": {
           "color": "#2a3f5f"
          },
          "geo": {
           "bgcolor": "white",
           "lakecolor": "white",
           "landcolor": "#E5ECF6",
           "showlakes": true,
           "showland": true,
           "subunitcolor": "white"
          },
          "hoverlabel": {
           "align": "left"
          },
          "hovermode": "closest",
          "mapbox": {
           "style": "light"
          },
          "paper_bgcolor": "white",
          "plot_bgcolor": "#E5ECF6",
          "polar": {
           "angularaxis": {
            "gridcolor": "white",
            "linecolor": "white",
            "ticks": ""
           },
           "bgcolor": "#E5ECF6",
           "radialaxis": {
            "gridcolor": "white",
            "linecolor": "white",
            "ticks": ""
           }
          },
          "scene": {
           "xaxis": {
            "backgroundcolor": "#E5ECF6",
            "gridcolor": "white",
            "gridwidth": 2,
            "linecolor": "white",
            "showbackground": true,
            "ticks": "",
            "zerolinecolor": "white"
           },
           "yaxis": {
            "backgroundcolor": "#E5ECF6",
            "gridcolor": "white",
            "gridwidth": 2,
            "linecolor": "white",
            "showbackground": true,
            "ticks": "",
            "zerolinecolor": "white"
           },
           "zaxis": {
            "backgroundcolor": "#E5ECF6",
            "gridcolor": "white",
            "gridwidth": 2,
            "linecolor": "white",
            "showbackground": true,
            "ticks": "",
            "zerolinecolor": "white"
           }
          },
          "shapedefaults": {
           "line": {
            "color": "#2a3f5f"
           }
          },
          "ternary": {
           "aaxis": {
            "gridcolor": "white",
            "linecolor": "white",
            "ticks": ""
           },
           "baxis": {
            "gridcolor": "white",
            "linecolor": "white",
            "ticks": ""
           },
           "bgcolor": "#E5ECF6",
           "caxis": {
            "gridcolor": "white",
            "linecolor": "white",
            "ticks": ""
           }
          },
          "title": {
           "x": 0.05
          },
          "xaxis": {
           "automargin": true,
           "gridcolor": "white",
           "linecolor": "white",
           "ticks": "",
           "title": {
            "standoff": 15
           },
           "zerolinecolor": "white",
           "zerolinewidth": 2
          },
          "yaxis": {
           "automargin": true,
           "gridcolor": "white",
           "linecolor": "white",
           "ticks": "",
           "title": {
            "standoff": 15
           },
           "zerolinecolor": "white",
           "zerolinewidth": 2
          }
         }
        },
        "title": {
         "text": "Anzahl der Viertelstunden mit erneuerbarer Energieerzeugung über oder gleich dem Verbrauch"
        },
        "xaxis": {
         "title": {
          "text": "Prozentsatz erneuerbarer Energie"
         }
        },
        "yaxis": {
         "title": {
          "text": "Anzahl der Viertelstunden"
         }
        }
       }
      }
     },
     "metadata": {},
     "output_type": "display_data"
    },
    {
     "name": "stdout",
     "output_type": "stream",
     "text": [
      "gut mit Lastprofile\n",
      "Faktor:  0.9406958527371434\n",
      "Bevor \n",
      "3168   11514.12\n",
      "3169   11309.52\n",
      "3170   11208.16\n",
      "3171   11074.11\n",
      "3172   11020.25\n",
      "         ...   \n",
      "3259   13679.60\n",
      "3260   13421.38\n",
      "3261   13224.07\n",
      "3262   12987.48\n",
      "3263   12842.14\n",
      "Name: Verbrauch [MWh], Length: 96, dtype: float64\n",
      "Nach \n",
      "3168   19741.32\n",
      "3169   19034.32\n",
      "3170   18948.96\n",
      "3171   18760.51\n",
      "3172   18757.85\n",
      "         ...   \n",
      "3259   13679.60\n",
      "3260   13421.38\n",
      "3261   26616.07\n",
      "3262   23390.68\n",
      "3263   21795.74\n",
      "Name: Verbrauch [MWh], Length: 96, dtype: float64\n"
     ]
    },
    {
     "data": {
      "application/vnd.plotly.v1+json": {
       "config": {
        "plotlyServerURL": "https://plot.ly"
       },
       "data": [
        {
         "fill": "tozeroy",
         "mode": "lines",
         "name": "Total Consumption",
         "type": "scatter",
         "x": [
          "00:00",
          "00:15",
          "00:30",
          "00:45",
          "01:00",
          "01:15",
          "01:30",
          "01:45",
          "02:00",
          "02:15",
          "02:30",
          "02:45",
          "03:00",
          "03:15",
          "03:30",
          "03:45",
          "04:00",
          "04:15",
          "04:30",
          "04:45",
          "05:00",
          "05:15",
          "05:30",
          "05:45",
          "06:00",
          "06:15",
          "06:30",
          "06:45",
          "07:00",
          "07:15",
          "07:30",
          "07:45",
          "08:00",
          "08:15",
          "08:30",
          "08:45",
          "09:00",
          "09:15",
          "09:30",
          "09:45",
          "10:00",
          "10:15",
          "10:30",
          "10:45",
          "11:00",
          "11:15",
          "11:30",
          "11:45",
          "12:00",
          "12:15",
          "12:30",
          "12:45",
          "13:00",
          "13:15",
          "13:30",
          "13:45",
          "14:00",
          "14:15",
          "14:30",
          "14:45",
          "15:00",
          "15:15",
          "15:30",
          "15:45",
          "16:00",
          "16:15",
          "16:30",
          "16:45",
          "17:00",
          "17:15",
          "17:30",
          "17:45",
          "18:00",
          "18:15",
          "18:30",
          "18:45",
          "19:00",
          "19:15",
          "19:30",
          "19:45",
          "20:00",
          "20:15",
          "20:30",
          "20:45",
          "21:00",
          "21:15",
          "21:30",
          "21:45",
          "22:00",
          "22:15",
          "22:30",
          "22:45",
          "23:00",
          "23:15",
          "23:30",
          "23:45"
         ],
         "y": [
          19741.317237502633,
          19034.315889532307,
          18948.95591139988,
          18760.506752384834,
          18757.851914815634,
          18590.845718940916,
          18654.43384451204,
          18616.646930917013,
          18385.499276536906,
          18290.128703948816,
          18230.042396341836,
          18313.561835286135,
          18483.255550743925,
          18369.416291529007,
          18458.907515037492,
          18404.62574200569,
          18568.425047350152,
          18593.942062342252,
          18704.54991951651,
          19036.93243453059,
          19281.65865466728,
          19627.187680082487,
          20084.506043044916,
          20461.843306960713,
          21212.787733395224,
          21730.061675909135,
          22245.115886819913,
          22697.68302747106,
          23177.765521814767,
          23432.282223477654,
          23607.503167056886,
          23993.66314518931,
          24654.6980738204,
          24906.21470748618,
          25124.469926381706,
          25510.34314758371,
          25885.9271879031,
          25748.05933192604,
          16724.39639185049,
          16749.089657984838,
          16872.320814693405,
          16938.40469834819,
          17023.302499057714,
          16994.611275549232,
          17034.590849290562,
          17138.30256705483,
          35326.58319610765,
          33328.84250025492,
          29778.70627098024,
          27547.743487569292,
          26743.81217419612,
          26006.652645387134,
          25573.601893069666,
          25392.00802094727,
          25191.79199326954,
          25196.813631504312,
          25048.65787461785,
          24907.20265572232,
          24636.655831991982,
          24313.38790801781,
          24424.405079674514,
          24225.994349224624,
          24010.76114989019,
          24151.459263928926,
          24021.84572820051,
          23700.323347983463,
          23610.37811755555,
          23357.840362975563,
          16624.917805423534,
          16851.390331970004,
          17074.805596995073,
          17266.472376990267,
          17258.94681016837,
          17218.026540574305,
          34098.15293804597,
          30891.736597039035,
          27800.7107375583,
          26301.236236383083,
          25235.63495640987,
          24955.628311211705,
          24597.038320349697,
          24311.58871201121,
          24386.655669341384,
          24053.575802941217,
          23818.3270252525,
          22915.23400445025,
          15026.675551623128,
          14730.826705937297,
          14583.37263102075,
          14313.863269211559,
          14013.546118225226,
          13679.59909050354,
          13421.378078927193,
          26616.067123815577,
          23390.682116852186,
          21795.744607604298
         ]
        },
        {
         "fill": "tozeroy",
         "mode": "lines",
         "name": "Total Renewable Production",
         "type": "scatter",
         "x": [
          "00:00",
          "00:15",
          "00:30",
          "00:45",
          "01:00",
          "01:15",
          "01:30",
          "01:45",
          "02:00",
          "02:15",
          "02:30",
          "02:45",
          "03:00",
          "03:15",
          "03:30",
          "03:45",
          "04:00",
          "04:15",
          "04:30",
          "04:45",
          "05:00",
          "05:15",
          "05:30",
          "05:45",
          "06:00",
          "06:15",
          "06:30",
          "06:45",
          "07:00",
          "07:15",
          "07:30",
          "07:45",
          "08:00",
          "08:15",
          "08:30",
          "08:45",
          "09:00",
          "09:15",
          "09:30",
          "09:45",
          "10:00",
          "10:15",
          "10:30",
          "10:45",
          "11:00",
          "11:15",
          "11:30",
          "11:45",
          "12:00",
          "12:15",
          "12:30",
          "12:45",
          "13:00",
          "13:15",
          "13:30",
          "13:45",
          "14:00",
          "14:15",
          "14:30",
          "14:45",
          "15:00",
          "15:15",
          "15:30",
          "15:45",
          "16:00",
          "16:15",
          "16:30",
          "16:45",
          "17:00",
          "17:15",
          "17:30",
          "17:45",
          "18:00",
          "18:15",
          "18:30",
          "18:45",
          "19:00",
          "19:15",
          "19:30",
          "19:45",
          "20:00",
          "20:15",
          "20:30",
          "20:45",
          "21:00",
          "21:15",
          "21:30",
          "21:45",
          "22:00",
          "22:15",
          "22:30",
          "22:45",
          "23:00",
          "23:15",
          "23:30",
          "23:45"
         ],
         "y": [
          13663.365882499998,
          13467.3166625,
          13552.3284725,
          13774.8006575,
          14149.2742325,
          14660.9963225,
          14789.761502499998,
          14749.0328825,
          14492.789434999999,
          14548.06555,
          14469.8580275,
          14625.078562499999,
          14839.101274999997,
          15213.271729999999,
          15527.69541,
          15865.009955,
          16278.57835,
          16608.671297499997,
          17105.5247275,
          17627.932675,
          17811.78031,
          18018.4481675,
          18233.10139,
          18420.365755,
          19282.3241475,
          19577.370185,
          19668.124839999997,
          19833.13393,
          19939.78701,
          20091.1417125,
          19977.367687324997,
          19820.489927725,
          19810.696888224997,
          19822.455438875,
          19949.55105385,
          20108.642718149997,
          20451.638925775,
          20809.988986425,
          21367.1592948,
          21911.245694225,
          22433.593892824996,
          23007.538693425,
          23604.734520375,
          24038.659381974998,
          24445.121751125,
          24585.329702999996,
          24868.7509706,
          25149.0435831,
          25426.980515425,
          25569.593244350002,
          25652.220467975,
          25606.050480375,
          25706.497851425,
          25558.55284525,
          25585.178685525,
          25443.331502574998,
          25284.475925774997,
          24904.447257525,
          24675.464969925,
          24321.17707105,
          24064.171997799996,
          23538.458050625,
          23283.892928,
          22721.48292155,
          22282.267294974998,
          21876.199310425,
          21445.087876325,
          21007.210257425002,
          20860.084260625,
          20772.036062324998,
          20642.7364825,
          20574.0406075,
          20476.769549999997,
          20587.6137675,
          20405.129549999998,
          20043.418652499997,
          19970.578035,
          19916.996014999997,
          19486.665795,
          19183.928115,
          18657.5542925,
          18056.4458675,
          17621.4830775,
          17009.9985025,
          16610.69984,
          16286.285235,
          15872.643264999999,
          15297.920445,
          14807.218995,
          14395.2882875,
          14223.84564,
          14078.1968225,
          13963.277465,
          14003.5123825,
          14189.1929175,
          14189.280775
         ]
        }
       ],
       "layout": {
        "showlegend": true,
        "template": {
         "data": {
          "bar": [
           {
            "error_x": {
             "color": "#2a3f5f"
            },
            "error_y": {
             "color": "#2a3f5f"
            },
            "marker": {
             "line": {
              "color": "#E5ECF6",
              "width": 0.5
             },
             "pattern": {
              "fillmode": "overlay",
              "size": 10,
              "solidity": 0.2
             }
            },
            "type": "bar"
           }
          ],
          "barpolar": [
           {
            "marker": {
             "line": {
              "color": "#E5ECF6",
              "width": 0.5
             },
             "pattern": {
              "fillmode": "overlay",
              "size": 10,
              "solidity": 0.2
             }
            },
            "type": "barpolar"
           }
          ],
          "carpet": [
           {
            "aaxis": {
             "endlinecolor": "#2a3f5f",
             "gridcolor": "white",
             "linecolor": "white",
             "minorgridcolor": "white",
             "startlinecolor": "#2a3f5f"
            },
            "baxis": {
             "endlinecolor": "#2a3f5f",
             "gridcolor": "white",
             "linecolor": "white",
             "minorgridcolor": "white",
             "startlinecolor": "#2a3f5f"
            },
            "type": "carpet"
           }
          ],
          "choropleth": [
           {
            "colorbar": {
             "outlinewidth": 0,
             "ticks": ""
            },
            "type": "choropleth"
           }
          ],
          "contour": [
           {
            "colorbar": {
             "outlinewidth": 0,
             "ticks": ""
            },
            "colorscale": [
             [
              0,
              "#0d0887"
             ],
             [
              0.1111111111111111,
              "#46039f"
             ],
             [
              0.2222222222222222,
              "#7201a8"
             ],
             [
              0.3333333333333333,
              "#9c179e"
             ],
             [
              0.4444444444444444,
              "#bd3786"
             ],
             [
              0.5555555555555556,
              "#d8576b"
             ],
             [
              0.6666666666666666,
              "#ed7953"
             ],
             [
              0.7777777777777778,
              "#fb9f3a"
             ],
             [
              0.8888888888888888,
              "#fdca26"
             ],
             [
              1,
              "#f0f921"
             ]
            ],
            "type": "contour"
           }
          ],
          "contourcarpet": [
           {
            "colorbar": {
             "outlinewidth": 0,
             "ticks": ""
            },
            "type": "contourcarpet"
           }
          ],
          "heatmap": [
           {
            "colorbar": {
             "outlinewidth": 0,
             "ticks": ""
            },
            "colorscale": [
             [
              0,
              "#0d0887"
             ],
             [
              0.1111111111111111,
              "#46039f"
             ],
             [
              0.2222222222222222,
              "#7201a8"
             ],
             [
              0.3333333333333333,
              "#9c179e"
             ],
             [
              0.4444444444444444,
              "#bd3786"
             ],
             [
              0.5555555555555556,
              "#d8576b"
             ],
             [
              0.6666666666666666,
              "#ed7953"
             ],
             [
              0.7777777777777778,
              "#fb9f3a"
             ],
             [
              0.8888888888888888,
              "#fdca26"
             ],
             [
              1,
              "#f0f921"
             ]
            ],
            "type": "heatmap"
           }
          ],
          "heatmapgl": [
           {
            "colorbar": {
             "outlinewidth": 0,
             "ticks": ""
            },
            "colorscale": [
             [
              0,
              "#0d0887"
             ],
             [
              0.1111111111111111,
              "#46039f"
             ],
             [
              0.2222222222222222,
              "#7201a8"
             ],
             [
              0.3333333333333333,
              "#9c179e"
             ],
             [
              0.4444444444444444,
              "#bd3786"
             ],
             [
              0.5555555555555556,
              "#d8576b"
             ],
             [
              0.6666666666666666,
              "#ed7953"
             ],
             [
              0.7777777777777778,
              "#fb9f3a"
             ],
             [
              0.8888888888888888,
              "#fdca26"
             ],
             [
              1,
              "#f0f921"
             ]
            ],
            "type": "heatmapgl"
           }
          ],
          "histogram": [
           {
            "marker": {
             "pattern": {
              "fillmode": "overlay",
              "size": 10,
              "solidity": 0.2
             }
            },
            "type": "histogram"
           }
          ],
          "histogram2d": [
           {
            "colorbar": {
             "outlinewidth": 0,
             "ticks": ""
            },
            "colorscale": [
             [
              0,
              "#0d0887"
             ],
             [
              0.1111111111111111,
              "#46039f"
             ],
             [
              0.2222222222222222,
              "#7201a8"
             ],
             [
              0.3333333333333333,
              "#9c179e"
             ],
             [
              0.4444444444444444,
              "#bd3786"
             ],
             [
              0.5555555555555556,
              "#d8576b"
             ],
             [
              0.6666666666666666,
              "#ed7953"
             ],
             [
              0.7777777777777778,
              "#fb9f3a"
             ],
             [
              0.8888888888888888,
              "#fdca26"
             ],
             [
              1,
              "#f0f921"
             ]
            ],
            "type": "histogram2d"
           }
          ],
          "histogram2dcontour": [
           {
            "colorbar": {
             "outlinewidth": 0,
             "ticks": ""
            },
            "colorscale": [
             [
              0,
              "#0d0887"
             ],
             [
              0.1111111111111111,
              "#46039f"
             ],
             [
              0.2222222222222222,
              "#7201a8"
             ],
             [
              0.3333333333333333,
              "#9c179e"
             ],
             [
              0.4444444444444444,
              "#bd3786"
             ],
             [
              0.5555555555555556,
              "#d8576b"
             ],
             [
              0.6666666666666666,
              "#ed7953"
             ],
             [
              0.7777777777777778,
              "#fb9f3a"
             ],
             [
              0.8888888888888888,
              "#fdca26"
             ],
             [
              1,
              "#f0f921"
             ]
            ],
            "type": "histogram2dcontour"
           }
          ],
          "mesh3d": [
           {
            "colorbar": {
             "outlinewidth": 0,
             "ticks": ""
            },
            "type": "mesh3d"
           }
          ],
          "parcoords": [
           {
            "line": {
             "colorbar": {
              "outlinewidth": 0,
              "ticks": ""
             }
            },
            "type": "parcoords"
           }
          ],
          "pie": [
           {
            "automargin": true,
            "type": "pie"
           }
          ],
          "scatter": [
           {
            "fillpattern": {
             "fillmode": "overlay",
             "size": 10,
             "solidity": 0.2
            },
            "type": "scatter"
           }
          ],
          "scatter3d": [
           {
            "line": {
             "colorbar": {
              "outlinewidth": 0,
              "ticks": ""
             }
            },
            "marker": {
             "colorbar": {
              "outlinewidth": 0,
              "ticks": ""
             }
            },
            "type": "scatter3d"
           }
          ],
          "scattercarpet": [
           {
            "marker": {
             "colorbar": {
              "outlinewidth": 0,
              "ticks": ""
             }
            },
            "type": "scattercarpet"
           }
          ],
          "scattergeo": [
           {
            "marker": {
             "colorbar": {
              "outlinewidth": 0,
              "ticks": ""
             }
            },
            "type": "scattergeo"
           }
          ],
          "scattergl": [
           {
            "marker": {
             "colorbar": {
              "outlinewidth": 0,
              "ticks": ""
             }
            },
            "type": "scattergl"
           }
          ],
          "scattermapbox": [
           {
            "marker": {
             "colorbar": {
              "outlinewidth": 0,
              "ticks": ""
             }
            },
            "type": "scattermapbox"
           }
          ],
          "scatterpolar": [
           {
            "marker": {
             "colorbar": {
              "outlinewidth": 0,
              "ticks": ""
             }
            },
            "type": "scatterpolar"
           }
          ],
          "scatterpolargl": [
           {
            "marker": {
             "colorbar": {
              "outlinewidth": 0,
              "ticks": ""
             }
            },
            "type": "scatterpolargl"
           }
          ],
          "scatterternary": [
           {
            "marker": {
             "colorbar": {
              "outlinewidth": 0,
              "ticks": ""
             }
            },
            "type": "scatterternary"
           }
          ],
          "surface": [
           {
            "colorbar": {
             "outlinewidth": 0,
             "ticks": ""
            },
            "colorscale": [
             [
              0,
              "#0d0887"
             ],
             [
              0.1111111111111111,
              "#46039f"
             ],
             [
              0.2222222222222222,
              "#7201a8"
             ],
             [
              0.3333333333333333,
              "#9c179e"
             ],
             [
              0.4444444444444444,
              "#bd3786"
             ],
             [
              0.5555555555555556,
              "#d8576b"
             ],
             [
              0.6666666666666666,
              "#ed7953"
             ],
             [
              0.7777777777777778,
              "#fb9f3a"
             ],
             [
              0.8888888888888888,
              "#fdca26"
             ],
             [
              1,
              "#f0f921"
             ]
            ],
            "type": "surface"
           }
          ],
          "table": [
           {
            "cells": {
             "fill": {
              "color": "#EBF0F8"
             },
             "line": {
              "color": "white"
             }
            },
            "header": {
             "fill": {
              "color": "#C8D4E3"
             },
             "line": {
              "color": "white"
             }
            },
            "type": "table"
           }
          ]
         },
         "layout": {
          "annotationdefaults": {
           "arrowcolor": "#2a3f5f",
           "arrowhead": 0,
           "arrowwidth": 1
          },
          "autotypenumbers": "strict",
          "coloraxis": {
           "colorbar": {
            "outlinewidth": 0,
            "ticks": ""
           }
          },
          "colorscale": {
           "diverging": [
            [
             0,
             "#8e0152"
            ],
            [
             0.1,
             "#c51b7d"
            ],
            [
             0.2,
             "#de77ae"
            ],
            [
             0.3,
             "#f1b6da"
            ],
            [
             0.4,
             "#fde0ef"
            ],
            [
             0.5,
             "#f7f7f7"
            ],
            [
             0.6,
             "#e6f5d0"
            ],
            [
             0.7,
             "#b8e186"
            ],
            [
             0.8,
             "#7fbc41"
            ],
            [
             0.9,
             "#4d9221"
            ],
            [
             1,
             "#276419"
            ]
           ],
           "sequential": [
            [
             0,
             "#0d0887"
            ],
            [
             0.1111111111111111,
             "#46039f"
            ],
            [
             0.2222222222222222,
             "#7201a8"
            ],
            [
             0.3333333333333333,
             "#9c179e"
            ],
            [
             0.4444444444444444,
             "#bd3786"
            ],
            [
             0.5555555555555556,
             "#d8576b"
            ],
            [
             0.6666666666666666,
             "#ed7953"
            ],
            [
             0.7777777777777778,
             "#fb9f3a"
            ],
            [
             0.8888888888888888,
             "#fdca26"
            ],
            [
             1,
             "#f0f921"
            ]
           ],
           "sequentialminus": [
            [
             0,
             "#0d0887"
            ],
            [
             0.1111111111111111,
             "#46039f"
            ],
            [
             0.2222222222222222,
             "#7201a8"
            ],
            [
             0.3333333333333333,
             "#9c179e"
            ],
            [
             0.4444444444444444,
             "#bd3786"
            ],
            [
             0.5555555555555556,
             "#d8576b"
            ],
            [
             0.6666666666666666,
             "#ed7953"
            ],
            [
             0.7777777777777778,
             "#fb9f3a"
            ],
            [
             0.8888888888888888,
             "#fdca26"
            ],
            [
             1,
             "#f0f921"
            ]
           ]
          },
          "colorway": [
           "#636efa",
           "#EF553B",
           "#00cc96",
           "#ab63fa",
           "#FFA15A",
           "#19d3f3",
           "#FF6692",
           "#B6E880",
           "#FF97FF",
           "#FECB52"
          ],
          "font": {
           "color": "#2a3f5f"
          },
          "geo": {
           "bgcolor": "white",
           "lakecolor": "white",
           "landcolor": "#E5ECF6",
           "showlakes": true,
           "showland": true,
           "subunitcolor": "white"
          },
          "hoverlabel": {
           "align": "left"
          },
          "hovermode": "closest",
          "mapbox": {
           "style": "light"
          },
          "paper_bgcolor": "white",
          "plot_bgcolor": "#E5ECF6",
          "polar": {
           "angularaxis": {
            "gridcolor": "white",
            "linecolor": "white",
            "ticks": ""
           },
           "bgcolor": "#E5ECF6",
           "radialaxis": {
            "gridcolor": "white",
            "linecolor": "white",
            "ticks": ""
           }
          },
          "scene": {
           "xaxis": {
            "backgroundcolor": "#E5ECF6",
            "gridcolor": "white",
            "gridwidth": 2,
            "linecolor": "white",
            "showbackground": true,
            "ticks": "",
            "zerolinecolor": "white"
           },
           "yaxis": {
            "backgroundcolor": "#E5ECF6",
            "gridcolor": "white",
            "gridwidth": 2,
            "linecolor": "white",
            "showbackground": true,
            "ticks": "",
            "zerolinecolor": "white"
           },
           "zaxis": {
            "backgroundcolor": "#E5ECF6",
            "gridcolor": "white",
            "gridwidth": 2,
            "linecolor": "white",
            "showbackground": true,
            "ticks": "",
            "zerolinecolor": "white"
           }
          },
          "shapedefaults": {
           "line": {
            "color": "#2a3f5f"
           }
          },
          "ternary": {
           "aaxis": {
            "gridcolor": "white",
            "linecolor": "white",
            "ticks": ""
           },
           "baxis": {
            "gridcolor": "white",
            "linecolor": "white",
            "ticks": ""
           },
           "bgcolor": "#E5ECF6",
           "caxis": {
            "gridcolor": "white",
            "linecolor": "white",
            "ticks": ""
           }
          },
          "title": {
           "x": 0.05
          },
          "xaxis": {
           "automargin": true,
           "gridcolor": "white",
           "linecolor": "white",
           "ticks": "",
           "title": {
            "standoff": 15
           },
           "zerolinecolor": "white",
           "zerolinewidth": 2
          },
          "yaxis": {
           "automargin": true,
           "gridcolor": "white",
           "linecolor": "white",
           "ticks": "",
           "title": {
            "standoff": 15
           },
           "zerolinecolor": "white",
           "zerolinewidth": 2
          }
         }
        },
        "title": {
         "text": "Energy Production and Consumption on 2030-02-03 00:00:00"
        },
        "xaxis": {
         "anchor": "y",
         "domain": [
          0,
          1
         ],
         "title": {
          "text": "Time (hours)"
         }
        },
        "yaxis": {
         "anchor": "x",
         "domain": [
          0,
          1
         ],
         "title": {
          "text": "Energy (MWh)"
         }
        }
       }
      }
     },
     "metadata": {},
     "output_type": "display_data"
    },
    {
     "data": {
      "application/vnd.plotly.v1+json": {
       "config": {
        "plotlyServerURL": "https://plot.ly"
       },
       "data": [
        {
         "type": "bar",
         "x": [
          0,
          1,
          2,
          3,
          4,
          5,
          6,
          7,
          8,
          9,
          10,
          11,
          12,
          13,
          14,
          15,
          16,
          17,
          18,
          19,
          20,
          21,
          22,
          23,
          24,
          25,
          26,
          27,
          28,
          29,
          30,
          31,
          32,
          33,
          34,
          35,
          36,
          37,
          38,
          39,
          40,
          41,
          42,
          43,
          44,
          45,
          46,
          47,
          48,
          49,
          50,
          51,
          52,
          53,
          54,
          55,
          56,
          57,
          58,
          59,
          60,
          61,
          62,
          63,
          64,
          65,
          66,
          67,
          68,
          69,
          70,
          71,
          72,
          73,
          74,
          75,
          76,
          77,
          78,
          79,
          80,
          81,
          82,
          83,
          84,
          85,
          86,
          87,
          88,
          89,
          90,
          91,
          92,
          93,
          94,
          95,
          96,
          97,
          98,
          99,
          100,
          101,
          102,
          103,
          104,
          105,
          106,
          107,
          108,
          109,
          110,
          111,
          112,
          113,
          114,
          115,
          116,
          117,
          118,
          119,
          120,
          121,
          122,
          123,
          124,
          125,
          126,
          127,
          128,
          129,
          130,
          131,
          132,
          133,
          134,
          135,
          136,
          137,
          138,
          139,
          140,
          141,
          142,
          143,
          144,
          145,
          146,
          147,
          148,
          149,
          150,
          151,
          152,
          153,
          154,
          155,
          156,
          157,
          158,
          159,
          160,
          161,
          162,
          163,
          164,
          165,
          166,
          167,
          168,
          169,
          170,
          171,
          172,
          173,
          174,
          175,
          176,
          177,
          178,
          179,
          180,
          181,
          182,
          183,
          184,
          185,
          186,
          187,
          188,
          189,
          190,
          191,
          192,
          193,
          194,
          195,
          196,
          197,
          198,
          199,
          200,
          201,
          202,
          203,
          204,
          205,
          206,
          207,
          208,
          209,
          210,
          211,
          212,
          213,
          214,
          215,
          216,
          217,
          218,
          219,
          220,
          221,
          222,
          223,
          224,
          225,
          226,
          227,
          228,
          229,
          230,
          231,
          232,
          233,
          234,
          235,
          236,
          237,
          238,
          239,
          240,
          241,
          242,
          243,
          244,
          245,
          246,
          247,
          248,
          249,
          250,
          251,
          252,
          253,
          254,
          255,
          256,
          257,
          258,
          259,
          260,
          261,
          262,
          263,
          264,
          265,
          266,
          267,
          268,
          269,
          270,
          271,
          272,
          273,
          274,
          275,
          276,
          277,
          278,
          279,
          280,
          281,
          282,
          283,
          284,
          285,
          286,
          287,
          288,
          289,
          290,
          291,
          292,
          293,
          294,
          295,
          296,
          297,
          298,
          299,
          300,
          301,
          302,
          303,
          304,
          305,
          306,
          307,
          308,
          309,
          310,
          311,
          312,
          313,
          314,
          315,
          316,
          317,
          318,
          319,
          320,
          321,
          322,
          323,
          324,
          325,
          326,
          327,
          328
         ],
         "y": [
          0,
          0,
          0,
          0,
          0,
          0,
          0,
          0,
          0,
          0,
          0,
          0,
          0,
          5,
          3,
          10,
          13,
          23,
          27,
          22,
          54,
          69,
          82,
          157,
          115,
          115,
          123,
          160,
          154,
          161,
          138,
          163,
          186,
          143,
          174,
          191,
          171,
          180,
          183,
          202,
          180,
          144,
          176,
          178,
          235,
          203,
          188,
          143,
          156,
          176,
          158,
          175,
          173,
          173,
          177,
          168,
          177,
          164,
          135,
          168,
          175,
          201,
          183,
          180,
          185,
          183,
          191,
          208,
          199,
          185,
          228,
          221,
          210,
          163,
          177,
          186,
          174,
          170,
          193,
          197,
          171,
          205,
          198,
          170,
          184,
          202,
          193,
          199,
          198,
          186,
          213,
          233,
          213,
          209,
          250,
          188,
          204,
          208,
          233,
          185,
          173,
          204,
          187,
          200,
          198,
          178,
          168,
          223,
          198,
          170,
          193,
          196,
          179,
          202,
          174,
          209,
          208,
          212,
          210,
          207,
          171,
          205,
          185,
          189,
          173,
          203,
          177,
          154,
          182,
          181,
          176,
          187,
          158,
          174,
          173,
          185,
          182,
          188,
          185,
          213,
          182,
          186,
          206,
          183,
          167,
          182,
          140,
          166,
          182,
          149,
          154,
          183,
          143,
          154,
          164,
          163,
          181,
          174,
          144,
          151,
          159,
          138,
          142,
          161,
          132,
          140,
          141,
          136,
          138,
          143,
          129,
          144,
          132,
          128,
          97,
          133,
          136,
          114,
          134,
          115,
          123,
          114,
          112,
          130,
          98,
          120,
          109,
          103,
          137,
          103,
          107,
          119,
          106,
          121,
          124,
          95,
          108,
          97,
          121,
          108,
          92,
          112,
          106,
          108,
          100,
          85,
          111,
          120,
          84,
          96,
          76,
          71,
          65,
          67,
          65,
          80,
          62,
          57,
          56,
          63,
          56,
          57,
          48,
          41,
          56,
          53,
          52,
          54,
          52,
          54,
          54,
          58,
          58,
          53,
          69,
          53,
          47,
          57,
          54,
          59,
          48,
          59,
          43,
          47,
          45,
          52,
          51,
          50,
          44,
          39,
          34,
          38,
          44,
          33,
          24,
          24,
          28,
          31,
          25,
          31,
          29,
          26,
          30,
          19,
          24,
          33,
          21,
          29,
          30,
          33,
          29,
          23,
          34,
          26,
          24,
          21,
          22,
          33,
          22,
          25,
          27,
          19,
          39,
          28,
          25,
          20,
          21,
          17,
          12,
          17,
          18,
          12,
          22,
          19,
          31,
          21,
          29,
          18,
          18,
          24,
          11,
          6,
          14,
          14,
          13,
          11,
          15,
          12,
          9,
          11,
          12,
          12,
          6,
          5,
          9,
          15,
          10,
          6,
          6,
          14,
          8,
          7,
          9,
          8,
          4,
          8,
          7,
          6,
          10
         ]
        }
       ],
       "layout": {
        "template": {
         "data": {
          "bar": [
           {
            "error_x": {
             "color": "#2a3f5f"
            },
            "error_y": {
             "color": "#2a3f5f"
            },
            "marker": {
             "line": {
              "color": "#E5ECF6",
              "width": 0.5
             },
             "pattern": {
              "fillmode": "overlay",
              "size": 10,
              "solidity": 0.2
             }
            },
            "type": "bar"
           }
          ],
          "barpolar": [
           {
            "marker": {
             "line": {
              "color": "#E5ECF6",
              "width": 0.5
             },
             "pattern": {
              "fillmode": "overlay",
              "size": 10,
              "solidity": 0.2
             }
            },
            "type": "barpolar"
           }
          ],
          "carpet": [
           {
            "aaxis": {
             "endlinecolor": "#2a3f5f",
             "gridcolor": "white",
             "linecolor": "white",
             "minorgridcolor": "white",
             "startlinecolor": "#2a3f5f"
            },
            "baxis": {
             "endlinecolor": "#2a3f5f",
             "gridcolor": "white",
             "linecolor": "white",
             "minorgridcolor": "white",
             "startlinecolor": "#2a3f5f"
            },
            "type": "carpet"
           }
          ],
          "choropleth": [
           {
            "colorbar": {
             "outlinewidth": 0,
             "ticks": ""
            },
            "type": "choropleth"
           }
          ],
          "contour": [
           {
            "colorbar": {
             "outlinewidth": 0,
             "ticks": ""
            },
            "colorscale": [
             [
              0,
              "#0d0887"
             ],
             [
              0.1111111111111111,
              "#46039f"
             ],
             [
              0.2222222222222222,
              "#7201a8"
             ],
             [
              0.3333333333333333,
              "#9c179e"
             ],
             [
              0.4444444444444444,
              "#bd3786"
             ],
             [
              0.5555555555555556,
              "#d8576b"
             ],
             [
              0.6666666666666666,
              "#ed7953"
             ],
             [
              0.7777777777777778,
              "#fb9f3a"
             ],
             [
              0.8888888888888888,
              "#fdca26"
             ],
             [
              1,
              "#f0f921"
             ]
            ],
            "type": "contour"
           }
          ],
          "contourcarpet": [
           {
            "colorbar": {
             "outlinewidth": 0,
             "ticks": ""
            },
            "type": "contourcarpet"
           }
          ],
          "heatmap": [
           {
            "colorbar": {
             "outlinewidth": 0,
             "ticks": ""
            },
            "colorscale": [
             [
              0,
              "#0d0887"
             ],
             [
              0.1111111111111111,
              "#46039f"
             ],
             [
              0.2222222222222222,
              "#7201a8"
             ],
             [
              0.3333333333333333,
              "#9c179e"
             ],
             [
              0.4444444444444444,
              "#bd3786"
             ],
             [
              0.5555555555555556,
              "#d8576b"
             ],
             [
              0.6666666666666666,
              "#ed7953"
             ],
             [
              0.7777777777777778,
              "#fb9f3a"
             ],
             [
              0.8888888888888888,
              "#fdca26"
             ],
             [
              1,
              "#f0f921"
             ]
            ],
            "type": "heatmap"
           }
          ],
          "heatmapgl": [
           {
            "colorbar": {
             "outlinewidth": 0,
             "ticks": ""
            },
            "colorscale": [
             [
              0,
              "#0d0887"
             ],
             [
              0.1111111111111111,
              "#46039f"
             ],
             [
              0.2222222222222222,
              "#7201a8"
             ],
             [
              0.3333333333333333,
              "#9c179e"
             ],
             [
              0.4444444444444444,
              "#bd3786"
             ],
             [
              0.5555555555555556,
              "#d8576b"
             ],
             [
              0.6666666666666666,
              "#ed7953"
             ],
             [
              0.7777777777777778,
              "#fb9f3a"
             ],
             [
              0.8888888888888888,
              "#fdca26"
             ],
             [
              1,
              "#f0f921"
             ]
            ],
            "type": "heatmapgl"
           }
          ],
          "histogram": [
           {
            "marker": {
             "pattern": {
              "fillmode": "overlay",
              "size": 10,
              "solidity": 0.2
             }
            },
            "type": "histogram"
           }
          ],
          "histogram2d": [
           {
            "colorbar": {
             "outlinewidth": 0,
             "ticks": ""
            },
            "colorscale": [
             [
              0,
              "#0d0887"
             ],
             [
              0.1111111111111111,
              "#46039f"
             ],
             [
              0.2222222222222222,
              "#7201a8"
             ],
             [
              0.3333333333333333,
              "#9c179e"
             ],
             [
              0.4444444444444444,
              "#bd3786"
             ],
             [
              0.5555555555555556,
              "#d8576b"
             ],
             [
              0.6666666666666666,
              "#ed7953"
             ],
             [
              0.7777777777777778,
              "#fb9f3a"
             ],
             [
              0.8888888888888888,
              "#fdca26"
             ],
             [
              1,
              "#f0f921"
             ]
            ],
            "type": "histogram2d"
           }
          ],
          "histogram2dcontour": [
           {
            "colorbar": {
             "outlinewidth": 0,
             "ticks": ""
            },
            "colorscale": [
             [
              0,
              "#0d0887"
             ],
             [
              0.1111111111111111,
              "#46039f"
             ],
             [
              0.2222222222222222,
              "#7201a8"
             ],
             [
              0.3333333333333333,
              "#9c179e"
             ],
             [
              0.4444444444444444,
              "#bd3786"
             ],
             [
              0.5555555555555556,
              "#d8576b"
             ],
             [
              0.6666666666666666,
              "#ed7953"
             ],
             [
              0.7777777777777778,
              "#fb9f3a"
             ],
             [
              0.8888888888888888,
              "#fdca26"
             ],
             [
              1,
              "#f0f921"
             ]
            ],
            "type": "histogram2dcontour"
           }
          ],
          "mesh3d": [
           {
            "colorbar": {
             "outlinewidth": 0,
             "ticks": ""
            },
            "type": "mesh3d"
           }
          ],
          "parcoords": [
           {
            "line": {
             "colorbar": {
              "outlinewidth": 0,
              "ticks": ""
             }
            },
            "type": "parcoords"
           }
          ],
          "pie": [
           {
            "automargin": true,
            "type": "pie"
           }
          ],
          "scatter": [
           {
            "fillpattern": {
             "fillmode": "overlay",
             "size": 10,
             "solidity": 0.2
            },
            "type": "scatter"
           }
          ],
          "scatter3d": [
           {
            "line": {
             "colorbar": {
              "outlinewidth": 0,
              "ticks": ""
             }
            },
            "marker": {
             "colorbar": {
              "outlinewidth": 0,
              "ticks": ""
             }
            },
            "type": "scatter3d"
           }
          ],
          "scattercarpet": [
           {
            "marker": {
             "colorbar": {
              "outlinewidth": 0,
              "ticks": ""
             }
            },
            "type": "scattercarpet"
           }
          ],
          "scattergeo": [
           {
            "marker": {
             "colorbar": {
              "outlinewidth": 0,
              "ticks": ""
             }
            },
            "type": "scattergeo"
           }
          ],
          "scattergl": [
           {
            "marker": {
             "colorbar": {
              "outlinewidth": 0,
              "ticks": ""
             }
            },
            "type": "scattergl"
           }
          ],
          "scattermapbox": [
           {
            "marker": {
             "colorbar": {
              "outlinewidth": 0,
              "ticks": ""
             }
            },
            "type": "scattermapbox"
           }
          ],
          "scatterpolar": [
           {
            "marker": {
             "colorbar": {
              "outlinewidth": 0,
              "ticks": ""
             }
            },
            "type": "scatterpolar"
           }
          ],
          "scatterpolargl": [
           {
            "marker": {
             "colorbar": {
              "outlinewidth": 0,
              "ticks": ""
             }
            },
            "type": "scatterpolargl"
           }
          ],
          "scatterternary": [
           {
            "marker": {
             "colorbar": {
              "outlinewidth": 0,
              "ticks": ""
             }
            },
            "type": "scatterternary"
           }
          ],
          "surface": [
           {
            "colorbar": {
             "outlinewidth": 0,
             "ticks": ""
            },
            "colorscale": [
             [
              0,
              "#0d0887"
             ],
             [
              0.1111111111111111,
              "#46039f"
             ],
             [
              0.2222222222222222,
              "#7201a8"
             ],
             [
              0.3333333333333333,
              "#9c179e"
             ],
             [
              0.4444444444444444,
              "#bd3786"
             ],
             [
              0.5555555555555556,
              "#d8576b"
             ],
             [
              0.6666666666666666,
              "#ed7953"
             ],
             [
              0.7777777777777778,
              "#fb9f3a"
             ],
             [
              0.8888888888888888,
              "#fdca26"
             ],
             [
              1,
              "#f0f921"
             ]
            ],
            "type": "surface"
           }
          ],
          "table": [
           {
            "cells": {
             "fill": {
              "color": "#EBF0F8"
             },
             "line": {
              "color": "white"
             }
            },
            "header": {
             "fill": {
              "color": "#C8D4E3"
             },
             "line": {
              "color": "white"
             }
            },
            "type": "table"
           }
          ]
         },
         "layout": {
          "annotationdefaults": {
           "arrowcolor": "#2a3f5f",
           "arrowhead": 0,
           "arrowwidth": 1
          },
          "autotypenumbers": "strict",
          "coloraxis": {
           "colorbar": {
            "outlinewidth": 0,
            "ticks": ""
           }
          },
          "colorscale": {
           "diverging": [
            [
             0,
             "#8e0152"
            ],
            [
             0.1,
             "#c51b7d"
            ],
            [
             0.2,
             "#de77ae"
            ],
            [
             0.3,
             "#f1b6da"
            ],
            [
             0.4,
             "#fde0ef"
            ],
            [
             0.5,
             "#f7f7f7"
            ],
            [
             0.6,
             "#e6f5d0"
            ],
            [
             0.7,
             "#b8e186"
            ],
            [
             0.8,
             "#7fbc41"
            ],
            [
             0.9,
             "#4d9221"
            ],
            [
             1,
             "#276419"
            ]
           ],
           "sequential": [
            [
             0,
             "#0d0887"
            ],
            [
             0.1111111111111111,
             "#46039f"
            ],
            [
             0.2222222222222222,
             "#7201a8"
            ],
            [
             0.3333333333333333,
             "#9c179e"
            ],
            [
             0.4444444444444444,
             "#bd3786"
            ],
            [
             0.5555555555555556,
             "#d8576b"
            ],
            [
             0.6666666666666666,
             "#ed7953"
            ],
            [
             0.7777777777777778,
             "#fb9f3a"
            ],
            [
             0.8888888888888888,
             "#fdca26"
            ],
            [
             1,
             "#f0f921"
            ]
           ],
           "sequentialminus": [
            [
             0,
             "#0d0887"
            ],
            [
             0.1111111111111111,
             "#46039f"
            ],
            [
             0.2222222222222222,
             "#7201a8"
            ],
            [
             0.3333333333333333,
             "#9c179e"
            ],
            [
             0.4444444444444444,
             "#bd3786"
            ],
            [
             0.5555555555555556,
             "#d8576b"
            ],
            [
             0.6666666666666666,
             "#ed7953"
            ],
            [
             0.7777777777777778,
             "#fb9f3a"
            ],
            [
             0.8888888888888888,
             "#fdca26"
            ],
            [
             1,
             "#f0f921"
            ]
           ]
          },
          "colorway": [
           "#636efa",
           "#EF553B",
           "#00cc96",
           "#ab63fa",
           "#FFA15A",
           "#19d3f3",
           "#FF6692",
           "#B6E880",
           "#FF97FF",
           "#FECB52"
          ],
          "font": {
           "color": "#2a3f5f"
          },
          "geo": {
           "bgcolor": "white",
           "lakecolor": "white",
           "landcolor": "#E5ECF6",
           "showlakes": true,
           "showland": true,
           "subunitcolor": "white"
          },
          "hoverlabel": {
           "align": "left"
          },
          "hovermode": "closest",
          "mapbox": {
           "style": "light"
          },
          "paper_bgcolor": "white",
          "plot_bgcolor": "#E5ECF6",
          "polar": {
           "angularaxis": {
            "gridcolor": "white",
            "linecolor": "white",
            "ticks": ""
           },
           "bgcolor": "#E5ECF6",
           "radialaxis": {
            "gridcolor": "white",
            "linecolor": "white",
            "ticks": ""
           }
          },
          "scene": {
           "xaxis": {
            "backgroundcolor": "#E5ECF6",
            "gridcolor": "white",
            "gridwidth": 2,
            "linecolor": "white",
            "showbackground": true,
            "ticks": "",
            "zerolinecolor": "white"
           },
           "yaxis": {
            "backgroundcolor": "#E5ECF6",
            "gridcolor": "white",
            "gridwidth": 2,
            "linecolor": "white",
            "showbackground": true,
            "ticks": "",
            "zerolinecolor": "white"
           },
           "zaxis": {
            "backgroundcolor": "#E5ECF6",
            "gridcolor": "white",
            "gridwidth": 2,
            "linecolor": "white",
            "showbackground": true,
            "ticks": "",
            "zerolinecolor": "white"
           }
          },
          "shapedefaults": {
           "line": {
            "color": "#2a3f5f"
           }
          },
          "ternary": {
           "aaxis": {
            "gridcolor": "white",
            "linecolor": "white",
            "ticks": ""
           },
           "baxis": {
            "gridcolor": "white",
            "linecolor": "white",
            "ticks": ""
           },
           "bgcolor": "#E5ECF6",
           "caxis": {
            "gridcolor": "white",
            "linecolor": "white",
            "ticks": ""
           }
          },
          "title": {
           "x": 0.05
          },
          "xaxis": {
           "automargin": true,
           "gridcolor": "white",
           "linecolor": "white",
           "ticks": "",
           "title": {
            "standoff": 15
           },
           "zerolinecolor": "white",
           "zerolinewidth": 2
          },
          "yaxis": {
           "automargin": true,
           "gridcolor": "white",
           "linecolor": "white",
           "ticks": "",
           "title": {
            "standoff": 15
           },
           "zerolinecolor": "white",
           "zerolinewidth": 2
          }
         }
        },
        "title": {
         "text": "Anzahl der Viertelstunden im Jahren 2030 mit 0-330 % EE-Anteil"
        },
        "xaxis": {
         "tickmode": "array",
         "ticktext": [
          "0%",
          "5%",
          "10%",
          "15%",
          "20%",
          "25%",
          "30%",
          "35%",
          "40%",
          "45%",
          "50%",
          "55%",
          "60%",
          "65%",
          "70%",
          "75%",
          "80%",
          "85%",
          "90%",
          "95%",
          "100%",
          "105%",
          "110%",
          "115%",
          "120%",
          "125%",
          "130%",
          "135%",
          "140%",
          "145%",
          "150%",
          "155%",
          "160%",
          "165%",
          "170%",
          "175%",
          "180%",
          "185%",
          "190%",
          "195%",
          "200%",
          "205%",
          "210%",
          "215%",
          "220%",
          "225%",
          "230%",
          "235%",
          "240%",
          "245%",
          "250%",
          "255%",
          "260%",
          "265%",
          "270%",
          "275%",
          "280%",
          "285%",
          "290%",
          "295%",
          "300%",
          "305%",
          "310%",
          "315%",
          "320%",
          "325%"
         ],
         "tickvals": [
          0,
          5,
          10,
          15,
          20,
          25,
          30,
          35,
          40,
          45,
          50,
          55,
          60,
          65,
          70,
          75,
          80,
          85,
          90,
          95,
          100,
          105,
          110,
          115,
          120,
          125,
          130,
          135,
          140,
          145,
          150,
          155,
          160,
          165,
          170,
          175,
          180,
          185,
          190,
          195,
          200,
          205,
          210,
          215,
          220,
          225,
          230,
          235,
          240,
          245,
          250,
          255,
          260,
          265,
          270,
          275,
          280,
          285,
          290,
          295,
          300,
          305,
          310,
          315,
          320,
          325
         ],
         "title": {
          "text": "Prozentsatz erneuerbarer Energie"
         }
        },
        "yaxis": {
         "title": {
          "text": "Anzahl der Viertelstunden"
         }
        }
       }
      }
     },
     "metadata": {},
     "output_type": "display_data"
    },
    {
     "data": {
      "application/vnd.plotly.v1+json": {
       "config": {
        "plotlyServerURL": "https://plot.ly"
       },
       "data": [
        {
         "type": "bar",
         "x": [
          0,
          1,
          2,
          3,
          4,
          5,
          6,
          7,
          8,
          9,
          10,
          11,
          12,
          13,
          14,
          15,
          16,
          17,
          18,
          19,
          20,
          21,
          22,
          23,
          24,
          25,
          26,
          27,
          28,
          29,
          30,
          31,
          32,
          33,
          34,
          35,
          36,
          37,
          38,
          39,
          40,
          41,
          42,
          43,
          44,
          45,
          46,
          47,
          48,
          49,
          50,
          51,
          52,
          53,
          54,
          55,
          56,
          57,
          58,
          59,
          60,
          61,
          62,
          63,
          64,
          65,
          66,
          67,
          68,
          69,
          70,
          71,
          72,
          73,
          74,
          75,
          76,
          77,
          78,
          79,
          80,
          81,
          82,
          83,
          84,
          85,
          86,
          87,
          88,
          89,
          90,
          91,
          92,
          93,
          94,
          95,
          96,
          97,
          98,
          99,
          100,
          101,
          102,
          103,
          104,
          105,
          106,
          107,
          108,
          109,
          110,
          111,
          112,
          113,
          114,
          115,
          116,
          117,
          118,
          119,
          120,
          121,
          122,
          123,
          124,
          125,
          126,
          127,
          128,
          129,
          130,
          131,
          132,
          133,
          134,
          135,
          136,
          137,
          138,
          139,
          140,
          141,
          142,
          143,
          144,
          145,
          146,
          147,
          148,
          149,
          150,
          151,
          152,
          153,
          154,
          155,
          156,
          157,
          158,
          159,
          160,
          161,
          162,
          163,
          164,
          165,
          166,
          167,
          168,
          169,
          170,
          171,
          172,
          173,
          174,
          175,
          176,
          177,
          178,
          179,
          180,
          181,
          182,
          183,
          184,
          185,
          186,
          187,
          188,
          189,
          190,
          191,
          192,
          193,
          194,
          195,
          196,
          197,
          198,
          199,
          200,
          201,
          202,
          203,
          204,
          205,
          206,
          207,
          208,
          209,
          210,
          211,
          212,
          213,
          214,
          215,
          216,
          217,
          218,
          219,
          220,
          221,
          222,
          223,
          224,
          225,
          226,
          227,
          228,
          229,
          230,
          231,
          232,
          233,
          234,
          235,
          236,
          237,
          238,
          239,
          240,
          241,
          242,
          243,
          244,
          245,
          246,
          247,
          248,
          249,
          250,
          251,
          252,
          253,
          254,
          255,
          256,
          257,
          258,
          259,
          260,
          261,
          262,
          263,
          264,
          265,
          266,
          267,
          268,
          269,
          270,
          271,
          272,
          273,
          274,
          275,
          276,
          277,
          278,
          279,
          280,
          281,
          282,
          283,
          284,
          285,
          286,
          287,
          288,
          289,
          290,
          291,
          292,
          293,
          294,
          295,
          296,
          297,
          298,
          299,
          300
         ],
         "y": [
          35136,
          35136,
          35136,
          35136,
          35136,
          35136,
          35136,
          35136,
          35136,
          35136,
          35136,
          35136,
          35136,
          35136,
          35131,
          35128,
          35118,
          35105,
          35082,
          35055,
          35033,
          34979,
          34910,
          34828,
          34671,
          34556,
          34441,
          34318,
          34158,
          34004,
          33843,
          33705,
          33542,
          33356,
          33213,
          33039,
          32848,
          32677,
          32497,
          32314,
          32112,
          31932,
          31788,
          31612,
          31434,
          31199,
          30996,
          30808,
          30665,
          30509,
          30333,
          30175,
          30000,
          29827,
          29654,
          29477,
          29309,
          29132,
          28968,
          28833,
          28665,
          28490,
          28289,
          28106,
          27926,
          27741,
          27558,
          27367,
          27159,
          26960,
          26775,
          26547,
          26326,
          26116,
          25953,
          25776,
          25590,
          25416,
          25246,
          25053,
          24856,
          24685,
          24480,
          24282,
          24112,
          23928,
          23726,
          23533,
          23334,
          23136,
          22950,
          22737,
          22504,
          22291,
          22082,
          21832,
          21644,
          21440,
          21232,
          20999,
          20814,
          20641,
          20437,
          20250,
          20050,
          19852,
          19674,
          19506,
          19283,
          19085,
          18915,
          18722,
          18526,
          18347,
          18145,
          17971,
          17762,
          17554,
          17342,
          17132,
          16925,
          16754,
          16549,
          16364,
          16175,
          16002,
          15799,
          15622,
          15468,
          15286,
          15105,
          14929,
          14742,
          14584,
          14410,
          14237,
          14052,
          13870,
          13682,
          13497,
          13284,
          13102,
          12916,
          12710,
          12527,
          12360,
          12178,
          12038,
          11872,
          11690,
          11541,
          11387,
          11204,
          11061,
          10907,
          10743,
          10580,
          10399,
          10225,
          10081,
          9930,
          9771,
          9633,
          9491,
          9330,
          9198,
          9058,
          8917,
          8781,
          8643,
          8500,
          8371,
          8227,
          8095,
          7967,
          7870,
          7737,
          7601,
          7487,
          7353,
          7238,
          7115,
          7001,
          6889,
          6759,
          6661,
          6541,
          6432,
          6329,
          6192,
          6089,
          5982,
          5863,
          5757,
          5636,
          5512,
          5417,
          5309,
          5212,
          5091,
          4983,
          4891,
          4779,
          4673,
          4565,
          4465,
          4380,
          4269,
          4149,
          4065,
          3969,
          3893,
          3822,
          3757,
          3690,
          3625,
          3545,
          3483,
          3426,
          3370,
          3307,
          3251,
          3194,
          3146,
          3105,
          3049,
          2996,
          2944,
          2890,
          2838,
          2784,
          2730,
          2672,
          2614,
          2561,
          2492,
          2439,
          2392,
          2335,
          2281,
          2222,
          2174,
          2115,
          2072,
          2025,
          1980,
          1928,
          1877,
          1827,
          1783,
          1744,
          1710,
          1672,
          1628,
          1595,
          1571,
          1547,
          1519,
          1488,
          1463,
          1432,
          1403,
          1377,
          1347,
          1328,
          1304,
          1271,
          1250,
          1221,
          1191,
          1158,
          1129,
          1106,
          1072,
          1046,
          1022,
          1001,
          979,
          946,
          924,
          899,
          872,
          853,
          814,
          786,
          761,
          741,
          720,
          703,
          691,
          674,
          656,
          644,
          622,
          603,
          572,
          551,
          522,
          504,
          486,
          462
         ]
        }
       ],
       "layout": {
        "template": {
         "data": {
          "bar": [
           {
            "error_x": {
             "color": "#2a3f5f"
            },
            "error_y": {
             "color": "#2a3f5f"
            },
            "marker": {
             "line": {
              "color": "#E5ECF6",
              "width": 0.5
             },
             "pattern": {
              "fillmode": "overlay",
              "size": 10,
              "solidity": 0.2
             }
            },
            "type": "bar"
           }
          ],
          "barpolar": [
           {
            "marker": {
             "line": {
              "color": "#E5ECF6",
              "width": 0.5
             },
             "pattern": {
              "fillmode": "overlay",
              "size": 10,
              "solidity": 0.2
             }
            },
            "type": "barpolar"
           }
          ],
          "carpet": [
           {
            "aaxis": {
             "endlinecolor": "#2a3f5f",
             "gridcolor": "white",
             "linecolor": "white",
             "minorgridcolor": "white",
             "startlinecolor": "#2a3f5f"
            },
            "baxis": {
             "endlinecolor": "#2a3f5f",
             "gridcolor": "white",
             "linecolor": "white",
             "minorgridcolor": "white",
             "startlinecolor": "#2a3f5f"
            },
            "type": "carpet"
           }
          ],
          "choropleth": [
           {
            "colorbar": {
             "outlinewidth": 0,
             "ticks": ""
            },
            "type": "choropleth"
           }
          ],
          "contour": [
           {
            "colorbar": {
             "outlinewidth": 0,
             "ticks": ""
            },
            "colorscale": [
             [
              0,
              "#0d0887"
             ],
             [
              0.1111111111111111,
              "#46039f"
             ],
             [
              0.2222222222222222,
              "#7201a8"
             ],
             [
              0.3333333333333333,
              "#9c179e"
             ],
             [
              0.4444444444444444,
              "#bd3786"
             ],
             [
              0.5555555555555556,
              "#d8576b"
             ],
             [
              0.6666666666666666,
              "#ed7953"
             ],
             [
              0.7777777777777778,
              "#fb9f3a"
             ],
             [
              0.8888888888888888,
              "#fdca26"
             ],
             [
              1,
              "#f0f921"
             ]
            ],
            "type": "contour"
           }
          ],
          "contourcarpet": [
           {
            "colorbar": {
             "outlinewidth": 0,
             "ticks": ""
            },
            "type": "contourcarpet"
           }
          ],
          "heatmap": [
           {
            "colorbar": {
             "outlinewidth": 0,
             "ticks": ""
            },
            "colorscale": [
             [
              0,
              "#0d0887"
             ],
             [
              0.1111111111111111,
              "#46039f"
             ],
             [
              0.2222222222222222,
              "#7201a8"
             ],
             [
              0.3333333333333333,
              "#9c179e"
             ],
             [
              0.4444444444444444,
              "#bd3786"
             ],
             [
              0.5555555555555556,
              "#d8576b"
             ],
             [
              0.6666666666666666,
              "#ed7953"
             ],
             [
              0.7777777777777778,
              "#fb9f3a"
             ],
             [
              0.8888888888888888,
              "#fdca26"
             ],
             [
              1,
              "#f0f921"
             ]
            ],
            "type": "heatmap"
           }
          ],
          "heatmapgl": [
           {
            "colorbar": {
             "outlinewidth": 0,
             "ticks": ""
            },
            "colorscale": [
             [
              0,
              "#0d0887"
             ],
             [
              0.1111111111111111,
              "#46039f"
             ],
             [
              0.2222222222222222,
              "#7201a8"
             ],
             [
              0.3333333333333333,
              "#9c179e"
             ],
             [
              0.4444444444444444,
              "#bd3786"
             ],
             [
              0.5555555555555556,
              "#d8576b"
             ],
             [
              0.6666666666666666,
              "#ed7953"
             ],
             [
              0.7777777777777778,
              "#fb9f3a"
             ],
             [
              0.8888888888888888,
              "#fdca26"
             ],
             [
              1,
              "#f0f921"
             ]
            ],
            "type": "heatmapgl"
           }
          ],
          "histogram": [
           {
            "marker": {
             "pattern": {
              "fillmode": "overlay",
              "size": 10,
              "solidity": 0.2
             }
            },
            "type": "histogram"
           }
          ],
          "histogram2d": [
           {
            "colorbar": {
             "outlinewidth": 0,
             "ticks": ""
            },
            "colorscale": [
             [
              0,
              "#0d0887"
             ],
             [
              0.1111111111111111,
              "#46039f"
             ],
             [
              0.2222222222222222,
              "#7201a8"
             ],
             [
              0.3333333333333333,
              "#9c179e"
             ],
             [
              0.4444444444444444,
              "#bd3786"
             ],
             [
              0.5555555555555556,
              "#d8576b"
             ],
             [
              0.6666666666666666,
              "#ed7953"
             ],
             [
              0.7777777777777778,
              "#fb9f3a"
             ],
             [
              0.8888888888888888,
              "#fdca26"
             ],
             [
              1,
              "#f0f921"
             ]
            ],
            "type": "histogram2d"
           }
          ],
          "histogram2dcontour": [
           {
            "colorbar": {
             "outlinewidth": 0,
             "ticks": ""
            },
            "colorscale": [
             [
              0,
              "#0d0887"
             ],
             [
              0.1111111111111111,
              "#46039f"
             ],
             [
              0.2222222222222222,
              "#7201a8"
             ],
             [
              0.3333333333333333,
              "#9c179e"
             ],
             [
              0.4444444444444444,
              "#bd3786"
             ],
             [
              0.5555555555555556,
              "#d8576b"
             ],
             [
              0.6666666666666666,
              "#ed7953"
             ],
             [
              0.7777777777777778,
              "#fb9f3a"
             ],
             [
              0.8888888888888888,
              "#fdca26"
             ],
             [
              1,
              "#f0f921"
             ]
            ],
            "type": "histogram2dcontour"
           }
          ],
          "mesh3d": [
           {
            "colorbar": {
             "outlinewidth": 0,
             "ticks": ""
            },
            "type": "mesh3d"
           }
          ],
          "parcoords": [
           {
            "line": {
             "colorbar": {
              "outlinewidth": 0,
              "ticks": ""
             }
            },
            "type": "parcoords"
           }
          ],
          "pie": [
           {
            "automargin": true,
            "type": "pie"
           }
          ],
          "scatter": [
           {
            "fillpattern": {
             "fillmode": "overlay",
             "size": 10,
             "solidity": 0.2
            },
            "type": "scatter"
           }
          ],
          "scatter3d": [
           {
            "line": {
             "colorbar": {
              "outlinewidth": 0,
              "ticks": ""
             }
            },
            "marker": {
             "colorbar": {
              "outlinewidth": 0,
              "ticks": ""
             }
            },
            "type": "scatter3d"
           }
          ],
          "scattercarpet": [
           {
            "marker": {
             "colorbar": {
              "outlinewidth": 0,
              "ticks": ""
             }
            },
            "type": "scattercarpet"
           }
          ],
          "scattergeo": [
           {
            "marker": {
             "colorbar": {
              "outlinewidth": 0,
              "ticks": ""
             }
            },
            "type": "scattergeo"
           }
          ],
          "scattergl": [
           {
            "marker": {
             "colorbar": {
              "outlinewidth": 0,
              "ticks": ""
             }
            },
            "type": "scattergl"
           }
          ],
          "scattermapbox": [
           {
            "marker": {
             "colorbar": {
              "outlinewidth": 0,
              "ticks": ""
             }
            },
            "type": "scattermapbox"
           }
          ],
          "scatterpolar": [
           {
            "marker": {
             "colorbar": {
              "outlinewidth": 0,
              "ticks": ""
             }
            },
            "type": "scatterpolar"
           }
          ],
          "scatterpolargl": [
           {
            "marker": {
             "colorbar": {
              "outlinewidth": 0,
              "ticks": ""
             }
            },
            "type": "scatterpolargl"
           }
          ],
          "scatterternary": [
           {
            "marker": {
             "colorbar": {
              "outlinewidth": 0,
              "ticks": ""
             }
            },
            "type": "scatterternary"
           }
          ],
          "surface": [
           {
            "colorbar": {
             "outlinewidth": 0,
             "ticks": ""
            },
            "colorscale": [
             [
              0,
              "#0d0887"
             ],
             [
              0.1111111111111111,
              "#46039f"
             ],
             [
              0.2222222222222222,
              "#7201a8"
             ],
             [
              0.3333333333333333,
              "#9c179e"
             ],
             [
              0.4444444444444444,
              "#bd3786"
             ],
             [
              0.5555555555555556,
              "#d8576b"
             ],
             [
              0.6666666666666666,
              "#ed7953"
             ],
             [
              0.7777777777777778,
              "#fb9f3a"
             ],
             [
              0.8888888888888888,
              "#fdca26"
             ],
             [
              1,
              "#f0f921"
             ]
            ],
            "type": "surface"
           }
          ],
          "table": [
           {
            "cells": {
             "fill": {
              "color": "#EBF0F8"
             },
             "line": {
              "color": "white"
             }
            },
            "header": {
             "fill": {
              "color": "#C8D4E3"
             },
             "line": {
              "color": "white"
             }
            },
            "type": "table"
           }
          ]
         },
         "layout": {
          "annotationdefaults": {
           "arrowcolor": "#2a3f5f",
           "arrowhead": 0,
           "arrowwidth": 1
          },
          "autotypenumbers": "strict",
          "coloraxis": {
           "colorbar": {
            "outlinewidth": 0,
            "ticks": ""
           }
          },
          "colorscale": {
           "diverging": [
            [
             0,
             "#8e0152"
            ],
            [
             0.1,
             "#c51b7d"
            ],
            [
             0.2,
             "#de77ae"
            ],
            [
             0.3,
             "#f1b6da"
            ],
            [
             0.4,
             "#fde0ef"
            ],
            [
             0.5,
             "#f7f7f7"
            ],
            [
             0.6,
             "#e6f5d0"
            ],
            [
             0.7,
             "#b8e186"
            ],
            [
             0.8,
             "#7fbc41"
            ],
            [
             0.9,
             "#4d9221"
            ],
            [
             1,
             "#276419"
            ]
           ],
           "sequential": [
            [
             0,
             "#0d0887"
            ],
            [
             0.1111111111111111,
             "#46039f"
            ],
            [
             0.2222222222222222,
             "#7201a8"
            ],
            [
             0.3333333333333333,
             "#9c179e"
            ],
            [
             0.4444444444444444,
             "#bd3786"
            ],
            [
             0.5555555555555556,
             "#d8576b"
            ],
            [
             0.6666666666666666,
             "#ed7953"
            ],
            [
             0.7777777777777778,
             "#fb9f3a"
            ],
            [
             0.8888888888888888,
             "#fdca26"
            ],
            [
             1,
             "#f0f921"
            ]
           ],
           "sequentialminus": [
            [
             0,
             "#0d0887"
            ],
            [
             0.1111111111111111,
             "#46039f"
            ],
            [
             0.2222222222222222,
             "#7201a8"
            ],
            [
             0.3333333333333333,
             "#9c179e"
            ],
            [
             0.4444444444444444,
             "#bd3786"
            ],
            [
             0.5555555555555556,
             "#d8576b"
            ],
            [
             0.6666666666666666,
             "#ed7953"
            ],
            [
             0.7777777777777778,
             "#fb9f3a"
            ],
            [
             0.8888888888888888,
             "#fdca26"
            ],
            [
             1,
             "#f0f921"
            ]
           ]
          },
          "colorway": [
           "#636efa",
           "#EF553B",
           "#00cc96",
           "#ab63fa",
           "#FFA15A",
           "#19d3f3",
           "#FF6692",
           "#B6E880",
           "#FF97FF",
           "#FECB52"
          ],
          "font": {
           "color": "#2a3f5f"
          },
          "geo": {
           "bgcolor": "white",
           "lakecolor": "white",
           "landcolor": "#E5ECF6",
           "showlakes": true,
           "showland": true,
           "subunitcolor": "white"
          },
          "hoverlabel": {
           "align": "left"
          },
          "hovermode": "closest",
          "mapbox": {
           "style": "light"
          },
          "paper_bgcolor": "white",
          "plot_bgcolor": "#E5ECF6",
          "polar": {
           "angularaxis": {
            "gridcolor": "white",
            "linecolor": "white",
            "ticks": ""
           },
           "bgcolor": "#E5ECF6",
           "radialaxis": {
            "gridcolor": "white",
            "linecolor": "white",
            "ticks": ""
           }
          },
          "scene": {
           "xaxis": {
            "backgroundcolor": "#E5ECF6",
            "gridcolor": "white",
            "gridwidth": 2,
            "linecolor": "white",
            "showbackground": true,
            "ticks": "",
            "zerolinecolor": "white"
           },
           "yaxis": {
            "backgroundcolor": "#E5ECF6",
            "gridcolor": "white",
            "gridwidth": 2,
            "linecolor": "white",
            "showbackground": true,
            "ticks": "",
            "zerolinecolor": "white"
           },
           "zaxis": {
            "backgroundcolor": "#E5ECF6",
            "gridcolor": "white",
            "gridwidth": 2,
            "linecolor": "white",
            "showbackground": true,
            "ticks": "",
            "zerolinecolor": "white"
           }
          },
          "shapedefaults": {
           "line": {
            "color": "#2a3f5f"
           }
          },
          "ternary": {
           "aaxis": {
            "gridcolor": "white",
            "linecolor": "white",
            "ticks": ""
           },
           "baxis": {
            "gridcolor": "white",
            "linecolor": "white",
            "ticks": ""
           },
           "bgcolor": "#E5ECF6",
           "caxis": {
            "gridcolor": "white",
            "linecolor": "white",
            "ticks": ""
           }
          },
          "title": {
           "x": 0.05
          },
          "xaxis": {
           "automargin": true,
           "gridcolor": "white",
           "linecolor": "white",
           "ticks": "",
           "title": {
            "standoff": 15
           },
           "zerolinecolor": "white",
           "zerolinewidth": 2
          },
          "yaxis": {
           "automargin": true,
           "gridcolor": "white",
           "linecolor": "white",
           "ticks": "",
           "title": {
            "standoff": 15
           },
           "zerolinecolor": "white",
           "zerolinewidth": 2
          }
         }
        },
        "title": {
         "text": "Anzahl der Viertelstunden mit erneuerbarer Energieerzeugung über oder gleich dem Verbrauch"
        },
        "xaxis": {
         "title": {
          "text": "Prozentsatz erneuerbarer Energie"
         }
        },
        "yaxis": {
         "title": {
          "text": "Anzahl der Viertelstunden"
         }
        }
       }
      }
     },
     "metadata": {},
     "output_type": "display_data"
    },
    {
     "name": "stdout",
     "output_type": "stream",
     "text": [
      "schlecht\n",
      "MITTEL\n",
      "Verbr df:             Datum Anfang   Ende Gesamt (Netzlast) [MWh] Originalauflösungen  \\\n",
      "0      01.01.2020  00:00  00:15                                   10.964,25   \n",
      "1      01.01.2020  00:15  00:30                                    10.908,5   \n",
      "2      01.01.2020  00:30  00:45                                      10.833   \n",
      "3      01.01.2020  00:45  01:00                                   10.788,25   \n",
      "4      01.01.2020  01:00  01:15                                      10.756   \n",
      "...           ...    ...    ...                                         ...   \n",
      "35131  31.12.2020  22:45  23:00                                      11.637   \n",
      "35132  31.12.2020  23:00  23:15                                    11.485,5   \n",
      "35133  31.12.2020  23:15  23:30                                    11.371,5   \n",
      "35134  31.12.2020  23:30  23:45                                    11.248,5   \n",
      "35135  31.12.2020  23:45  00:00                                   11.129,75   \n",
      "\n",
      "      Residuallast [MWh] Originalauflösungen  \\\n",
      "0                                   9.362,75   \n",
      "1                                   9.311,75   \n",
      "2                                    9.170,5   \n",
      "3                                      9.065   \n",
      "4                                    9.012,5   \n",
      "...                                      ...   \n",
      "35131                                 10.271   \n",
      "35132                              10.160,25   \n",
      "35133                                 10.087   \n",
      "35134                               10.012,5   \n",
      "35135                                  9.950   \n",
      "\n",
      "      Pumpspeicher [MWh] Originalauflösungen       Date           Starttime  \\\n",
      "0                                      48,75 2020-01-01 1900-01-01 00:00:00   \n",
      "1                                      65,25 2020-01-01 1900-01-01 00:15:00   \n",
      "2                                         96 2020-01-01 1900-01-01 00:30:00   \n",
      "3                                     124,75 2020-01-01 1900-01-01 00:45:00   \n",
      "4                                      94,75 2020-01-01 1900-01-01 01:00:00   \n",
      "...                                      ...        ...                 ...   \n",
      "35131                                   43,5 2020-12-31 1900-01-01 22:45:00   \n",
      "35132                                 144,25 2020-12-31 1900-01-01 23:00:00   \n",
      "35133                                 144,25 2020-12-31 1900-01-01 23:15:00   \n",
      "35134                                     48 2020-12-31 1900-01-01 23:30:00   \n",
      "35135                                 121,25 2020-12-31 1900-01-01 23:45:00   \n",
      "\n",
      "       Consumption  \n",
      "0         10964.25  \n",
      "1         10908.50  \n",
      "2         10833.00  \n",
      "3         10788.25  \n",
      "4         10756.00  \n",
      "...            ...  \n",
      "35131     11637.00  \n",
      "35132     11485.50  \n",
      "35133     11371.50  \n",
      "35134     11248.50  \n",
      "35135     11129.75  \n",
      "\n",
      "[35136 rows x 9 columns]\n",
      "Faktor:  0.9714013719548276\n",
      "Verbrauch 2030: 471411.76448496286 TWhhusp\n",
      "\n",
      "Consumption 2022: 485290.40425 TWh\n",
      "\n"
     ]
    },
    {
     "data": {
      "application/vnd.plotly.v1+json": {
       "config": {
        "plotlyServerURL": "https://plot.ly"
       },
       "data": [
        {
         "fill": "tozeroy",
         "mode": "lines",
         "name": "Total Consumption",
         "type": "scatter",
         "x": [
          "00:00",
          "00:15",
          "00:30",
          "00:45",
          "01:00",
          "01:15",
          "01:30",
          "01:45",
          "02:00",
          "02:15",
          "02:30",
          "02:45",
          "03:00",
          "03:15",
          "03:30",
          "03:45",
          "04:00",
          "04:15",
          "04:30",
          "04:45",
          "05:00",
          "05:15",
          "05:30",
          "05:45",
          "06:00",
          "06:15",
          "06:30",
          "06:45",
          "07:00",
          "07:15",
          "07:30",
          "07:45",
          "08:00",
          "08:15",
          "08:30",
          "08:45",
          "09:00",
          "09:15",
          "09:30",
          "09:45",
          "10:00",
          "10:15",
          "10:30",
          "10:45",
          "11:00",
          "11:15",
          "11:30",
          "11:45",
          "12:00",
          "12:15",
          "12:30",
          "12:45",
          "13:00",
          "13:15",
          "13:30",
          "13:45",
          "14:00",
          "14:15",
          "14:30",
          "14:45",
          "15:00",
          "15:15",
          "15:30",
          "15:45",
          "16:00",
          "16:15",
          "16:30",
          "16:45",
          "17:00",
          "17:15",
          "17:30",
          "17:45",
          "18:00",
          "18:15",
          "18:30",
          "18:45",
          "19:00",
          "19:15",
          "19:30",
          "19:45",
          "20:00",
          "20:15",
          "20:30",
          "20:45",
          "21:00",
          "21:15",
          "21:30",
          "21:45",
          "22:00",
          "22:15",
          "22:30",
          "22:45",
          "23:00",
          "23:15",
          "23:30",
          "23:45"
         ],
         "y": [
          11889.95279272709,
          11678.672994326915,
          11574.004496498781,
          11435.57980099522,
          11379.967072450805,
          11273.59862222175,
          11250.042138951847,
          11247.370785178971,
          11236.685370087467,
          11200.986369668128,
          11185.201097373862,
          11205.357675841924,
          11301.283561322463,
          11309.297622641092,
          11338.925364485713,
          11385.309779996556,
          11600.718034227539,
          11673.330286781164,
          11823.89749943416,
          12001.906800844883,
          12436.36606445168,
          12770.042435718164,
          13053.934486671962,
          13489.85085233669,
          14291.742684885401,
          14855.641181305178,
          15245.415981802053,
          15716.059946514166,
          16215.11740135596,
          16454.810689885813,
          16602.706548765935,
          16707.37504659407,
          16993.452750634766,
          17114.39222144314,
          17121.6777317328,
          17140.134357799943,
          17124.834786191655,
          17190.647229141596,
          17270.30214164189,
          17295.801427655704,
          17423.055007381787,
          17491.295953761615,
          17578.96492758054,
          17549.337185735916,
          17590.621744043994,
          17697.718745302016,
          17796.31598455543,
          17795.344583183476,
          17737.78905189515,
          17733.90344640733,
          17690.190384669364,
          17655.948486307956,
          17592.078846101926,
          17579.693478609504,
          17445.640089279736,
          17378.127693928876,
          17502.709919882083,
          17495.424409592422,
          17506.83837571289,
          17453.897000941353,
          17442.96873550686,
          17274.4305974727,
          17151.305473577424,
          17071.89341142012,
          17004.13816572627,
          16847.256844155563,
          16784.1157549785,
          16919.869096709186,
          17167.57644655767,
          17401.44132685579,
          17632.149152695063,
          17830.07218223086,
          17822.300971255223,
          17780.045011575185,
          17809.915603762798,
          17842.943250409262,
          17681.204921978784,
          17570.222315232942,
          17477.696334554246,
          17300.901284858468,
          16923.997552539993,
          16715.146257569708,
          16508.480615686316,
          16313.228939923396,
          16126.477026165081,
          15815.14288645356,
          15517.165515606415,
          15211.659784126623,
          15059.392619072703,
          14781.086126007645,
          14470.966238011066,
          14126.118750967102,
          13859.469074365503,
          13655.717636597978,
          13411.410191551338,
          13261.328679584318
         ]
        },
        {
         "fill": "tozeroy",
         "mode": "lines",
         "name": "Total Renewable Production",
         "type": "scatter",
         "x": [
          "00:00",
          "00:15",
          "00:30",
          "00:45",
          "01:00",
          "01:15",
          "01:30",
          "01:45",
          "02:00",
          "02:15",
          "02:30",
          "02:45",
          "03:00",
          "03:15",
          "03:30",
          "03:45",
          "04:00",
          "04:15",
          "04:30",
          "04:45",
          "05:00",
          "05:15",
          "05:30",
          "05:45",
          "06:00",
          "06:15",
          "06:30",
          "06:45",
          "07:00",
          "07:15",
          "07:30",
          "07:45",
          "08:00",
          "08:15",
          "08:30",
          "08:45",
          "09:00",
          "09:15",
          "09:30",
          "09:45",
          "10:00",
          "10:15",
          "10:30",
          "10:45",
          "11:00",
          "11:15",
          "11:30",
          "11:45",
          "12:00",
          "12:15",
          "12:30",
          "12:45",
          "13:00",
          "13:15",
          "13:30",
          "13:45",
          "14:00",
          "14:15",
          "14:30",
          "14:45",
          "15:00",
          "15:15",
          "15:30",
          "15:45",
          "16:00",
          "16:15",
          "16:30",
          "16:45",
          "17:00",
          "17:15",
          "17:30",
          "17:45",
          "18:00",
          "18:15",
          "18:30",
          "18:45",
          "19:00",
          "19:15",
          "19:30",
          "19:45",
          "20:00",
          "20:15",
          "20:30",
          "20:45",
          "21:00",
          "21:15",
          "21:30",
          "21:45",
          "22:00",
          "22:15",
          "22:30",
          "22:45",
          "23:00",
          "23:15",
          "23:30",
          "23:45"
         ],
         "y": [
          13663.365882499998,
          13467.3166625,
          13552.3284725,
          13774.8006575,
          14149.2742325,
          14660.9963225,
          14789.761502499998,
          14749.0328825,
          14492.789434999999,
          14548.06555,
          14469.8580275,
          14625.078562499999,
          14839.101274999997,
          15213.271729999999,
          15527.69541,
          15865.009955,
          16278.57835,
          16608.671297499997,
          17105.5247275,
          17627.932675,
          17811.78031,
          18018.4481675,
          18233.10139,
          18420.365755,
          19282.3241475,
          19577.370185,
          19668.124839999997,
          19833.13393,
          19939.78701,
          20091.1417125,
          19977.367687324997,
          19820.489927725,
          19810.696888224997,
          19822.455438875,
          19949.55105385,
          20108.642718149997,
          20451.638925775,
          20809.988986425,
          21367.1592948,
          21911.245694225,
          22433.593892824996,
          23007.538693425,
          23604.734520375,
          24038.659381974998,
          24445.121751125,
          24585.329702999996,
          24868.7509706,
          25149.0435831,
          25426.980515425,
          25569.593244350002,
          25652.220467975,
          25606.050480375,
          25706.497851425,
          25558.55284525,
          25585.178685525,
          25443.331502574998,
          25284.475925774997,
          24904.447257525,
          24675.464969925,
          24321.17707105,
          24064.171997799996,
          23538.458050625,
          23283.892928,
          22721.48292155,
          22282.267294974998,
          21876.199310425,
          21445.087876325,
          21007.210257425002,
          20860.084260625,
          20772.036062324998,
          20642.7364825,
          20574.0406075,
          20476.769549999997,
          20587.6137675,
          20405.129549999998,
          20043.418652499997,
          19970.578035,
          19916.996014999997,
          19486.665795,
          19183.928115,
          18657.5542925,
          18056.4458675,
          17621.4830775,
          17009.9985025,
          16610.69984,
          16286.285235,
          15872.643264999999,
          15297.920445,
          14807.218995,
          14395.2882875,
          14223.84564,
          14078.1968225,
          13963.277465,
          14003.5123825,
          14189.1929175,
          14189.280775
         ]
        }
       ],
       "layout": {
        "showlegend": true,
        "template": {
         "data": {
          "bar": [
           {
            "error_x": {
             "color": "#2a3f5f"
            },
            "error_y": {
             "color": "#2a3f5f"
            },
            "marker": {
             "line": {
              "color": "#E5ECF6",
              "width": 0.5
             },
             "pattern": {
              "fillmode": "overlay",
              "size": 10,
              "solidity": 0.2
             }
            },
            "type": "bar"
           }
          ],
          "barpolar": [
           {
            "marker": {
             "line": {
              "color": "#E5ECF6",
              "width": 0.5
             },
             "pattern": {
              "fillmode": "overlay",
              "size": 10,
              "solidity": 0.2
             }
            },
            "type": "barpolar"
           }
          ],
          "carpet": [
           {
            "aaxis": {
             "endlinecolor": "#2a3f5f",
             "gridcolor": "white",
             "linecolor": "white",
             "minorgridcolor": "white",
             "startlinecolor": "#2a3f5f"
            },
            "baxis": {
             "endlinecolor": "#2a3f5f",
             "gridcolor": "white",
             "linecolor": "white",
             "minorgridcolor": "white",
             "startlinecolor": "#2a3f5f"
            },
            "type": "carpet"
           }
          ],
          "choropleth": [
           {
            "colorbar": {
             "outlinewidth": 0,
             "ticks": ""
            },
            "type": "choropleth"
           }
          ],
          "contour": [
           {
            "colorbar": {
             "outlinewidth": 0,
             "ticks": ""
            },
            "colorscale": [
             [
              0,
              "#0d0887"
             ],
             [
              0.1111111111111111,
              "#46039f"
             ],
             [
              0.2222222222222222,
              "#7201a8"
             ],
             [
              0.3333333333333333,
              "#9c179e"
             ],
             [
              0.4444444444444444,
              "#bd3786"
             ],
             [
              0.5555555555555556,
              "#d8576b"
             ],
             [
              0.6666666666666666,
              "#ed7953"
             ],
             [
              0.7777777777777778,
              "#fb9f3a"
             ],
             [
              0.8888888888888888,
              "#fdca26"
             ],
             [
              1,
              "#f0f921"
             ]
            ],
            "type": "contour"
           }
          ],
          "contourcarpet": [
           {
            "colorbar": {
             "outlinewidth": 0,
             "ticks": ""
            },
            "type": "contourcarpet"
           }
          ],
          "heatmap": [
           {
            "colorbar": {
             "outlinewidth": 0,
             "ticks": ""
            },
            "colorscale": [
             [
              0,
              "#0d0887"
             ],
             [
              0.1111111111111111,
              "#46039f"
             ],
             [
              0.2222222222222222,
              "#7201a8"
             ],
             [
              0.3333333333333333,
              "#9c179e"
             ],
             [
              0.4444444444444444,
              "#bd3786"
             ],
             [
              0.5555555555555556,
              "#d8576b"
             ],
             [
              0.6666666666666666,
              "#ed7953"
             ],
             [
              0.7777777777777778,
              "#fb9f3a"
             ],
             [
              0.8888888888888888,
              "#fdca26"
             ],
             [
              1,
              "#f0f921"
             ]
            ],
            "type": "heatmap"
           }
          ],
          "heatmapgl": [
           {
            "colorbar": {
             "outlinewidth": 0,
             "ticks": ""
            },
            "colorscale": [
             [
              0,
              "#0d0887"
             ],
             [
              0.1111111111111111,
              "#46039f"
             ],
             [
              0.2222222222222222,
              "#7201a8"
             ],
             [
              0.3333333333333333,
              "#9c179e"
             ],
             [
              0.4444444444444444,
              "#bd3786"
             ],
             [
              0.5555555555555556,
              "#d8576b"
             ],
             [
              0.6666666666666666,
              "#ed7953"
             ],
             [
              0.7777777777777778,
              "#fb9f3a"
             ],
             [
              0.8888888888888888,
              "#fdca26"
             ],
             [
              1,
              "#f0f921"
             ]
            ],
            "type": "heatmapgl"
           }
          ],
          "histogram": [
           {
            "marker": {
             "pattern": {
              "fillmode": "overlay",
              "size": 10,
              "solidity": 0.2
             }
            },
            "type": "histogram"
           }
          ],
          "histogram2d": [
           {
            "colorbar": {
             "outlinewidth": 0,
             "ticks": ""
            },
            "colorscale": [
             [
              0,
              "#0d0887"
             ],
             [
              0.1111111111111111,
              "#46039f"
             ],
             [
              0.2222222222222222,
              "#7201a8"
             ],
             [
              0.3333333333333333,
              "#9c179e"
             ],
             [
              0.4444444444444444,
              "#bd3786"
             ],
             [
              0.5555555555555556,
              "#d8576b"
             ],
             [
              0.6666666666666666,
              "#ed7953"
             ],
             [
              0.7777777777777778,
              "#fb9f3a"
             ],
             [
              0.8888888888888888,
              "#fdca26"
             ],
             [
              1,
              "#f0f921"
             ]
            ],
            "type": "histogram2d"
           }
          ],
          "histogram2dcontour": [
           {
            "colorbar": {
             "outlinewidth": 0,
             "ticks": ""
            },
            "colorscale": [
             [
              0,
              "#0d0887"
             ],
             [
              0.1111111111111111,
              "#46039f"
             ],
             [
              0.2222222222222222,
              "#7201a8"
             ],
             [
              0.3333333333333333,
              "#9c179e"
             ],
             [
              0.4444444444444444,
              "#bd3786"
             ],
             [
              0.5555555555555556,
              "#d8576b"
             ],
             [
              0.6666666666666666,
              "#ed7953"
             ],
             [
              0.7777777777777778,
              "#fb9f3a"
             ],
             [
              0.8888888888888888,
              "#fdca26"
             ],
             [
              1,
              "#f0f921"
             ]
            ],
            "type": "histogram2dcontour"
           }
          ],
          "mesh3d": [
           {
            "colorbar": {
             "outlinewidth": 0,
             "ticks": ""
            },
            "type": "mesh3d"
           }
          ],
          "parcoords": [
           {
            "line": {
             "colorbar": {
              "outlinewidth": 0,
              "ticks": ""
             }
            },
            "type": "parcoords"
           }
          ],
          "pie": [
           {
            "automargin": true,
            "type": "pie"
           }
          ],
          "scatter": [
           {
            "fillpattern": {
             "fillmode": "overlay",
             "size": 10,
             "solidity": 0.2
            },
            "type": "scatter"
           }
          ],
          "scatter3d": [
           {
            "line": {
             "colorbar": {
              "outlinewidth": 0,
              "ticks": ""
             }
            },
            "marker": {
             "colorbar": {
              "outlinewidth": 0,
              "ticks": ""
             }
            },
            "type": "scatter3d"
           }
          ],
          "scattercarpet": [
           {
            "marker": {
             "colorbar": {
              "outlinewidth": 0,
              "ticks": ""
             }
            },
            "type": "scattercarpet"
           }
          ],
          "scattergeo": [
           {
            "marker": {
             "colorbar": {
              "outlinewidth": 0,
              "ticks": ""
             }
            },
            "type": "scattergeo"
           }
          ],
          "scattergl": [
           {
            "marker": {
             "colorbar": {
              "outlinewidth": 0,
              "ticks": ""
             }
            },
            "type": "scattergl"
           }
          ],
          "scattermapbox": [
           {
            "marker": {
             "colorbar": {
              "outlinewidth": 0,
              "ticks": ""
             }
            },
            "type": "scattermapbox"
           }
          ],
          "scatterpolar": [
           {
            "marker": {
             "colorbar": {
              "outlinewidth": 0,
              "ticks": ""
             }
            },
            "type": "scatterpolar"
           }
          ],
          "scatterpolargl": [
           {
            "marker": {
             "colorbar": {
              "outlinewidth": 0,
              "ticks": ""
             }
            },
            "type": "scatterpolargl"
           }
          ],
          "scatterternary": [
           {
            "marker": {
             "colorbar": {
              "outlinewidth": 0,
              "ticks": ""
             }
            },
            "type": "scatterternary"
           }
          ],
          "surface": [
           {
            "colorbar": {
             "outlinewidth": 0,
             "ticks": ""
            },
            "colorscale": [
             [
              0,
              "#0d0887"
             ],
             [
              0.1111111111111111,
              "#46039f"
             ],
             [
              0.2222222222222222,
              "#7201a8"
             ],
             [
              0.3333333333333333,
              "#9c179e"
             ],
             [
              0.4444444444444444,
              "#bd3786"
             ],
             [
              0.5555555555555556,
              "#d8576b"
             ],
             [
              0.6666666666666666,
              "#ed7953"
             ],
             [
              0.7777777777777778,
              "#fb9f3a"
             ],
             [
              0.8888888888888888,
              "#fdca26"
             ],
             [
              1,
              "#f0f921"
             ]
            ],
            "type": "surface"
           }
          ],
          "table": [
           {
            "cells": {
             "fill": {
              "color": "#EBF0F8"
             },
             "line": {
              "color": "white"
             }
            },
            "header": {
             "fill": {
              "color": "#C8D4E3"
             },
             "line": {
              "color": "white"
             }
            },
            "type": "table"
           }
          ]
         },
         "layout": {
          "annotationdefaults": {
           "arrowcolor": "#2a3f5f",
           "arrowhead": 0,
           "arrowwidth": 1
          },
          "autotypenumbers": "strict",
          "coloraxis": {
           "colorbar": {
            "outlinewidth": 0,
            "ticks": ""
           }
          },
          "colorscale": {
           "diverging": [
            [
             0,
             "#8e0152"
            ],
            [
             0.1,
             "#c51b7d"
            ],
            [
             0.2,
             "#de77ae"
            ],
            [
             0.3,
             "#f1b6da"
            ],
            [
             0.4,
             "#fde0ef"
            ],
            [
             0.5,
             "#f7f7f7"
            ],
            [
             0.6,
             "#e6f5d0"
            ],
            [
             0.7,
             "#b8e186"
            ],
            [
             0.8,
             "#7fbc41"
            ],
            [
             0.9,
             "#4d9221"
            ],
            [
             1,
             "#276419"
            ]
           ],
           "sequential": [
            [
             0,
             "#0d0887"
            ],
            [
             0.1111111111111111,
             "#46039f"
            ],
            [
             0.2222222222222222,
             "#7201a8"
            ],
            [
             0.3333333333333333,
             "#9c179e"
            ],
            [
             0.4444444444444444,
             "#bd3786"
            ],
            [
             0.5555555555555556,
             "#d8576b"
            ],
            [
             0.6666666666666666,
             "#ed7953"
            ],
            [
             0.7777777777777778,
             "#fb9f3a"
            ],
            [
             0.8888888888888888,
             "#fdca26"
            ],
            [
             1,
             "#f0f921"
            ]
           ],
           "sequentialminus": [
            [
             0,
             "#0d0887"
            ],
            [
             0.1111111111111111,
             "#46039f"
            ],
            [
             0.2222222222222222,
             "#7201a8"
            ],
            [
             0.3333333333333333,
             "#9c179e"
            ],
            [
             0.4444444444444444,
             "#bd3786"
            ],
            [
             0.5555555555555556,
             "#d8576b"
            ],
            [
             0.6666666666666666,
             "#ed7953"
            ],
            [
             0.7777777777777778,
             "#fb9f3a"
            ],
            [
             0.8888888888888888,
             "#fdca26"
            ],
            [
             1,
             "#f0f921"
            ]
           ]
          },
          "colorway": [
           "#636efa",
           "#EF553B",
           "#00cc96",
           "#ab63fa",
           "#FFA15A",
           "#19d3f3",
           "#FF6692",
           "#B6E880",
           "#FF97FF",
           "#FECB52"
          ],
          "font": {
           "color": "#2a3f5f"
          },
          "geo": {
           "bgcolor": "white",
           "lakecolor": "white",
           "landcolor": "#E5ECF6",
           "showlakes": true,
           "showland": true,
           "subunitcolor": "white"
          },
          "hoverlabel": {
           "align": "left"
          },
          "hovermode": "closest",
          "mapbox": {
           "style": "light"
          },
          "paper_bgcolor": "white",
          "plot_bgcolor": "#E5ECF6",
          "polar": {
           "angularaxis": {
            "gridcolor": "white",
            "linecolor": "white",
            "ticks": ""
           },
           "bgcolor": "#E5ECF6",
           "radialaxis": {
            "gridcolor": "white",
            "linecolor": "white",
            "ticks": ""
           }
          },
          "scene": {
           "xaxis": {
            "backgroundcolor": "#E5ECF6",
            "gridcolor": "white",
            "gridwidth": 2,
            "linecolor": "white",
            "showbackground": true,
            "ticks": "",
            "zerolinecolor": "white"
           },
           "yaxis": {
            "backgroundcolor": "#E5ECF6",
            "gridcolor": "white",
            "gridwidth": 2,
            "linecolor": "white",
            "showbackground": true,
            "ticks": "",
            "zerolinecolor": "white"
           },
           "zaxis": {
            "backgroundcolor": "#E5ECF6",
            "gridcolor": "white",
            "gridwidth": 2,
            "linecolor": "white",
            "showbackground": true,
            "ticks": "",
            "zerolinecolor": "white"
           }
          },
          "shapedefaults": {
           "line": {
            "color": "#2a3f5f"
           }
          },
          "ternary": {
           "aaxis": {
            "gridcolor": "white",
            "linecolor": "white",
            "ticks": ""
           },
           "baxis": {
            "gridcolor": "white",
            "linecolor": "white",
            "ticks": ""
           },
           "bgcolor": "#E5ECF6",
           "caxis": {
            "gridcolor": "white",
            "linecolor": "white",
            "ticks": ""
           }
          },
          "title": {
           "x": 0.05
          },
          "xaxis": {
           "automargin": true,
           "gridcolor": "white",
           "linecolor": "white",
           "ticks": "",
           "title": {
            "standoff": 15
           },
           "zerolinecolor": "white",
           "zerolinewidth": 2
          },
          "yaxis": {
           "automargin": true,
           "gridcolor": "white",
           "linecolor": "white",
           "ticks": "",
           "title": {
            "standoff": 15
           },
           "zerolinecolor": "white",
           "zerolinewidth": 2
          }
         }
        },
        "title": {
         "text": "Energy Production and Consumption on 2030-02-03 00:00:00"
        },
        "xaxis": {
         "anchor": "y",
         "domain": [
          0,
          1
         ],
         "title": {
          "text": "Time (hours)"
         }
        },
        "yaxis": {
         "anchor": "x",
         "domain": [
          0,
          1
         ],
         "title": {
          "text": "Energy (MWh)"
         }
        }
       }
      }
     },
     "metadata": {},
     "output_type": "display_data"
    },
    {
     "data": {
      "application/vnd.plotly.v1+json": {
       "config": {
        "plotlyServerURL": "https://plot.ly"
       },
       "data": [
        {
         "type": "bar",
         "x": [
          0,
          1,
          2,
          3,
          4,
          5,
          6,
          7,
          8,
          9,
          10,
          11,
          12,
          13,
          14,
          15,
          16,
          17,
          18,
          19,
          20,
          21,
          22,
          23,
          24,
          25,
          26,
          27,
          28,
          29,
          30,
          31,
          32,
          33,
          34,
          35,
          36,
          37,
          38,
          39,
          40,
          41,
          42,
          43,
          44,
          45,
          46,
          47,
          48,
          49,
          50,
          51,
          52,
          53,
          54,
          55,
          56,
          57,
          58,
          59,
          60,
          61,
          62,
          63,
          64,
          65,
          66,
          67,
          68,
          69,
          70,
          71,
          72,
          73,
          74,
          75,
          76,
          77,
          78,
          79,
          80,
          81,
          82,
          83,
          84,
          85,
          86,
          87,
          88,
          89,
          90,
          91,
          92,
          93,
          94,
          95,
          96,
          97,
          98,
          99,
          100,
          101,
          102,
          103,
          104,
          105,
          106,
          107,
          108,
          109,
          110,
          111,
          112,
          113,
          114,
          115,
          116,
          117,
          118,
          119,
          120,
          121,
          122,
          123,
          124,
          125,
          126,
          127,
          128,
          129,
          130,
          131,
          132,
          133,
          134,
          135,
          136,
          137,
          138,
          139,
          140,
          141,
          142,
          143,
          144,
          145,
          146,
          147,
          148,
          149,
          150,
          151,
          152,
          153,
          154,
          155,
          156,
          157,
          158,
          159,
          160,
          161,
          162,
          163,
          164,
          165,
          166,
          167,
          168,
          169,
          170,
          171,
          172,
          173,
          174,
          175,
          176,
          177,
          178,
          179,
          180,
          181,
          182,
          183,
          184,
          185,
          186,
          187,
          188,
          189,
          190,
          191,
          192,
          193,
          194,
          195,
          196,
          197,
          198,
          199,
          200,
          201,
          202,
          203,
          204,
          205,
          206,
          207,
          208,
          209,
          210,
          211,
          212,
          213,
          214,
          215,
          216,
          217,
          218,
          219,
          220,
          221,
          222,
          223,
          224,
          225,
          226,
          227,
          228,
          229,
          230,
          231,
          232,
          233,
          234,
          235,
          236,
          237,
          238,
          239,
          240,
          241,
          242,
          243,
          244,
          245,
          246,
          247,
          248,
          249,
          250,
          251,
          252,
          253,
          254,
          255,
          256,
          257,
          258,
          259,
          260,
          261,
          262,
          263,
          264,
          265,
          266,
          267,
          268,
          269,
          270,
          271,
          272,
          273,
          274,
          275,
          276,
          277,
          278,
          279,
          280,
          281,
          282,
          283,
          284,
          285,
          286,
          287,
          288,
          289,
          290,
          291,
          292,
          293,
          294,
          295,
          296,
          297,
          298,
          299,
          300,
          301,
          302,
          303,
          304,
          305,
          306,
          307,
          308,
          309,
          310,
          311,
          312,
          313,
          314,
          315,
          316,
          317,
          318,
          319,
          320,
          321,
          322,
          323,
          324,
          325,
          326,
          327,
          328
         ],
         "y": [
          0,
          0,
          0,
          0,
          0,
          0,
          0,
          0,
          0,
          0,
          0,
          0,
          1,
          5,
          7,
          9,
          22,
          24,
          24,
          54,
          59,
          82,
          128,
          135,
          120,
          122,
          160,
          173,
          161,
          141,
          169,
          189,
          157,
          174,
          194,
          180,
          179,
          209,
          200,
          167,
          162,
          185,
          224,
          209,
          208,
          167,
          154,
          170,
          161,
          193,
          176,
          188,
          171,
          173,
          185,
          165,
          151,
          165,
          178,
          211,
          189,
          186,
          191,
          185,
          188,
          218,
          218,
          205,
          221,
          226,
          210,
          172,
          173,
          188,
          185,
          184,
          183,
          223,
          180,
          211,
          183,
          189,
          201,
          194,
          211,
          205,
          197,
          225,
          221,
          228,
          214,
          259,
          195,
          214,
          211,
          232,
          196,
          186,
          197,
          215,
          197,
          192,
          186,
          186,
          226,
          183,
          191,
          213,
          190,
          187,
          196,
          207,
          220,
          199,
          231,
          215,
          180,
          206,
          191,
          200,
          175,
          212,
          184,
          165,
          180,
          191,
          184,
          189,
          159,
          183,
          175,
          209,
          172,
          190,
          207,
          208,
          193,
          206,
          198,
          173,
          195,
          149,
          178,
          180,
          159,
          157,
          188,
          149,
          154,
          172,
          158,
          193,
          178,
          150,
          155,
          167,
          136,
          150,
          164,
          133,
          148,
          142,
          141,
          148,
          140,
          142,
          146,
          122,
          122,
          128,
          132,
          137,
          131,
          118,
          127,
          106,
          123,
          140,
          101,
          126,
          113,
          101,
          141,
          108,
          113,
          123,
          114,
          119,
          127,
          92,
          119,
          101,
          126,
          106,
          103,
          113,
          104,
          114,
          95,
          100,
          115,
          101,
          109,
          78,
          73,
          64,
          81,
          62,
          72,
          75,
          57,
          57,
          67,
          58,
          58,
          49,
          46,
          57,
          51,
          52,
          59,
          57,
          55,
          51,
          59,
          61,
          62,
          64,
          55,
          53,
          54,
          64,
          55,
          53,
          52,
          44,
          46,
          50,
          58,
          52,
          47,
          37,
          38,
          39,
          45,
          33,
          26,
          22,
          32,
          31,
          27,
          31,
          28,
          29,
          27,
          21,
          28,
          29,
          27,
          31,
          34,
          32,
          25,
          34,
          27,
          24,
          25,
          22,
          27,
          26,
          28,
          26,
          21,
          41,
          28,
          26,
          20,
          20,
          18,
          13,
          19,
          16,
          15,
          25,
          25,
          22,
          21,
          30,
          21,
          15,
          22,
          11,
          8,
          17,
          16,
          10,
          13,
          14,
          8,
          12,
          12,
          14,
          7,
          4,
          10,
          15,
          10,
          6,
          6,
          15,
          8,
          8,
          8,
          7,
          6,
          8,
          7,
          8,
          8,
          5,
          5,
          7,
          8,
          8,
          10,
          4,
          6,
          8,
          3
         ]
        }
       ],
       "layout": {
        "template": {
         "data": {
          "bar": [
           {
            "error_x": {
             "color": "#2a3f5f"
            },
            "error_y": {
             "color": "#2a3f5f"
            },
            "marker": {
             "line": {
              "color": "#E5ECF6",
              "width": 0.5
             },
             "pattern": {
              "fillmode": "overlay",
              "size": 10,
              "solidity": 0.2
             }
            },
            "type": "bar"
           }
          ],
          "barpolar": [
           {
            "marker": {
             "line": {
              "color": "#E5ECF6",
              "width": 0.5
             },
             "pattern": {
              "fillmode": "overlay",
              "size": 10,
              "solidity": 0.2
             }
            },
            "type": "barpolar"
           }
          ],
          "carpet": [
           {
            "aaxis": {
             "endlinecolor": "#2a3f5f",
             "gridcolor": "white",
             "linecolor": "white",
             "minorgridcolor": "white",
             "startlinecolor": "#2a3f5f"
            },
            "baxis": {
             "endlinecolor": "#2a3f5f",
             "gridcolor": "white",
             "linecolor": "white",
             "minorgridcolor": "white",
             "startlinecolor": "#2a3f5f"
            },
            "type": "carpet"
           }
          ],
          "choropleth": [
           {
            "colorbar": {
             "outlinewidth": 0,
             "ticks": ""
            },
            "type": "choropleth"
           }
          ],
          "contour": [
           {
            "colorbar": {
             "outlinewidth": 0,
             "ticks": ""
            },
            "colorscale": [
             [
              0,
              "#0d0887"
             ],
             [
              0.1111111111111111,
              "#46039f"
             ],
             [
              0.2222222222222222,
              "#7201a8"
             ],
             [
              0.3333333333333333,
              "#9c179e"
             ],
             [
              0.4444444444444444,
              "#bd3786"
             ],
             [
              0.5555555555555556,
              "#d8576b"
             ],
             [
              0.6666666666666666,
              "#ed7953"
             ],
             [
              0.7777777777777778,
              "#fb9f3a"
             ],
             [
              0.8888888888888888,
              "#fdca26"
             ],
             [
              1,
              "#f0f921"
             ]
            ],
            "type": "contour"
           }
          ],
          "contourcarpet": [
           {
            "colorbar": {
             "outlinewidth": 0,
             "ticks": ""
            },
            "type": "contourcarpet"
           }
          ],
          "heatmap": [
           {
            "colorbar": {
             "outlinewidth": 0,
             "ticks": ""
            },
            "colorscale": [
             [
              0,
              "#0d0887"
             ],
             [
              0.1111111111111111,
              "#46039f"
             ],
             [
              0.2222222222222222,
              "#7201a8"
             ],
             [
              0.3333333333333333,
              "#9c179e"
             ],
             [
              0.4444444444444444,
              "#bd3786"
             ],
             [
              0.5555555555555556,
              "#d8576b"
             ],
             [
              0.6666666666666666,
              "#ed7953"
             ],
             [
              0.7777777777777778,
              "#fb9f3a"
             ],
             [
              0.8888888888888888,
              "#fdca26"
             ],
             [
              1,
              "#f0f921"
             ]
            ],
            "type": "heatmap"
           }
          ],
          "heatmapgl": [
           {
            "colorbar": {
             "outlinewidth": 0,
             "ticks": ""
            },
            "colorscale": [
             [
              0,
              "#0d0887"
             ],
             [
              0.1111111111111111,
              "#46039f"
             ],
             [
              0.2222222222222222,
              "#7201a8"
             ],
             [
              0.3333333333333333,
              "#9c179e"
             ],
             [
              0.4444444444444444,
              "#bd3786"
             ],
             [
              0.5555555555555556,
              "#d8576b"
             ],
             [
              0.6666666666666666,
              "#ed7953"
             ],
             [
              0.7777777777777778,
              "#fb9f3a"
             ],
             [
              0.8888888888888888,
              "#fdca26"
             ],
             [
              1,
              "#f0f921"
             ]
            ],
            "type": "heatmapgl"
           }
          ],
          "histogram": [
           {
            "marker": {
             "pattern": {
              "fillmode": "overlay",
              "size": 10,
              "solidity": 0.2
             }
            },
            "type": "histogram"
           }
          ],
          "histogram2d": [
           {
            "colorbar": {
             "outlinewidth": 0,
             "ticks": ""
            },
            "colorscale": [
             [
              0,
              "#0d0887"
             ],
             [
              0.1111111111111111,
              "#46039f"
             ],
             [
              0.2222222222222222,
              "#7201a8"
             ],
             [
              0.3333333333333333,
              "#9c179e"
             ],
             [
              0.4444444444444444,
              "#bd3786"
             ],
             [
              0.5555555555555556,
              "#d8576b"
             ],
             [
              0.6666666666666666,
              "#ed7953"
             ],
             [
              0.7777777777777778,
              "#fb9f3a"
             ],
             [
              0.8888888888888888,
              "#fdca26"
             ],
             [
              1,
              "#f0f921"
             ]
            ],
            "type": "histogram2d"
           }
          ],
          "histogram2dcontour": [
           {
            "colorbar": {
             "outlinewidth": 0,
             "ticks": ""
            },
            "colorscale": [
             [
              0,
              "#0d0887"
             ],
             [
              0.1111111111111111,
              "#46039f"
             ],
             [
              0.2222222222222222,
              "#7201a8"
             ],
             [
              0.3333333333333333,
              "#9c179e"
             ],
             [
              0.4444444444444444,
              "#bd3786"
             ],
             [
              0.5555555555555556,
              "#d8576b"
             ],
             [
              0.6666666666666666,
              "#ed7953"
             ],
             [
              0.7777777777777778,
              "#fb9f3a"
             ],
             [
              0.8888888888888888,
              "#fdca26"
             ],
             [
              1,
              "#f0f921"
             ]
            ],
            "type": "histogram2dcontour"
           }
          ],
          "mesh3d": [
           {
            "colorbar": {
             "outlinewidth": 0,
             "ticks": ""
            },
            "type": "mesh3d"
           }
          ],
          "parcoords": [
           {
            "line": {
             "colorbar": {
              "outlinewidth": 0,
              "ticks": ""
             }
            },
            "type": "parcoords"
           }
          ],
          "pie": [
           {
            "automargin": true,
            "type": "pie"
           }
          ],
          "scatter": [
           {
            "fillpattern": {
             "fillmode": "overlay",
             "size": 10,
             "solidity": 0.2
            },
            "type": "scatter"
           }
          ],
          "scatter3d": [
           {
            "line": {
             "colorbar": {
              "outlinewidth": 0,
              "ticks": ""
             }
            },
            "marker": {
             "colorbar": {
              "outlinewidth": 0,
              "ticks": ""
             }
            },
            "type": "scatter3d"
           }
          ],
          "scattercarpet": [
           {
            "marker": {
             "colorbar": {
              "outlinewidth": 0,
              "ticks": ""
             }
            },
            "type": "scattercarpet"
           }
          ],
          "scattergeo": [
           {
            "marker": {
             "colorbar": {
              "outlinewidth": 0,
              "ticks": ""
             }
            },
            "type": "scattergeo"
           }
          ],
          "scattergl": [
           {
            "marker": {
             "colorbar": {
              "outlinewidth": 0,
              "ticks": ""
             }
            },
            "type": "scattergl"
           }
          ],
          "scattermapbox": [
           {
            "marker": {
             "colorbar": {
              "outlinewidth": 0,
              "ticks": ""
             }
            },
            "type": "scattermapbox"
           }
          ],
          "scatterpolar": [
           {
            "marker": {
             "colorbar": {
              "outlinewidth": 0,
              "ticks": ""
             }
            },
            "type": "scatterpolar"
           }
          ],
          "scatterpolargl": [
           {
            "marker": {
             "colorbar": {
              "outlinewidth": 0,
              "ticks": ""
             }
            },
            "type": "scatterpolargl"
           }
          ],
          "scatterternary": [
           {
            "marker": {
             "colorbar": {
              "outlinewidth": 0,
              "ticks": ""
             }
            },
            "type": "scatterternary"
           }
          ],
          "surface": [
           {
            "colorbar": {
             "outlinewidth": 0,
             "ticks": ""
            },
            "colorscale": [
             [
              0,
              "#0d0887"
             ],
             [
              0.1111111111111111,
              "#46039f"
             ],
             [
              0.2222222222222222,
              "#7201a8"
             ],
             [
              0.3333333333333333,
              "#9c179e"
             ],
             [
              0.4444444444444444,
              "#bd3786"
             ],
             [
              0.5555555555555556,
              "#d8576b"
             ],
             [
              0.6666666666666666,
              "#ed7953"
             ],
             [
              0.7777777777777778,
              "#fb9f3a"
             ],
             [
              0.8888888888888888,
              "#fdca26"
             ],
             [
              1,
              "#f0f921"
             ]
            ],
            "type": "surface"
           }
          ],
          "table": [
           {
            "cells": {
             "fill": {
              "color": "#EBF0F8"
             },
             "line": {
              "color": "white"
             }
            },
            "header": {
             "fill": {
              "color": "#C8D4E3"
             },
             "line": {
              "color": "white"
             }
            },
            "type": "table"
           }
          ]
         },
         "layout": {
          "annotationdefaults": {
           "arrowcolor": "#2a3f5f",
           "arrowhead": 0,
           "arrowwidth": 1
          },
          "autotypenumbers": "strict",
          "coloraxis": {
           "colorbar": {
            "outlinewidth": 0,
            "ticks": ""
           }
          },
          "colorscale": {
           "diverging": [
            [
             0,
             "#8e0152"
            ],
            [
             0.1,
             "#c51b7d"
            ],
            [
             0.2,
             "#de77ae"
            ],
            [
             0.3,
             "#f1b6da"
            ],
            [
             0.4,
             "#fde0ef"
            ],
            [
             0.5,
             "#f7f7f7"
            ],
            [
             0.6,
             "#e6f5d0"
            ],
            [
             0.7,
             "#b8e186"
            ],
            [
             0.8,
             "#7fbc41"
            ],
            [
             0.9,
             "#4d9221"
            ],
            [
             1,
             "#276419"
            ]
           ],
           "sequential": [
            [
             0,
             "#0d0887"
            ],
            [
             0.1111111111111111,
             "#46039f"
            ],
            [
             0.2222222222222222,
             "#7201a8"
            ],
            [
             0.3333333333333333,
             "#9c179e"
            ],
            [
             0.4444444444444444,
             "#bd3786"
            ],
            [
             0.5555555555555556,
             "#d8576b"
            ],
            [
             0.6666666666666666,
             "#ed7953"
            ],
            [
             0.7777777777777778,
             "#fb9f3a"
            ],
            [
             0.8888888888888888,
             "#fdca26"
            ],
            [
             1,
             "#f0f921"
            ]
           ],
           "sequentialminus": [
            [
             0,
             "#0d0887"
            ],
            [
             0.1111111111111111,
             "#46039f"
            ],
            [
             0.2222222222222222,
             "#7201a8"
            ],
            [
             0.3333333333333333,
             "#9c179e"
            ],
            [
             0.4444444444444444,
             "#bd3786"
            ],
            [
             0.5555555555555556,
             "#d8576b"
            ],
            [
             0.6666666666666666,
             "#ed7953"
            ],
            [
             0.7777777777777778,
             "#fb9f3a"
            ],
            [
             0.8888888888888888,
             "#fdca26"
            ],
            [
             1,
             "#f0f921"
            ]
           ]
          },
          "colorway": [
           "#636efa",
           "#EF553B",
           "#00cc96",
           "#ab63fa",
           "#FFA15A",
           "#19d3f3",
           "#FF6692",
           "#B6E880",
           "#FF97FF",
           "#FECB52"
          ],
          "font": {
           "color": "#2a3f5f"
          },
          "geo": {
           "bgcolor": "white",
           "lakecolor": "white",
           "landcolor": "#E5ECF6",
           "showlakes": true,
           "showland": true,
           "subunitcolor": "white"
          },
          "hoverlabel": {
           "align": "left"
          },
          "hovermode": "closest",
          "mapbox": {
           "style": "light"
          },
          "paper_bgcolor": "white",
          "plot_bgcolor": "#E5ECF6",
          "polar": {
           "angularaxis": {
            "gridcolor": "white",
            "linecolor": "white",
            "ticks": ""
           },
           "bgcolor": "#E5ECF6",
           "radialaxis": {
            "gridcolor": "white",
            "linecolor": "white",
            "ticks": ""
           }
          },
          "scene": {
           "xaxis": {
            "backgroundcolor": "#E5ECF6",
            "gridcolor": "white",
            "gridwidth": 2,
            "linecolor": "white",
            "showbackground": true,
            "ticks": "",
            "zerolinecolor": "white"
           },
           "yaxis": {
            "backgroundcolor": "#E5ECF6",
            "gridcolor": "white",
            "gridwidth": 2,
            "linecolor": "white",
            "showbackground": true,
            "ticks": "",
            "zerolinecolor": "white"
           },
           "zaxis": {
            "backgroundcolor": "#E5ECF6",
            "gridcolor": "white",
            "gridwidth": 2,
            "linecolor": "white",
            "showbackground": true,
            "ticks": "",
            "zerolinecolor": "white"
           }
          },
          "shapedefaults": {
           "line": {
            "color": "#2a3f5f"
           }
          },
          "ternary": {
           "aaxis": {
            "gridcolor": "white",
            "linecolor": "white",
            "ticks": ""
           },
           "baxis": {
            "gridcolor": "white",
            "linecolor": "white",
            "ticks": ""
           },
           "bgcolor": "#E5ECF6",
           "caxis": {
            "gridcolor": "white",
            "linecolor": "white",
            "ticks": ""
           }
          },
          "title": {
           "x": 0.05
          },
          "xaxis": {
           "automargin": true,
           "gridcolor": "white",
           "linecolor": "white",
           "ticks": "",
           "title": {
            "standoff": 15
           },
           "zerolinecolor": "white",
           "zerolinewidth": 2
          },
          "yaxis": {
           "automargin": true,
           "gridcolor": "white",
           "linecolor": "white",
           "ticks": "",
           "title": {
            "standoff": 15
           },
           "zerolinecolor": "white",
           "zerolinewidth": 2
          }
         }
        },
        "title": {
         "text": "Anzahl der Viertelstunden im Jahren 2030 mit 0-330 % EE-Anteil"
        },
        "xaxis": {
         "tickmode": "array",
         "ticktext": [
          "0%",
          "5%",
          "10%",
          "15%",
          "20%",
          "25%",
          "30%",
          "35%",
          "40%",
          "45%",
          "50%",
          "55%",
          "60%",
          "65%",
          "70%",
          "75%",
          "80%",
          "85%",
          "90%",
          "95%",
          "100%",
          "105%",
          "110%",
          "115%",
          "120%",
          "125%",
          "130%",
          "135%",
          "140%",
          "145%",
          "150%",
          "155%",
          "160%",
          "165%",
          "170%",
          "175%",
          "180%",
          "185%",
          "190%",
          "195%",
          "200%",
          "205%",
          "210%",
          "215%",
          "220%",
          "225%",
          "230%",
          "235%",
          "240%",
          "245%",
          "250%",
          "255%",
          "260%",
          "265%",
          "270%",
          "275%",
          "280%",
          "285%",
          "290%",
          "295%",
          "300%",
          "305%",
          "310%",
          "315%",
          "320%",
          "325%"
         ],
         "tickvals": [
          0,
          5,
          10,
          15,
          20,
          25,
          30,
          35,
          40,
          45,
          50,
          55,
          60,
          65,
          70,
          75,
          80,
          85,
          90,
          95,
          100,
          105,
          110,
          115,
          120,
          125,
          130,
          135,
          140,
          145,
          150,
          155,
          160,
          165,
          170,
          175,
          180,
          185,
          190,
          195,
          200,
          205,
          210,
          215,
          220,
          225,
          230,
          235,
          240,
          245,
          250,
          255,
          260,
          265,
          270,
          275,
          280,
          285,
          290,
          295,
          300,
          305,
          310,
          315,
          320,
          325
         ],
         "title": {
          "text": "Prozentsatz erneuerbarer Energie"
         }
        },
        "yaxis": {
         "title": {
          "text": "Anzahl der Viertelstunden"
         }
        }
       }
      }
     },
     "metadata": {},
     "output_type": "display_data"
    },
    {
     "data": {
      "application/vnd.plotly.v1+json": {
       "config": {
        "plotlyServerURL": "https://plot.ly"
       },
       "data": [
        {
         "type": "bar",
         "x": [
          0,
          1,
          2,
          3,
          4,
          5,
          6,
          7,
          8,
          9,
          10,
          11,
          12,
          13,
          14,
          15,
          16,
          17,
          18,
          19,
          20,
          21,
          22,
          23,
          24,
          25,
          26,
          27,
          28,
          29,
          30,
          31,
          32,
          33,
          34,
          35,
          36,
          37,
          38,
          39,
          40,
          41,
          42,
          43,
          44,
          45,
          46,
          47,
          48,
          49,
          50,
          51,
          52,
          53,
          54,
          55,
          56,
          57,
          58,
          59,
          60,
          61,
          62,
          63,
          64,
          65,
          66,
          67,
          68,
          69,
          70,
          71,
          72,
          73,
          74,
          75,
          76,
          77,
          78,
          79,
          80,
          81,
          82,
          83,
          84,
          85,
          86,
          87,
          88,
          89,
          90,
          91,
          92,
          93,
          94,
          95,
          96,
          97,
          98,
          99,
          100,
          101,
          102,
          103,
          104,
          105,
          106,
          107,
          108,
          109,
          110,
          111,
          112,
          113,
          114,
          115,
          116,
          117,
          118,
          119,
          120,
          121,
          122,
          123,
          124,
          125,
          126,
          127,
          128,
          129,
          130,
          131,
          132,
          133,
          134,
          135,
          136,
          137,
          138,
          139,
          140,
          141,
          142,
          143,
          144,
          145,
          146,
          147,
          148,
          149,
          150,
          151,
          152,
          153,
          154,
          155,
          156,
          157,
          158,
          159,
          160,
          161,
          162,
          163,
          164,
          165,
          166,
          167,
          168,
          169,
          170,
          171,
          172,
          173,
          174,
          175,
          176,
          177,
          178,
          179,
          180,
          181,
          182,
          183,
          184,
          185,
          186,
          187,
          188,
          189,
          190,
          191,
          192,
          193,
          194,
          195,
          196,
          197,
          198,
          199,
          200,
          201,
          202,
          203,
          204,
          205,
          206,
          207,
          208,
          209,
          210,
          211,
          212,
          213,
          214,
          215,
          216,
          217,
          218,
          219,
          220,
          221,
          222,
          223,
          224,
          225,
          226,
          227,
          228,
          229,
          230,
          231,
          232,
          233,
          234,
          235,
          236,
          237,
          238,
          239,
          240,
          241,
          242,
          243,
          244,
          245,
          246,
          247,
          248,
          249,
          250,
          251,
          252,
          253,
          254,
          255,
          256,
          257,
          258,
          259,
          260,
          261,
          262,
          263,
          264,
          265,
          266,
          267,
          268,
          269,
          270,
          271,
          272,
          273,
          274,
          275,
          276,
          277,
          278,
          279,
          280,
          281,
          282,
          283,
          284,
          285,
          286,
          287,
          288,
          289,
          290,
          291,
          292,
          293,
          294,
          295,
          296,
          297,
          298,
          299,
          300
         ],
         "y": [
          35136,
          35136,
          35136,
          35136,
          35136,
          35136,
          35136,
          35136,
          35136,
          35136,
          35136,
          35136,
          35136,
          35135,
          35130,
          35123,
          35114,
          35092,
          35068,
          35044,
          34990,
          34931,
          34849,
          34721,
          34586,
          34466,
          34344,
          34184,
          34011,
          33850,
          33709,
          33540,
          33351,
          33194,
          33020,
          32826,
          32646,
          32467,
          32258,
          32058,
          31891,
          31729,
          31544,
          31320,
          31111,
          30903,
          30736,
          30582,
          30412,
          30251,
          30058,
          29882,
          29694,
          29523,
          29350,
          29165,
          29000,
          28849,
          28684,
          28506,
          28295,
          28106,
          27920,
          27729,
          27544,
          27356,
          27138,
          26920,
          26715,
          26494,
          26268,
          26058,
          25886,
          25713,
          25525,
          25340,
          25156,
          24973,
          24750,
          24570,
          24359,
          24176,
          23987,
          23786,
          23592,
          23381,
          23176,
          22979,
          22754,
          22533,
          22305,
          22091,
          21832,
          21637,
          21423,
          21212,
          20980,
          20784,
          20598,
          20401,
          20186,
          19989,
          19797,
          19611,
          19425,
          19199,
          19016,
          18825,
          18612,
          18422,
          18235,
          18039,
          17832,
          17612,
          17413,
          17182,
          16967,
          16787,
          16581,
          16390,
          16190,
          16015,
          15803,
          15619,
          15454,
          15274,
          15083,
          14899,
          14710,
          14551,
          14368,
          14193,
          13984,
          13812,
          13622,
          13415,
          13207,
          13014,
          12808,
          12610,
          12437,
          12242,
          12093,
          11915,
          11735,
          11576,
          11419,
          11231,
          11082,
          10928,
          10756,
          10598,
          10405,
          10227,
          10077,
          9922,
          9755,
          9619,
          9469,
          9305,
          9172,
          9024,
          8882,
          8741,
          8593,
          8453,
          8311,
          8165,
          8043,
          7921,
          7793,
          7661,
          7524,
          7393,
          7275,
          7148,
          7042,
          6919,
          6779,
          6678,
          6552,
          6439,
          6338,
          6197,
          6089,
          5976,
          5853,
          5739,
          5620,
          5493,
          5401,
          5282,
          5181,
          5055,
          4949,
          4846,
          4733,
          4629,
          4515,
          4420,
          4320,
          4205,
          4104,
          3995,
          3917,
          3844,
          3780,
          3699,
          3637,
          3565,
          3490,
          3433,
          3376,
          3309,
          3251,
          3193,
          3144,
          3098,
          3041,
          2990,
          2938,
          2879,
          2822,
          2767,
          2716,
          2657,
          2596,
          2534,
          2470,
          2415,
          2362,
          2308,
          2244,
          2189,
          2136,
          2084,
          2040,
          1994,
          1944,
          1886,
          1834,
          1787,
          1750,
          1712,
          1673,
          1628,
          1595,
          1569,
          1547,
          1515,
          1484,
          1457,
          1426,
          1398,
          1369,
          1342,
          1321,
          1293,
          1264,
          1237,
          1206,
          1172,
          1140,
          1115,
          1081,
          1054,
          1030,
          1005,
          983,
          956,
          930,
          902,
          876,
          855,
          814,
          786,
          760,
          740,
          720,
          702,
          689,
          670,
          654,
          639,
          614,
          589,
          567,
          546,
          516,
          495,
          480,
          458,
          447,
          439,
          422,
          406,
          396,
          383,
          369,
          361,
          349
         ]
        }
       ],
       "layout": {
        "template": {
         "data": {
          "bar": [
           {
            "error_x": {
             "color": "#2a3f5f"
            },
            "error_y": {
             "color": "#2a3f5f"
            },
            "marker": {
             "line": {
              "color": "#E5ECF6",
              "width": 0.5
             },
             "pattern": {
              "fillmode": "overlay",
              "size": 10,
              "solidity": 0.2
             }
            },
            "type": "bar"
           }
          ],
          "barpolar": [
           {
            "marker": {
             "line": {
              "color": "#E5ECF6",
              "width": 0.5
             },
             "pattern": {
              "fillmode": "overlay",
              "size": 10,
              "solidity": 0.2
             }
            },
            "type": "barpolar"
           }
          ],
          "carpet": [
           {
            "aaxis": {
             "endlinecolor": "#2a3f5f",
             "gridcolor": "white",
             "linecolor": "white",
             "minorgridcolor": "white",
             "startlinecolor": "#2a3f5f"
            },
            "baxis": {
             "endlinecolor": "#2a3f5f",
             "gridcolor": "white",
             "linecolor": "white",
             "minorgridcolor": "white",
             "startlinecolor": "#2a3f5f"
            },
            "type": "carpet"
           }
          ],
          "choropleth": [
           {
            "colorbar": {
             "outlinewidth": 0,
             "ticks": ""
            },
            "type": "choropleth"
           }
          ],
          "contour": [
           {
            "colorbar": {
             "outlinewidth": 0,
             "ticks": ""
            },
            "colorscale": [
             [
              0,
              "#0d0887"
             ],
             [
              0.1111111111111111,
              "#46039f"
             ],
             [
              0.2222222222222222,
              "#7201a8"
             ],
             [
              0.3333333333333333,
              "#9c179e"
             ],
             [
              0.4444444444444444,
              "#bd3786"
             ],
             [
              0.5555555555555556,
              "#d8576b"
             ],
             [
              0.6666666666666666,
              "#ed7953"
             ],
             [
              0.7777777777777778,
              "#fb9f3a"
             ],
             [
              0.8888888888888888,
              "#fdca26"
             ],
             [
              1,
              "#f0f921"
             ]
            ],
            "type": "contour"
           }
          ],
          "contourcarpet": [
           {
            "colorbar": {
             "outlinewidth": 0,
             "ticks": ""
            },
            "type": "contourcarpet"
           }
          ],
          "heatmap": [
           {
            "colorbar": {
             "outlinewidth": 0,
             "ticks": ""
            },
            "colorscale": [
             [
              0,
              "#0d0887"
             ],
             [
              0.1111111111111111,
              "#46039f"
             ],
             [
              0.2222222222222222,
              "#7201a8"
             ],
             [
              0.3333333333333333,
              "#9c179e"
             ],
             [
              0.4444444444444444,
              "#bd3786"
             ],
             [
              0.5555555555555556,
              "#d8576b"
             ],
             [
              0.6666666666666666,
              "#ed7953"
             ],
             [
              0.7777777777777778,
              "#fb9f3a"
             ],
             [
              0.8888888888888888,
              "#fdca26"
             ],
             [
              1,
              "#f0f921"
             ]
            ],
            "type": "heatmap"
           }
          ],
          "heatmapgl": [
           {
            "colorbar": {
             "outlinewidth": 0,
             "ticks": ""
            },
            "colorscale": [
             [
              0,
              "#0d0887"
             ],
             [
              0.1111111111111111,
              "#46039f"
             ],
             [
              0.2222222222222222,
              "#7201a8"
             ],
             [
              0.3333333333333333,
              "#9c179e"
             ],
             [
              0.4444444444444444,
              "#bd3786"
             ],
             [
              0.5555555555555556,
              "#d8576b"
             ],
             [
              0.6666666666666666,
              "#ed7953"
             ],
             [
              0.7777777777777778,
              "#fb9f3a"
             ],
             [
              0.8888888888888888,
              "#fdca26"
             ],
             [
              1,
              "#f0f921"
             ]
            ],
            "type": "heatmapgl"
           }
          ],
          "histogram": [
           {
            "marker": {
             "pattern": {
              "fillmode": "overlay",
              "size": 10,
              "solidity": 0.2
             }
            },
            "type": "histogram"
           }
          ],
          "histogram2d": [
           {
            "colorbar": {
             "outlinewidth": 0,
             "ticks": ""
            },
            "colorscale": [
             [
              0,
              "#0d0887"
             ],
             [
              0.1111111111111111,
              "#46039f"
             ],
             [
              0.2222222222222222,
              "#7201a8"
             ],
             [
              0.3333333333333333,
              "#9c179e"
             ],
             [
              0.4444444444444444,
              "#bd3786"
             ],
             [
              0.5555555555555556,
              "#d8576b"
             ],
             [
              0.6666666666666666,
              "#ed7953"
             ],
             [
              0.7777777777777778,
              "#fb9f3a"
             ],
             [
              0.8888888888888888,
              "#fdca26"
             ],
             [
              1,
              "#f0f921"
             ]
            ],
            "type": "histogram2d"
           }
          ],
          "histogram2dcontour": [
           {
            "colorbar": {
             "outlinewidth": 0,
             "ticks": ""
            },
            "colorscale": [
             [
              0,
              "#0d0887"
             ],
             [
              0.1111111111111111,
              "#46039f"
             ],
             [
              0.2222222222222222,
              "#7201a8"
             ],
             [
              0.3333333333333333,
              "#9c179e"
             ],
             [
              0.4444444444444444,
              "#bd3786"
             ],
             [
              0.5555555555555556,
              "#d8576b"
             ],
             [
              0.6666666666666666,
              "#ed7953"
             ],
             [
              0.7777777777777778,
              "#fb9f3a"
             ],
             [
              0.8888888888888888,
              "#fdca26"
             ],
             [
              1,
              "#f0f921"
             ]
            ],
            "type": "histogram2dcontour"
           }
          ],
          "mesh3d": [
           {
            "colorbar": {
             "outlinewidth": 0,
             "ticks": ""
            },
            "type": "mesh3d"
           }
          ],
          "parcoords": [
           {
            "line": {
             "colorbar": {
              "outlinewidth": 0,
              "ticks": ""
             }
            },
            "type": "parcoords"
           }
          ],
          "pie": [
           {
            "automargin": true,
            "type": "pie"
           }
          ],
          "scatter": [
           {
            "fillpattern": {
             "fillmode": "overlay",
             "size": 10,
             "solidity": 0.2
            },
            "type": "scatter"
           }
          ],
          "scatter3d": [
           {
            "line": {
             "colorbar": {
              "outlinewidth": 0,
              "ticks": ""
             }
            },
            "marker": {
             "colorbar": {
              "outlinewidth": 0,
              "ticks": ""
             }
            },
            "type": "scatter3d"
           }
          ],
          "scattercarpet": [
           {
            "marker": {
             "colorbar": {
              "outlinewidth": 0,
              "ticks": ""
             }
            },
            "type": "scattercarpet"
           }
          ],
          "scattergeo": [
           {
            "marker": {
             "colorbar": {
              "outlinewidth": 0,
              "ticks": ""
             }
            },
            "type": "scattergeo"
           }
          ],
          "scattergl": [
           {
            "marker": {
             "colorbar": {
              "outlinewidth": 0,
              "ticks": ""
             }
            },
            "type": "scattergl"
           }
          ],
          "scattermapbox": [
           {
            "marker": {
             "colorbar": {
              "outlinewidth": 0,
              "ticks": ""
             }
            },
            "type": "scattermapbox"
           }
          ],
          "scatterpolar": [
           {
            "marker": {
             "colorbar": {
              "outlinewidth": 0,
              "ticks": ""
             }
            },
            "type": "scatterpolar"
           }
          ],
          "scatterpolargl": [
           {
            "marker": {
             "colorbar": {
              "outlinewidth": 0,
              "ticks": ""
             }
            },
            "type": "scatterpolargl"
           }
          ],
          "scatterternary": [
           {
            "marker": {
             "colorbar": {
              "outlinewidth": 0,
              "ticks": ""
             }
            },
            "type": "scatterternary"
           }
          ],
          "surface": [
           {
            "colorbar": {
             "outlinewidth": 0,
             "ticks": ""
            },
            "colorscale": [
             [
              0,
              "#0d0887"
             ],
             [
              0.1111111111111111,
              "#46039f"
             ],
             [
              0.2222222222222222,
              "#7201a8"
             ],
             [
              0.3333333333333333,
              "#9c179e"
             ],
             [
              0.4444444444444444,
              "#bd3786"
             ],
             [
              0.5555555555555556,
              "#d8576b"
             ],
             [
              0.6666666666666666,
              "#ed7953"
             ],
             [
              0.7777777777777778,
              "#fb9f3a"
             ],
             [
              0.8888888888888888,
              "#fdca26"
             ],
             [
              1,
              "#f0f921"
             ]
            ],
            "type": "surface"
           }
          ],
          "table": [
           {
            "cells": {
             "fill": {
              "color": "#EBF0F8"
             },
             "line": {
              "color": "white"
             }
            },
            "header": {
             "fill": {
              "color": "#C8D4E3"
             },
             "line": {
              "color": "white"
             }
            },
            "type": "table"
           }
          ]
         },
         "layout": {
          "annotationdefaults": {
           "arrowcolor": "#2a3f5f",
           "arrowhead": 0,
           "arrowwidth": 1
          },
          "autotypenumbers": "strict",
          "coloraxis": {
           "colorbar": {
            "outlinewidth": 0,
            "ticks": ""
           }
          },
          "colorscale": {
           "diverging": [
            [
             0,
             "#8e0152"
            ],
            [
             0.1,
             "#c51b7d"
            ],
            [
             0.2,
             "#de77ae"
            ],
            [
             0.3,
             "#f1b6da"
            ],
            [
             0.4,
             "#fde0ef"
            ],
            [
             0.5,
             "#f7f7f7"
            ],
            [
             0.6,
             "#e6f5d0"
            ],
            [
             0.7,
             "#b8e186"
            ],
            [
             0.8,
             "#7fbc41"
            ],
            [
             0.9,
             "#4d9221"
            ],
            [
             1,
             "#276419"
            ]
           ],
           "sequential": [
            [
             0,
             "#0d0887"
            ],
            [
             0.1111111111111111,
             "#46039f"
            ],
            [
             0.2222222222222222,
             "#7201a8"
            ],
            [
             0.3333333333333333,
             "#9c179e"
            ],
            [
             0.4444444444444444,
             "#bd3786"
            ],
            [
             0.5555555555555556,
             "#d8576b"
            ],
            [
             0.6666666666666666,
             "#ed7953"
            ],
            [
             0.7777777777777778,
             "#fb9f3a"
            ],
            [
             0.8888888888888888,
             "#fdca26"
            ],
            [
             1,
             "#f0f921"
            ]
           ],
           "sequentialminus": [
            [
             0,
             "#0d0887"
            ],
            [
             0.1111111111111111,
             "#46039f"
            ],
            [
             0.2222222222222222,
             "#7201a8"
            ],
            [
             0.3333333333333333,
             "#9c179e"
            ],
            [
             0.4444444444444444,
             "#bd3786"
            ],
            [
             0.5555555555555556,
             "#d8576b"
            ],
            [
             0.6666666666666666,
             "#ed7953"
            ],
            [
             0.7777777777777778,
             "#fb9f3a"
            ],
            [
             0.8888888888888888,
             "#fdca26"
            ],
            [
             1,
             "#f0f921"
            ]
           ]
          },
          "colorway": [
           "#636efa",
           "#EF553B",
           "#00cc96",
           "#ab63fa",
           "#FFA15A",
           "#19d3f3",
           "#FF6692",
           "#B6E880",
           "#FF97FF",
           "#FECB52"
          ],
          "font": {
           "color": "#2a3f5f"
          },
          "geo": {
           "bgcolor": "white",
           "lakecolor": "white",
           "landcolor": "#E5ECF6",
           "showlakes": true,
           "showland": true,
           "subunitcolor": "white"
          },
          "hoverlabel": {
           "align": "left"
          },
          "hovermode": "closest",
          "mapbox": {
           "style": "light"
          },
          "paper_bgcolor": "white",
          "plot_bgcolor": "#E5ECF6",
          "polar": {
           "angularaxis": {
            "gridcolor": "white",
            "linecolor": "white",
            "ticks": ""
           },
           "bgcolor": "#E5ECF6",
           "radialaxis": {
            "gridcolor": "white",
            "linecolor": "white",
            "ticks": ""
           }
          },
          "scene": {
           "xaxis": {
            "backgroundcolor": "#E5ECF6",
            "gridcolor": "white",
            "gridwidth": 2,
            "linecolor": "white",
            "showbackground": true,
            "ticks": "",
            "zerolinecolor": "white"
           },
           "yaxis": {
            "backgroundcolor": "#E5ECF6",
            "gridcolor": "white",
            "gridwidth": 2,
            "linecolor": "white",
            "showbackground": true,
            "ticks": "",
            "zerolinecolor": "white"
           },
           "zaxis": {
            "backgroundcolor": "#E5ECF6",
            "gridcolor": "white",
            "gridwidth": 2,
            "linecolor": "white",
            "showbackground": true,
            "ticks": "",
            "zerolinecolor": "white"
           }
          },
          "shapedefaults": {
           "line": {
            "color": "#2a3f5f"
           }
          },
          "ternary": {
           "aaxis": {
            "gridcolor": "white",
            "linecolor": "white",
            "ticks": ""
           },
           "baxis": {
            "gridcolor": "white",
            "linecolor": "white",
            "ticks": ""
           },
           "bgcolor": "#E5ECF6",
           "caxis": {
            "gridcolor": "white",
            "linecolor": "white",
            "ticks": ""
           }
          },
          "title": {
           "x": 0.05
          },
          "xaxis": {
           "automargin": true,
           "gridcolor": "white",
           "linecolor": "white",
           "ticks": "",
           "title": {
            "standoff": 15
           },
           "zerolinecolor": "white",
           "zerolinewidth": 2
          },
          "yaxis": {
           "automargin": true,
           "gridcolor": "white",
           "linecolor": "white",
           "ticks": "",
           "title": {
            "standoff": 15
           },
           "zerolinecolor": "white",
           "zerolinewidth": 2
          }
         }
        },
        "title": {
         "text": "Anzahl der Viertelstunden mit erneuerbarer Energieerzeugung über oder gleich dem Verbrauch"
        },
        "xaxis": {
         "title": {
          "text": "Prozentsatz erneuerbarer Energie"
         }
        },
        "yaxis": {
         "title": {
          "text": "Anzahl der Viertelstunden"
         }
        }
       }
      }
     },
     "metadata": {},
     "output_type": "display_data"
    },
    {
     "data": {
      "application/vnd.plotly.v1+json": {
       "config": {
        "plotlyServerURL": "https://plot.ly"
       },
       "data": [
        {
         "name": "Power in GW (Consumption)",
         "type": "bar",
         "width": 0.5,
         "x": [
          "80%",
          "90%",
          "100%"
         ],
         "y": [
          40.720180073163455,
          47.57966553707867,
          54.47957954273992
         ]
        },
        {
         "name": "Power in GW (Surplus)",
         "type": "bar",
         "width": 0.5,
         "x": [
          "80%",
          "90%",
          "100%"
         ],
         "y": [
          142.78693249905308,
          137.0246637578681,
          131.29113790735113
         ]
        }
       ],
       "layout": {
        "barmode": "group",
        "template": {
         "data": {
          "bar": [
           {
            "error_x": {
             "color": "#2a3f5f"
            },
            "error_y": {
             "color": "#2a3f5f"
            },
            "marker": {
             "line": {
              "color": "#E5ECF6",
              "width": 0.5
             },
             "pattern": {
              "fillmode": "overlay",
              "size": 10,
              "solidity": 0.2
             }
            },
            "type": "bar"
           }
          ],
          "barpolar": [
           {
            "marker": {
             "line": {
              "color": "#E5ECF6",
              "width": 0.5
             },
             "pattern": {
              "fillmode": "overlay",
              "size": 10,
              "solidity": 0.2
             }
            },
            "type": "barpolar"
           }
          ],
          "carpet": [
           {
            "aaxis": {
             "endlinecolor": "#2a3f5f",
             "gridcolor": "white",
             "linecolor": "white",
             "minorgridcolor": "white",
             "startlinecolor": "#2a3f5f"
            },
            "baxis": {
             "endlinecolor": "#2a3f5f",
             "gridcolor": "white",
             "linecolor": "white",
             "minorgridcolor": "white",
             "startlinecolor": "#2a3f5f"
            },
            "type": "carpet"
           }
          ],
          "choropleth": [
           {
            "colorbar": {
             "outlinewidth": 0,
             "ticks": ""
            },
            "type": "choropleth"
           }
          ],
          "contour": [
           {
            "colorbar": {
             "outlinewidth": 0,
             "ticks": ""
            },
            "colorscale": [
             [
              0,
              "#0d0887"
             ],
             [
              0.1111111111111111,
              "#46039f"
             ],
             [
              0.2222222222222222,
              "#7201a8"
             ],
             [
              0.3333333333333333,
              "#9c179e"
             ],
             [
              0.4444444444444444,
              "#bd3786"
             ],
             [
              0.5555555555555556,
              "#d8576b"
             ],
             [
              0.6666666666666666,
              "#ed7953"
             ],
             [
              0.7777777777777778,
              "#fb9f3a"
             ],
             [
              0.8888888888888888,
              "#fdca26"
             ],
             [
              1,
              "#f0f921"
             ]
            ],
            "type": "contour"
           }
          ],
          "contourcarpet": [
           {
            "colorbar": {
             "outlinewidth": 0,
             "ticks": ""
            },
            "type": "contourcarpet"
           }
          ],
          "heatmap": [
           {
            "colorbar": {
             "outlinewidth": 0,
             "ticks": ""
            },
            "colorscale": [
             [
              0,
              "#0d0887"
             ],
             [
              0.1111111111111111,
              "#46039f"
             ],
             [
              0.2222222222222222,
              "#7201a8"
             ],
             [
              0.3333333333333333,
              "#9c179e"
             ],
             [
              0.4444444444444444,
              "#bd3786"
             ],
             [
              0.5555555555555556,
              "#d8576b"
             ],
             [
              0.6666666666666666,
              "#ed7953"
             ],
             [
              0.7777777777777778,
              "#fb9f3a"
             ],
             [
              0.8888888888888888,
              "#fdca26"
             ],
             [
              1,
              "#f0f921"
             ]
            ],
            "type": "heatmap"
           }
          ],
          "heatmapgl": [
           {
            "colorbar": {
             "outlinewidth": 0,
             "ticks": ""
            },
            "colorscale": [
             [
              0,
              "#0d0887"
             ],
             [
              0.1111111111111111,
              "#46039f"
             ],
             [
              0.2222222222222222,
              "#7201a8"
             ],
             [
              0.3333333333333333,
              "#9c179e"
             ],
             [
              0.4444444444444444,
              "#bd3786"
             ],
             [
              0.5555555555555556,
              "#d8576b"
             ],
             [
              0.6666666666666666,
              "#ed7953"
             ],
             [
              0.7777777777777778,
              "#fb9f3a"
             ],
             [
              0.8888888888888888,
              "#fdca26"
             ],
             [
              1,
              "#f0f921"
             ]
            ],
            "type": "heatmapgl"
           }
          ],
          "histogram": [
           {
            "marker": {
             "pattern": {
              "fillmode": "overlay",
              "size": 10,
              "solidity": 0.2
             }
            },
            "type": "histogram"
           }
          ],
          "histogram2d": [
           {
            "colorbar": {
             "outlinewidth": 0,
             "ticks": ""
            },
            "colorscale": [
             [
              0,
              "#0d0887"
             ],
             [
              0.1111111111111111,
              "#46039f"
             ],
             [
              0.2222222222222222,
              "#7201a8"
             ],
             [
              0.3333333333333333,
              "#9c179e"
             ],
             [
              0.4444444444444444,
              "#bd3786"
             ],
             [
              0.5555555555555556,
              "#d8576b"
             ],
             [
              0.6666666666666666,
              "#ed7953"
             ],
             [
              0.7777777777777778,
              "#fb9f3a"
             ],
             [
              0.8888888888888888,
              "#fdca26"
             ],
             [
              1,
              "#f0f921"
             ]
            ],
            "type": "histogram2d"
           }
          ],
          "histogram2dcontour": [
           {
            "colorbar": {
             "outlinewidth": 0,
             "ticks": ""
            },
            "colorscale": [
             [
              0,
              "#0d0887"
             ],
             [
              0.1111111111111111,
              "#46039f"
             ],
             [
              0.2222222222222222,
              "#7201a8"
             ],
             [
              0.3333333333333333,
              "#9c179e"
             ],
             [
              0.4444444444444444,
              "#bd3786"
             ],
             [
              0.5555555555555556,
              "#d8576b"
             ],
             [
              0.6666666666666666,
              "#ed7953"
             ],
             [
              0.7777777777777778,
              "#fb9f3a"
             ],
             [
              0.8888888888888888,
              "#fdca26"
             ],
             [
              1,
              "#f0f921"
             ]
            ],
            "type": "histogram2dcontour"
           }
          ],
          "mesh3d": [
           {
            "colorbar": {
             "outlinewidth": 0,
             "ticks": ""
            },
            "type": "mesh3d"
           }
          ],
          "parcoords": [
           {
            "line": {
             "colorbar": {
              "outlinewidth": 0,
              "ticks": ""
             }
            },
            "type": "parcoords"
           }
          ],
          "pie": [
           {
            "automargin": true,
            "type": "pie"
           }
          ],
          "scatter": [
           {
            "fillpattern": {
             "fillmode": "overlay",
             "size": 10,
             "solidity": 0.2
            },
            "type": "scatter"
           }
          ],
          "scatter3d": [
           {
            "line": {
             "colorbar": {
              "outlinewidth": 0,
              "ticks": ""
             }
            },
            "marker": {
             "colorbar": {
              "outlinewidth": 0,
              "ticks": ""
             }
            },
            "type": "scatter3d"
           }
          ],
          "scattercarpet": [
           {
            "marker": {
             "colorbar": {
              "outlinewidth": 0,
              "ticks": ""
             }
            },
            "type": "scattercarpet"
           }
          ],
          "scattergeo": [
           {
            "marker": {
             "colorbar": {
              "outlinewidth": 0,
              "ticks": ""
             }
            },
            "type": "scattergeo"
           }
          ],
          "scattergl": [
           {
            "marker": {
             "colorbar": {
              "outlinewidth": 0,
              "ticks": ""
             }
            },
            "type": "scattergl"
           }
          ],
          "scattermapbox": [
           {
            "marker": {
             "colorbar": {
              "outlinewidth": 0,
              "ticks": ""
             }
            },
            "type": "scattermapbox"
           }
          ],
          "scatterpolar": [
           {
            "marker": {
             "colorbar": {
              "outlinewidth": 0,
              "ticks": ""
             }
            },
            "type": "scatterpolar"
           }
          ],
          "scatterpolargl": [
           {
            "marker": {
             "colorbar": {
              "outlinewidth": 0,
              "ticks": ""
             }
            },
            "type": "scatterpolargl"
           }
          ],
          "scatterternary": [
           {
            "marker": {
             "colorbar": {
              "outlinewidth": 0,
              "ticks": ""
             }
            },
            "type": "scatterternary"
           }
          ],
          "surface": [
           {
            "colorbar": {
             "outlinewidth": 0,
             "ticks": ""
            },
            "colorscale": [
             [
              0,
              "#0d0887"
             ],
             [
              0.1111111111111111,
              "#46039f"
             ],
             [
              0.2222222222222222,
              "#7201a8"
             ],
             [
              0.3333333333333333,
              "#9c179e"
             ],
             [
              0.4444444444444444,
              "#bd3786"
             ],
             [
              0.5555555555555556,
              "#d8576b"
             ],
             [
              0.6666666666666666,
              "#ed7953"
             ],
             [
              0.7777777777777778,
              "#fb9f3a"
             ],
             [
              0.8888888888888888,
              "#fdca26"
             ],
             [
              1,
              "#f0f921"
             ]
            ],
            "type": "surface"
           }
          ],
          "table": [
           {
            "cells": {
             "fill": {
              "color": "#EBF0F8"
             },
             "line": {
              "color": "white"
             }
            },
            "header": {
             "fill": {
              "color": "#C8D4E3"
             },
             "line": {
              "color": "white"
             }
            },
            "type": "table"
           }
          ]
         },
         "layout": {
          "annotationdefaults": {
           "arrowcolor": "#2a3f5f",
           "arrowhead": 0,
           "arrowwidth": 1
          },
          "autotypenumbers": "strict",
          "coloraxis": {
           "colorbar": {
            "outlinewidth": 0,
            "ticks": ""
           }
          },
          "colorscale": {
           "diverging": [
            [
             0,
             "#8e0152"
            ],
            [
             0.1,
             "#c51b7d"
            ],
            [
             0.2,
             "#de77ae"
            ],
            [
             0.3,
             "#f1b6da"
            ],
            [
             0.4,
             "#fde0ef"
            ],
            [
             0.5,
             "#f7f7f7"
            ],
            [
             0.6,
             "#e6f5d0"
            ],
            [
             0.7,
             "#b8e186"
            ],
            [
             0.8,
             "#7fbc41"
            ],
            [
             0.9,
             "#4d9221"
            ],
            [
             1,
             "#276419"
            ]
           ],
           "sequential": [
            [
             0,
             "#0d0887"
            ],
            [
             0.1111111111111111,
             "#46039f"
            ],
            [
             0.2222222222222222,
             "#7201a8"
            ],
            [
             0.3333333333333333,
             "#9c179e"
            ],
            [
             0.4444444444444444,
             "#bd3786"
            ],
            [
             0.5555555555555556,
             "#d8576b"
            ],
            [
             0.6666666666666666,
             "#ed7953"
            ],
            [
             0.7777777777777778,
             "#fb9f3a"
            ],
            [
             0.8888888888888888,
             "#fdca26"
            ],
            [
             1,
             "#f0f921"
            ]
           ],
           "sequentialminus": [
            [
             0,
             "#0d0887"
            ],
            [
             0.1111111111111111,
             "#46039f"
            ],
            [
             0.2222222222222222,
             "#7201a8"
            ],
            [
             0.3333333333333333,
             "#9c179e"
            ],
            [
             0.4444444444444444,
             "#bd3786"
            ],
            [
             0.5555555555555556,
             "#d8576b"
            ],
            [
             0.6666666666666666,
             "#ed7953"
            ],
            [
             0.7777777777777778,
             "#fb9f3a"
            ],
            [
             0.8888888888888888,
             "#fdca26"
            ],
            [
             1,
             "#f0f921"
            ]
           ]
          },
          "colorway": [
           "#636efa",
           "#EF553B",
           "#00cc96",
           "#ab63fa",
           "#FFA15A",
           "#19d3f3",
           "#FF6692",
           "#B6E880",
           "#FF97FF",
           "#FECB52"
          ],
          "font": {
           "color": "#2a3f5f"
          },
          "geo": {
           "bgcolor": "white",
           "lakecolor": "white",
           "landcolor": "#E5ECF6",
           "showlakes": true,
           "showland": true,
           "subunitcolor": "white"
          },
          "hoverlabel": {
           "align": "left"
          },
          "hovermode": "closest",
          "mapbox": {
           "style": "light"
          },
          "paper_bgcolor": "white",
          "plot_bgcolor": "#E5ECF6",
          "polar": {
           "angularaxis": {
            "gridcolor": "white",
            "linecolor": "white",
            "ticks": ""
           },
           "bgcolor": "#E5ECF6",
           "radialaxis": {
            "gridcolor": "white",
            "linecolor": "white",
            "ticks": ""
           }
          },
          "scene": {
           "xaxis": {
            "backgroundcolor": "#E5ECF6",
            "gridcolor": "white",
            "gridwidth": 2,
            "linecolor": "white",
            "showbackground": true,
            "ticks": "",
            "zerolinecolor": "white"
           },
           "yaxis": {
            "backgroundcolor": "#E5ECF6",
            "gridcolor": "white",
            "gridwidth": 2,
            "linecolor": "white",
            "showbackground": true,
            "ticks": "",
            "zerolinecolor": "white"
           },
           "zaxis": {
            "backgroundcolor": "#E5ECF6",
            "gridcolor": "white",
            "gridwidth": 2,
            "linecolor": "white",
            "showbackground": true,
            "ticks": "",
            "zerolinecolor": "white"
           }
          },
          "shapedefaults": {
           "line": {
            "color": "#2a3f5f"
           }
          },
          "ternary": {
           "aaxis": {
            "gridcolor": "white",
            "linecolor": "white",
            "ticks": ""
           },
           "baxis": {
            "gridcolor": "white",
            "linecolor": "white",
            "ticks": ""
           },
           "bgcolor": "#E5ECF6",
           "caxis": {
            "gridcolor": "white",
            "linecolor": "white",
            "ticks": ""
           }
          },
          "title": {
           "x": 0.05
          },
          "xaxis": {
           "automargin": true,
           "gridcolor": "white",
           "linecolor": "white",
           "ticks": "",
           "title": {
            "standoff": 15
           },
           "zerolinecolor": "white",
           "zerolinewidth": 2
          },
          "yaxis": {
           "automargin": true,
           "gridcolor": "white",
           "linecolor": "white",
           "ticks": "",
           "title": {
            "standoff": 15
           },
           "zerolinecolor": "white",
           "zerolinewidth": 2
          }
         }
        },
        "title": {
         "text": "Required power of storage [GW] for 80-100 % coverage of consumption and surplus"
        },
        "xaxis": {
         "tickmode": "array",
         "tickvals": [
          80,
          90,
          100
         ],
         "title": {
          "text": "Covered Consumption by storage [%]"
         }
        },
        "yaxis": {
         "title": {
          "text": "Required power of storage [GW]"
         }
        }
       }
      }
     },
     "metadata": {},
     "output_type": "display_data"
    },
    {
     "data": {
      "text/html": [
       "<div>\n",
       "<style scoped>\n",
       "    .dataframe tbody tr th:only-of-type {\n",
       "        vertical-align: middle;\n",
       "    }\n",
       "\n",
       "    .dataframe tbody tr th {\n",
       "        vertical-align: top;\n",
       "    }\n",
       "\n",
       "    .dataframe thead th {\n",
       "        text-align: right;\n",
       "    }\n",
       "</style>\n",
       "<table border=\"1\" class=\"dataframe\">\n",
       "  <thead>\n",
       "    <tr style=\"text-align: right;\">\n",
       "      <th></th>\n",
       "      <th>Percentage</th>\n",
       "      <th>Power in GW (Consumption)</th>\n",
       "      <th>Power in GW (Surplus)</th>\n",
       "    </tr>\n",
       "  </thead>\n",
       "  <tbody>\n",
       "    <tr>\n",
       "      <th>0</th>\n",
       "      <td>80%</td>\n",
       "      <td>40.72</td>\n",
       "      <td>142.79</td>\n",
       "    </tr>\n",
       "    <tr>\n",
       "      <th>1</th>\n",
       "      <td>90%</td>\n",
       "      <td>47.58</td>\n",
       "      <td>137.02</td>\n",
       "    </tr>\n",
       "    <tr>\n",
       "      <th>2</th>\n",
       "      <td>100%</td>\n",
       "      <td>54.48</td>\n",
       "      <td>131.29</td>\n",
       "    </tr>\n",
       "  </tbody>\n",
       "</table>\n",
       "</div>"
      ],
      "text/plain": [
       "  Percentage  Power in GW (Consumption)  Power in GW (Surplus)\n",
       "0        80%                      40.72                 142.79\n",
       "1        90%                      47.58                 137.02\n",
       "2       100%                      54.48                 131.29"
      ]
     },
     "metadata": {},
     "output_type": "display_data"
    },
    {
     "name": "stdout",
     "output_type": "stream",
     "text": [
      "11000000\n",
      "11000000\n",
      "13000000\n"
     ]
    },
    {
     "data": {
      "application/vnd.plotly.v1+json": {
       "config": {
        "plotlyServerURL": "https://plot.ly"
       },
       "data": [
        {
         "name": "Capacity in MWh (Consumption)",
         "type": "bar",
         "width": 0.5,
         "x": [
          "80%",
          "90%",
          "100%"
         ],
         "y": [
          11,
          11,
          13
         ]
        }
       ],
       "layout": {
        "template": {
         "data": {
          "bar": [
           {
            "error_x": {
             "color": "#2a3f5f"
            },
            "error_y": {
             "color": "#2a3f5f"
            },
            "marker": {
             "line": {
              "color": "#E5ECF6",
              "width": 0.5
             },
             "pattern": {
              "fillmode": "overlay",
              "size": 10,
              "solidity": 0.2
             }
            },
            "type": "bar"
           }
          ],
          "barpolar": [
           {
            "marker": {
             "line": {
              "color": "#E5ECF6",
              "width": 0.5
             },
             "pattern": {
              "fillmode": "overlay",
              "size": 10,
              "solidity": 0.2
             }
            },
            "type": "barpolar"
           }
          ],
          "carpet": [
           {
            "aaxis": {
             "endlinecolor": "#2a3f5f",
             "gridcolor": "white",
             "linecolor": "white",
             "minorgridcolor": "white",
             "startlinecolor": "#2a3f5f"
            },
            "baxis": {
             "endlinecolor": "#2a3f5f",
             "gridcolor": "white",
             "linecolor": "white",
             "minorgridcolor": "white",
             "startlinecolor": "#2a3f5f"
            },
            "type": "carpet"
           }
          ],
          "choropleth": [
           {
            "colorbar": {
             "outlinewidth": 0,
             "ticks": ""
            },
            "type": "choropleth"
           }
          ],
          "contour": [
           {
            "colorbar": {
             "outlinewidth": 0,
             "ticks": ""
            },
            "colorscale": [
             [
              0,
              "#0d0887"
             ],
             [
              0.1111111111111111,
              "#46039f"
             ],
             [
              0.2222222222222222,
              "#7201a8"
             ],
             [
              0.3333333333333333,
              "#9c179e"
             ],
             [
              0.4444444444444444,
              "#bd3786"
             ],
             [
              0.5555555555555556,
              "#d8576b"
             ],
             [
              0.6666666666666666,
              "#ed7953"
             ],
             [
              0.7777777777777778,
              "#fb9f3a"
             ],
             [
              0.8888888888888888,
              "#fdca26"
             ],
             [
              1,
              "#f0f921"
             ]
            ],
            "type": "contour"
           }
          ],
          "contourcarpet": [
           {
            "colorbar": {
             "outlinewidth": 0,
             "ticks": ""
            },
            "type": "contourcarpet"
           }
          ],
          "heatmap": [
           {
            "colorbar": {
             "outlinewidth": 0,
             "ticks": ""
            },
            "colorscale": [
             [
              0,
              "#0d0887"
             ],
             [
              0.1111111111111111,
              "#46039f"
             ],
             [
              0.2222222222222222,
              "#7201a8"
             ],
             [
              0.3333333333333333,
              "#9c179e"
             ],
             [
              0.4444444444444444,
              "#bd3786"
             ],
             [
              0.5555555555555556,
              "#d8576b"
             ],
             [
              0.6666666666666666,
              "#ed7953"
             ],
             [
              0.7777777777777778,
              "#fb9f3a"
             ],
             [
              0.8888888888888888,
              "#fdca26"
             ],
             [
              1,
              "#f0f921"
             ]
            ],
            "type": "heatmap"
           }
          ],
          "heatmapgl": [
           {
            "colorbar": {
             "outlinewidth": 0,
             "ticks": ""
            },
            "colorscale": [
             [
              0,
              "#0d0887"
             ],
             [
              0.1111111111111111,
              "#46039f"
             ],
             [
              0.2222222222222222,
              "#7201a8"
             ],
             [
              0.3333333333333333,
              "#9c179e"
             ],
             [
              0.4444444444444444,
              "#bd3786"
             ],
             [
              0.5555555555555556,
              "#d8576b"
             ],
             [
              0.6666666666666666,
              "#ed7953"
             ],
             [
              0.7777777777777778,
              "#fb9f3a"
             ],
             [
              0.8888888888888888,
              "#fdca26"
             ],
             [
              1,
              "#f0f921"
             ]
            ],
            "type": "heatmapgl"
           }
          ],
          "histogram": [
           {
            "marker": {
             "pattern": {
              "fillmode": "overlay",
              "size": 10,
              "solidity": 0.2
             }
            },
            "type": "histogram"
           }
          ],
          "histogram2d": [
           {
            "colorbar": {
             "outlinewidth": 0,
             "ticks": ""
            },
            "colorscale": [
             [
              0,
              "#0d0887"
             ],
             [
              0.1111111111111111,
              "#46039f"
             ],
             [
              0.2222222222222222,
              "#7201a8"
             ],
             [
              0.3333333333333333,
              "#9c179e"
             ],
             [
              0.4444444444444444,
              "#bd3786"
             ],
             [
              0.5555555555555556,
              "#d8576b"
             ],
             [
              0.6666666666666666,
              "#ed7953"
             ],
             [
              0.7777777777777778,
              "#fb9f3a"
             ],
             [
              0.8888888888888888,
              "#fdca26"
             ],
             [
              1,
              "#f0f921"
             ]
            ],
            "type": "histogram2d"
           }
          ],
          "histogram2dcontour": [
           {
            "colorbar": {
             "outlinewidth": 0,
             "ticks": ""
            },
            "colorscale": [
             [
              0,
              "#0d0887"
             ],
             [
              0.1111111111111111,
              "#46039f"
             ],
             [
              0.2222222222222222,
              "#7201a8"
             ],
             [
              0.3333333333333333,
              "#9c179e"
             ],
             [
              0.4444444444444444,
              "#bd3786"
             ],
             [
              0.5555555555555556,
              "#d8576b"
             ],
             [
              0.6666666666666666,
              "#ed7953"
             ],
             [
              0.7777777777777778,
              "#fb9f3a"
             ],
             [
              0.8888888888888888,
              "#fdca26"
             ],
             [
              1,
              "#f0f921"
             ]
            ],
            "type": "histogram2dcontour"
           }
          ],
          "mesh3d": [
           {
            "colorbar": {
             "outlinewidth": 0,
             "ticks": ""
            },
            "type": "mesh3d"
           }
          ],
          "parcoords": [
           {
            "line": {
             "colorbar": {
              "outlinewidth": 0,
              "ticks": ""
             }
            },
            "type": "parcoords"
           }
          ],
          "pie": [
           {
            "automargin": true,
            "type": "pie"
           }
          ],
          "scatter": [
           {
            "fillpattern": {
             "fillmode": "overlay",
             "size": 10,
             "solidity": 0.2
            },
            "type": "scatter"
           }
          ],
          "scatter3d": [
           {
            "line": {
             "colorbar": {
              "outlinewidth": 0,
              "ticks": ""
             }
            },
            "marker": {
             "colorbar": {
              "outlinewidth": 0,
              "ticks": ""
             }
            },
            "type": "scatter3d"
           }
          ],
          "scattercarpet": [
           {
            "marker": {
             "colorbar": {
              "outlinewidth": 0,
              "ticks": ""
             }
            },
            "type": "scattercarpet"
           }
          ],
          "scattergeo": [
           {
            "marker": {
             "colorbar": {
              "outlinewidth": 0,
              "ticks": ""
             }
            },
            "type": "scattergeo"
           }
          ],
          "scattergl": [
           {
            "marker": {
             "colorbar": {
              "outlinewidth": 0,
              "ticks": ""
             }
            },
            "type": "scattergl"
           }
          ],
          "scattermapbox": [
           {
            "marker": {
             "colorbar": {
              "outlinewidth": 0,
              "ticks": ""
             }
            },
            "type": "scattermapbox"
           }
          ],
          "scatterpolar": [
           {
            "marker": {
             "colorbar": {
              "outlinewidth": 0,
              "ticks": ""
             }
            },
            "type": "scatterpolar"
           }
          ],
          "scatterpolargl": [
           {
            "marker": {
             "colorbar": {
              "outlinewidth": 0,
              "ticks": ""
             }
            },
            "type": "scatterpolargl"
           }
          ],
          "scatterternary": [
           {
            "marker": {
             "colorbar": {
              "outlinewidth": 0,
              "ticks": ""
             }
            },
            "type": "scatterternary"
           }
          ],
          "surface": [
           {
            "colorbar": {
             "outlinewidth": 0,
             "ticks": ""
            },
            "colorscale": [
             [
              0,
              "#0d0887"
             ],
             [
              0.1111111111111111,
              "#46039f"
             ],
             [
              0.2222222222222222,
              "#7201a8"
             ],
             [
              0.3333333333333333,
              "#9c179e"
             ],
             [
              0.4444444444444444,
              "#bd3786"
             ],
             [
              0.5555555555555556,
              "#d8576b"
             ],
             [
              0.6666666666666666,
              "#ed7953"
             ],
             [
              0.7777777777777778,
              "#fb9f3a"
             ],
             [
              0.8888888888888888,
              "#fdca26"
             ],
             [
              1,
              "#f0f921"
             ]
            ],
            "type": "surface"
           }
          ],
          "table": [
           {
            "cells": {
             "fill": {
              "color": "#EBF0F8"
             },
             "line": {
              "color": "white"
             }
            },
            "header": {
             "fill": {
              "color": "#C8D4E3"
             },
             "line": {
              "color": "white"
             }
            },
            "type": "table"
           }
          ]
         },
         "layout": {
          "annotationdefaults": {
           "arrowcolor": "#2a3f5f",
           "arrowhead": 0,
           "arrowwidth": 1
          },
          "autotypenumbers": "strict",
          "coloraxis": {
           "colorbar": {
            "outlinewidth": 0,
            "ticks": ""
           }
          },
          "colorscale": {
           "diverging": [
            [
             0,
             "#8e0152"
            ],
            [
             0.1,
             "#c51b7d"
            ],
            [
             0.2,
             "#de77ae"
            ],
            [
             0.3,
             "#f1b6da"
            ],
            [
             0.4,
             "#fde0ef"
            ],
            [
             0.5,
             "#f7f7f7"
            ],
            [
             0.6,
             "#e6f5d0"
            ],
            [
             0.7,
             "#b8e186"
            ],
            [
             0.8,
             "#7fbc41"
            ],
            [
             0.9,
             "#4d9221"
            ],
            [
             1,
             "#276419"
            ]
           ],
           "sequential": [
            [
             0,
             "#0d0887"
            ],
            [
             0.1111111111111111,
             "#46039f"
            ],
            [
             0.2222222222222222,
             "#7201a8"
            ],
            [
             0.3333333333333333,
             "#9c179e"
            ],
            [
             0.4444444444444444,
             "#bd3786"
            ],
            [
             0.5555555555555556,
             "#d8576b"
            ],
            [
             0.6666666666666666,
             "#ed7953"
            ],
            [
             0.7777777777777778,
             "#fb9f3a"
            ],
            [
             0.8888888888888888,
             "#fdca26"
            ],
            [
             1,
             "#f0f921"
            ]
           ],
           "sequentialminus": [
            [
             0,
             "#0d0887"
            ],
            [
             0.1111111111111111,
             "#46039f"
            ],
            [
             0.2222222222222222,
             "#7201a8"
            ],
            [
             0.3333333333333333,
             "#9c179e"
            ],
            [
             0.4444444444444444,
             "#bd3786"
            ],
            [
             0.5555555555555556,
             "#d8576b"
            ],
            [
             0.6666666666666666,
             "#ed7953"
            ],
            [
             0.7777777777777778,
             "#fb9f3a"
            ],
            [
             0.8888888888888888,
             "#fdca26"
            ],
            [
             1,
             "#f0f921"
            ]
           ]
          },
          "colorway": [
           "#636efa",
           "#EF553B",
           "#00cc96",
           "#ab63fa",
           "#FFA15A",
           "#19d3f3",
           "#FF6692",
           "#B6E880",
           "#FF97FF",
           "#FECB52"
          ],
          "font": {
           "color": "#2a3f5f"
          },
          "geo": {
           "bgcolor": "white",
           "lakecolor": "white",
           "landcolor": "#E5ECF6",
           "showlakes": true,
           "showland": true,
           "subunitcolor": "white"
          },
          "hoverlabel": {
           "align": "left"
          },
          "hovermode": "closest",
          "mapbox": {
           "style": "light"
          },
          "paper_bgcolor": "white",
          "plot_bgcolor": "#E5ECF6",
          "polar": {
           "angularaxis": {
            "gridcolor": "white",
            "linecolor": "white",
            "ticks": ""
           },
           "bgcolor": "#E5ECF6",
           "radialaxis": {
            "gridcolor": "white",
            "linecolor": "white",
            "ticks": ""
           }
          },
          "scene": {
           "xaxis": {
            "backgroundcolor": "#E5ECF6",
            "gridcolor": "white",
            "gridwidth": 2,
            "linecolor": "white",
            "showbackground": true,
            "ticks": "",
            "zerolinecolor": "white"
           },
           "yaxis": {
            "backgroundcolor": "#E5ECF6",
            "gridcolor": "white",
            "gridwidth": 2,
            "linecolor": "white",
            "showbackground": true,
            "ticks": "",
            "zerolinecolor": "white"
           },
           "zaxis": {
            "backgroundcolor": "#E5ECF6",
            "gridcolor": "white",
            "gridwidth": 2,
            "linecolor": "white",
            "showbackground": true,
            "ticks": "",
            "zerolinecolor": "white"
           }
          },
          "shapedefaults": {
           "line": {
            "color": "#2a3f5f"
           }
          },
          "ternary": {
           "aaxis": {
            "gridcolor": "white",
            "linecolor": "white",
            "ticks": ""
           },
           "baxis": {
            "gridcolor": "white",
            "linecolor": "white",
            "ticks": ""
           },
           "bgcolor": "#E5ECF6",
           "caxis": {
            "gridcolor": "white",
            "linecolor": "white",
            "ticks": ""
           }
          },
          "title": {
           "x": 0.05
          },
          "xaxis": {
           "automargin": true,
           "gridcolor": "white",
           "linecolor": "white",
           "ticks": "",
           "title": {
            "standoff": 15
           },
           "zerolinecolor": "white",
           "zerolinewidth": 2
          },
          "yaxis": {
           "automargin": true,
           "gridcolor": "white",
           "linecolor": "white",
           "ticks": "",
           "title": {
            "standoff": 15
           },
           "zerolinecolor": "white",
           "zerolinewidth": 2
          }
         }
        },
        "title": {
         "text": "Required capacity of storage [TWh] for 80-100 % coverage of consumption and surplus"
        },
        "xaxis": {
         "tickmode": "array",
         "tickvals": [
          80,
          90,
          100
         ],
         "title": {
          "text": "Covered consumption by storage [%]"
         }
        },
        "yaxis": {
         "title": {
          "text": "Required capacity [TWh]"
         }
        }
       }
      }
     },
     "metadata": {},
     "output_type": "display_data"
    },
    {
     "data": {
      "text/html": [
       "<div>\n",
       "<style scoped>\n",
       "    .dataframe tbody tr th:only-of-type {\n",
       "        vertical-align: middle;\n",
       "    }\n",
       "\n",
       "    .dataframe tbody tr th {\n",
       "        vertical-align: top;\n",
       "    }\n",
       "\n",
       "    .dataframe thead th {\n",
       "        text-align: right;\n",
       "    }\n",
       "</style>\n",
       "<table border=\"1\" class=\"dataframe\">\n",
       "  <thead>\n",
       "    <tr style=\"text-align: right;\">\n",
       "      <th></th>\n",
       "      <th>Percentage</th>\n",
       "      <th>Capacity Start Value in TWh</th>\n",
       "    </tr>\n",
       "  </thead>\n",
       "  <tbody>\n",
       "    <tr>\n",
       "      <th>0</th>\n",
       "      <td>80%</td>\n",
       "      <td>11.00</td>\n",
       "    </tr>\n",
       "    <tr>\n",
       "      <th>1</th>\n",
       "      <td>90%</td>\n",
       "      <td>11.00</td>\n",
       "    </tr>\n",
       "    <tr>\n",
       "      <th>2</th>\n",
       "      <td>100%</td>\n",
       "      <td>13.00</td>\n",
       "    </tr>\n",
       "  </tbody>\n",
       "</table>\n",
       "</div>"
      ],
      "text/plain": [
       "  Percentage  Capacity Start Value in TWh\n",
       "0        80%                        11.00\n",
       "1        90%                        11.00\n",
       "2       100%                        13.00"
      ]
     },
     "metadata": {},
     "output_type": "display_data"
    },
    {
     "name": "stdout",
     "output_type": "stream",
     "text": [
      "        Time  Weekday_Summer  Saturday_Summer  Sunday_Summer  Weekday_Winter  \\\n",
      "0   00:15:00         1667.20          1667.20        1667.20         8227.20   \n",
      "1   00:30:00         1699.20          1699.20        1699.20         7724.80   \n",
      "2   00:45:00         1667.20          1667.20        1667.20         7740.80   \n",
      "3   01:00:00         1648.00          1648.00        1648.00         7686.40   \n",
      "4   01:15:00         1619.20          1619.20        1619.20         7737.60   \n",
      "..       ...             ...              ...            ...             ...   \n",
      "91  23:00:00         1571.20          1571.20        1571.20            0.00   \n",
      "92  23:15:00         1795.20          1795.20        1795.20            0.00   \n",
      "93  23:30:00         1635.20          1635.20        1635.20        13392.00   \n",
      "94  23:45:00         1571.20          1571.20        1571.20        10403.20   \n",
      "95  00:00:00         1545.60          1545.60        1545.60         8953.60   \n",
      "\n",
      "    Saturday_Winter  Sunday_Winter  \n",
      "0           8227.20        8227.20  \n",
      "1           7724.80        7724.80  \n",
      "2           7740.80        7740.80  \n",
      "3           7686.40        7686.40  \n",
      "4           7737.60        7737.60  \n",
      "..              ...            ...  \n",
      "91             0.00           0.00  \n",
      "92             0.00           0.00  \n",
      "93         13392.00       13392.00  \n",
      "94         10403.20       10403.20  \n",
      "95          8953.60        8953.60  \n",
      "\n",
      "[96 rows x 7 columns]\n"
     ]
    }
   ],
   "source": [
    "def main():\n",
    "    file_production = 'Realisierte_Erzeugung_202001010000_202212312359_Viertelstunde.csv'                   # File names\n",
    "    file_consumption = 'Realisierter_Stromverbrauch_202001010000_202212312359_Viertelstunde.csv'\n",
    "    load_profile_df = read_load_profile('Lastprofile_SWKiel.xls')\n",
    "\n",
    "    # Read and clean data\n",
    "    production_df, consumption_df, total_renewable_production, total_consumption, data_by_year = read_and_clean_data(file_production, file_consumption)\n",
    "    \n",
    "    # Find dark lulls for the years 2020-2022\n",
    "    #find_dark_lulls_for_years(production_df, columns_to_clean=['Biomass', 'Hydroelectric', 'Wind Offshore', 'Wind Onshore', 'Photovoltaic', 'Other Renewable'])\n",
    "\n",
    "    # Berechnung und Anzeige des Histogramms für erneuerbare Anteile\n",
    "    #calculate_and_display_renewable_shares_histogram(total_renewable_production, total_consumption)\n",
    "    #calculate_and_display_data_by_year(data_by_year)\n",
    "\n",
    "    #plot_energy_consumption_and_production(production_df, consumption_df, columns_to_clean=['Biomass', 'Hydroelectric', 'Wind Offshore', 'Wind Onshore', 'Photovoltaic', 'Other Renewable'])\n",
    "\n",
    "    date = get_date() # Get the selected date from the user\n",
    "    print(\"gut\")\n",
    "    scaled_production, verbrauch2030 = process_and_plot_2030_dataGut(production_df, consumption_df, load_profile_df, date)\n",
    "    calculate_and_plot_power_storage_surplus(scaled_production, verbrauch2030)\n",
    "    calculate_and_plot_storage_capacity(scaled_production, verbrauch2030, 'good')\n",
    "    print(\"gut mit Lastprofile\")\n",
    "    scaled_production, verbrauch2030 = process_and_plot_2030_dataGut2(production_df, consumption_df, load_profile_df, date)\n",
    "    calculate_and_plot_power_storage_surplus(scaled_production, verbrauch2030)\n",
    "    calculate_and_plot_storage_capacity(scaled_production, verbrauch2030, 'good')\n",
    "    print(\"schlecht\")\n",
    "    scaled_production, verbrauch2030 = process_and_plot_2030_dataSchlecht(production_df, consumption_df, load_profile_df, date)\n",
    "    calculate_and_plot_power_storage_surplus(scaled_production, verbrauch2030)\n",
    "    calculate_and_plot_storage_capacity(scaled_production, verbrauch2030, 'bad')\n",
    "    print(\"MITTEL\")\n",
    "    scaled_production, verbrauch2030 = process_and_plot_2030_dataMi(production_df, consumption_df, load_profile_df, date)\n",
    "    calculate_and_plot_power_storage_surplus(scaled_production, verbrauch2030)\n",
    "    calculate_and_plot_storage_capacity(scaled_production, verbrauch2030, 'mid')\n",
    "    \n",
    "\n",
    "\n",
    "    print(load_profile_df)\n",
    "\n",
    "if __name__ == \"__main__\":\n",
    "    main()"
   ]
  }
 ],
 "metadata": {
  "kernelspec": {
   "display_name": "Python 3",
   "language": "python",
   "name": "python3"
  },
  "language_info": {
   "codemirror_mode": {
    "name": "ipython",
    "version": 3
   },
   "file_extension": ".py",
   "mimetype": "text/x-python",
   "name": "python",
   "nbconvert_exporter": "python",
   "pygments_lexer": "ipython3",
   "version": "3.12.0"
  }
 },
 "nbformat": 4,
 "nbformat_minor": 2
}
