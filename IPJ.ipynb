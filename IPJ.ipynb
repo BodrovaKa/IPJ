{
 "cells": [
  {
   "cell_type": "code",
   "execution_count": 50,
   "metadata": {},
   "outputs": [],
   "source": [
    "import pandas as pd\n",
    "import matplotlib.pyplot as plt\n",
    "from datetime import datetime\n",
    "import time\n",
    "import numpy as np\n",
    "import plotly.graph_objects as go\n",
    "import plotly.express as px\n",
    "from plotly.subplots import make_subplots\n",
    "import streamlit as st\n",
    "from energyConsumption import energyConsumption"
   ]
  },
  {
   "cell_type": "code",
   "execution_count": 51,
   "metadata": {},
   "outputs": [],
   "source": [
    "# Function to read and clean data from CSV files\n",
    "def read_and_clean_data(file_production, file_consumption):\n",
    "    # Read data from CSV files\n",
    "    production_df = pd.read_csv(file_production, delimiter=';')\n",
    "    consumption_df = pd.read_csv(file_consumption, delimiter=';')\n",
    "\n",
    "    # Columns\n",
    "    DATE = 'Datum'\n",
    "    STARTTIME = 'Anfang'\n",
    "    BIOMAS = 'Biomasse [MWh] Originalauflösungen'\n",
    "    HYDROELECTRIC = 'Wasserkraft [MWh] Originalauflösungen'\n",
    "    WIND_OFFSHORE = 'Wind Offshore [MWh] Originalauflösungen'\n",
    "    WIND_ONSHORE = 'Wind Onshore [MWh] Originalauflösungen'\n",
    "    PHOTOVOLTAIC = 'Photovoltaik [MWh] Originalauflösungen'\n",
    "    OTHER_RENEWABLE = 'Sonstige Erneuerbare [MWh] Originalauflösungen'\n",
    "    CONSUMPTION = 'Gesamt (Netzlast) [MWh] Originalauflösungen'\n",
    "\n",
    "    # Convert date columns to DateTime objects\n",
    "    production_df['Date'] = pd.to_datetime(production_df[DATE], format='%d.%m.%Y')\n",
    "    production_df['Starttime'] = pd.to_datetime(production_df[STARTTIME], format='%H:%M')\n",
    "    consumption_df['Date'] = pd.to_datetime(consumption_df[DATE], format='%d.%m.%Y')\n",
    "    consumption_df['Starttime'] = pd.to_datetime(consumption_df[STARTTIME], format='%H:%M')\n",
    "    \n",
    "    # Clean data formats for renewable energies\n",
    "    production_df['Biomass'] = production_df[BIOMAS].str.replace(\".\", \"\").str.replace(\",\", \".\").replace('-', 0).astype(float)\n",
    "    production_df['Hydroelectric'] = production_df[HYDROELECTRIC].str.replace(\".\", \"\").str.replace(\",\", \".\").replace('-', 0).astype(float)\n",
    "    production_df['Wind Offshore'] = production_df[WIND_OFFSHORE].str.replace(\".\", \"\").str.replace(\",\", \".\").replace('-', 0).astype(float)\n",
    "    production_df['Wind Onshore'] = production_df[WIND_ONSHORE].str.replace(\".\", \"\").str.replace(\",\", \".\").replace('-', 0).astype(float)\n",
    "    production_df['Photovoltaic'] = production_df[PHOTOVOLTAIC].str.replace(\".\", \"\").str.replace(\",\", \".\").replace('-', 0).astype(float)\n",
    "    production_df['Other Renewable'] = production_df[OTHER_RENEWABLE].str.replace(\".\", \"\").str.replace(\",\", \".\").replace('-', 0).astype(float)\n",
    "\n",
    "    # Clean data formats for total consumption\n",
    "    consumption_df['Consumption'] = consumption_df[CONSUMPTION].str.replace(\".\", \"\").str.replace(\",\", \".\").astype(float)\n",
    "\n",
    "    # Create a new column for total production\n",
    "    production_df['Total Production'] = production_df[['Biomass', 'Hydroelectric', 'Wind Offshore', 'Wind Onshore', 'Photovoltaic', 'Other Renewable']].sum(axis=1)\n",
    "\n",
    "    # Gruppierung der Produktionsdaten nach Jahr und Summierung der erneuerbaren Energietypen\n",
    "    production_by_type_and_year = production_df.groupby(production_df['Date'].dt.year)[['Biomass', 'Hydroelectric', 'Wind Offshore', 'Wind Onshore', 'Photovoltaic', 'Other Renewable']].sum()\n",
    " \n",
    "   \n",
    "    pd.options.display.float_format = '{:.2f}'.format  # Set Pandas to display floating-point numbers with two decimal places\n",
    "\n",
    "    data_by_year = {}  # Aggregation der Daten nach Jahren und Speicherung in einem Dictionary\n",
    "\n",
    "    for year, data in production_df.groupby(production_df['Date'].dt.year):\n",
    "        production_data = data[['Biomass', 'Hydroelectric', 'Wind Offshore', 'Wind Onshore', 'Photovoltaic', 'Other Renewable']].sum()\n",
    "        consumption_data = consumption_df[consumption_df['Date'].dt.year == year]['Consumption']\n",
    "        total_consumption = consumption_data.sum()\n",
    "        data_by_year[year] = {\n",
    "            'Production': production_data.sum(),\n",
    "            'Consumption': total_consumption,\n",
    "            'Biomass': production_data['Biomass'],\n",
    "            'Hydroelectric': production_data['Hydroelectric'],\n",
    "            'Wind Offshore': production_data['Wind Offshore'],\n",
    "            'Wind Onshore': production_data['Wind Onshore'],\n",
    "            'Photovoltaic': production_data['Photovoltaic'],\n",
    "            'Other Renewable': production_data['Other Renewable']\n",
    "        }\n",
    "\n",
    "    total_renewable_production = production_df[['Biomass', 'Hydroelectric', 'Wind Offshore', 'Wind Onshore', 'Photovoltaic', 'Other Renewable']].sum(axis=1)\n",
    "    total_consumption = consumption_df['Consumption']\n",
    "\n",
    "    return production_df, consumption_df, total_renewable_production, total_consumption, data_by_year"
   ]
  },
  {
   "cell_type": "code",
   "execution_count": 52,
   "metadata": {},
   "outputs": [],
   "source": [
    "installed_power_dict = {2020: 122603, 2021: 129551, 2022: 133808}\n",
    "\n",
    "def find_dark_lulls_and_for_years(selected_date, production_df, dark_lulls_dict, columns_to_clean):\n",
    "    \n",
    "    # Get the year of the selected date\n",
    "    year = selected_date.year\n",
    "    \n",
    "    # Installed power for the corresponding year\n",
    "    installed_power = installed_power_dict.get(year, None)\n",
    "    \n",
    "    if installed_power is None:\n",
    "        print(f\"No installed power found for the year {year}.\")\n",
    "        return None\n",
    "    \n",
    "    # Filter data for the selected date\n",
    "    selected_production = production_df[production_df['Date'] == selected_date]\n",
    "    \n",
    "    # Sum the renewable energy production for the selected date\n",
    "    total_renewable_production_selected_date = selected_production[columns_to_clean].sum(axis=1).sum()\n",
    "    \n",
    "    # Compare with installed power for different thresholds\n",
    "    threshold_10_percent = installed_power * 0.1\n",
    "    threshold_20_percent = installed_power * 0.2\n",
    "    \n",
    "    if total_renewable_production_selected_date/24 < threshold_10_percent:\n",
    "        dark_lulls_dict[\"up to 10%\"].append(selected_date)\n",
    "    elif total_renewable_production_selected_date/24 < threshold_20_percent:\n",
    "        dark_lulls_dict[\"up to 20%\"].append(selected_date)\n",
    "    else:\n",
    "        return None\n",
    "\n",
    "def find_dark_lulls_for_years(production_df, columns_to_clean):\n",
    "    # Loop through all days in the years 2020 to 2022\n",
    "    start_date = datetime(2020, 1, 1)\n",
    "    end_date = datetime(2022, 12, 31)\n",
    "\n",
    "    dark_lulls_dict = {\"up to 10%\": [], \"up to 20%\": []}\n",
    "    current_date = start_date\n",
    "    \n",
    "    while current_date <= end_date:\n",
    "        find_dark_lulls_and_for_years(current_date, production_df, dark_lulls_dict, columns_to_clean)\n",
    "        current_date += pd.DateOffset(days=1)\n",
    "    \n",
    "    # Sort lists by date\n",
    "    for label, days_list in dark_lulls_dict.items():\n",
    "        dark_lulls_dict[label] = sorted(days_list)\n",
    "    \n",
    "\n",
    "    # Display the sorted lists\n",
    "    print(\"\\nList of days up to 10%:\")\n",
    "    for day in dark_lulls_dict[\"up to 10%\"]:\n",
    "        print(day.strftime('%d.%m.%Y'))\n",
    "\n",
    "    print(\"\\nList of days up to 20%:\")\n",
    "    for day in dark_lulls_dict[\"up to 20%\"]:\n",
    "        print(day.strftime('%d.%m.%Y'))\n",
    "\n",
    "    print(\"\\nNumber of days up to 10%:\", len(dark_lulls_dict[\"up to 10%\"]))\n",
    "    print(\"Number of days up to 20%:\", len(dark_lulls_dict[\"up to 20%\"]))\n",
    "\n"
   ]
  },
  {
   "cell_type": "code",
   "execution_count": 15,
   "metadata": {},
   "outputs": [],
   "source": [
    "# Funktion zur Berechnung und Anzeige des Histogramms für erneuerbare Anteile\n",
    "def calculate_and_display_renewable_shares_histogram(total_renewable_production, total_consumption):\n",
    "    # Berechnung der prozentualen Anteile der erneuerbaren Energieerzeugung am Gesamtverbrauch\n",
    "    percent_renewable = total_renewable_production / total_consumption * 100 \n",
    "\n",
    "    counts, intervals = np.histogram(percent_renewable, bins = np.arange(0, 111, 1))  # Use NumPy to calculate the histogram of the percentage distribution\n",
    "\n",
    "    x = intervals[:-1]                               # Define the x-axis values as the bin edges\n",
    "    labels = [f'{i}%' for i in range(0, 111, 1)]     # Create labels for x-axis ticks (von 0 bis 111 in Einzelnschritten)\n",
    "\n",
    "    fig = go.Figure(data=[go.Bar(x=x, y=counts)])    # Create a bar chart using Plotly\n",
    "\n",
    "    fig.update_layout(xaxis=dict(tickmode='array', tickvals=list(range(0, 111, 5)), ticktext=labels[::5]))  # X-axis label settings\n",
    "\n",
    "    # Title and axis labels settings\n",
    "    fig.update_layout(title='Anzahl der Viertelstunden in Jahren 2020-2022 mit 0-110 % EE-Anteilen',\n",
    "                  xaxis_title='Prozentsatz erneuerbarer Energie',\n",
    "                  yaxis_title='Anzahl der Viertelstunden')\n",
    "\n",
    "    fig.show()\n",
    " "
   ]
  },
  {
   "cell_type": "code",
   "execution_count": 39,
   "metadata": {},
   "outputs": [],
   "source": [
    "# Function to plot energy consumption and production for a selected date\n",
    "def plot_energy_consumption_and_production(production_df, consumption_df, columns_to_clean):\n",
    "    # Prompt user to enter the selected date\n",
    "    selected_date_str = input(\"Enter the selected date (format: YYYY-MM-DD): \")\n",
    "    \n",
    "    try:\n",
    "        selected_date = pd.to_datetime(selected_date_str)\n",
    "    except ValueError:\n",
    "        print(\"Invalid date format. Please use the format YYYY-MM-DD.\")\n",
    "        return\n",
    "\n",
    "    # Filter data for the selected date\n",
    "    selected_production = production_df[production_df['Date'] == selected_date]\n",
    "    selected_consumption = consumption_df[consumption_df['Date'] == selected_date]\n",
    "\n",
    "    total_renewable_production_selected_date = selected_production[columns_to_clean].sum(axis=1).sum()\n",
    "    print(f\"Summe der erneuerbaren Energien am {selected_date}: {total_renewable_production_selected_date} MWh\")\n",
    "\n",
    "    # Plotting with Plotly\n",
    "    # Create a new Plotly subplot figure\n",
    "    fig = make_subplots()\n",
    "\n",
    "    # Add the energy consumption trace\n",
    "    fig.add_trace(\n",
    "        go.Scatter(\n",
    "            x=selected_consumption['Starttime'].dt.strftime('%H:%M'),\n",
    "            y=selected_consumption['Consumption'],\n",
    "            mode='lines',\n",
    "            name='Total Consumption',\n",
    "            fill='tozeroy'\n",
    "        )\n",
    "    )\n",
    "\n",
    "    # Add the renewable energy production trace\n",
    "    fig.add_trace(\n",
    "        go.Scatter(\n",
    "            x=selected_production['Starttime'].dt.strftime('%H:%M'),\n",
    "            y=selected_production['Total Production'],\n",
    "            mode='lines',\n",
    "            name='Total Renewable Production',\n",
    "            fill='tozeroy'\n",
    "        )\n",
    "    )\n",
    "\n",
    "    fig.update_layout(\n",
    "        title=f'Energy Production and Consumption on {selected_date}',\n",
    "        xaxis=dict(title='Time (hours)'),\n",
    "        yaxis=dict(title='Energy (MWh)'),\n",
    "        showlegend=True\n",
    "    )\n",
    "\n",
    "    # Show the plot\n",
    "    fig.show()"
   ]
  },
  {
   "cell_type": "code",
   "execution_count": 37,
   "metadata": {},
   "outputs": [],
   "source": [
    "# Funktion zur Berechnung und Anzeige der aggregierten Daten pro Jahr\n",
    "def calculate_and_display_data_by_year(data_by_year):\n",
    "    for year, data in data_by_year.items():\n",
    "        print(f\"Jahr: {year}\")\n",
    "        print(f\"Gesamte erneuerbare Energieproduktion: {data['Production']} MWh\")\n",
    "        print(f\"Gesamtverbrauch: {data['Consumption']} MWh\")\n",
    "        print(f\"Biomasse: {data['Biomass']} MWh\")\n",
    "        print(f\"Wasserkraft: {data['Hydroelectric']} MWh\")\n",
    "        print(f\"Wind Offshore: {data['Wind Offshore']} MWh\")\n",
    "        print(f\"Wind Onshore: {data['Wind Onshore']} MWh\")\n",
    "        print(f\"Photovoltaik: {data['Photovoltaic']} MWh\")\n",
    "        print(f\"Andere erneuerbare Energien: {data['Other Renewable']} MWh\")\n",
    "        print()\n"
   ]
  },
  {
   "cell_type": "code",
   "execution_count": null,
   "metadata": {},
   "outputs": [],
   "source": [
    "# Function to scale 2030 factors for production data\n",
    "def scale_2030_factors(df, windonshore_factor, windoffshore_factor, pv_factor):\n",
    "    df_copy = df.copy()\n",
    "    df_copy[WIND_ONSHORE] *= windonshore_factor\n",
    "    df_copy[WIND_OFFSHORE] *= windoffshore_factor\n",
    "    df_copy[PHOTOVOLTAIC] *= pv_factor\n",
    "    df_copy['Total Production'] = df_copy[columns_to_clean].sum(axis=1)\n",
    "    return df_copy\n",
    "\n",
    "# Function to scale 2030 factors for consumption data\n",
    "def scale_2030_factorsConsumption(df, Verbrauch2022_2030_factor):\n",
    "    df_copy = df.copy()\n",
    "    df_copy[CONSUMPTION] *= Verbrauch2022_2030_factor\n",
    "    return df_copy\n",
    "\n",
    "# Function to plot production and consumption data for a selected date\n",
    "def plot_production_and_consumption(selected_date, scaled_production_df, scaled_consumption_df):\n",
    "    fig = make_subplots()\n",
    "\n",
    "    # Add the energy consumption trace\n",
    "    fig.add_trace(\n",
    "        go.Scatter(\n",
    "            x=scaled_consumption_df[STARTTIME].dt.strftime('%H:%M'),\n",
    "            y=scaled_consumption_df[CONSUMPTION],\n",
    "            mode='lines',\n",
    "            name='Total Consumption',\n",
    "            fill='tozeroy'\n",
    "        )\n",
    "    )\n",
    "\n",
    "    # Add the renewable energy production trace\n",
    "    fig.add_trace(\n",
    "        go.Scatter(\n",
    "            x=scaled_production_df[STARTTIME].dt.strftime('%H:%M'),\n",
    "            y=scaled_production_df['Total Production'],\n",
    "            mode='lines',\n",
    "            name='Total Renewable Production',\n",
    "            fill='tozeroy'\n",
    "        )\n",
    "    )\n",
    "\n",
    "    fig.update_layout(\n",
    "        title=f'Energy Production and Consumption on {selected_date}',\n",
    "        xaxis=dict(title='Time (hours)'),\n",
    "        yaxis=dict(title='Energy (MWh)'),\n",
    "        showlegend=True\n",
    "    )\n",
    "\n",
    "    fig.show()\n",
    "\n",
    "# Function to calculate and display a histogram for 2030\n",
    "def calculate_and_display_histogram(scaled_production_df, verbrauch2030df):\n",
    "    total_scaled_renewable_production = scaled_production_df[columns_to_clean].sum(axis=1)\n",
    "    total_consumption = verbrauch2030df['Verbrauch [MWh]']\n",
    "\n",
    "    # Calculate the percentage of renewable energy\n",
    "    percent_renewable = total_scaled_renewable_production / total_consumption * 100\n",
    "\n",
    "    # Calculate the histogram\n",
    "    counts, intervals = np.histogram(percent_renewable, bins=np.arange(0, 330, 1))\n",
    "    x = intervals[:-1]\n",
    "    labels = [f'{i}%' for i in range(0, 330, 1)]\n",
    "\n",
    "    # Create and show the histogram\n",
    "    fig = go.Figure(data=[go.Bar(x=x, y=counts)])\n",
    "    fig.update_layout(\n",
    "        xaxis=dict(tickmode='array', tickvals=list(range(0, 330, 5)), ticktext=labels[::5])\n",
    "    )\n",
    "    fig.update_layout(\n",
    "        title='Number of Quarter Hours in 2030 with 0-330% Renewable Share',\n",
    "        xaxis_title='Percentage of Renewable Energy',\n",
    "        yaxis_title='Number of Quarter Hours'\n",
    "    )\n",
    "    fig.show()\n",
    "\n",
    "\n",
    "\n",
    "# Abfrage datum\n",
    "selected_date = None\n",
    "while not selected_date or selected_date.year != 2030:\n",
    "    selected_date_str = input(\"Bitte geben Sie ein Datum IM JAHR 2030 im Format TT.MM.JJJJ ein: \")\n",
    "    selected_date = datetime.strptime(selected_date_str, \"%d.%m.%Y\")\n",
    "\n",
    "# Define a dataframe of the production and consumption of 2022\n",
    "production_2022df = production_df[production_df[DATE].dt.year == 2022].copy()\n",
    "consumption_2022df = consumption_df[consumption_df[DATE].dt.year == 2022].copy()\n",
    "\n",
    "# Scale factors for 2030\n",
    "verbrauch2022_2030_factor = 1.157\n",
    "windonshore_2030_factor = 2.03563\n",
    "windoffshore_2030_factor = 3.76979\n",
    "pv_2030_factor = 3.5593\n",
    "\n",
    "# Scale production and consumption data for 2030\n",
    "scaled_production_df = scale_2030_factors(prognoseErzeugung2030df, windonshore_2030_factor, windoffshore_2030_factor, pv_2030_factor)\n",
    "scaled_consumption_df = scale_2030_factorsConsumption(prognoseVerbrauch2030df, verbrauch2022_2030_factor)\n",
    "\n",
    "# Filter data for the selected date\n",
    "scaled_selected_production_df = scaled_production_df[scaled_production_df[DATE] == selected_date]\n",
    "scaled_selected_consumption_df = scaled_consumption_df[scaled_consumption_df[DATE] == selected_date]\n",
    "\n",
    "# Plotting with Plotly\n",
    "plot_production_and_consumption(selected_date, scaled_selected_production_df, scaled_selected_consumption_df)\n",
    "\n",
    "# Calculate and display the histogram for 2030\n",
    "calculate_and_display_histogram(scaled_production_df, verbrauch2030df)\n",
    "\n",
    "# Print the number of quarter hours in scaled_production_df\n",
    "print(\"Number of quarter hours in scaled_production_df:\", len(scaled_selected_production_df))\n",
    "print(\"Expected quarter hours for 2030: 35040\")\n",
    "\n",
    "\n",
    "\n"
   ]
  },
  {
   "cell_type": "code",
   "execution_count": 46,
   "metadata": {},
   "outputs": [],
   "source": [
    "# Function to process and plot data for the year 2030\n",
    "def process_and_plot_2030_data(production_df, consumption_df):\n",
    "    # Abfrage datum\n",
    "    while True:\n",
    "        selected_date_str = input(\"Bitte geben Sie ein Datum IM JAHR 2030 im Format TT.MM.JJJJ ein: \")\n",
    "        selected_date = datetime.strptime(selected_date_str, \"%d.%m.%Y\")\n",
    "\n",
    "        if selected_date.year == 2030:\n",
    "            break\n",
    "        else:\n",
    "            print(\"Bitte geben Sie ein Datum aus dem Jahr 2030 an.\")\n",
    "\n",
    "    # Define a dataframe of the production of 2022\n",
    "    production_2022df = production_df[production_df['Date'].dt.year == 2022]\n",
    "    prognoseErzeugung2030df = production_2022df.copy()\n",
    "    prognoseErzeugung2030df['Date'] = prognoseErzeugung2030df['Date'].map(lambda x: x.replace(year=2030))\n",
    "\n",
    "    # Define a dataframe of the consumption of 2022\n",
    "    consumption_2022df = consumption_df[consumption_df['Date'].dt.year == 2022]\n",
    "    prognoseVerbrauch2030df = consumption_2022df.copy()\n",
    "    prognoseVerbrauch2030df['Date'] = prognoseVerbrauch2030df['Date'].map(lambda x: x.replace(year=2030))\n",
    "\n",
    "    # CHANGE LATER Define the factors Verbrauch 2022 to 2030 von Bjarne Noah\n",
    "    # Verbrauch2022_2030_factor = 1.157  # assuming consumption will increase by 10% from 2022 compared to 2030\n",
    "\n",
    "    def scale_2030_factorsConsumption(df, Verbrauch2022_2030_factor):\n",
    "        df_copy = df.copy()\n",
    "        df_copy['Consumption'] *= Verbrauch2022_2030_factor\n",
    "        return df_copy\n",
    "\n",
    "    '''\n",
    "    #LATER put in Verbrauch 2030 fron noah&bjarne\n",
    "    prognoseVerbrauch2030df = energyConsumption(consumption_df)\n",
    "    '''\n",
    "\n",
    "    # Define the factors\n",
    "    # müssen noch angepasst werden\n",
    "    windonshore_2030_factor = 2.03563  # assuming Wind Onshore will increase by 203% from 2022 compared to 2030\n",
    "    windoffshore_2030_factor = 3.76979  # assuming Wind Offshore will 376% increase\n",
    "    pv_2030_factor = 3.5593  # assuming PV will increase by 350%\n",
    "\n",
    "    def scale_2030_factors(df, windonshore_factor, windoffshore_factor, pv_factor):\n",
    "        df_copy = df.copy()\n",
    "        df_copy['Wind Onshore'] *= windonshore_factor\n",
    "        df_copy['Wind Offshore'] *= windoffshore_factor\n",
    "        df_copy['Hydroelectric'] *= pv_factor\n",
    "        df_copy['Total Production'] = df_copy['Biomass', 'Hydroelectric', 'Wind Offshore', 'Wind Onshore', 'Photovoltaic', 'Other Renewable'].sum(axis=1)\n",
    "        return df_copy\n",
    "\n",
    "    # Scale the data by the factors\n",
    "    scaled_production_df = scale_2030_factors(prognoseErzeugung2030df, windonshore_2030_factor, windoffshore_2030_factor,\n",
    "                                              pv_2030_factor)\n",
    "\n",
    "    # Filter the data for the selected date\n",
    "    scaled_selected_production_df = scaled_production_df[scaled_production_df['Date'] == selected_date]\n",
    "\n",
    "    verbrauch2030df = energyConsumption(consumption_df)\n",
    "\n",
    "    # scaled_consumption_df = scale_2030_factorsConsumption(prognoseVerbrauch2030df, Verbrauch2022_2030_factor)\n",
    "\n",
    "    # Filter the data for the selected date\n",
    "    # scaled_selected_consumption_df = scaled_consumption_df[scaled_consumption_df[DATE] == selected_date]\n",
    "\n",
    "    ### subplot only consumption 2030\n",
    "\n",
    "    ## Plotly daily production and consumption 2030\n",
    "\n",
    "    selected_consumption2030df = verbrauch2030df[verbrauch2030df['Date'] == selected_date]\n",
    "    scaled_selected_production_df = scaled_selected_production_df[scaled_selected_production_df['Date'] == selected_date]\n",
    "\n",
    "    fig = make_subplots()\n",
    "\n",
    "    # Add the energy consumption trace\n",
    "    fig.add_trace(\n",
    "        go.Scatter(\n",
    "            x=selected_consumption2030df['Starttime'].dt.strftime('%H:%M'),\n",
    "            y=selected_consumption2030df['Verbrauch [MWh]'],\n",
    "            mode='lines',\n",
    "            name='Total Consumption',\n",
    "            fill='tozeroy'\n",
    "        )\n",
    "    )\n",
    "\n",
    "    # Add the renewable energy production trace\n",
    "    fig.add_trace(\n",
    "        go.Scatter(\n",
    "            x=scaled_selected_production_df['Starttime'].dt.strftime('%H:%M'),\n",
    "            y=scaled_selected_production_df['Total Production'],\n",
    "            mode='lines',\n",
    "            name='Total Renewable Production',\n",
    "            fill='tozeroy'\n",
    "        )\n",
    "    )\n",
    "\n",
    "    fig.update_layout(\n",
    "        title=f'Energy Production and Consumption on {selected_date}',\n",
    "        xaxis=dict(title='Time (hours)'),\n",
    "        yaxis=dict(title='Energy (MWh)'),\n",
    "        showlegend=True\n",
    "    )\n",
    "\n",
    "    fig.show()\n",
    "\n",
    "    # code to do 2030 quarter hours\n",
    "    # ... (existing code)\n",
    "\n",
    "    fig.show()\n",
    "\n",
    "    # ... (existing code)\n"
   ]
  },
  {
   "cell_type": "code",
   "execution_count": 56,
   "metadata": {},
   "outputs": [
    {
     "name": "stdout",
     "output_type": "stream",
     "text": [
      "Summe der erneuerbaren Energien am 2020-10-10 00:00:00: 635138.75 MWh\n"
     ]
    },
    {
     "data": {
      "application/vnd.plotly.v1+json": {
       "config": {
        "plotlyServerURL": "https://plot.ly"
       },
       "data": [
        {
         "fill": "tozeroy",
         "mode": "lines",
         "name": "Total Consumption",
         "type": "scatter",
         "x": [
          "00:00",
          "00:15",
          "00:30",
          "00:45",
          "01:00",
          "01:15",
          "01:30",
          "01:45",
          "02:00",
          "02:15",
          "02:30",
          "02:45",
          "03:00",
          "03:15",
          "03:30",
          "03:45",
          "04:00",
          "04:15",
          "04:30",
          "04:45",
          "05:00",
          "05:15",
          "05:30",
          "05:45",
          "06:00",
          "06:15",
          "06:30",
          "06:45",
          "07:00",
          "07:15",
          "07:30",
          "07:45",
          "08:00",
          "08:15",
          "08:30",
          "08:45",
          "09:00",
          "09:15",
          "09:30",
          "09:45",
          "10:00",
          "10:15",
          "10:30",
          "10:45",
          "11:00",
          "11:15",
          "11:30",
          "11:45",
          "12:00",
          "12:15",
          "12:30",
          "12:45",
          "13:00",
          "13:15",
          "13:30",
          "13:45",
          "14:00",
          "14:15",
          "14:30",
          "14:45",
          "15:00",
          "15:15",
          "15:30",
          "15:45",
          "16:00",
          "16:15",
          "16:30",
          "16:45",
          "17:00",
          "17:15",
          "17:30",
          "17:45",
          "18:00",
          "18:15",
          "18:30",
          "18:45",
          "19:00",
          "19:15",
          "19:30",
          "19:45",
          "20:00",
          "20:15",
          "20:30",
          "20:45",
          "21:00",
          "21:15",
          "21:30",
          "21:45",
          "22:00",
          "22:15",
          "22:30",
          "22:45",
          "23:00",
          "23:15",
          "23:30",
          "23:45"
         ],
         "y": [
          11632.5,
          11503,
          11357.25,
          11316,
          11154.75,
          11099.75,
          10953.75,
          10765.25,
          10678,
          10619,
          10523.5,
          10515,
          10548.25,
          10544,
          10493.25,
          10614,
          10673,
          10660.75,
          10713,
          10758.5,
          10908.5,
          10788.75,
          10819.5,
          10883.75,
          11051.75,
          11159,
          11326.75,
          11500.25,
          11829.75,
          11961.75,
          12174,
          12380.75,
          12698.25,
          12956.75,
          13190,
          13409.25,
          13587,
          13691.25,
          13918.75,
          14071.5,
          14066.75,
          14077.75,
          14171.75,
          14282.5,
          14360.75,
          14410.25,
          14491.75,
          14618,
          14502.5,
          14457,
          14374.75,
          14319.75,
          14368.75,
          14301.25,
          14239,
          14099,
          13965.25,
          13891,
          13778,
          13746.5,
          13754.25,
          13719.25,
          13719,
          13606,
          13570.5,
          13370,
          13277,
          13286,
          13517.5,
          13655.5,
          13678.5,
          13713.75,
          13825.5,
          13868,
          14090.25,
          14313.75,
          14487.25,
          14429.5,
          14366.25,
          14146.75,
          13834.75,
          13583.25,
          13352.75,
          13170.5,
          12880.75,
          12766.25,
          12678.5,
          12688.75,
          12679.5,
          12508.75,
          12308.25,
          12121.25,
          11874.75,
          11608.25,
          11436.25,
          11204.25
         ]
        },
        {
         "fill": "tozeroy",
         "mode": "lines",
         "name": "Total Renewable Production",
         "type": "scatter",
         "x": [
          "00:00",
          "00:15",
          "00:30",
          "00:45",
          "01:00",
          "01:15",
          "01:30",
          "01:45",
          "02:00",
          "02:15",
          "02:30",
          "02:45",
          "03:00",
          "03:15",
          "03:30",
          "03:45",
          "04:00",
          "04:15",
          "04:30",
          "04:45",
          "05:00",
          "05:15",
          "05:30",
          "05:45",
          "06:00",
          "06:15",
          "06:30",
          "06:45",
          "07:00",
          "07:15",
          "07:30",
          "07:45",
          "08:00",
          "08:15",
          "08:30",
          "08:45",
          "09:00",
          "09:15",
          "09:30",
          "09:45",
          "10:00",
          "10:15",
          "10:30",
          "10:45",
          "11:00",
          "11:15",
          "11:30",
          "11:45",
          "12:00",
          "12:15",
          "12:30",
          "12:45",
          "13:00",
          "13:15",
          "13:30",
          "13:45",
          "14:00",
          "14:15",
          "14:30",
          "14:45",
          "15:00",
          "15:15",
          "15:30",
          "15:45",
          "16:00",
          "16:15",
          "16:30",
          "16:45",
          "17:00",
          "17:15",
          "17:30",
          "17:45",
          "18:00",
          "18:15",
          "18:30",
          "18:45",
          "19:00",
          "19:15",
          "19:30",
          "19:45",
          "20:00",
          "20:15",
          "20:30",
          "20:45",
          "21:00",
          "21:15",
          "21:30",
          "21:45",
          "22:00",
          "22:15",
          "22:30",
          "22:45",
          "23:00",
          "23:15",
          "23:30",
          "23:45"
         ],
         "y": [
          5271,
          5317.75,
          5239,
          5229.75,
          5363,
          5260.75,
          5112.25,
          4918.5,
          4915,
          5007.5,
          4933.25,
          4886.25,
          4966.25,
          5162,
          5131.25,
          5100.75,
          5201.25,
          5173.5,
          5240.25,
          5386.75,
          5288.75,
          5272.5,
          5287.25,
          5398.75,
          5651.5,
          5751.75,
          5807.5,
          5855.25,
          5998,
          5980.5,
          5950.25,
          5989,
          6180.75,
          6249.75,
          6445,
          6586.5,
          6804.5,
          7023,
          7148.25,
          7233.5,
          7745,
          8029.5,
          8061.75,
          8191.5,
          8464.75,
          8540.25,
          8742.25,
          8946.5,
          9124.25,
          9225.5,
          9388.25,
          9633.5,
          9722.75,
          9783.75,
          9732.25,
          9528.5,
          9275,
          9193.75,
          9147.5,
          9254.5,
          9278.25,
          8914,
          8503,
          8352,
          8104.5,
          7819.75,
          7394,
          7020,
          6658.25,
          6275.75,
          5910,
          5562.5,
          5336.75,
          5363.25,
          5327,
          5318,
          5356,
          5509.75,
          5583,
          5605.25,
          5758,
          5691.75,
          5748.75,
          5849,
          5992.25,
          6277.25,
          6299,
          6231.25,
          6261.75,
          6171.5,
          6191.75,
          6266.25,
          6133.75,
          6195.75,
          6272.25,
          6158.25
         ]
        }
       ],
       "layout": {
        "showlegend": true,
        "template": {
         "data": {
          "candlestick": [
           {
            "decreasing": {
             "line": {
              "color": "#000033"
             }
            },
            "increasing": {
             "line": {
              "color": "#000032"
             }
            },
            "type": "candlestick"
           }
          ],
          "contour": [
           {
            "colorscale": [
             [
              0,
              "#000011"
             ],
             [
              0.1111111111111111,
              "#000012"
             ],
             [
              0.2222222222222222,
              "#000013"
             ],
             [
              0.3333333333333333,
              "#000014"
             ],
             [
              0.4444444444444444,
              "#000015"
             ],
             [
              0.5555555555555556,
              "#000016"
             ],
             [
              0.6666666666666666,
              "#000017"
             ],
             [
              0.7777777777777778,
              "#000018"
             ],
             [
              0.8888888888888888,
              "#000019"
             ],
             [
              1,
              "#000020"
             ]
            ],
            "type": "contour"
           }
          ],
          "contourcarpet": [
           {
            "colorscale": [
             [
              0,
              "#000011"
             ],
             [
              0.1111111111111111,
              "#000012"
             ],
             [
              0.2222222222222222,
              "#000013"
             ],
             [
              0.3333333333333333,
              "#000014"
             ],
             [
              0.4444444444444444,
              "#000015"
             ],
             [
              0.5555555555555556,
              "#000016"
             ],
             [
              0.6666666666666666,
              "#000017"
             ],
             [
              0.7777777777777778,
              "#000018"
             ],
             [
              0.8888888888888888,
              "#000019"
             ],
             [
              1,
              "#000020"
             ]
            ],
            "type": "contourcarpet"
           }
          ],
          "heatmap": [
           {
            "colorscale": [
             [
              0,
              "#000011"
             ],
             [
              0.1111111111111111,
              "#000012"
             ],
             [
              0.2222222222222222,
              "#000013"
             ],
             [
              0.3333333333333333,
              "#000014"
             ],
             [
              0.4444444444444444,
              "#000015"
             ],
             [
              0.5555555555555556,
              "#000016"
             ],
             [
              0.6666666666666666,
              "#000017"
             ],
             [
              0.7777777777777778,
              "#000018"
             ],
             [
              0.8888888888888888,
              "#000019"
             ],
             [
              1,
              "#000020"
             ]
            ],
            "type": "heatmap"
           }
          ],
          "histogram2d": [
           {
            "colorscale": [
             [
              0,
              "#000011"
             ],
             [
              0.1111111111111111,
              "#000012"
             ],
             [
              0.2222222222222222,
              "#000013"
             ],
             [
              0.3333333333333333,
              "#000014"
             ],
             [
              0.4444444444444444,
              "#000015"
             ],
             [
              0.5555555555555556,
              "#000016"
             ],
             [
              0.6666666666666666,
              "#000017"
             ],
             [
              0.7777777777777778,
              "#000018"
             ],
             [
              0.8888888888888888,
              "#000019"
             ],
             [
              1,
              "#000020"
             ]
            ],
            "type": "histogram2d"
           }
          ],
          "icicle": [
           {
            "textfont": {
             "color": "white"
            },
            "type": "icicle"
           }
          ],
          "sankey": [
           {
            "textfont": {
             "color": "#000036"
            },
            "type": "sankey"
           }
          ],
          "scatter": [
           {
            "marker": {
             "line": {
              "width": 0
             }
            },
            "type": "scatter"
           }
          ],
          "table": [
           {
            "cells": {
             "fill": {
              "color": "#000038"
             },
             "font": {
              "color": "#000037"
             },
             "line": {
              "color": "#000039"
             }
            },
            "header": {
             "fill": {
              "color": "#000040"
             },
             "font": {
              "color": "#000036"
             },
             "line": {
              "color": "#000039"
             }
            },
            "type": "table"
           }
          ],
          "waterfall": [
           {
            "connector": {
             "line": {
              "color": "#000036",
              "width": 2
             }
            },
            "decreasing": {
             "marker": {
              "color": "#000033"
             }
            },
            "increasing": {
             "marker": {
              "color": "#000032"
             }
            },
            "totals": {
             "marker": {
              "color": "#000034"
             }
            },
            "type": "waterfall"
           }
          ]
         },
         "layout": {
          "coloraxis": {
           "colorscale": [
            [
             0,
             "#000011"
            ],
            [
             0.1111111111111111,
             "#000012"
            ],
            [
             0.2222222222222222,
             "#000013"
            ],
            [
             0.3333333333333333,
             "#000014"
            ],
            [
             0.4444444444444444,
             "#000015"
            ],
            [
             0.5555555555555556,
             "#000016"
            ],
            [
             0.6666666666666666,
             "#000017"
            ],
            [
             0.7777777777777778,
             "#000018"
            ],
            [
             0.8888888888888888,
             "#000019"
            ],
            [
             1,
             "#000020"
            ]
           ]
          },
          "colorscale": {
           "diverging": [
            [
             0,
             "#000021"
            ],
            [
             0.1,
             "#000022"
            ],
            [
             0.2,
             "#000023"
            ],
            [
             0.3,
             "#000024"
            ],
            [
             0.4,
             "#000025"
            ],
            [
             0.5,
             "#000026"
            ],
            [
             0.6,
             "#000027"
            ],
            [
             0.7,
             "#000028"
            ],
            [
             0.8,
             "#000029"
            ],
            [
             0.9,
             "#000030"
            ],
            [
             1,
             "#000031"
            ]
           ],
           "sequential": [
            [
             0,
             "#000011"
            ],
            [
             0.1111111111111111,
             "#000012"
            ],
            [
             0.2222222222222222,
             "#000013"
            ],
            [
             0.3333333333333333,
             "#000014"
            ],
            [
             0.4444444444444444,
             "#000015"
            ],
            [
             0.5555555555555556,
             "#000016"
            ],
            [
             0.6666666666666666,
             "#000017"
            ],
            [
             0.7777777777777778,
             "#000018"
            ],
            [
             0.8888888888888888,
             "#000019"
            ],
            [
             1,
             "#000020"
            ]
           ],
           "sequentialminus": [
            [
             0,
             "#000011"
            ],
            [
             0.1111111111111111,
             "#000012"
            ],
            [
             0.2222222222222222,
             "#000013"
            ],
            [
             0.3333333333333333,
             "#000014"
            ],
            [
             0.4444444444444444,
             "#000015"
            ],
            [
             0.5555555555555556,
             "#000016"
            ],
            [
             0.6666666666666666,
             "#000017"
            ],
            [
             0.7777777777777778,
             "#000018"
            ],
            [
             0.8888888888888888,
             "#000019"
            ],
            [
             1,
             "#000020"
            ]
           ]
          },
          "colorway": [
           "#000001",
           "#000002",
           "#000003",
           "#000004",
           "#000005",
           "#000006",
           "#000007",
           "#000008",
           "#000009",
           "#000010"
          ]
         }
        },
        "title": {
         "text": "Energy Production and Consumption on 2020-10-10 00:00:00"
        },
        "xaxis": {
         "anchor": "y",
         "domain": [
          0,
          1
         ],
         "title": {
          "text": "Time (hours)"
         }
        },
        "yaxis": {
         "anchor": "x",
         "domain": [
          0,
          1
         ],
         "title": {
          "text": "Energy (MWh)"
         }
        }
       }
      }
     },
     "metadata": {},
     "output_type": "display_data"
    }
   ],
   "source": [
    "# Main program\n",
    "def main():\n",
    "    # File names\n",
    "    file_production = 'Realisierte_Erzeugung_202001010000_202212312359_Viertelstunde.csv'\n",
    "    file_consumption = 'Realisierter_Stromverbrauch_202001010000_202212312359_Viertelstunde.csv'\n",
    "\n",
    "    # Read and clean data\n",
    "    production_df, consumption_df, total_renewable_production, total_consumption, data_by_year = read_and_clean_data(file_production, file_consumption)\n",
    "    \n",
    "    # Find dark lulls for the years 2020-2022\n",
    "    #find_dark_lulls_for_years(production_df, columns_to_clean=['Biomass', 'Hydroelectric', 'Wind Offshore', 'Wind Onshore', 'Photovoltaic', 'Other Renewable'])\n",
    "\n",
    "    # Berechnung und Anzeige des Histogramms für erneuerbare Anteile\n",
    "    #calculate_and_display_renewable_shares_histogram(total_renewable_production, total_consumption)\n",
    "    #calculate_and_display_data_by_year(data_by_year)\n",
    "\n",
    "    #plot_energy_consumption_and_production(production_df, consumption_df, columns_to_clean=['Biomass', 'Hydroelectric', 'Wind Offshore', 'Wind Onshore', 'Photovoltaic', 'Other Renewable'])\n",
    "\n",
    "    #process_and_plot_2030_data(production_df, consumption_df)\n",
    "    \n",
    "if __name__ == \"__main__\":\n",
    "    main()"
   ]
  }
 ],
 "metadata": {
  "kernelspec": {
   "display_name": "Python 3",
   "language": "python",
   "name": "python3"
  },
  "language_info": {
   "codemirror_mode": {
    "name": "ipython",
    "version": 3
   },
   "file_extension": ".py",
   "mimetype": "text/x-python",
   "name": "python",
   "nbconvert_exporter": "python",
   "pygments_lexer": "ipython3",
   "version": "3.12.0"
  }
 },
 "nbformat": 4,
 "nbformat_minor": 2
}
