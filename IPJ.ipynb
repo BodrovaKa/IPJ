{
 "cells": [
  {
   "cell_type": "code",
   "execution_count": 18,
   "metadata": {},
   "outputs": [],
   "source": [
    "import pandas as pd\n",
    "from datetime import datetime\n",
    "import numpy as np\n",
    "import plotly.graph_objects as go\n",
    "import plotly.express as px\n",
    "from plotly.subplots import make_subplots"
   ]
  },
  {
   "cell_type": "markdown",
   "metadata": {},
   "source": [
    "**Author: K.Bodrova:**"
   ]
  },
  {
   "cell_type": "code",
   "execution_count": 19,
   "metadata": {},
   "outputs": [],
   "source": [
    "# Function to read and clean data from CSV files\n",
    "def read_and_clean_data(file_production, file_consumption):\n",
    "    \n",
    "    production_df = pd.read_csv(file_production, delimiter=';')                           # Read data from CSV files\n",
    "    consumption_df = pd.read_csv(file_consumption, delimiter=';')\n",
    "\n",
    "    production_df['Date'] = pd.to_datetime(production_df['Datum'], format='%d.%m.%Y')     # Convert date columns to DateTime objects\n",
    "    production_df['Starttime'] = pd.to_datetime(production_df['Anfang'], format='%H:%M')\n",
    "    consumption_df['Date'] = pd.to_datetime(consumption_df['Datum'], format='%d.%m.%Y')\n",
    "    consumption_df['Starttime'] = pd.to_datetime(consumption_df['Anfang'], format='%H:%M')\n",
    "    \n",
    "    # Clean data formats for renewable energies\n",
    "    production_df['Biomass'] = production_df['Biomasse [MWh] Originalauflösungen'].str.replace(\".\", \"\").str.replace(\",\", \".\").replace('-', 0).astype(float)\n",
    "    production_df['Hydroelectric'] = production_df['Wasserkraft [MWh] Originalauflösungen'].str.replace(\".\", \"\").str.replace(\",\", \".\").replace('-', 0).astype(float)\n",
    "    production_df['Wind Offshore'] = production_df['Wind Offshore [MWh] Originalauflösungen'].str.replace(\".\", \"\").str.replace(\",\", \".\").replace('-', 0).astype(float)\n",
    "    production_df['Wind Onshore'] = production_df['Wind Onshore [MWh] Originalauflösungen'].str.replace(\".\", \"\").str.replace(\",\", \".\").replace('-', 0).astype(float)\n",
    "    production_df['Photovoltaic'] = production_df['Photovoltaik [MWh] Originalauflösungen'].str.replace(\".\", \"\").str.replace(\",\", \".\").replace('-', 0).astype(float)\n",
    "    production_df['Other Renewable'] = production_df['Sonstige Erneuerbare [MWh] Originalauflösungen'].str.replace(\".\", \"\").str.replace(\",\", \".\").replace('-', 0).astype(float)\n",
    "\n",
    "    # Clean data formats for total consumption\n",
    "    consumption_df['Consumption'] = consumption_df['Gesamt (Netzlast) [MWh] Originalauflösungen'].str.replace(\".\", \"\").str.replace(\",\", \".\").astype(float)\n",
    "\n",
    "    # Create a new column for total production\n",
    "    production_df['Total Production'] = production_df[['Biomass', 'Hydroelectric', 'Wind Offshore', 'Wind Onshore', 'Photovoltaic', 'Other Renewable']].sum(axis=1)\n",
    "\n",
    "    # Gruppierung der Produktionsdaten nach Jahr und Summierung der erneuerbaren Energietypen\n",
    "    production_by_type_and_year = production_df.groupby(production_df['Date'].dt.year)[['Biomass', 'Hydroelectric', 'Wind Offshore', 'Wind Onshore', 'Photovoltaic', 'Other Renewable']].sum()\n",
    " \n",
    "    pd.options.display.float_format = '{:.2f}'.format  # Set Pandas to display floating-point numbers with two decimal places\n",
    "\n",
    "    data_by_year = {}  # Aggregation der Daten nach Jahren und Speicherung in einem Dictionary\n",
    "\n",
    "    for year, data in production_df.groupby(production_df['Date'].dt.year):\n",
    "        production_data = data[['Biomass', 'Hydroelectric', 'Wind Offshore', 'Wind Onshore', 'Photovoltaic', 'Other Renewable']].sum()\n",
    "        consumption_data = consumption_df[consumption_df['Date'].dt.year == year]['Consumption']\n",
    "        total_consumption = consumption_data.sum()\n",
    "        data_by_year[year] = {\n",
    "            'Production': production_data.sum(),\n",
    "            'Consumption': total_consumption,\n",
    "            'Biomass': production_data['Biomass'],\n",
    "            'Hydroelectric': production_data['Hydroelectric'],\n",
    "            'Wind Offshore': production_data['Wind Offshore'],\n",
    "            'Wind Onshore': production_data['Wind Onshore'],\n",
    "            'Photovoltaic': production_data['Photovoltaic'],\n",
    "            'Other Renewable': production_data['Other Renewable']\n",
    "        }\n",
    "\n",
    "    total_renewable_production = production_df[['Biomass', 'Hydroelectric', 'Wind Offshore', 'Wind Onshore', 'Photovoltaic', 'Other Renewable']].sum(axis=1)\n",
    "    total_consumption = consumption_df['Consumption']\n",
    "\n",
    "    return production_df, consumption_df, total_renewable_production, total_consumption, data_by_year"
   ]
  },
  {
   "cell_type": "code",
   "execution_count": 20,
   "metadata": {},
   "outputs": [],
   "source": [
    "def read_load_profile(file_path):\n",
    "    # Read the Excel file\n",
    "    load_profile_df = pd.read_excel(file_path, skiprows=8)\n",
    "    \n",
    "    # Rename the columns for clarity\n",
    "    load_profile_df.columns = ['Time', 'Weekday_Summer', 'Saturday_Summer', 'Sunday_Summer', 'Weekday_Winter', 'Saturday_Winter', 'Sunday_Winter']\n",
    "    \n",
    "    # Define a function to replace \"24:00:00\" with \"00:00:00\"\n",
    "    def replace_24_with_00(time_str):   \n",
    "        return time_str.replace('24:00:00', '00:00:00')\n",
    "\n",
    "    # Apply the function to each value in the 'Time' column\n",
    "    load_profile_df['Time'] = load_profile_df['Time'].apply(replace_24_with_00)\n",
    "\n",
    "    # Remove leading and trailing whitespace\n",
    "    load_profile_df['Time'] = load_profile_df['Time'].str.strip()\n",
    "\n",
    "    # Convert the 'Time' column to a DateTime object\n",
    "    load_profile_df['Time'] = pd.to_datetime(load_profile_df['Time'], format='%H:%M:%S').dt.time\n",
    "\n",
    "    # Multiply all values (except 'Time') by 32*10^6\n",
    "    cols_to_update = ['Weekday_Summer', 'Saturday_Summer', 'Sunday_Summer', 'Weekday_Winter', 'Saturday_Winter', 'Sunday_Winter']\n",
    "    load_profile_df[cols_to_update] = load_profile_df[cols_to_update].applymap(lambda x: x * 32 * 10**3) # Multiply by 32*10^3 to convert from MW to W\t\n",
    "    \n",
    "    return load_profile_df"
   ]
  },
  {
   "cell_type": "markdown",
   "metadata": {},
   "source": [
    "**Authors: M.Lauterbach, K.Bodrova:**"
   ]
  },
  {
   "cell_type": "code",
   "execution_count": 37,
   "metadata": {},
   "outputs": [],
   "source": [
    "installed_power_dict = {2020: 122603, 2021: 129551, 2022: 133808}\n",
    "\n",
    "def find_dark_lulls_and_for_years(selected_date, production_df, dark_lulls_dict, columns_to_clean):\n",
    "    \n",
    "    year = selected_date.year  # Get the year of the selected date\n",
    "    \n",
    "    installed_power = installed_power_dict.get(year, None) # Installed power for the corresponding year\n",
    "    \n",
    "    if installed_power is None:\n",
    "        print(f\"No installed power found for the year {year}.\")\n",
    "        return None\n",
    "    \n",
    "    selected_production = production_df[production_df['Date'] == selected_date] # Filter data for the selected date\n",
    "    \n",
    "    total_renewable_production_selected_date = selected_production[columns_to_clean].sum(axis=1).sum() # Sum the renewable energy production for the selected date\n",
    "    \n",
    "    threshold_10_percent = installed_power * 0.1 # Compare with installed power for different thresholds\n",
    "    threshold_20_percent = installed_power * 0.2\n",
    "    \n",
    "    if total_renewable_production_selected_date/24 < threshold_10_percent:\n",
    "        dark_lulls_dict[\"up to 10%\"].append(selected_date)\n",
    "    elif total_renewable_production_selected_date/24 < threshold_20_percent:\n",
    "        dark_lulls_dict[\"up to 20%\"].append(selected_date)\n",
    "    else:\n",
    "        return None\n",
    "\n",
    "def find_dark_lulls_for_years(production_df, columns_to_clean):\n",
    "    # Loop through all days in the years 2020 to 2022\n",
    "    start_date = datetime(2020, 1, 1)\n",
    "    end_date = datetime(2022, 12, 31)\n",
    "\n",
    "    dark_lulls_dict = {\"up to 10%\": [], \"up to 20%\": []}\n",
    "    \n",
    "    current_date = start_date\n",
    "    \n",
    "    while current_date <= end_date:\n",
    "        find_dark_lulls_and_for_years(current_date, production_df, dark_lulls_dict, columns_to_clean)\n",
    "        current_date += pd.DateOffset(days=1)   # Add one day to the current date\n",
    "    \n",
    "    # consecucitve days\n",
    "    for label, days_list in dark_lulls_dict.items():\n",
    "         print('for: ' + label)\n",
    "         print(\"Max consecutive days: \" + str(count_max_consecutive_days(dark_lulls_dict[label])))\n",
    "\n",
    "    # Display the sorted lists\n",
    "    print(\"\\nList of days up to 10%:\")\n",
    "    for day in dark_lulls_dict[\"up to 10%\"]:\n",
    "        print(day.strftime('%d.%m.%Y'))\n",
    "\n",
    "    print(\"\\nList of days up to 20%:\")\n",
    "    for day in dark_lulls_dict[\"up to 20%\"]:\n",
    "        print(day.strftime('%d.%m.%Y'))\n",
    "    \n",
    "    print(\"\\nNumber of days up to 10%:\", len(dark_lulls_dict[\"up to 10%\"]))\n",
    "    print(\"Number of days up to 20%:\", len(dark_lulls_dict[\"up to 20%\"]))\n",
    "\n",
    "\n",
    "# max consecutive days code START\n",
    "def count_max_consecutive_days(date_list):\n",
    "    if not date_list:\n",
    "        return 0\n",
    "    date_list.sort()\n",
    "    max_consecutive = 1\n",
    "    current_consecutive = 1\n",
    "\n",
    "    for i in range(1, len(date_list)):\n",
    "        if (date_list[i] - date_list[i - 1]).days == 1:\n",
    "            current_consecutive += 1\n",
    "            max_consecutive = max(max_consecutive, current_consecutive)\n",
    "        else:\n",
    "            current_consecutive = 1\n",
    "    return max_consecutive\n"
   ]
  },
  {
   "cell_type": "markdown",
   "metadata": {},
   "source": [
    "**Author: K.Bodrova:**"
   ]
  },
  {
   "cell_type": "code",
   "execution_count": 22,
   "metadata": {},
   "outputs": [],
   "source": [
    "# Funktion zur Berechnung und Anzeige des Histogramms für erneuerbare Anteile\n",
    "def calculate_and_display_renewable_shares_histogram(total_renewable_production, total_consumption):\n",
    "    # Berechnung der prozentualen Anteile der erneuerbaren Energieerzeugung am Gesamtverbrauch\n",
    "    percent_renewable = total_renewable_production / total_consumption * 100 \n",
    "\n",
    "    counts, intervals = np.histogram(percent_renewable, bins = np.arange(0, 111, 1))  # Use NumPy to calculate the histogram of the percentage distribution\n",
    "\n",
    "    x = intervals[:-1]                               # Define the x-axis values as the bin edges\n",
    "    labels = [f'{i}%' for i in range(0, 111, 1)]     # Create labels for x-axis ticks (von 0 bis 111 in Einzelnschritten)\n",
    "\n",
    "    fig = go.Figure(data=[go.Bar(x=x, y=counts)])    # Create a bar chart using Plotly\n",
    "\n",
    "    fig.update_layout(xaxis=dict(tickmode='array', tickvals=list(range(0, 111, 5)), ticktext=labels[::5]))  # X-axis label settings\n",
    "\n",
    "    # Title and axis labels settings\n",
    "    fig.update_layout(title='Anzahl der Viertelstunden in Jahren 2020-2022 mit 0-110 % EE-Anteilen',\n",
    "                  xaxis_title='Prozentsatz erneuerbarer Energie',\n",
    "                  yaxis_title='Anzahl der Viertelstunden')\n",
    "\n",
    "    fig.show()"
   ]
  },
  {
   "cell_type": "markdown",
   "metadata": {},
   "source": [
    "**Function to plot energy consumption and production for a selected date.\n",
    " Author: K. Bodrova, Diagram: O. Pearse-Danker:**"
   ]
  },
  {
   "cell_type": "code",
   "execution_count": 23,
   "metadata": {},
   "outputs": [],
   "source": [
    "def plot_energy_consumption_and_production(production_df, consumption_df, columns_to_clean):\n",
    "    selected_date_str = input(\"Enter the selected date (format: YYYY-MM-DD): \") # Ask the user to enter a date    \n",
    "    try:\n",
    "        selected_date = pd.to_datetime(selected_date_str)\n",
    "    except ValueError:\n",
    "        print(\"Invalid date format. Please use the format YYYY-MM-DD.\")\n",
    "        return\n",
    "\n",
    "    selected_production = production_df[production_df['Date'] == selected_date]       # Filter data for the selected date\n",
    "    selected_consumption = consumption_df[consumption_df['Date'] == selected_date]\n",
    "\n",
    "    total_renewable_production_selected_date = selected_production[columns_to_clean].sum(axis=1).sum()\n",
    "    print(f\"Summe der erneuerbaren Energien am {selected_date}: {total_renewable_production_selected_date} MWh\")\n",
    "\n",
    "    fig = make_subplots()                 # Create a new Plotly subplot figure\n",
    "\n",
    "    fig.add_trace(                        # Add the energy consumption trace\n",
    "        go.Scatter(\n",
    "            x=selected_consumption['Starttime'].dt.strftime('%H:%M'),\n",
    "            y=selected_consumption['Consumption'],\n",
    "            mode='lines',\n",
    "            name='Total Consumption',\n",
    "            fill='tozeroy'\n",
    "        )\n",
    "    )\n",
    " \n",
    "    fig.add_trace(                        # Add the renewable energy production trace\n",
    "        go.Scatter(\n",
    "            x=selected_production['Starttime'].dt.strftime('%H:%M'),\n",
    "            y=selected_production['Total Production'],\n",
    "            mode='lines',\n",
    "            name='Total Renewable Production',\n",
    "            fill='tozeroy'\n",
    "        )\n",
    "    )\n",
    "\n",
    "    fig.update_layout(\n",
    "        title=f'Energy Production and Consumption on {selected_date}',\n",
    "        xaxis=dict(title='Time (hours)'),\n",
    "        yaxis=dict(title='Energy (MWh)'),\n",
    "        showlegend=True\n",
    "    )\n",
    "\n",
    "    fig.show()                            # Display the figure"
   ]
  },
  {
   "cell_type": "markdown",
   "metadata": {},
   "source": [
    "**Author: K.Bodrova:**"
   ]
  },
  {
   "cell_type": "code",
   "execution_count": 24,
   "metadata": {},
   "outputs": [],
   "source": [
    "# Funktion zur Berechnung und Anzeige der aggregierten Daten pro Jahr\n",
    "def calculate_and_display_data_by_year(data_by_year):\n",
    "    for year, data in data_by_year.items():\n",
    "        print(f\"Jahr: {year}\")\n",
    "        print(f\"Gesamte erneuerbare Energieproduktion: {data['Production']} MWh\")\n",
    "        print(f\"Gesamtverbrauch: {data['Consumption']} MWh\")\n",
    "        print(f\"Biomasse: {data['Biomass']} MWh\")\n",
    "        print(f\"Wasserkraft: {data['Hydroelectric']} MWh\")\n",
    "        print(f\"Wind Offshore: {data['Wind Offshore']} MWh\")\n",
    "        print(f\"Wind Onshore: {data['Wind Onshore']} MWh\")\n",
    "        print(f\"Photovoltaik: {data['Photovoltaic']} MWh\")\n",
    "        print(f\"Andere erneuerbare Energien: {data['Other Renewable']} MWh\")\n",
    "        print()"
   ]
  },
  {
   "cell_type": "code",
   "execution_count": 25,
   "metadata": {},
   "outputs": [],
   "source": [
    "def plot_energy_data(consumption_df, production_df, selected_date):\n",
    "    fig = make_subplots()\n",
    "\n",
    "    # Add the energy consumption trace\n",
    "    fig.add_trace(\n",
    "        go.Scatter(\n",
    "            x=consumption_df['Starttime'].dt.strftime('%H:%M'),\n",
    "            y=consumption_df['Verbrauch [MWh]'],\n",
    "            mode='lines',\n",
    "            name='Total Consumption',\n",
    "            fill='tozeroy'\n",
    "        )\n",
    "    )\n",
    "\n",
    "    # Add the renewable energy production trace\n",
    "    fig.add_trace(\n",
    "        go.Scatter(\n",
    "            x=production_df['Starttime'].dt.strftime('%H:%M'),\n",
    "            y=production_df['Total Production'],\n",
    "            mode='lines',\n",
    "            name='Total Renewable Production',\n",
    "            fill='tozeroy'\n",
    "        )\n",
    "    )\n",
    "\n",
    "    fig.update_layout(\n",
    "        title=f'Energy Production and Consumption on {selected_date}',\n",
    "        xaxis=dict(title='Time (hours)'),\n",
    "        yaxis=dict(title='Energy (MWh)'),\n",
    "        showlegend=True\n",
    "    )\n",
    "\n",
    "    fig.show()"
   ]
  },
  {
   "cell_type": "code",
   "execution_count": 26,
   "metadata": {},
   "outputs": [],
   "source": [
    "def plot_renewable_percentage(scaled_production_df, verbrauch2030df):\n",
    "    total_scaled_renewable_production = scaled_production_df[['Biomass', 'Hydroelectric', 'Wind Offshore', 'Wind Onshore', 'Photovoltaic', 'Other Renewable']].sum(axis=1)\n",
    "    total_consumption = verbrauch2030df['Verbrauch [MWh]']\n",
    "\n",
    "    # Berechnung der prozentualen Anteile der erneuerbaren Energieerzeugung am Gesamtverbrauch\n",
    "    percent_renewable = total_scaled_renewable_production / total_consumption * 100\n",
    "\n",
    "    counts, intervals = np.histogram(percent_renewable, bins=np.arange(0, 330, 1))  # Use NumPy to calculate the histogram of the percentage distribution\n",
    "\n",
    "    x = intervals[:-1]  # Define the x-axis values as the bin edges\n",
    "    labels = [f'{i}%' for i in range(0, 330, 1)]  # Create labels for x-axis ticks (von 0 bis 111 in Einzelnschritten)\n",
    "\n",
    "    fig = go.Figure(data=[go.Bar(x=x, y=counts)])  # Create a bar chart using Plotly\n",
    "    fig.update_layout(\n",
    "        xaxis=dict(tickmode='array', tickvals=list(range(0, 330, 5)), ticktext=labels[::5]))  # X-axis label settings\n",
    "\n",
    "    # Title and axis labels settings\n",
    "    fig.update_layout(title='Anzahl der Viertelstunden im Jahren 2030 mit 0-330 % EE-Anteil',\n",
    "                  xaxis_title='Prozentsatz erneuerbarer Energie',\n",
    "                  yaxis_title='Anzahl der Viertelstunden')\n",
    "\n",
    "    fig.show()\n",
    "    \n",
    "    data = []\n",
    "\n",
    "    for i in range(301):\n",
    "        # Zählen die Viertelstunden über oder gleich dem Prozentsatz\n",
    "        anzahlViertelstundenProzent = len(percent_renewable[percent_renewable >= i])\n",
    "         # Fügen Sie einen Datensatz zum Speichern in die Liste hinzu\n",
    "        data.append({'Prozentsatz': i, 'Anzahl_Viertelstunden': anzahlViertelstundenProzent})\n",
    "    \n",
    "    result_df = pd.DataFrame(data) # DataFrame erstellen\n",
    "    \n",
    "    fig = go.Figure()\n",
    "\n",
    "    # Fügen einen Balken für die Anzahl der Viertelstunden für jeden Prozentsatz hinzu\n",
    "    fig.add_trace(go.Bar(x=result_df['Prozentsatz'], y=result_df['Anzahl_Viertelstunden']))\n",
    "\n",
    "    # Aktualisieren Sie das Layout für Titel und Achsenbeschriftungen\n",
    "    fig.update_layout(\n",
    "        title='Anzahl der Viertelstunden mit erneuerbarer Energieerzeugung über oder gleich dem Verbrauch',\n",
    "        xaxis=dict(title='Prozentsatz erneuerbarer Energie'),\n",
    "        yaxis=dict(title='Anzahl der Viertelstunden')\n",
    "    )\n",
    "\n",
    "    fig.show()"
   ]
  },
  {
   "cell_type": "code",
   "execution_count": 27,
   "metadata": {},
   "outputs": [],
   "source": [
    "def scale_2030_factors(df,windonshore_2030_factor,windoffshore_2030_factor, pv_2030_factor):\n",
    "        df_copy = df.copy()\n",
    "        df_copy['Wind Onshore'] *= windonshore_2030_factor\n",
    "        df_copy['Wind Offshore'] *= windoffshore_2030_factor\n",
    "        df_copy['Photovoltaic'] *= pv_2030_factor\n",
    "        df_copy['Total Production'] = df_copy[['Biomass', 'Hydroelectric', 'Wind Offshore', 'Wind Onshore', 'Photovoltaic', 'Other Renewable']].sum(axis=1)\n",
    "        return df_copy"
   ]
  },
  {
   "cell_type": "code",
   "execution_count": 28,
   "metadata": {},
   "outputs": [],
   "source": [
    "def consumption_with_load_profile(selected_consumption2030df, load_profile_df, selected_date):\n",
    "    # Convert selected_date to a datetime object\n",
    "    selected_date = pd.to_datetime(selected_date)\n",
    "\n",
    "    # Determine the season and day of the week\n",
    "    if selected_date.month >= 10 and selected_date.day >= 15 or selected_date.month <= 3 and selected_date.day <= 15:\n",
    "        season = 'Winter'\n",
    "    else:\n",
    "        season = 'Summer'\n",
    "\n",
    "    day_of_week = selected_date.day_name()\n",
    "\n",
    "    # Map the day of the week to the corresponding column in load_profile_df\n",
    "    if day_of_week == 'Sunday':\n",
    "        day_column = 'Sunday_' + season\n",
    "    elif day_of_week == 'Saturday':\n",
    "        day_column = 'Saturday_' + season\n",
    "    else:\n",
    "        day_column = 'Weekday_' + season\n",
    "\n",
    "    # Ensure both dataframes have the same index\n",
    "    load_profile_df = load_profile_df.set_index(selected_consumption2030df.index)\n",
    "\n",
    "    # Merge selected_consumption2030df with the correct column of load_profile_df\n",
    "    merged_df = selected_consumption2030df.merge(load_profile_df[[day_column]], left_index=True, right_index=True)\n",
    "\n",
    "    # Add the values in 'Verbrauch [MWh]' with the values in the day_column\n",
    "    merged_df['Verbrauch [MWh]'] = merged_df['Verbrauch [MWh]'] + merged_df[day_column]\n",
    "\n",
    "    # Drop the unnecessary columns\n",
    "    merged_df.drop(columns=[day_column], inplace=True)\n",
    "\n",
    "    return merged_df\n",
    "\n",
    "\n",
    "def get_day_of_week(selected_date):\n",
    "    days_of_week = [\"Monday\", \"Tuesday\", \"Wednesday\", \"Thursday\", \"Friday\", \"Saturday\", \"Sunday\"]\n",
    "    day_index = selected_date.weekday()\n",
    "    return days_of_week[day_index]\n"
   ]
  },
  {
   "cell_type": "markdown",
   "metadata": {},
   "source": [
    "**Authors: L.Dorda, N.Clasen, B.Wolf:**"
   ]
  },
  {
   "cell_type": "code",
   "execution_count": 29,
   "metadata": {},
   "outputs": [],
   "source": [
    "# Function to process and plot data for the year 2030\n",
    "def process_and_plot_2030_dataGut(production_df, consumption_df, load_profile_df, selected_date):\n",
    "    \n",
    "    # POSITIVE SCENARIO Production based on 2020 and BMWK goals\n",
    "    production_2020df = production_df[production_df['Date'].dt.year == 2020]\n",
    "    prognoseErzeugung2030_positive_df = production_2020df.copy()\n",
    "    #prognoseErzeugung2030_positive_df['Date'] = prognoseErzeugung2030_positive_df['Date'].map(lambda x: x.replace(year=2030))\n",
    "    prognoseErzeugung2030_positive_df['Date'] = prognoseErzeugung2030_positive_df['Date'].map(\n",
    "    lambda x: x.replace(year=2030) if not (x.month == 2 and x.day == 29) else x.replace(month=2, day=28, year=2030))\n",
    "\n",
    "    windonshore_2030_factor_2020_positive = 2.13589  # \n",
    "    windoffshore_2030_factor_2020_postive = 3.92721  #\n",
    "    pv_2030_factor_2020_postive = 4.2361193  # assumig PV will increase by 423%\n",
    "\n",
    "    # Scale the data by the factors\n",
    "    scaled_production_df = scale_2030_factors(prognoseErzeugung2030_positive_df, windonshore_2030_factor_2020_positive,windoffshore_2030_factor_2020_postive, pv_2030_factor_2020_postive)\n",
    "\n",
    "    #_________________________________________________________________________________________________________\n",
    "    # Filter the data for the selected date\n",
    "    scaled_selected_production_df = scaled_production_df[scaled_production_df['Date'] == selected_date]\n",
    "\n",
    "    verbrauch2030df = energyConsumption(consumption_df)\n",
    "\n",
    "    selected_consumption2030df = verbrauch2030df[verbrauch2030df['Date'] == selected_date]\n",
    "    scaled_selected_production_df = scaled_selected_production_df[scaled_selected_production_df['Date'] == selected_date]\n",
    "\n",
    "    plot_energy_data(selected_consumption2030df, scaled_selected_production_df, selected_date)\n",
    "    plot_renewable_percentage(scaled_production_df, verbrauch2030df)\n",
    "\n",
    "# Funktion zur Berechnung und Anzeige der aggregierten Daten pro Jahr\n",
    "# Author: Bjarne, Noah\n",
    "def energyConsumption(consumption_df):\n",
    "    verbrauch2022df = consumption_df[consumption_df['Date'].dt.year == 2020]\n",
    "    prognose2030df = verbrauch2022df.copy()\n",
    "    faktor = faktorRechnung(verbrauch2022df, wärmepumpe(), eMobilität())\n",
    "    print(\"Verbr df:\", prognose2030df)\n",
    "    print(\"Faktor: \", faktor)\n",
    "    # Change the year in 'Datum' column to 2030\n",
    "    prognose2030df['Date'] = prognose2030df['Date'].map(lambda x: x.replace(year=2030) if not (x.month == 2 and x.day == 29) else x.replace(month=2, day=28, year=2030))\n",
    "\n",
    "    prognose2030df['Verbrauch [MWh]'] = prognose2030df['Consumption'] * faktor\n",
    "\n",
    "    combined_df = pd.concat([verbrauch2022df[['Starttime', 'Consumption']], prognose2030df[['Verbrauch [MWh]']]], axis=1)\n",
    "    print(\"Verbrauch 2030:\", prognose2030df['Verbrauch [MWh]'].sum()/1000 , \"TWhhusp\\n\")\n",
    "    print(\"Consumption 2022:\", prognose2030df['Consumption'].sum()/1000 , \"TWh\\n\")\n",
    "\n",
    "    return prognose2030df\n",
    "\n",
    "def wärmepumpe():\n",
    "    highScenario = 500000\n",
    "    lowScenario = 236000\n",
    "    middleScenario = 368000\n",
    "    wärmepumpeAnzahl2030 = lowScenario * (2030 - 2023)  # 500k pro Jahr bis 2023\n",
    "\n",
    "    heizstunden = 2000\n",
    "    nennleistung = 15  # 15kW\n",
    "    luftWasserVerhältnis = 206 / 236\n",
    "    erdwärmeVerhältnis = 30 / 236\n",
    "    luftWasserJAZ = 3.1\n",
    "    erdwärmeJAZ = 4.1\n",
    "\n",
    "    # Berechnung der einzelnen Pumpe\n",
    "    luftWasserVerbrauch = wärmepumpeVerbrauchImJahr(heizstunden, nennleistung, luftWasserJAZ)  # in kW/h\n",
    "    erdwärmeVerbrauch = wärmepumpeVerbrauchImJahr(heizstunden, nennleistung, erdwärmeJAZ)  # in kW/h\n",
    "\n",
    "    luftWasserVerhältnisAnzahl = verhältnisAnzahl(wärmepumpeAnzahl2030, luftWasserVerhältnis)\n",
    "    erdwärmeVerhältnisAnzahl = verhältnisAnzahl(wärmepumpeAnzahl2030, erdwärmeVerhältnis)\n",
    "\n",
    "    return luftWasserVerbrauch * luftWasserVerhältnisAnzahl + erdwärmeVerbrauch * erdwärmeVerhältnisAnzahl  # kWh\n",
    "\n",
    "# berechnung des Verbrauchs einer Wärmepumpe im Jahr\n",
    "def wärmepumpeVerbrauchImJahr(heizstunden, nennleistung, jaz): \n",
    "    return (heizstunden * nennleistung) / jaz # (Heizstunden * Nennleistung) / JAZ = Stromverbrauch pro Jahr\n",
    "\n",
    "def verhältnisAnzahl(wärmepumpeAnzahl2030, verhältnis):\n",
    "    return wärmepumpeAnzahl2030 * verhältnis\n",
    "\n",
    "\n",
    "def eMobilität():\n",
    "    highECars = 15000000\n",
    "    lowECars = 8000000\n",
    "    middleECars = 11500000\n",
    "\n",
    "    eMobilität2030 = lowECars  # 15mio bis 20230\n",
    "    eMobilitätBisher = 1307901  # 1.3 mio\n",
    "    verbrauchPro100km = 21  # 21kWh\n",
    "    kilometerProJahr = 15000  # 15.000km\n",
    "\n",
    "    eMobilitätVerbrauch = (verbrauchPro100km / 100) * kilometerProJahr  # kWh\n",
    "\n",
    "    return (eMobilität2030 - eMobilitätBisher) * eMobilitätVerbrauch\n",
    "\n",
    "def faktorRechnung(verbrauch2022df, wärmepumpeHochrechnung2030, eMobilitätHochrechnung2030):\n",
    "    gesamtVerbrauch2022 = (otherFactors(wärmepumpeHochrechnung2030, verbrauch2022df))*1000000000 + 504515946000 # mal1000 weil MWh -> kWh\n",
    "    return (gesamtVerbrauch2022 + wärmepumpeHochrechnung2030 + eMobilitätHochrechnung2030) / (504515946000) #ges Verbrauch 2021\n",
    "\n",
    "def prognoseRechnung(verbrauch2022df, faktor):\n",
    "    verbrauch2030df = verbrauch2022df['Verbrauch [kWh]'] * faktor\n",
    "    return verbrauch2030df\n",
    "\n",
    "def otherFactors(wärmepumpeHochrechnung2030, verbrauch2022df):\n",
    "    indHigh = (wärmepumpeHochrechnung2030*(1+3/7))*(72/26)\n",
    "    indLow = verbrauch2022df['Consumption'].sum()*0.45*0.879/1000000\n",
    "    indMiddle = 0\n",
    "\n",
    "    # positive Faktoren\n",
    "    railway = 5  # TWh\n",
    "    powerNetLoss = 1\n",
    "    industry = indLow\n",
    "\n",
    "    # negative Faktoren\n",
    "    efficiency = 51\n",
    "    other = 6\n",
    "\n",
    "    return railway  + powerNetLoss - efficiency - other + industry/1000000000"
   ]
  },
  {
   "cell_type": "code",
   "execution_count": 30,
   "metadata": {},
   "outputs": [],
   "source": [
    "# Function to process and plot data for the year 2030\n",
    "def process_and_plot_2030_dataGut2(production_df, consumption_df, load_profile_df, selected_date):\n",
    "    # Define constants\n",
    "    windonshore_2030_factor_2020_positive = 2.13589\n",
    "    windoffshore_2030_factor_2020_postive = 3.92721\n",
    "    pv_2030_factor_2020_postive = 4.2361193\n",
    "\n",
    "    # Process production data\n",
    "    production_2020df = production_df[production_df['Date'].dt.year == 2020]\n",
    "    prognoseErzeugung2030_positive_df = production_2020df.copy()\n",
    "    prognoseErzeugung2030_positive_df['Date'] = prognoseErzeugung2030_positive_df['Date'].map(\n",
    "        lambda x: x.replace(year=2030) if not (x.month == 2 and x.day == 29) else x.replace(month=2, day=28, year=2030))\n",
    "    scaled_production_df = scale_2030_factors(prognoseErzeugung2030_positive_df, windonshore_2030_factor_2020_positive,windoffshore_2030_factor_2020_postive, pv_2030_factor_2020_postive)\n",
    "\n",
    "    # Process consumption data\n",
    "    verbrauch2030df = energyConsumption5(consumption_df)\n",
    "    selected_consumption2030df = verbrauch2030df[verbrauch2030df['Date'] == selected_date]\n",
    "\n",
    "    # Filter production data for the selected date\n",
    "    scaled_selected_production_df = scaled_production_df[scaled_production_df['Date'] == selected_date]\n",
    "\n",
    "    print(\"Bevor \")\n",
    "    print(selected_consumption2030df['Verbrauch [MWh]'])\n",
    "    a = consumption_with_load_profile(selected_consumption2030df, load_profile_df, selected_date)\n",
    "    print(\"Nach \")\n",
    "    print(a['Verbrauch [MWh]'])\n",
    "\n",
    "    # Plot data\n",
    "    plot_energy_data(a, scaled_selected_production_df, selected_date)\n",
    "    plot_renewable_percentage(scaled_production_df, verbrauch2030df)   \n",
    "# Funktion zur Berechnung und Anzeige der aggregierten Daten pro Jahr\n",
    "\n",
    "def energyConsumption5(consumption_df):\n",
    "    verbrauch2022df = consumption_df[consumption_df['Date'].dt.year == 2020]\n",
    "    prognose2030df = verbrauch2022df.copy()\n",
    "    faktor = faktorRechnung5(verbrauch2022df, eMobilität5())\n",
    "    print(\"Faktor: \", faktor)\n",
    "    prognose2030df['Date'] = prognose2030df['Date'].map(lambda x: x.replace(year=2030) if not (x.month == 2 and x.day == 29) else x.replace(month=2, day=28, year=2030))\n",
    "    prognose2030df['Verbrauch [MWh]'] = prognose2030df['Consumption'] * faktor\n",
    "    return prognose2030df\n",
    "\n",
    "def wärmepumpe5():\n",
    "    highScenario = 500000\n",
    "    lowScenario = 236000\n",
    "    middleScenario = 368000\n",
    "    wärmepumpeAnzahl2030 = lowScenario * (2030 - 2023)  # 500k pro Jahr bis 2023\n",
    "\n",
    "    heizstunden = 2000\n",
    "    nennleistung = 15  # 15kW\n",
    "    luftWasserVerhältnis = 206 / 236\n",
    "    erdwärmeVerhältnis = 30 / 236\n",
    "    luftWasserJAZ = 3.1\n",
    "    erdwärmeJAZ = 4.1\n",
    "\n",
    "    # Berechnung der einzelnen Pumpe\n",
    "    luftWasserVerbrauch = wärmepumpeVerbrauchImJahr5(heizstunden, nennleistung, luftWasserJAZ)  # in kW/h\n",
    "    erdwärmeVerbrauch = wärmepumpeVerbrauchImJahr5(heizstunden, nennleistung, erdwärmeJAZ)  # in kW/h\n",
    "\n",
    "    luftWasserVerhältnisAnzahl = verhältnisAnzahl5(wärmepumpeAnzahl2030, luftWasserVerhältnis)\n",
    "    erdwärmeVerhältnisAnzahl = verhältnisAnzahl5(wärmepumpeAnzahl2030, erdwärmeVerhältnis)\n",
    "\n",
    "    return luftWasserVerbrauch * luftWasserVerhältnisAnzahl + erdwärmeVerbrauch * erdwärmeVerhältnisAnzahl  # kWh\n",
    "\n",
    "# berechnung des Verbrauchs einer Wärmepumpe im Jahr\n",
    "def wärmepumpeVerbrauchImJahr5(heizstunden, nennleistung, jaz): \n",
    "    return (heizstunden * nennleistung) / jaz # (Heizstunden * Nennleistung) / JAZ = Stromverbrauch pro Jahr\n",
    "\n",
    "def verhältnisAnzahl5(wärmepumpeAnzahl2030, verhältnis):\n",
    "    return wärmepumpeAnzahl2030 * verhältnis\n",
    "\n",
    "\n",
    "def eMobilität5():\n",
    "    highECars = 15000000\n",
    "    lowECars = 8000000\n",
    "    middleECars = 11500000\n",
    "\n",
    "    eMobilität2030 = lowECars  # 15mio bis 20230\n",
    "    eMobilitätBisher = 1307901  # 1.3 mio\n",
    "    verbrauchPro100km = 21  # 21kWh\n",
    "    kilometerProJahr = 15000  # 15.000km\n",
    "\n",
    "    eMobilitätVerbrauch = (verbrauchPro100km / 100) * kilometerProJahr  # kWh\n",
    "\n",
    "    return (eMobilität2030 - eMobilitätBisher) * eMobilitätVerbrauch\n",
    "\n",
    "def faktorRechnung5(verbrauch2022df, eMobilitätHochrechnung2030):\n",
    "    gesamtVerbrauch2022 = (otherFactors5(verbrauch2022df))*1000000000 + 504515946000 # mal1000 weil MWh -> kWh\n",
    "    return (gesamtVerbrauch2022  + eMobilitätHochrechnung2030) / (504515946000) #ges Verbrauch 2021\n",
    "\n",
    "def prognoseRechnung5(verbrauch2022df, faktor):\n",
    "    verbrauch2030df = verbrauch2022df['Verbrauch [kWh]'] * faktor\n",
    "    return verbrauch2030df\n",
    "\n",
    "def otherFactors5( verbrauch2022df):\n",
    "    #indHigh = (wärmepumpeHochrechnung2030*(1+3/7))*(72/26)\n",
    "    indLow = verbrauch2022df['Consumption'].sum()*0.45*0.879/1000000\n",
    "    indMiddle = 0\n",
    "\n",
    "    # positive Faktoren\n",
    "    railway = 5  # TWh\n",
    "    powerNetLoss = 1\n",
    "    industry = indLow\n",
    "\n",
    "    # negative Faktoren\n",
    "    efficiency = 51\n",
    "    other = 6\n",
    "\n",
    "    return railway  + powerNetLoss - efficiency - other + industry/1000000000"
   ]
  },
  {
   "cell_type": "code",
   "execution_count": 31,
   "metadata": {},
   "outputs": [],
   "source": [
    "def process_and_plot_2030_dataSchlecht(production_df, consumption_df, load_profile_df, selected_date):\n",
    "    \n",
    "    # Realistisches Ausbau (based on frauenhofer) Szenario 2030 basierend auf 2022 Wetter (mittleres Wetter) ((2021 wäre schlechtes Wetter))\n",
    "    production_2022df = production_df[production_df['Date'].dt.year == 2022]\n",
    "    prognoseErzeugung2030_realistic_2022_df = production_2022df.copy()\n",
    "    prognoseErzeugung2030_realistic_2022_df['Date'] = prognoseErzeugung2030_realistic_2022_df['Date'].map(lambda x: x.replace(year=2030) if not (x.month == 2 and x.day == 29) else x.replace(month=2, day=28, year=2030))\n",
    "\n",
    "    windonshore_2030_factor_2022_realistic = 1.2921  # \n",
    "    windoffshore_2030_factor_2022_realistic = 2.13621  # \n",
    "    pv_2030_factor_2022_realistic = 1.821041  # assumig PV will increase by 182%\n",
    "\n",
    "    # Scale the data by the factors\n",
    "    scaled_production_df = scale_2030_factors(prognoseErzeugung2030_realistic_2022_df, windonshore_2030_factor_2022_realistic,windoffshore_2030_factor_2022_realistic,  pv_2030_factor_2022_realistic)\n",
    "\n",
    "    # Filter the data for the selected date\n",
    "    scaled_selected_production_df = scaled_production_df[scaled_production_df['Date'] == selected_date]\n",
    "\n",
    "    verbrauch2030df = energyConsumption1(consumption_df)\n",
    "\n",
    "    selected_consumption2030df = verbrauch2030df[verbrauch2030df['Date'] == selected_date]\n",
    "    scaled_selected_production_df = scaled_selected_production_df[scaled_selected_production_df['Date'] == selected_date]\n",
    "\n",
    "    plot_energy_data(selected_consumption2030df, scaled_selected_production_df, selected_date)\n",
    "    plot_renewable_percentage(scaled_production_df, verbrauch2030df)\n",
    "\n",
    "# Funktion zur Berechnung und Anzeige der aggregierten Daten pro Jahr\n",
    "# Author: Bjarne, Noah\n",
    "def energyConsumption1(consumption_df):\n",
    "    wärmepumpeHochrechnung2030 = wärmepumpe1()\n",
    "    eMobilitätHochrechnung2030 = eMobilität1()\n",
    "\n",
    "    verbrauch2022df = consumption_df[consumption_df['Date'].dt.year == 2022]\n",
    "    prognose2030df = verbrauch2022df.copy()\n",
    "    faktor = faktorRechnung1(verbrauch2022df, wärmepumpeHochrechnung2030, eMobilitätHochrechnung2030)\n",
    "\n",
    "    prognose2030df['Date'] = prognose2030df['Date'].map(lambda x: x.replace(year=2030) if not (x.month == 2 and x.day == 29) else x.replace(month=2, day=28, year=2030))\n",
    "\n",
    "    prognose2030df['Verbrauch [MWh]'] = prognose2030df['Consumption'] * faktor\n",
    "\n",
    "    combined_df = pd.concat([verbrauch2022df[['Starttime', 'Consumption']], prognose2030df[['Verbrauch [MWh]']]], axis=1)\n",
    "\n",
    "    return prognose2030df\n",
    "\n",
    "def wärmepumpe1():\n",
    "    highScenario = 500000\n",
    "    lowScenario = 236000\n",
    "    middleScenario = 368000\n",
    "    wärmepumpeAnzahl2030 = highScenario * (2030 - 2023)  # 500k pro Jahr bis 2023\n",
    "\n",
    "    heizstunden = 2000\n",
    "    nennleistung = 15  # 15kW\n",
    "    luftWasserVerhältnis = 206 / 236\n",
    "    erdwärmeVerhältnis = 30 / 236\n",
    "    luftWasserJAZ = 3.1\n",
    "    erdwärmeJAZ = 4.1\n",
    "\n",
    "    # Berechnung der einzelnen Pumpe\n",
    "    luftWasserVerbrauch = wärmepumpeVerbrauchImJahr1(heizstunden, nennleistung, luftWasserJAZ)  # in kW/h\n",
    "    erdwärmeVerbrauch = wärmepumpeVerbrauchImJahr1(heizstunden, nennleistung, erdwärmeJAZ)  # in kW/h\n",
    "\n",
    "    luftWasserVerhältnisAnzahl = verhältnisAnzahl1(wärmepumpeAnzahl2030, luftWasserVerhältnis)\n",
    "    erdwärmeVerhältnisAnzahl = verhältnisAnzahl1(wärmepumpeAnzahl2030, erdwärmeVerhältnis)\n",
    "\n",
    "    return luftWasserVerbrauch * luftWasserVerhältnisAnzahl + erdwärmeVerbrauch * erdwärmeVerhältnisAnzahl  # kWh\n",
    "\n",
    "# berechnung des Verbrauchs einer Wärmepumpe im Jahr\n",
    "def wärmepumpeVerbrauchImJahr1(heizstunden, nennleistung, jaz): \n",
    "    return (heizstunden * nennleistung) / jaz # (Heizstunden * Nennleistung) / JAZ = Stromverbrauch pro Jahr\n",
    "\n",
    "def verhältnisAnzahl1(wärmepumpeAnzahl2030, verhältnis):\n",
    "    return wärmepumpeAnzahl2030 * verhältnis\n",
    "\n",
    "def eMobilität1():\n",
    "    highECars = 15000000\n",
    "    lowECars = 8000000\n",
    "    middleECars = 11500000\n",
    "\n",
    "    eMobilität2030 = highECars  # 15mio bis 20230\n",
    "    eMobilitätBisher = 1307901  # 1.3 mio\n",
    "    verbrauchPro100km = 21  # 21kWh\n",
    "    kilometerProJahr = 15000  # 15.000km\n",
    "\n",
    "    eMobilitätVerbrauch = (verbrauchPro100km / 100) * kilometerProJahr  # kWh\n",
    "\n",
    "    return (eMobilität2030 - eMobilitätBisher) * eMobilitätVerbrauch\n",
    "\n",
    "def faktorRechnung1(verbrauch2022df, wärmepumpeHochrechnung2030, eMobilitätHochrechnung2030):\n",
    "    gesamtVerbrauch2022 = (otherFactors1(wärmepumpeHochrechnung2030, verbrauch2022df))*1000000000 + 504515946000 # mal1000 weil MWh -> kWh\n",
    "    return (gesamtVerbrauch2022 + wärmepumpeHochrechnung2030 + eMobilitätHochrechnung2030) / (504515946000) #ges Verbrauch 2021\n",
    "\n",
    "def prognoseRechnung1(verbrauch2022df, faktor):\n",
    "    verbrauch2030df = verbrauch2022df['Verbrauch [kWh]'] * faktor\n",
    "    return verbrauch2030df\n",
    "\n",
    "def otherFactors1(wärmepumpeHochrechnung2030, verbrauch2022df):\n",
    "    indHigh = (wärmepumpeHochrechnung2030*(1+3/7))*(72/26)\n",
    "    indLow = verbrauch2022df['Consumption'].sum()*0.45*0.879/1000000\n",
    "    indMiddle = 0\n",
    "\n",
    "    # positive Faktoren\n",
    "    railway = 5  # TWh\n",
    "    powerNetLoss = 1\n",
    "    industry = indHigh\n",
    "\n",
    "    # negative Faktoren\n",
    "    efficiency = 51\n",
    "    other = 6\n",
    "\n",
    "    return railway  + powerNetLoss - efficiency - other + industry/1000000000"
   ]
  },
  {
   "cell_type": "code",
   "execution_count": 32,
   "metadata": {},
   "outputs": [],
   "source": [
    "def process_and_plot_2030_dataMi(production_df, consumption_df, load_profile_df, selected_date):\n",
    "        \n",
    "    # Realistisches Ausbau (based on frauenhofer) Szenario 2030 basierend auf 2022 Wetter (mittleres Wetter) ((2021 wäre schlechtes Wetter))\n",
    "    production_2022df = production_df[production_df['Date'].dt.year == 2022]\n",
    "    prognoseErzeugung2030_realistic_2022_df = production_2022df.copy()\n",
    "    prognoseErzeugung2030_realistic_2022_df['Date'] = prognoseErzeugung2030_realistic_2022_df['Date'].map(lambda x: x.replace(year=2030) if not (x.month == 2 and x.day == 29) else x.replace(month=2, day=28, year=2030))\n",
    "\n",
    "    windonshore_2030_factor_2022_realistic = 1.2921  # \n",
    "    windoffshore_2030_factor_2022_realistic = 2.13621  # \n",
    "    pv_2030_factor_2022_realistic = 1.821041  # assumig PV will increase by 182%\n",
    "\n",
    "    # Scale the data by the factors\n",
    "    scaled_production_df = scale_2030_factors(prognoseErzeugung2030_realistic_2022_df, windonshore_2030_factor_2022_realistic,windoffshore_2030_factor_2022_realistic,\n",
    "                                          pv_2030_factor_2022_realistic)\n",
    "\n",
    "    # Filter the data for the selected date\n",
    "    scaled_selected_production_df = scaled_production_df[scaled_production_df['Date'] == selected_date]\n",
    "\n",
    "    verbrauch2030df = energyConsumption2(consumption_df)\n",
    "\n",
    "    selected_consumption2030df = verbrauch2030df[verbrauch2030df['Date'] == selected_date]\n",
    "    scaled_selected_production_df = scaled_selected_production_df[scaled_selected_production_df['Date'] == selected_date]\n",
    "    \n",
    "    plot_energy_data(selected_consumption2030df, scaled_selected_production_df, selected_date) # Plot the data\n",
    "    plot_renewable_percentage(scaled_production_df, verbrauch2030df) # Plot the renewable percentage\n",
    "\n",
    "# Funktion zur Berechnung und Anzeige der aggregierten Daten pro Jahr\n",
    "# Author: Bjarne, Noah\n",
    "def energyConsumption2(consumption_df):\n",
    "    wärmepumpeHochrechnung2030 = wärmepumpe2()\n",
    "    eMobilitätHochrechnung2030 = eMobilität2()\n",
    "\n",
    "    verbrauch2022df = consumption_df[consumption_df['Date'].dt.year == 2022]\n",
    "    prognose2030df = verbrauch2022df.copy()\n",
    "    faktor = faktorRechnung2(verbrauch2022df, wärmepumpeHochrechnung2030, eMobilitätHochrechnung2030)\n",
    "\n",
    "    prognose2030df['Date'] = prognose2030df['Date'].map(lambda x: x.replace(year=2030) if not (x.month == 2 and x.day == 29) else x.replace(month=2, day=28, year=2030))\n",
    "\n",
    "    prognose2030df['Verbrauch [MWh]'] = prognose2030df['Consumption'] * faktor\n",
    "\n",
    "    combined_df = pd.concat([verbrauch2022df[['Starttime', 'Consumption']], prognose2030df[['Verbrauch [MWh]']]], axis=1)\n",
    "\n",
    "    return prognose2030df\n",
    "\n",
    "def wärmepumpe2():\n",
    "    highScenario = 500000\n",
    "    lowScenario = 236000\n",
    "    middleScenario = 368000\n",
    "    wärmepumpeAnzahl2030 = middleScenario * (2030 - 2023)  # 500k pro Jahr bis 2023\n",
    "\n",
    "    heizstunden = 2000\n",
    "    nennleistung = 15  # 15kW\n",
    "    luftWasserVerhältnis = 206 / 236\n",
    "    erdwärmeVerhältnis = 30 / 236\n",
    "    luftWasserJAZ = 3.1\n",
    "    erdwärmeJAZ = 4.1\n",
    "\n",
    "    # Berechnung der einzelnen Pumpe\n",
    "    luftWasserVerbrauch = wärmepumpeVerbrauchImJahr2(heizstunden, nennleistung, luftWasserJAZ)  # in kW/h\n",
    "    erdwärmeVerbrauch = wärmepumpeVerbrauchImJahr2(heizstunden, nennleistung, erdwärmeJAZ)  # in kW/h\n",
    "\n",
    "    luftWasserVerhältnisAnzahl = verhältnisAnzahl2(wärmepumpeAnzahl2030, luftWasserVerhältnis)\n",
    "    erdwärmeVerhältnisAnzahl = verhältnisAnzahl2(wärmepumpeAnzahl2030, erdwärmeVerhältnis)\n",
    "\n",
    "    return luftWasserVerbrauch * luftWasserVerhältnisAnzahl + erdwärmeVerbrauch * erdwärmeVerhältnisAnzahl  # kWh\n",
    "\n",
    "# berechnung des Verbrauchs einer Wärmepumpe im Jahr\n",
    "def wärmepumpeVerbrauchImJahr2(heizstunden, nennleistung, jaz): \n",
    "    return (heizstunden * nennleistung) / jaz # (Heizstunden * Nennleistung) / JAZ = Stromverbrauch pro Jahr\n",
    "\n",
    "def verhältnisAnzahl2(wärmepumpeAnzahl2030, verhältnis):\n",
    "    return wärmepumpeAnzahl2030 * verhältnis\n",
    "\n",
    "def eMobilität2():\n",
    "    highECars = 15000000\n",
    "    lowECars = 8000000\n",
    "    middleECars = 11500000\n",
    "\n",
    "    eMobilität2030 = middleECars  # 15mio bis 20230\n",
    "    eMobilitätBisher = 1307901  # 1.3 mio\n",
    "    verbrauchPro100km = 21  # 21kWh\n",
    "    kilometerProJahr = 15000  # 15.000km\n",
    "\n",
    "    eMobilitätVerbrauch = (verbrauchPro100km / 100) * kilometerProJahr  # kWh\n",
    "\n",
    "    return (eMobilität2030 - eMobilitätBisher) * eMobilitätVerbrauch\n",
    "\n",
    "def faktorRechnung2(verbrauch2022df, wärmepumpeHochrechnung2030, eMobilitätHochrechnung2030):\n",
    "    gesamtVerbrauch2022 = (otherFactors2(wärmepumpeHochrechnung2030, verbrauch2022df))*1000000000 + 504515946000 # mal1000 weil MWh -> kWh\n",
    "    return (gesamtVerbrauch2022 + wärmepumpeHochrechnung2030 + eMobilitätHochrechnung2030) / (504515946000) #ges Verbrauch 2021\n",
    "\n",
    "def prognoseRechnung2(verbrauch2022df, faktor):\n",
    "    verbrauch2030df = verbrauch2022df['Verbrauch [kWh]'] * faktor\n",
    "    return verbrauch2030df\n",
    "\n",
    "def otherFactors2(wärmepumpeHochrechnung2030, verbrauch2022df):\n",
    "    indHigh = (wärmepumpeHochrechnung2030*(1+3/7))*(72/26)\n",
    "    indLow = verbrauch2022df['Consumption'].sum()*0.45*0.879/1000000\n",
    "    indMiddle = 0\n",
    "\n",
    "    # positive Faktoren\n",
    "    railway = 5  # TWh\n",
    "    powerNetLoss = 1\n",
    "    industry = indMiddle\n",
    "\n",
    "    # negative Faktoren\n",
    "    efficiency = 51\n",
    "    other = 6\n",
    "\n",
    "    return railway  + powerNetLoss - efficiency - other + industry/1000000000\n"
   ]
  },
  {
   "cell_type": "code",
   "execution_count": 33,
   "metadata": {},
   "outputs": [],
   "source": [
    "def get_date():\n",
    "    while True:\n",
    "        selected_date_str = input(\"Enter the selected date for year 2030 (DD.MM.YYYY): \")\n",
    "        selected_date = datetime.strptime(selected_date_str, \"%d.%m.%Y\")\n",
    "        \n",
    "        if selected_date.year == 2030:\n",
    "            return selected_date\n",
    "        else:\n",
    "            print(\"Please enter a date from the year 2030.\")"
   ]
  },
  {
   "cell_type": "code",
   "execution_count": 38,
   "metadata": {},
   "outputs": [
    {
     "name": "stderr",
     "output_type": "stream",
     "text": [
      "C:\\Users\\bodro\\AppData\\Local\\Temp\\ipykernel_4576\\90357250.py:23: FutureWarning: DataFrame.applymap has been deprecated. Use DataFrame.map instead.\n",
      "  load_profile_df[cols_to_update] = load_profile_df[cols_to_update].applymap(lambda x: x * 32 * 10**3) # Multiply by 32*10^3 to convert from MW to W\n"
     ]
    },
    {
     "name": "stdout",
     "output_type": "stream",
     "text": [
      "for: up to 10%\n",
      "Max consecutive days: 4\n",
      "for: up to 20%\n",
      "Max consecutive days: 37\n",
      "\n",
      "List of days up to 10%:\n",
      "17.10.2020\n",
      "10.11.2020\n",
      "11.11.2020\n",
      "27.11.2020\n",
      "02.12.2020\n",
      "09.12.2020\n",
      "10.12.2020\n",
      "01.01.2021\n",
      "02.01.2021\n",
      "07.01.2021\n",
      "08.01.2021\n",
      "09.01.2021\n",
      "17.01.2021\n",
      "07.10.2021\n",
      "03.11.2021\n",
      "11.11.2021\n",
      "16.11.2021\n",
      "21.12.2021\n",
      "10.01.2022\n",
      "15.01.2022\n",
      "24.01.2022\n",
      "25.01.2022\n",
      "15.03.2022\n",
      "29.11.2022\n",
      "30.11.2022\n",
      "01.12.2022\n",
      "06.12.2022\n",
      "09.12.2022\n",
      "10.12.2022\n",
      "11.12.2022\n",
      "12.12.2022\n",
      "16.12.2022\n",
      "\n",
      "List of days up to 20%:\n",
      "01.01.2020\n",
      "05.01.2020\n",
      "19.01.2020\n",
      "20.01.2020\n",
      "21.01.2020\n",
      "22.01.2020\n",
      "23.01.2020\n",
      "24.01.2020\n",
      "25.01.2020\n",
      "26.01.2020\n",
      "06.02.2020\n",
      "07.02.2020\n",
      "14.02.2020\n",
      "27.02.2020\n",
      "02.03.2020\n",
      "03.03.2020\n",
      "04.03.2020\n",
      "05.03.2020\n",
      "09.03.2020\n",
      "14.03.2020\n",
      "16.03.2020\n",
      "17.03.2020\n",
      "19.03.2020\n",
      "20.03.2020\n",
      "31.03.2020\n",
      "04.04.2020\n",
      "07.04.2020\n",
      "08.04.2020\n",
      "09.04.2020\n",
      "10.04.2020\n",
      "11.04.2020\n",
      "12.04.2020\n",
      "16.04.2020\n",
      "17.04.2020\n",
      "18.04.2020\n",
      "23.04.2020\n",
      "25.04.2020\n",
      "26.04.2020\n",
      "27.04.2020\n",
      "28.04.2020\n",
      "29.04.2020\n",
      "03.05.2020\n",
      "04.05.2020\n",
      "07.05.2020\n",
      "08.05.2020\n",
      "09.05.2020\n",
      "10.05.2020\n",
      "13.05.2020\n",
      "14.05.2020\n",
      "19.05.2020\n",
      "20.05.2020\n",
      "21.05.2020\n",
      "26.05.2020\n",
      "27.05.2020\n",
      "29.05.2020\n",
      "02.06.2020\n",
      "03.06.2020\n",
      "04.06.2020\n",
      "07.06.2020\n",
      "08.06.2020\n",
      "09.06.2020\n",
      "10.06.2020\n",
      "11.06.2020\n",
      "14.06.2020\n",
      "15.06.2020\n",
      "16.06.2020\n",
      "17.06.2020\n",
      "18.06.2020\n",
      "19.06.2020\n",
      "20.06.2020\n",
      "21.06.2020\n",
      "22.06.2020\n",
      "23.06.2020\n",
      "24.06.2020\n",
      "27.06.2020\n",
      "02.07.2020\n",
      "08.07.2020\n",
      "09.07.2020\n",
      "11.07.2020\n",
      "12.07.2020\n",
      "13.07.2020\n",
      "14.07.2020\n",
      "15.07.2020\n",
      "16.07.2020\n",
      "17.07.2020\n",
      "18.07.2020\n",
      "19.07.2020\n",
      "20.07.2020\n",
      "21.07.2020\n",
      "22.07.2020\n",
      "23.07.2020\n",
      "25.07.2020\n",
      "27.07.2020\n",
      "30.07.2020\n",
      "31.07.2020\n",
      "02.08.2020\n",
      "03.08.2020\n",
      "04.08.2020\n",
      "06.08.2020\n",
      "07.08.2020\n",
      "08.08.2020\n",
      "09.08.2020\n",
      "10.08.2020\n",
      "13.08.2020\n",
      "14.08.2020\n",
      "15.08.2020\n",
      "16.08.2020\n",
      "17.08.2020\n",
      "18.08.2020\n",
      "19.08.2020\n",
      "20.08.2020\n",
      "24.08.2020\n",
      "29.08.2020\n",
      "30.08.2020\n",
      "31.08.2020\n",
      "01.09.2020\n",
      "02.09.2020\n",
      "05.09.2020\n",
      "06.09.2020\n",
      "07.09.2020\n",
      "10.09.2020\n",
      "11.09.2020\n",
      "14.09.2020\n",
      "15.09.2020\n",
      "16.09.2020\n",
      "20.09.2020\n",
      "21.09.2020\n",
      "22.09.2020\n",
      "23.09.2020\n",
      "25.09.2020\n",
      "26.09.2020\n",
      "27.09.2020\n",
      "28.09.2020\n",
      "29.09.2020\n",
      "30.09.2020\n",
      "09.10.2020\n",
      "11.10.2020\n",
      "12.10.2020\n",
      "13.10.2020\n",
      "16.10.2020\n",
      "19.10.2020\n",
      "23.10.2020\n",
      "26.10.2020\n",
      "31.10.2020\n",
      "06.11.2020\n",
      "07.11.2020\n",
      "08.11.2020\n",
      "09.11.2020\n",
      "12.11.2020\n",
      "13.11.2020\n",
      "14.11.2020\n",
      "20.11.2020\n",
      "24.11.2020\n",
      "25.11.2020\n",
      "26.11.2020\n",
      "28.11.2020\n",
      "29.11.2020\n",
      "30.11.2020\n",
      "01.12.2020\n",
      "05.12.2020\n",
      "06.12.2020\n",
      "07.12.2020\n",
      "08.12.2020\n",
      "11.12.2020\n",
      "12.12.2020\n",
      "13.12.2020\n",
      "15.12.2020\n",
      "16.12.2020\n",
      "20.12.2020\n",
      "23.12.2020\n",
      "25.12.2020\n",
      "28.12.2020\n",
      "29.12.2020\n",
      "31.12.2020\n",
      "03.01.2021\n",
      "04.01.2021\n",
      "05.01.2021\n",
      "06.01.2021\n",
      "10.01.2021\n",
      "14.01.2021\n",
      "15.01.2021\n",
      "16.01.2021\n",
      "23.01.2021\n",
      "24.01.2021\n",
      "25.01.2021\n",
      "26.01.2021\n",
      "27.01.2021\n",
      "28.01.2021\n",
      "30.01.2021\n",
      "31.01.2021\n",
      "01.02.2021\n",
      "02.02.2021\n",
      "04.02.2021\n",
      "05.02.2021\n",
      "09.02.2021\n",
      "10.02.2021\n",
      "11.02.2021\n",
      "12.02.2021\n",
      "13.02.2021\n",
      "14.02.2021\n",
      "16.02.2021\n",
      "22.02.2021\n",
      "26.02.2021\n",
      "27.02.2021\n",
      "28.02.2021\n",
      "01.03.2021\n",
      "02.03.2021\n",
      "03.03.2021\n",
      "04.03.2021\n",
      "05.03.2021\n",
      "06.03.2021\n",
      "08.03.2021\n",
      "09.03.2021\n",
      "10.03.2021\n",
      "17.03.2021\n",
      "18.03.2021\n",
      "19.03.2021\n",
      "20.03.2021\n",
      "22.03.2021\n",
      "23.03.2021\n",
      "24.03.2021\n",
      "25.03.2021\n",
      "30.03.2021\n",
      "31.03.2021\n",
      "10.04.2021\n",
      "12.04.2021\n",
      "14.04.2021\n",
      "15.04.2021\n",
      "16.04.2021\n",
      "17.04.2021\n",
      "18.04.2021\n",
      "19.04.2021\n",
      "20.04.2021\n",
      "24.04.2021\n",
      "25.04.2021\n",
      "26.04.2021\n",
      "30.04.2021\n",
      "01.05.2021\n",
      "02.05.2021\n",
      "11.05.2021\n",
      "12.05.2021\n",
      "13.05.2021\n",
      "14.05.2021\n",
      "15.05.2021\n",
      "16.05.2021\n",
      "17.05.2021\n",
      "18.05.2021\n",
      "19.05.2021\n",
      "20.05.2021\n",
      "28.05.2021\n",
      "29.05.2021\n",
      "30.05.2021\n",
      "31.05.2021\n",
      "01.06.2021\n",
      "04.06.2021\n",
      "05.06.2021\n",
      "06.06.2021\n",
      "07.06.2021\n",
      "08.06.2021\n",
      "09.06.2021\n",
      "10.06.2021\n",
      "11.06.2021\n",
      "15.06.2021\n",
      "16.06.2021\n",
      "18.06.2021\n",
      "19.06.2021\n",
      "22.06.2021\n",
      "23.06.2021\n",
      "24.06.2021\n",
      "25.06.2021\n",
      "26.06.2021\n",
      "27.06.2021\n",
      "28.06.2021\n",
      "29.06.2021\n",
      "30.06.2021\n",
      "01.07.2021\n",
      "02.07.2021\n",
      "03.07.2021\n",
      "04.07.2021\n",
      "05.07.2021\n",
      "07.07.2021\n",
      "08.07.2021\n",
      "09.07.2021\n",
      "10.07.2021\n",
      "11.07.2021\n",
      "12.07.2021\n",
      "13.07.2021\n",
      "14.07.2021\n",
      "15.07.2021\n",
      "16.07.2021\n",
      "19.07.2021\n",
      "20.07.2021\n",
      "21.07.2021\n",
      "22.07.2021\n",
      "23.07.2021\n",
      "24.07.2021\n",
      "25.07.2021\n",
      "26.07.2021\n",
      "27.07.2021\n",
      "01.08.2021\n",
      "02.08.2021\n",
      "03.08.2021\n",
      "04.08.2021\n",
      "05.08.2021\n",
      "07.08.2021\n",
      "10.08.2021\n",
      "11.08.2021\n",
      "12.08.2021\n",
      "13.08.2021\n",
      "15.08.2021\n",
      "19.08.2021\n",
      "20.08.2021\n",
      "21.08.2021\n",
      "22.08.2021\n",
      "23.08.2021\n",
      "24.08.2021\n",
      "28.08.2021\n",
      "29.08.2021\n",
      "30.08.2021\n",
      "31.08.2021\n",
      "01.09.2021\n",
      "02.09.2021\n",
      "03.09.2021\n",
      "04.09.2021\n",
      "05.09.2021\n",
      "06.09.2021\n",
      "07.09.2021\n",
      "08.09.2021\n",
      "09.09.2021\n",
      "10.09.2021\n",
      "11.09.2021\n",
      "12.09.2021\n",
      "13.09.2021\n",
      "14.09.2021\n",
      "15.09.2021\n",
      "16.09.2021\n",
      "17.09.2021\n",
      "18.09.2021\n",
      "19.09.2021\n",
      "20.09.2021\n",
      "21.09.2021\n",
      "22.09.2021\n",
      "25.09.2021\n",
      "26.09.2021\n",
      "27.09.2021\n",
      "28.09.2021\n",
      "04.10.2021\n",
      "05.10.2021\n",
      "06.10.2021\n",
      "08.10.2021\n",
      "09.10.2021\n",
      "10.10.2021\n",
      "11.10.2021\n",
      "12.10.2021\n",
      "13.10.2021\n",
      "16.10.2021\n",
      "17.10.2021\n",
      "18.10.2021\n",
      "25.10.2021\n",
      "26.10.2021\n",
      "02.11.2021\n",
      "04.11.2021\n",
      "05.11.2021\n",
      "08.11.2021\n",
      "09.11.2021\n",
      "10.11.2021\n",
      "12.11.2021\n",
      "13.11.2021\n",
      "14.11.2021\n",
      "15.11.2021\n",
      "17.11.2021\n",
      "21.11.2021\n",
      "22.11.2021\n",
      "23.11.2021\n",
      "24.11.2021\n",
      "25.11.2021\n",
      "26.11.2021\n",
      "27.11.2021\n",
      "28.11.2021\n",
      "29.11.2021\n",
      "04.12.2021\n",
      "05.12.2021\n",
      "06.12.2021\n",
      "09.12.2021\n",
      "10.12.2021\n",
      "11.12.2021\n",
      "12.12.2021\n",
      "13.12.2021\n",
      "14.12.2021\n",
      "15.12.2021\n",
      "16.12.2021\n",
      "17.12.2021\n",
      "18.12.2021\n",
      "20.12.2021\n",
      "22.12.2021\n",
      "23.12.2021\n",
      "25.12.2021\n",
      "26.12.2021\n",
      "27.12.2021\n",
      "29.12.2021\n",
      "04.01.2022\n",
      "06.01.2022\n",
      "11.01.2022\n",
      "12.01.2022\n",
      "18.01.2022\n",
      "22.01.2022\n",
      "23.01.2022\n",
      "03.02.2022\n",
      "10.02.2022\n",
      "26.02.2022\n",
      "01.03.2022\n",
      "02.03.2022\n",
      "03.03.2022\n",
      "04.03.2022\n",
      "05.03.2022\n",
      "06.03.2022\n",
      "07.03.2022\n",
      "08.03.2022\n",
      "09.03.2022\n",
      "14.03.2022\n",
      "16.03.2022\n",
      "18.03.2022\n",
      "21.03.2022\n",
      "22.03.2022\n",
      "23.03.2022\n",
      "24.03.2022\n",
      "25.03.2022\n",
      "26.03.2022\n",
      "27.03.2022\n",
      "28.03.2022\n",
      "29.03.2022\n",
      "30.03.2022\n",
      "03.04.2022\n",
      "11.04.2022\n",
      "13.04.2022\n",
      "14.04.2022\n",
      "15.04.2022\n",
      "17.04.2022\n",
      "18.04.2022\n",
      "19.04.2022\n",
      "20.04.2022\n",
      "21.04.2022\n",
      "25.04.2022\n",
      "26.04.2022\n",
      "27.04.2022\n",
      "28.04.2022\n",
      "29.04.2022\n",
      "30.04.2022\n",
      "01.05.2022\n",
      "02.05.2022\n",
      "03.05.2022\n",
      "04.05.2022\n",
      "05.05.2022\n",
      "06.05.2022\n",
      "07.05.2022\n",
      "08.05.2022\n",
      "09.05.2022\n",
      "15.05.2022\n",
      "17.05.2022\n",
      "20.05.2022\n",
      "22.05.2022\n",
      "29.05.2022\n",
      "30.05.2022\n",
      "31.05.2022\n",
      "01.06.2022\n",
      "02.06.2022\n",
      "03.06.2022\n",
      "04.06.2022\n",
      "08.06.2022\n",
      "09.06.2022\n",
      "10.06.2022\n",
      "11.06.2022\n",
      "12.06.2022\n",
      "14.06.2022\n",
      "15.06.2022\n",
      "16.06.2022\n",
      "17.06.2022\n",
      "20.06.2022\n",
      "21.06.2022\n",
      "22.06.2022\n",
      "23.06.2022\n",
      "25.06.2022\n",
      "26.06.2022\n",
      "27.06.2022\n",
      "28.06.2022\n",
      "29.06.2022\n",
      "30.06.2022\n",
      "01.07.2022\n",
      "03.07.2022\n",
      "11.07.2022\n",
      "12.07.2022\n",
      "17.07.2022\n",
      "18.07.2022\n",
      "19.07.2022\n",
      "21.07.2022\n",
      "22.07.2022\n",
      "23.07.2022\n",
      "24.07.2022\n",
      "27.07.2022\n",
      "28.07.2022\n",
      "29.07.2022\n",
      "30.07.2022\n",
      "31.07.2022\n",
      "01.08.2022\n",
      "02.08.2022\n",
      "03.08.2022\n",
      "04.08.2022\n",
      "05.08.2022\n",
      "06.08.2022\n",
      "07.08.2022\n",
      "08.08.2022\n",
      "09.08.2022\n",
      "10.08.2022\n",
      "11.08.2022\n",
      "12.08.2022\n",
      "13.08.2022\n",
      "14.08.2022\n",
      "15.08.2022\n",
      "16.08.2022\n",
      "17.08.2022\n",
      "18.08.2022\n",
      "19.08.2022\n",
      "20.08.2022\n",
      "21.08.2022\n",
      "22.08.2022\n",
      "23.08.2022\n",
      "24.08.2022\n",
      "25.08.2022\n",
      "26.08.2022\n",
      "27.08.2022\n",
      "28.08.2022\n",
      "29.08.2022\n",
      "30.08.2022\n",
      "31.08.2022\n",
      "01.09.2022\n",
      "04.09.2022\n",
      "07.09.2022\n",
      "08.09.2022\n",
      "09.09.2022\n",
      "10.09.2022\n",
      "11.09.2022\n",
      "12.09.2022\n",
      "13.09.2022\n",
      "14.09.2022\n",
      "20.09.2022\n",
      "21.09.2022\n",
      "22.09.2022\n",
      "23.09.2022\n",
      "24.09.2022\n",
      "25.09.2022\n",
      "27.09.2022\n",
      "28.09.2022\n",
      "29.09.2022\n",
      "30.09.2022\n",
      "04.10.2022\n",
      "09.10.2022\n",
      "11.10.2022\n",
      "12.10.2022\n",
      "13.10.2022\n",
      "14.10.2022\n",
      "15.10.2022\n",
      "18.10.2022\n",
      "19.10.2022\n",
      "21.10.2022\n",
      "22.10.2022\n",
      "23.10.2022\n",
      "26.10.2022\n",
      "27.10.2022\n",
      "29.10.2022\n",
      "30.10.2022\n",
      "31.10.2022\n",
      "04.11.2022\n",
      "05.11.2022\n",
      "12.11.2022\n",
      "13.11.2022\n",
      "15.11.2022\n",
      "18.11.2022\n",
      "19.11.2022\n",
      "20.11.2022\n",
      "21.11.2022\n",
      "24.11.2022\n",
      "25.11.2022\n",
      "26.11.2022\n",
      "27.11.2022\n",
      "28.11.2022\n",
      "02.12.2022\n",
      "03.12.2022\n",
      "04.12.2022\n",
      "05.12.2022\n",
      "07.12.2022\n",
      "08.12.2022\n",
      "13.12.2022\n",
      "14.12.2022\n",
      "15.12.2022\n",
      "17.12.2022\n",
      "18.12.2022\n",
      "21.12.2022\n",
      "23.12.2022\n",
      "24.12.2022\n",
      "25.12.2022\n",
      "\n",
      "Number of days up to 10%: 32\n",
      "Number of days up to 20%: 600\n",
      "gut\n",
      "Verbr df:             Datum Anfang   Ende Gesamt (Netzlast) [MWh] Originalauflösungen  \\\n",
      "0      01.01.2020  00:00  00:15                                   10.964,25   \n",
      "1      01.01.2020  00:15  00:30                                    10.908,5   \n",
      "2      01.01.2020  00:30  00:45                                      10.833   \n",
      "3      01.01.2020  00:45  01:00                                   10.788,25   \n",
      "4      01.01.2020  01:00  01:15                                      10.756   \n",
      "...           ...    ...    ...                                         ...   \n",
      "35131  31.12.2020  22:45  23:00                                      11.637   \n",
      "35132  31.12.2020  23:00  23:15                                    11.485,5   \n",
      "35133  31.12.2020  23:15  23:30                                    11.371,5   \n",
      "35134  31.12.2020  23:30  23:45                                    11.248,5   \n",
      "35135  31.12.2020  23:45  00:00                                   11.129,75   \n",
      "\n",
      "      Residuallast [MWh] Originalauflösungen  \\\n",
      "0                                   9.362,75   \n",
      "1                                   9.311,75   \n",
      "2                                    9.170,5   \n",
      "3                                      9.065   \n",
      "4                                    9.012,5   \n",
      "...                                      ...   \n",
      "35131                                 10.271   \n",
      "35132                              10.160,25   \n",
      "35133                                 10.087   \n",
      "35134                               10.012,5   \n",
      "35135                                  9.950   \n",
      "\n",
      "      Pumpspeicher [MWh] Originalauflösungen       Date           Starttime  \\\n",
      "0                                      48,75 2020-01-01 1900-01-01 00:00:00   \n",
      "1                                      65,25 2020-01-01 1900-01-01 00:15:00   \n",
      "2                                         96 2020-01-01 1900-01-01 00:30:00   \n",
      "3                                     124,75 2020-01-01 1900-01-01 00:45:00   \n",
      "4                                      94,75 2020-01-01 1900-01-01 01:00:00   \n",
      "...                                      ...        ...                 ...   \n",
      "35131                                   43,5 2020-12-31 1900-01-01 22:45:00   \n",
      "35132                                 144,25 2020-12-31 1900-01-01 23:00:00   \n",
      "35133                                 144,25 2020-12-31 1900-01-01 23:15:00   \n",
      "35134                                     48 2020-12-31 1900-01-01 23:30:00   \n",
      "35135                                 121,25 2020-12-31 1900-01-01 23:45:00   \n",
      "\n",
      "       Consumption  \n",
      "0         10964.25  \n",
      "1         10908.50  \n",
      "2         10833.00  \n",
      "3         10788.25  \n",
      "4         10756.00  \n",
      "...            ...  \n",
      "35131     11637.00  \n",
      "35132     11485.50  \n",
      "35133     11371.50  \n",
      "35134     11248.50  \n",
      "35135     11129.75  \n",
      "\n",
      "[35136 rows x 9 columns]\n",
      "Faktor:  0.9714013719548276\n",
      "Verbrauch 2030: 471411.76448496286 TWhhusp\n",
      "\n",
      "Consumption 2022: 485290.40425 TWh\n",
      "\n"
     ]
    },
    {
     "data": {
      "application/vnd.plotly.v1+json": {
       "config": {
        "plotlyServerURL": "https://plot.ly"
       },
       "data": [
        {
         "fill": "tozeroy",
         "mode": "lines",
         "name": "Total Consumption",
         "type": "scatter",
         "x": [
          "00:00",
          "00:15",
          "00:30",
          "00:45",
          "01:00",
          "01:15",
          "01:30",
          "01:45",
          "02:00",
          "02:15",
          "02:30",
          "02:45",
          "03:00",
          "03:15",
          "03:30",
          "03:45",
          "04:00",
          "04:15",
          "04:30",
          "04:45",
          "05:00",
          "05:15",
          "05:30",
          "05:45",
          "06:00",
          "06:15",
          "06:30",
          "06:45",
          "07:00",
          "07:15",
          "07:30",
          "07:45",
          "08:00",
          "08:15",
          "08:30",
          "08:45",
          "09:00",
          "09:15",
          "09:30",
          "09:45",
          "10:00",
          "10:15",
          "10:30",
          "10:45",
          "11:00",
          "11:15",
          "11:30",
          "11:45",
          "12:00",
          "12:15",
          "12:30",
          "12:45",
          "13:00",
          "13:15",
          "13:30",
          "13:45",
          "14:00",
          "14:15",
          "14:30",
          "14:45",
          "15:00",
          "15:15",
          "15:30",
          "15:45",
          "16:00",
          "16:15",
          "16:30",
          "16:45",
          "17:00",
          "17:15",
          "17:30",
          "17:45",
          "18:00",
          "18:15",
          "18:30",
          "18:45",
          "19:00",
          "19:15",
          "19:30",
          "19:45",
          "20:00",
          "20:15",
          "20:30",
          "20:45",
          "21:00",
          "21:15",
          "21:30",
          "21:45",
          "22:00",
          "22:15",
          "22:30",
          "22:45",
          "23:00",
          "23:15",
          "23:30",
          "23:45"
         ],
         "y": [
          13222.958325392101,
          13089.87633743429,
          12966.02266251005,
          12833.183524895227,
          12659.302679315313,
          12570.905154467424,
          12526.220691357501,
          12429.809105190985,
          12328.297661821705,
          12318.09794741618,
          12345.054335487926,
          12418.637989413504,
          12411.352479123843,
          12414.995234268674,
          12482.507629619535,
          12508.492616319325,
          12606.361304543774,
          12663.916835832099,
          12825.898014605566,
          12889.767654811596,
          13152.531725925377,
          13321.06986395954,
          13634.346806414971,
          13948.109449556381,
          14613.519389345438,
          15113.305395216195,
          15548.736060194948,
          15909.125969190189,
          16303.514926203849,
          16584.97847372776,
          16750.11670696008,
          16908.940831274696,
          17090.35003748726,
          17183.361718851935,
          17260.345277579352,
          17282.930359477305,
          17291.43012148191,
          17328.343373616193,
          17365.013775407486,
          17454.62555197032,
          17500.038566109208,
          17552.00853950879,
          17643.320268472544,
          17679.019268891883,
          17725.889385088703,
          17799.473039014283,
          17807.729950675897,
          17857.999971674562,
          17656.434186993934,
          17649.148676704273,
          17660.805493167732,
          17598.150104676646,
          17710.34696313743,
          17700.63294941788,
          17587.46468958514,
          17492.753055819547,
          17495.66725993541,
          17499.310015080242,
          17505.38127365496,
          17498.095763365298,
          17518.25234183336,
          17526.509253494976,
          17491.295953761615,
          17396.09861931004,
          17516.795239775427,
          17651.091479448183,
          17811.858406506708,
          17922.355312566568,
          17930.369373885194,
          17886.656312147228,
          17885.442060432284,
          17885.442060432284,
          17740.703256011016,
          17647.93442498933,
          17602.278560507453,
          17505.866974340937,
          17483.524742785976,
          17321.786414355498,
          17123.134833790733,
          16966.49636256302,
          16742.58834632743,
          16501.437955739646,
          16296.715116600164,
          16041.722256462022,
          15972.99560939622,
          15753.701749677415,
          15515.222712862505,
          15326.77084670327,
          15310.499873723025,
          15170.132375475554,
          14883.56897074888,
          14624.933355465906,
          14389.125672423872,
          14186.345636028302,
          14025.578708969777,
          13905.610639533357
         ]
        },
        {
         "fill": "tozeroy",
         "mode": "lines",
         "name": "Total Renewable Production",
         "type": "scatter",
         "x": [
          "00:00",
          "00:15",
          "00:30",
          "00:45",
          "01:00",
          "01:15",
          "01:30",
          "01:45",
          "02:00",
          "02:15",
          "02:30",
          "02:45",
          "03:00",
          "03:15",
          "03:30",
          "03:45",
          "04:00",
          "04:15",
          "04:30",
          "04:45",
          "05:00",
          "05:15",
          "05:30",
          "05:45",
          "06:00",
          "06:15",
          "06:30",
          "06:45",
          "07:00",
          "07:15",
          "07:30",
          "07:45",
          "08:00",
          "08:15",
          "08:30",
          "08:45",
          "09:00",
          "09:15",
          "09:30",
          "09:45",
          "10:00",
          "10:15",
          "10:30",
          "10:45",
          "11:00",
          "11:15",
          "11:30",
          "11:45",
          "12:00",
          "12:15",
          "12:30",
          "12:45",
          "13:00",
          "13:15",
          "13:30",
          "13:45",
          "14:00",
          "14:15",
          "14:30",
          "14:45",
          "15:00",
          "15:15",
          "15:30",
          "15:45",
          "16:00",
          "16:15",
          "16:30",
          "16:45",
          "17:00",
          "17:15",
          "17:30",
          "17:45",
          "18:00",
          "18:15",
          "18:30",
          "18:45",
          "19:00",
          "19:15",
          "19:30",
          "19:45",
          "20:00",
          "20:15",
          "20:30",
          "20:45",
          "21:00",
          "21:15",
          "21:30",
          "21:45",
          "22:00",
          "22:15",
          "22:30",
          "22:45",
          "23:00",
          "23:15",
          "23:30",
          "23:45"
         ],
         "y": [
          3747.6443025,
          3656.7479725,
          3614.78439,
          3511.346055,
          3435.0689949999996,
          3351.64615,
          3348.0148424999998,
          3419.044085,
          3473.9373574999995,
          3534.63164,
          3508.71512,
          3506.8335499999994,
          3465.80829,
          3392.9562575,
          3342.2354299999997,
          3330.9067375,
          3297.6105150000003,
          3276.6834075,
          3262.7443700000003,
          3270.933955,
          3267.78974,
          3286.53337,
          3284.99097,
          3240.7902375,
          3185.8770824999997,
          3199.0836824999997,
          3252.8618675,
          3338.71282,
          3298.854635,
          3315.4052,
          3349.008603075,
          3453.31795275,
          3647.198253075,
          3795.4605286999995,
          4035.7993963000004,
          4331.1482851,
          4682.677726399999,
          4899.5789889,
          5256.63130805,
          5576.1312275,
          5962.784561275001,
          6218.347759975,
          6433.866529225001,
          6559.125153325,
          6778.117245475,
          7053.371087699999,
          7211.373389400001,
          7237.173586225001,
          7161.130737775001,
          7088.678073875,
          7051.569062525001,
          6935.342604175,
          6710.202954124999,
          6497.2516345,
          6233.1328491,
          5933.023658025,
          5531.650471450001,
          5176.2073915500005,
          4906.465014325,
          4584.144537149999,
          4304.06091785,
          4113.5732474,
          4071.7246562249998,
          3972.80235565,
          4095.8725256749995,
          4284.978579475,
          4521.471785,
          4732.2511275,
          4942.9187825,
          5139.9708825,
          5283.880892499999,
          5417.8044875,
          5578.4466925,
          5613.741309999999,
          5892.8057100000005,
          6073.878000000001,
          6204.2280900000005,
          6345.890842499999,
          6541.359404999999,
          6611.655745,
          6746.229897499999,
          6951.2038575,
          7127.031567499999,
          7316.969892499999,
          7591.960445000001,
          7755.8806525,
          7936.8127325000005,
          8103.4909375,
          8382.4321425,
          8639.9264375,
          8838.4941225,
          8874.2312,
          9144.4183425,
          9418.184475,
          9768.775855,
          10206.487625
         ]
        }
       ],
       "layout": {
        "showlegend": true,
        "template": {
         "data": {
          "bar": [
           {
            "error_x": {
             "color": "#2a3f5f"
            },
            "error_y": {
             "color": "#2a3f5f"
            },
            "marker": {
             "line": {
              "color": "#E5ECF6",
              "width": 0.5
             },
             "pattern": {
              "fillmode": "overlay",
              "size": 10,
              "solidity": 0.2
             }
            },
            "type": "bar"
           }
          ],
          "barpolar": [
           {
            "marker": {
             "line": {
              "color": "#E5ECF6",
              "width": 0.5
             },
             "pattern": {
              "fillmode": "overlay",
              "size": 10,
              "solidity": 0.2
             }
            },
            "type": "barpolar"
           }
          ],
          "carpet": [
           {
            "aaxis": {
             "endlinecolor": "#2a3f5f",
             "gridcolor": "white",
             "linecolor": "white",
             "minorgridcolor": "white",
             "startlinecolor": "#2a3f5f"
            },
            "baxis": {
             "endlinecolor": "#2a3f5f",
             "gridcolor": "white",
             "linecolor": "white",
             "minorgridcolor": "white",
             "startlinecolor": "#2a3f5f"
            },
            "type": "carpet"
           }
          ],
          "choropleth": [
           {
            "colorbar": {
             "outlinewidth": 0,
             "ticks": ""
            },
            "type": "choropleth"
           }
          ],
          "contour": [
           {
            "colorbar": {
             "outlinewidth": 0,
             "ticks": ""
            },
            "colorscale": [
             [
              0,
              "#0d0887"
             ],
             [
              0.1111111111111111,
              "#46039f"
             ],
             [
              0.2222222222222222,
              "#7201a8"
             ],
             [
              0.3333333333333333,
              "#9c179e"
             ],
             [
              0.4444444444444444,
              "#bd3786"
             ],
             [
              0.5555555555555556,
              "#d8576b"
             ],
             [
              0.6666666666666666,
              "#ed7953"
             ],
             [
              0.7777777777777778,
              "#fb9f3a"
             ],
             [
              0.8888888888888888,
              "#fdca26"
             ],
             [
              1,
              "#f0f921"
             ]
            ],
            "type": "contour"
           }
          ],
          "contourcarpet": [
           {
            "colorbar": {
             "outlinewidth": 0,
             "ticks": ""
            },
            "type": "contourcarpet"
           }
          ],
          "heatmap": [
           {
            "colorbar": {
             "outlinewidth": 0,
             "ticks": ""
            },
            "colorscale": [
             [
              0,
              "#0d0887"
             ],
             [
              0.1111111111111111,
              "#46039f"
             ],
             [
              0.2222222222222222,
              "#7201a8"
             ],
             [
              0.3333333333333333,
              "#9c179e"
             ],
             [
              0.4444444444444444,
              "#bd3786"
             ],
             [
              0.5555555555555556,
              "#d8576b"
             ],
             [
              0.6666666666666666,
              "#ed7953"
             ],
             [
              0.7777777777777778,
              "#fb9f3a"
             ],
             [
              0.8888888888888888,
              "#fdca26"
             ],
             [
              1,
              "#f0f921"
             ]
            ],
            "type": "heatmap"
           }
          ],
          "heatmapgl": [
           {
            "colorbar": {
             "outlinewidth": 0,
             "ticks": ""
            },
            "colorscale": [
             [
              0,
              "#0d0887"
             ],
             [
              0.1111111111111111,
              "#46039f"
             ],
             [
              0.2222222222222222,
              "#7201a8"
             ],
             [
              0.3333333333333333,
              "#9c179e"
             ],
             [
              0.4444444444444444,
              "#bd3786"
             ],
             [
              0.5555555555555556,
              "#d8576b"
             ],
             [
              0.6666666666666666,
              "#ed7953"
             ],
             [
              0.7777777777777778,
              "#fb9f3a"
             ],
             [
              0.8888888888888888,
              "#fdca26"
             ],
             [
              1,
              "#f0f921"
             ]
            ],
            "type": "heatmapgl"
           }
          ],
          "histogram": [
           {
            "marker": {
             "pattern": {
              "fillmode": "overlay",
              "size": 10,
              "solidity": 0.2
             }
            },
            "type": "histogram"
           }
          ],
          "histogram2d": [
           {
            "colorbar": {
             "outlinewidth": 0,
             "ticks": ""
            },
            "colorscale": [
             [
              0,
              "#0d0887"
             ],
             [
              0.1111111111111111,
              "#46039f"
             ],
             [
              0.2222222222222222,
              "#7201a8"
             ],
             [
              0.3333333333333333,
              "#9c179e"
             ],
             [
              0.4444444444444444,
              "#bd3786"
             ],
             [
              0.5555555555555556,
              "#d8576b"
             ],
             [
              0.6666666666666666,
              "#ed7953"
             ],
             [
              0.7777777777777778,
              "#fb9f3a"
             ],
             [
              0.8888888888888888,
              "#fdca26"
             ],
             [
              1,
              "#f0f921"
             ]
            ],
            "type": "histogram2d"
           }
          ],
          "histogram2dcontour": [
           {
            "colorbar": {
             "outlinewidth": 0,
             "ticks": ""
            },
            "colorscale": [
             [
              0,
              "#0d0887"
             ],
             [
              0.1111111111111111,
              "#46039f"
             ],
             [
              0.2222222222222222,
              "#7201a8"
             ],
             [
              0.3333333333333333,
              "#9c179e"
             ],
             [
              0.4444444444444444,
              "#bd3786"
             ],
             [
              0.5555555555555556,
              "#d8576b"
             ],
             [
              0.6666666666666666,
              "#ed7953"
             ],
             [
              0.7777777777777778,
              "#fb9f3a"
             ],
             [
              0.8888888888888888,
              "#fdca26"
             ],
             [
              1,
              "#f0f921"
             ]
            ],
            "type": "histogram2dcontour"
           }
          ],
          "mesh3d": [
           {
            "colorbar": {
             "outlinewidth": 0,
             "ticks": ""
            },
            "type": "mesh3d"
           }
          ],
          "parcoords": [
           {
            "line": {
             "colorbar": {
              "outlinewidth": 0,
              "ticks": ""
             }
            },
            "type": "parcoords"
           }
          ],
          "pie": [
           {
            "automargin": true,
            "type": "pie"
           }
          ],
          "scatter": [
           {
            "fillpattern": {
             "fillmode": "overlay",
             "size": 10,
             "solidity": 0.2
            },
            "type": "scatter"
           }
          ],
          "scatter3d": [
           {
            "line": {
             "colorbar": {
              "outlinewidth": 0,
              "ticks": ""
             }
            },
            "marker": {
             "colorbar": {
              "outlinewidth": 0,
              "ticks": ""
             }
            },
            "type": "scatter3d"
           }
          ],
          "scattercarpet": [
           {
            "marker": {
             "colorbar": {
              "outlinewidth": 0,
              "ticks": ""
             }
            },
            "type": "scattercarpet"
           }
          ],
          "scattergeo": [
           {
            "marker": {
             "colorbar": {
              "outlinewidth": 0,
              "ticks": ""
             }
            },
            "type": "scattergeo"
           }
          ],
          "scattergl": [
           {
            "marker": {
             "colorbar": {
              "outlinewidth": 0,
              "ticks": ""
             }
            },
            "type": "scattergl"
           }
          ],
          "scattermapbox": [
           {
            "marker": {
             "colorbar": {
              "outlinewidth": 0,
              "ticks": ""
             }
            },
            "type": "scattermapbox"
           }
          ],
          "scatterpolar": [
           {
            "marker": {
             "colorbar": {
              "outlinewidth": 0,
              "ticks": ""
             }
            },
            "type": "scatterpolar"
           }
          ],
          "scatterpolargl": [
           {
            "marker": {
             "colorbar": {
              "outlinewidth": 0,
              "ticks": ""
             }
            },
            "type": "scatterpolargl"
           }
          ],
          "scatterternary": [
           {
            "marker": {
             "colorbar": {
              "outlinewidth": 0,
              "ticks": ""
             }
            },
            "type": "scatterternary"
           }
          ],
          "surface": [
           {
            "colorbar": {
             "outlinewidth": 0,
             "ticks": ""
            },
            "colorscale": [
             [
              0,
              "#0d0887"
             ],
             [
              0.1111111111111111,
              "#46039f"
             ],
             [
              0.2222222222222222,
              "#7201a8"
             ],
             [
              0.3333333333333333,
              "#9c179e"
             ],
             [
              0.4444444444444444,
              "#bd3786"
             ],
             [
              0.5555555555555556,
              "#d8576b"
             ],
             [
              0.6666666666666666,
              "#ed7953"
             ],
             [
              0.7777777777777778,
              "#fb9f3a"
             ],
             [
              0.8888888888888888,
              "#fdca26"
             ],
             [
              1,
              "#f0f921"
             ]
            ],
            "type": "surface"
           }
          ],
          "table": [
           {
            "cells": {
             "fill": {
              "color": "#EBF0F8"
             },
             "line": {
              "color": "white"
             }
            },
            "header": {
             "fill": {
              "color": "#C8D4E3"
             },
             "line": {
              "color": "white"
             }
            },
            "type": "table"
           }
          ]
         },
         "layout": {
          "annotationdefaults": {
           "arrowcolor": "#2a3f5f",
           "arrowhead": 0,
           "arrowwidth": 1
          },
          "autotypenumbers": "strict",
          "coloraxis": {
           "colorbar": {
            "outlinewidth": 0,
            "ticks": ""
           }
          },
          "colorscale": {
           "diverging": [
            [
             0,
             "#8e0152"
            ],
            [
             0.1,
             "#c51b7d"
            ],
            [
             0.2,
             "#de77ae"
            ],
            [
             0.3,
             "#f1b6da"
            ],
            [
             0.4,
             "#fde0ef"
            ],
            [
             0.5,
             "#f7f7f7"
            ],
            [
             0.6,
             "#e6f5d0"
            ],
            [
             0.7,
             "#b8e186"
            ],
            [
             0.8,
             "#7fbc41"
            ],
            [
             0.9,
             "#4d9221"
            ],
            [
             1,
             "#276419"
            ]
           ],
           "sequential": [
            [
             0,
             "#0d0887"
            ],
            [
             0.1111111111111111,
             "#46039f"
            ],
            [
             0.2222222222222222,
             "#7201a8"
            ],
            [
             0.3333333333333333,
             "#9c179e"
            ],
            [
             0.4444444444444444,
             "#bd3786"
            ],
            [
             0.5555555555555556,
             "#d8576b"
            ],
            [
             0.6666666666666666,
             "#ed7953"
            ],
            [
             0.7777777777777778,
             "#fb9f3a"
            ],
            [
             0.8888888888888888,
             "#fdca26"
            ],
            [
             1,
             "#f0f921"
            ]
           ],
           "sequentialminus": [
            [
             0,
             "#0d0887"
            ],
            [
             0.1111111111111111,
             "#46039f"
            ],
            [
             0.2222222222222222,
             "#7201a8"
            ],
            [
             0.3333333333333333,
             "#9c179e"
            ],
            [
             0.4444444444444444,
             "#bd3786"
            ],
            [
             0.5555555555555556,
             "#d8576b"
            ],
            [
             0.6666666666666666,
             "#ed7953"
            ],
            [
             0.7777777777777778,
             "#fb9f3a"
            ],
            [
             0.8888888888888888,
             "#fdca26"
            ],
            [
             1,
             "#f0f921"
            ]
           ]
          },
          "colorway": [
           "#636efa",
           "#EF553B",
           "#00cc96",
           "#ab63fa",
           "#FFA15A",
           "#19d3f3",
           "#FF6692",
           "#B6E880",
           "#FF97FF",
           "#FECB52"
          ],
          "font": {
           "color": "#2a3f5f"
          },
          "geo": {
           "bgcolor": "white",
           "lakecolor": "white",
           "landcolor": "#E5ECF6",
           "showlakes": true,
           "showland": true,
           "subunitcolor": "white"
          },
          "hoverlabel": {
           "align": "left"
          },
          "hovermode": "closest",
          "mapbox": {
           "style": "light"
          },
          "paper_bgcolor": "white",
          "plot_bgcolor": "#E5ECF6",
          "polar": {
           "angularaxis": {
            "gridcolor": "white",
            "linecolor": "white",
            "ticks": ""
           },
           "bgcolor": "#E5ECF6",
           "radialaxis": {
            "gridcolor": "white",
            "linecolor": "white",
            "ticks": ""
           }
          },
          "scene": {
           "xaxis": {
            "backgroundcolor": "#E5ECF6",
            "gridcolor": "white",
            "gridwidth": 2,
            "linecolor": "white",
            "showbackground": true,
            "ticks": "",
            "zerolinecolor": "white"
           },
           "yaxis": {
            "backgroundcolor": "#E5ECF6",
            "gridcolor": "white",
            "gridwidth": 2,
            "linecolor": "white",
            "showbackground": true,
            "ticks": "",
            "zerolinecolor": "white"
           },
           "zaxis": {
            "backgroundcolor": "#E5ECF6",
            "gridcolor": "white",
            "gridwidth": 2,
            "linecolor": "white",
            "showbackground": true,
            "ticks": "",
            "zerolinecolor": "white"
           }
          },
          "shapedefaults": {
           "line": {
            "color": "#2a3f5f"
           }
          },
          "ternary": {
           "aaxis": {
            "gridcolor": "white",
            "linecolor": "white",
            "ticks": ""
           },
           "baxis": {
            "gridcolor": "white",
            "linecolor": "white",
            "ticks": ""
           },
           "bgcolor": "#E5ECF6",
           "caxis": {
            "gridcolor": "white",
            "linecolor": "white",
            "ticks": ""
           }
          },
          "title": {
           "x": 0.05
          },
          "xaxis": {
           "automargin": true,
           "gridcolor": "white",
           "linecolor": "white",
           "ticks": "",
           "title": {
            "standoff": 15
           },
           "zerolinecolor": "white",
           "zerolinewidth": 2
          },
          "yaxis": {
           "automargin": true,
           "gridcolor": "white",
           "linecolor": "white",
           "ticks": "",
           "title": {
            "standoff": 15
           },
           "zerolinecolor": "white",
           "zerolinewidth": 2
          }
         }
        },
        "title": {
         "text": "Energy Production and Consumption on 2030-12-02 00:00:00"
        },
        "xaxis": {
         "anchor": "y",
         "domain": [
          0,
          1
         ],
         "title": {
          "text": "Time (hours)"
         }
        },
        "yaxis": {
         "anchor": "x",
         "domain": [
          0,
          1
         ],
         "title": {
          "text": "Energy (MWh)"
         }
        }
       }
      }
     },
     "metadata": {},
     "output_type": "display_data"
    },
    {
     "data": {
      "application/vnd.plotly.v1+json": {
       "config": {
        "plotlyServerURL": "https://plot.ly"
       },
       "data": [
        {
         "type": "bar",
         "x": [
          0,
          1,
          2,
          3,
          4,
          5,
          6,
          7,
          8,
          9,
          10,
          11,
          12,
          13,
          14,
          15,
          16,
          17,
          18,
          19,
          20,
          21,
          22,
          23,
          24,
          25,
          26,
          27,
          28,
          29,
          30,
          31,
          32,
          33,
          34,
          35,
          36,
          37,
          38,
          39,
          40,
          41,
          42,
          43,
          44,
          45,
          46,
          47,
          48,
          49,
          50,
          51,
          52,
          53,
          54,
          55,
          56,
          57,
          58,
          59,
          60,
          61,
          62,
          63,
          64,
          65,
          66,
          67,
          68,
          69,
          70,
          71,
          72,
          73,
          74,
          75,
          76,
          77,
          78,
          79,
          80,
          81,
          82,
          83,
          84,
          85,
          86,
          87,
          88,
          89,
          90,
          91,
          92,
          93,
          94,
          95,
          96,
          97,
          98,
          99,
          100,
          101,
          102,
          103,
          104,
          105,
          106,
          107,
          108,
          109,
          110,
          111,
          112,
          113,
          114,
          115,
          116,
          117,
          118,
          119,
          120,
          121,
          122,
          123,
          124,
          125,
          126,
          127,
          128,
          129,
          130,
          131,
          132,
          133,
          134,
          135,
          136,
          137,
          138,
          139,
          140,
          141,
          142,
          143,
          144,
          145,
          146,
          147,
          148,
          149,
          150,
          151,
          152,
          153,
          154,
          155,
          156,
          157,
          158,
          159,
          160,
          161,
          162,
          163,
          164,
          165,
          166,
          167,
          168,
          169,
          170,
          171,
          172,
          173,
          174,
          175,
          176,
          177,
          178,
          179,
          180,
          181,
          182,
          183,
          184,
          185,
          186,
          187,
          188,
          189,
          190,
          191,
          192,
          193,
          194,
          195,
          196,
          197,
          198,
          199,
          200,
          201,
          202,
          203,
          204,
          205,
          206,
          207,
          208,
          209,
          210,
          211,
          212,
          213,
          214,
          215,
          216,
          217,
          218,
          219,
          220,
          221,
          222,
          223,
          224,
          225,
          226,
          227,
          228,
          229,
          230,
          231,
          232,
          233,
          234,
          235,
          236,
          237,
          238,
          239,
          240,
          241,
          242,
          243,
          244,
          245,
          246,
          247,
          248,
          249,
          250,
          251,
          252,
          253,
          254,
          255,
          256,
          257,
          258,
          259,
          260,
          261,
          262,
          263,
          264,
          265,
          266,
          267,
          268,
          269,
          270,
          271,
          272,
          273,
          274,
          275,
          276,
          277,
          278,
          279,
          280,
          281,
          282,
          283,
          284,
          285,
          286,
          287,
          288,
          289,
          290,
          291,
          292,
          293,
          294,
          295,
          296,
          297,
          298,
          299,
          300,
          301,
          302,
          303,
          304,
          305,
          306,
          307,
          308,
          309,
          310,
          311,
          312,
          313,
          314,
          315,
          316,
          317,
          318,
          319,
          320,
          321,
          322,
          323,
          324,
          325,
          326,
          327,
          328
         ],
         "y": [
          0,
          0,
          0,
          0,
          0,
          0,
          0,
          0,
          0,
          0,
          0,
          0,
          1,
          5,
          7,
          9,
          22,
          24,
          24,
          54,
          59,
          82,
          128,
          135,
          120,
          122,
          160,
          173,
          161,
          141,
          169,
          189,
          157,
          174,
          194,
          180,
          179,
          209,
          200,
          167,
          162,
          185,
          224,
          209,
          208,
          167,
          154,
          170,
          161,
          193,
          176,
          188,
          171,
          173,
          185,
          165,
          151,
          165,
          178,
          211,
          189,
          186,
          191,
          185,
          188,
          218,
          218,
          205,
          221,
          226,
          210,
          172,
          173,
          188,
          185,
          184,
          183,
          223,
          180,
          211,
          183,
          189,
          201,
          194,
          211,
          205,
          197,
          225,
          221,
          228,
          214,
          259,
          195,
          214,
          211,
          232,
          196,
          186,
          197,
          215,
          197,
          192,
          186,
          186,
          226,
          183,
          191,
          213,
          190,
          187,
          196,
          207,
          220,
          199,
          231,
          215,
          180,
          206,
          191,
          200,
          175,
          212,
          184,
          165,
          180,
          191,
          184,
          189,
          159,
          183,
          175,
          209,
          172,
          190,
          207,
          208,
          193,
          206,
          198,
          173,
          195,
          149,
          178,
          180,
          159,
          157,
          188,
          149,
          154,
          172,
          158,
          193,
          178,
          150,
          155,
          167,
          136,
          150,
          164,
          133,
          148,
          142,
          141,
          148,
          140,
          142,
          146,
          122,
          122,
          128,
          132,
          137,
          131,
          118,
          127,
          106,
          123,
          140,
          101,
          126,
          113,
          101,
          141,
          108,
          113,
          123,
          114,
          119,
          127,
          92,
          119,
          101,
          126,
          106,
          103,
          113,
          104,
          114,
          95,
          100,
          115,
          101,
          109,
          78,
          73,
          64,
          81,
          62,
          72,
          75,
          57,
          57,
          67,
          58,
          58,
          49,
          46,
          57,
          51,
          52,
          59,
          57,
          55,
          51,
          59,
          61,
          62,
          64,
          55,
          53,
          54,
          64,
          55,
          53,
          52,
          44,
          46,
          50,
          58,
          52,
          47,
          37,
          38,
          39,
          45,
          33,
          26,
          22,
          32,
          31,
          27,
          31,
          28,
          29,
          27,
          21,
          28,
          29,
          27,
          31,
          34,
          32,
          25,
          34,
          27,
          24,
          25,
          22,
          27,
          26,
          28,
          26,
          21,
          41,
          28,
          26,
          20,
          20,
          18,
          13,
          19,
          16,
          15,
          25,
          25,
          22,
          21,
          30,
          21,
          15,
          22,
          11,
          8,
          17,
          16,
          10,
          13,
          14,
          8,
          12,
          12,
          14,
          7,
          4,
          10,
          15,
          10,
          6,
          6,
          15,
          8,
          8,
          8,
          7,
          6,
          8,
          7,
          8,
          8,
          5,
          5,
          7,
          8,
          8,
          10,
          4,
          6,
          8,
          3
         ]
        }
       ],
       "layout": {
        "template": {
         "data": {
          "bar": [
           {
            "error_x": {
             "color": "#2a3f5f"
            },
            "error_y": {
             "color": "#2a3f5f"
            },
            "marker": {
             "line": {
              "color": "#E5ECF6",
              "width": 0.5
             },
             "pattern": {
              "fillmode": "overlay",
              "size": 10,
              "solidity": 0.2
             }
            },
            "type": "bar"
           }
          ],
          "barpolar": [
           {
            "marker": {
             "line": {
              "color": "#E5ECF6",
              "width": 0.5
             },
             "pattern": {
              "fillmode": "overlay",
              "size": 10,
              "solidity": 0.2
             }
            },
            "type": "barpolar"
           }
          ],
          "carpet": [
           {
            "aaxis": {
             "endlinecolor": "#2a3f5f",
             "gridcolor": "white",
             "linecolor": "white",
             "minorgridcolor": "white",
             "startlinecolor": "#2a3f5f"
            },
            "baxis": {
             "endlinecolor": "#2a3f5f",
             "gridcolor": "white",
             "linecolor": "white",
             "minorgridcolor": "white",
             "startlinecolor": "#2a3f5f"
            },
            "type": "carpet"
           }
          ],
          "choropleth": [
           {
            "colorbar": {
             "outlinewidth": 0,
             "ticks": ""
            },
            "type": "choropleth"
           }
          ],
          "contour": [
           {
            "colorbar": {
             "outlinewidth": 0,
             "ticks": ""
            },
            "colorscale": [
             [
              0,
              "#0d0887"
             ],
             [
              0.1111111111111111,
              "#46039f"
             ],
             [
              0.2222222222222222,
              "#7201a8"
             ],
             [
              0.3333333333333333,
              "#9c179e"
             ],
             [
              0.4444444444444444,
              "#bd3786"
             ],
             [
              0.5555555555555556,
              "#d8576b"
             ],
             [
              0.6666666666666666,
              "#ed7953"
             ],
             [
              0.7777777777777778,
              "#fb9f3a"
             ],
             [
              0.8888888888888888,
              "#fdca26"
             ],
             [
              1,
              "#f0f921"
             ]
            ],
            "type": "contour"
           }
          ],
          "contourcarpet": [
           {
            "colorbar": {
             "outlinewidth": 0,
             "ticks": ""
            },
            "type": "contourcarpet"
           }
          ],
          "heatmap": [
           {
            "colorbar": {
             "outlinewidth": 0,
             "ticks": ""
            },
            "colorscale": [
             [
              0,
              "#0d0887"
             ],
             [
              0.1111111111111111,
              "#46039f"
             ],
             [
              0.2222222222222222,
              "#7201a8"
             ],
             [
              0.3333333333333333,
              "#9c179e"
             ],
             [
              0.4444444444444444,
              "#bd3786"
             ],
             [
              0.5555555555555556,
              "#d8576b"
             ],
             [
              0.6666666666666666,
              "#ed7953"
             ],
             [
              0.7777777777777778,
              "#fb9f3a"
             ],
             [
              0.8888888888888888,
              "#fdca26"
             ],
             [
              1,
              "#f0f921"
             ]
            ],
            "type": "heatmap"
           }
          ],
          "heatmapgl": [
           {
            "colorbar": {
             "outlinewidth": 0,
             "ticks": ""
            },
            "colorscale": [
             [
              0,
              "#0d0887"
             ],
             [
              0.1111111111111111,
              "#46039f"
             ],
             [
              0.2222222222222222,
              "#7201a8"
             ],
             [
              0.3333333333333333,
              "#9c179e"
             ],
             [
              0.4444444444444444,
              "#bd3786"
             ],
             [
              0.5555555555555556,
              "#d8576b"
             ],
             [
              0.6666666666666666,
              "#ed7953"
             ],
             [
              0.7777777777777778,
              "#fb9f3a"
             ],
             [
              0.8888888888888888,
              "#fdca26"
             ],
             [
              1,
              "#f0f921"
             ]
            ],
            "type": "heatmapgl"
           }
          ],
          "histogram": [
           {
            "marker": {
             "pattern": {
              "fillmode": "overlay",
              "size": 10,
              "solidity": 0.2
             }
            },
            "type": "histogram"
           }
          ],
          "histogram2d": [
           {
            "colorbar": {
             "outlinewidth": 0,
             "ticks": ""
            },
            "colorscale": [
             [
              0,
              "#0d0887"
             ],
             [
              0.1111111111111111,
              "#46039f"
             ],
             [
              0.2222222222222222,
              "#7201a8"
             ],
             [
              0.3333333333333333,
              "#9c179e"
             ],
             [
              0.4444444444444444,
              "#bd3786"
             ],
             [
              0.5555555555555556,
              "#d8576b"
             ],
             [
              0.6666666666666666,
              "#ed7953"
             ],
             [
              0.7777777777777778,
              "#fb9f3a"
             ],
             [
              0.8888888888888888,
              "#fdca26"
             ],
             [
              1,
              "#f0f921"
             ]
            ],
            "type": "histogram2d"
           }
          ],
          "histogram2dcontour": [
           {
            "colorbar": {
             "outlinewidth": 0,
             "ticks": ""
            },
            "colorscale": [
             [
              0,
              "#0d0887"
             ],
             [
              0.1111111111111111,
              "#46039f"
             ],
             [
              0.2222222222222222,
              "#7201a8"
             ],
             [
              0.3333333333333333,
              "#9c179e"
             ],
             [
              0.4444444444444444,
              "#bd3786"
             ],
             [
              0.5555555555555556,
              "#d8576b"
             ],
             [
              0.6666666666666666,
              "#ed7953"
             ],
             [
              0.7777777777777778,
              "#fb9f3a"
             ],
             [
              0.8888888888888888,
              "#fdca26"
             ],
             [
              1,
              "#f0f921"
             ]
            ],
            "type": "histogram2dcontour"
           }
          ],
          "mesh3d": [
           {
            "colorbar": {
             "outlinewidth": 0,
             "ticks": ""
            },
            "type": "mesh3d"
           }
          ],
          "parcoords": [
           {
            "line": {
             "colorbar": {
              "outlinewidth": 0,
              "ticks": ""
             }
            },
            "type": "parcoords"
           }
          ],
          "pie": [
           {
            "automargin": true,
            "type": "pie"
           }
          ],
          "scatter": [
           {
            "fillpattern": {
             "fillmode": "overlay",
             "size": 10,
             "solidity": 0.2
            },
            "type": "scatter"
           }
          ],
          "scatter3d": [
           {
            "line": {
             "colorbar": {
              "outlinewidth": 0,
              "ticks": ""
             }
            },
            "marker": {
             "colorbar": {
              "outlinewidth": 0,
              "ticks": ""
             }
            },
            "type": "scatter3d"
           }
          ],
          "scattercarpet": [
           {
            "marker": {
             "colorbar": {
              "outlinewidth": 0,
              "ticks": ""
             }
            },
            "type": "scattercarpet"
           }
          ],
          "scattergeo": [
           {
            "marker": {
             "colorbar": {
              "outlinewidth": 0,
              "ticks": ""
             }
            },
            "type": "scattergeo"
           }
          ],
          "scattergl": [
           {
            "marker": {
             "colorbar": {
              "outlinewidth": 0,
              "ticks": ""
             }
            },
            "type": "scattergl"
           }
          ],
          "scattermapbox": [
           {
            "marker": {
             "colorbar": {
              "outlinewidth": 0,
              "ticks": ""
             }
            },
            "type": "scattermapbox"
           }
          ],
          "scatterpolar": [
           {
            "marker": {
             "colorbar": {
              "outlinewidth": 0,
              "ticks": ""
             }
            },
            "type": "scatterpolar"
           }
          ],
          "scatterpolargl": [
           {
            "marker": {
             "colorbar": {
              "outlinewidth": 0,
              "ticks": ""
             }
            },
            "type": "scatterpolargl"
           }
          ],
          "scatterternary": [
           {
            "marker": {
             "colorbar": {
              "outlinewidth": 0,
              "ticks": ""
             }
            },
            "type": "scatterternary"
           }
          ],
          "surface": [
           {
            "colorbar": {
             "outlinewidth": 0,
             "ticks": ""
            },
            "colorscale": [
             [
              0,
              "#0d0887"
             ],
             [
              0.1111111111111111,
              "#46039f"
             ],
             [
              0.2222222222222222,
              "#7201a8"
             ],
             [
              0.3333333333333333,
              "#9c179e"
             ],
             [
              0.4444444444444444,
              "#bd3786"
             ],
             [
              0.5555555555555556,
              "#d8576b"
             ],
             [
              0.6666666666666666,
              "#ed7953"
             ],
             [
              0.7777777777777778,
              "#fb9f3a"
             ],
             [
              0.8888888888888888,
              "#fdca26"
             ],
             [
              1,
              "#f0f921"
             ]
            ],
            "type": "surface"
           }
          ],
          "table": [
           {
            "cells": {
             "fill": {
              "color": "#EBF0F8"
             },
             "line": {
              "color": "white"
             }
            },
            "header": {
             "fill": {
              "color": "#C8D4E3"
             },
             "line": {
              "color": "white"
             }
            },
            "type": "table"
           }
          ]
         },
         "layout": {
          "annotationdefaults": {
           "arrowcolor": "#2a3f5f",
           "arrowhead": 0,
           "arrowwidth": 1
          },
          "autotypenumbers": "strict",
          "coloraxis": {
           "colorbar": {
            "outlinewidth": 0,
            "ticks": ""
           }
          },
          "colorscale": {
           "diverging": [
            [
             0,
             "#8e0152"
            ],
            [
             0.1,
             "#c51b7d"
            ],
            [
             0.2,
             "#de77ae"
            ],
            [
             0.3,
             "#f1b6da"
            ],
            [
             0.4,
             "#fde0ef"
            ],
            [
             0.5,
             "#f7f7f7"
            ],
            [
             0.6,
             "#e6f5d0"
            ],
            [
             0.7,
             "#b8e186"
            ],
            [
             0.8,
             "#7fbc41"
            ],
            [
             0.9,
             "#4d9221"
            ],
            [
             1,
             "#276419"
            ]
           ],
           "sequential": [
            [
             0,
             "#0d0887"
            ],
            [
             0.1111111111111111,
             "#46039f"
            ],
            [
             0.2222222222222222,
             "#7201a8"
            ],
            [
             0.3333333333333333,
             "#9c179e"
            ],
            [
             0.4444444444444444,
             "#bd3786"
            ],
            [
             0.5555555555555556,
             "#d8576b"
            ],
            [
             0.6666666666666666,
             "#ed7953"
            ],
            [
             0.7777777777777778,
             "#fb9f3a"
            ],
            [
             0.8888888888888888,
             "#fdca26"
            ],
            [
             1,
             "#f0f921"
            ]
           ],
           "sequentialminus": [
            [
             0,
             "#0d0887"
            ],
            [
             0.1111111111111111,
             "#46039f"
            ],
            [
             0.2222222222222222,
             "#7201a8"
            ],
            [
             0.3333333333333333,
             "#9c179e"
            ],
            [
             0.4444444444444444,
             "#bd3786"
            ],
            [
             0.5555555555555556,
             "#d8576b"
            ],
            [
             0.6666666666666666,
             "#ed7953"
            ],
            [
             0.7777777777777778,
             "#fb9f3a"
            ],
            [
             0.8888888888888888,
             "#fdca26"
            ],
            [
             1,
             "#f0f921"
            ]
           ]
          },
          "colorway": [
           "#636efa",
           "#EF553B",
           "#00cc96",
           "#ab63fa",
           "#FFA15A",
           "#19d3f3",
           "#FF6692",
           "#B6E880",
           "#FF97FF",
           "#FECB52"
          ],
          "font": {
           "color": "#2a3f5f"
          },
          "geo": {
           "bgcolor": "white",
           "lakecolor": "white",
           "landcolor": "#E5ECF6",
           "showlakes": true,
           "showland": true,
           "subunitcolor": "white"
          },
          "hoverlabel": {
           "align": "left"
          },
          "hovermode": "closest",
          "mapbox": {
           "style": "light"
          },
          "paper_bgcolor": "white",
          "plot_bgcolor": "#E5ECF6",
          "polar": {
           "angularaxis": {
            "gridcolor": "white",
            "linecolor": "white",
            "ticks": ""
           },
           "bgcolor": "#E5ECF6",
           "radialaxis": {
            "gridcolor": "white",
            "linecolor": "white",
            "ticks": ""
           }
          },
          "scene": {
           "xaxis": {
            "backgroundcolor": "#E5ECF6",
            "gridcolor": "white",
            "gridwidth": 2,
            "linecolor": "white",
            "showbackground": true,
            "ticks": "",
            "zerolinecolor": "white"
           },
           "yaxis": {
            "backgroundcolor": "#E5ECF6",
            "gridcolor": "white",
            "gridwidth": 2,
            "linecolor": "white",
            "showbackground": true,
            "ticks": "",
            "zerolinecolor": "white"
           },
           "zaxis": {
            "backgroundcolor": "#E5ECF6",
            "gridcolor": "white",
            "gridwidth": 2,
            "linecolor": "white",
            "showbackground": true,
            "ticks": "",
            "zerolinecolor": "white"
           }
          },
          "shapedefaults": {
           "line": {
            "color": "#2a3f5f"
           }
          },
          "ternary": {
           "aaxis": {
            "gridcolor": "white",
            "linecolor": "white",
            "ticks": ""
           },
           "baxis": {
            "gridcolor": "white",
            "linecolor": "white",
            "ticks": ""
           },
           "bgcolor": "#E5ECF6",
           "caxis": {
            "gridcolor": "white",
            "linecolor": "white",
            "ticks": ""
           }
          },
          "title": {
           "x": 0.05
          },
          "xaxis": {
           "automargin": true,
           "gridcolor": "white",
           "linecolor": "white",
           "ticks": "",
           "title": {
            "standoff": 15
           },
           "zerolinecolor": "white",
           "zerolinewidth": 2
          },
          "yaxis": {
           "automargin": true,
           "gridcolor": "white",
           "linecolor": "white",
           "ticks": "",
           "title": {
            "standoff": 15
           },
           "zerolinecolor": "white",
           "zerolinewidth": 2
          }
         }
        },
        "title": {
         "text": "Anzahl der Viertelstunden im Jahren 2030 mit 0-330 % EE-Anteil"
        },
        "xaxis": {
         "tickmode": "array",
         "ticktext": [
          "0%",
          "5%",
          "10%",
          "15%",
          "20%",
          "25%",
          "30%",
          "35%",
          "40%",
          "45%",
          "50%",
          "55%",
          "60%",
          "65%",
          "70%",
          "75%",
          "80%",
          "85%",
          "90%",
          "95%",
          "100%",
          "105%",
          "110%",
          "115%",
          "120%",
          "125%",
          "130%",
          "135%",
          "140%",
          "145%",
          "150%",
          "155%",
          "160%",
          "165%",
          "170%",
          "175%",
          "180%",
          "185%",
          "190%",
          "195%",
          "200%",
          "205%",
          "210%",
          "215%",
          "220%",
          "225%",
          "230%",
          "235%",
          "240%",
          "245%",
          "250%",
          "255%",
          "260%",
          "265%",
          "270%",
          "275%",
          "280%",
          "285%",
          "290%",
          "295%",
          "300%",
          "305%",
          "310%",
          "315%",
          "320%",
          "325%"
         ],
         "tickvals": [
          0,
          5,
          10,
          15,
          20,
          25,
          30,
          35,
          40,
          45,
          50,
          55,
          60,
          65,
          70,
          75,
          80,
          85,
          90,
          95,
          100,
          105,
          110,
          115,
          120,
          125,
          130,
          135,
          140,
          145,
          150,
          155,
          160,
          165,
          170,
          175,
          180,
          185,
          190,
          195,
          200,
          205,
          210,
          215,
          220,
          225,
          230,
          235,
          240,
          245,
          250,
          255,
          260,
          265,
          270,
          275,
          280,
          285,
          290,
          295,
          300,
          305,
          310,
          315,
          320,
          325
         ],
         "title": {
          "text": "Prozentsatz erneuerbarer Energie"
         }
        },
        "yaxis": {
         "title": {
          "text": "Anzahl der Viertelstunden"
         }
        }
       }
      }
     },
     "metadata": {},
     "output_type": "display_data"
    },
    {
     "data": {
      "application/vnd.plotly.v1+json": {
       "config": {
        "plotlyServerURL": "https://plot.ly"
       },
       "data": [
        {
         "type": "bar",
         "x": [
          0,
          1,
          2,
          3,
          4,
          5,
          6,
          7,
          8,
          9,
          10,
          11,
          12,
          13,
          14,
          15,
          16,
          17,
          18,
          19,
          20,
          21,
          22,
          23,
          24,
          25,
          26,
          27,
          28,
          29,
          30,
          31,
          32,
          33,
          34,
          35,
          36,
          37,
          38,
          39,
          40,
          41,
          42,
          43,
          44,
          45,
          46,
          47,
          48,
          49,
          50,
          51,
          52,
          53,
          54,
          55,
          56,
          57,
          58,
          59,
          60,
          61,
          62,
          63,
          64,
          65,
          66,
          67,
          68,
          69,
          70,
          71,
          72,
          73,
          74,
          75,
          76,
          77,
          78,
          79,
          80,
          81,
          82,
          83,
          84,
          85,
          86,
          87,
          88,
          89,
          90,
          91,
          92,
          93,
          94,
          95,
          96,
          97,
          98,
          99,
          100,
          101,
          102,
          103,
          104,
          105,
          106,
          107,
          108,
          109,
          110,
          111,
          112,
          113,
          114,
          115,
          116,
          117,
          118,
          119,
          120,
          121,
          122,
          123,
          124,
          125,
          126,
          127,
          128,
          129,
          130,
          131,
          132,
          133,
          134,
          135,
          136,
          137,
          138,
          139,
          140,
          141,
          142,
          143,
          144,
          145,
          146,
          147,
          148,
          149,
          150,
          151,
          152,
          153,
          154,
          155,
          156,
          157,
          158,
          159,
          160,
          161,
          162,
          163,
          164,
          165,
          166,
          167,
          168,
          169,
          170,
          171,
          172,
          173,
          174,
          175,
          176,
          177,
          178,
          179,
          180,
          181,
          182,
          183,
          184,
          185,
          186,
          187,
          188,
          189,
          190,
          191,
          192,
          193,
          194,
          195,
          196,
          197,
          198,
          199,
          200,
          201,
          202,
          203,
          204,
          205,
          206,
          207,
          208,
          209,
          210,
          211,
          212,
          213,
          214,
          215,
          216,
          217,
          218,
          219,
          220,
          221,
          222,
          223,
          224,
          225,
          226,
          227,
          228,
          229,
          230,
          231,
          232,
          233,
          234,
          235,
          236,
          237,
          238,
          239,
          240,
          241,
          242,
          243,
          244,
          245,
          246,
          247,
          248,
          249,
          250,
          251,
          252,
          253,
          254,
          255,
          256,
          257,
          258,
          259,
          260,
          261,
          262,
          263,
          264,
          265,
          266,
          267,
          268,
          269,
          270,
          271,
          272,
          273,
          274,
          275,
          276,
          277,
          278,
          279,
          280,
          281,
          282,
          283,
          284,
          285,
          286,
          287,
          288,
          289,
          290,
          291,
          292,
          293,
          294,
          295,
          296,
          297,
          298,
          299,
          300
         ],
         "y": [
          35136,
          35136,
          35136,
          35136,
          35136,
          35136,
          35136,
          35136,
          35136,
          35136,
          35136,
          35136,
          35136,
          35135,
          35130,
          35123,
          35114,
          35092,
          35068,
          35044,
          34990,
          34931,
          34849,
          34721,
          34586,
          34466,
          34344,
          34184,
          34011,
          33850,
          33709,
          33540,
          33351,
          33194,
          33020,
          32826,
          32646,
          32467,
          32258,
          32058,
          31891,
          31729,
          31544,
          31320,
          31111,
          30903,
          30736,
          30582,
          30412,
          30251,
          30058,
          29882,
          29694,
          29523,
          29350,
          29165,
          29000,
          28849,
          28684,
          28506,
          28295,
          28106,
          27920,
          27729,
          27544,
          27356,
          27138,
          26920,
          26715,
          26494,
          26268,
          26058,
          25886,
          25713,
          25525,
          25340,
          25156,
          24973,
          24750,
          24570,
          24359,
          24176,
          23987,
          23786,
          23592,
          23381,
          23176,
          22979,
          22754,
          22533,
          22305,
          22091,
          21832,
          21637,
          21423,
          21212,
          20980,
          20784,
          20598,
          20401,
          20186,
          19989,
          19797,
          19611,
          19425,
          19199,
          19016,
          18825,
          18612,
          18422,
          18235,
          18039,
          17832,
          17612,
          17413,
          17182,
          16967,
          16787,
          16581,
          16390,
          16190,
          16015,
          15803,
          15619,
          15454,
          15274,
          15083,
          14899,
          14710,
          14551,
          14368,
          14193,
          13984,
          13812,
          13622,
          13415,
          13207,
          13014,
          12808,
          12610,
          12437,
          12242,
          12093,
          11915,
          11735,
          11576,
          11419,
          11231,
          11082,
          10928,
          10756,
          10598,
          10405,
          10227,
          10077,
          9922,
          9755,
          9619,
          9469,
          9305,
          9172,
          9024,
          8882,
          8741,
          8593,
          8453,
          8311,
          8165,
          8043,
          7921,
          7793,
          7661,
          7524,
          7393,
          7275,
          7148,
          7042,
          6919,
          6779,
          6678,
          6552,
          6439,
          6338,
          6197,
          6089,
          5976,
          5853,
          5739,
          5620,
          5493,
          5401,
          5282,
          5181,
          5055,
          4949,
          4846,
          4733,
          4629,
          4515,
          4420,
          4320,
          4205,
          4104,
          3995,
          3917,
          3844,
          3780,
          3699,
          3637,
          3565,
          3490,
          3433,
          3376,
          3309,
          3251,
          3193,
          3144,
          3098,
          3041,
          2990,
          2938,
          2879,
          2822,
          2767,
          2716,
          2657,
          2596,
          2534,
          2470,
          2415,
          2362,
          2308,
          2244,
          2189,
          2136,
          2084,
          2040,
          1994,
          1944,
          1886,
          1834,
          1787,
          1750,
          1712,
          1673,
          1628,
          1595,
          1569,
          1547,
          1515,
          1484,
          1457,
          1426,
          1398,
          1369,
          1342,
          1321,
          1293,
          1264,
          1237,
          1206,
          1172,
          1140,
          1115,
          1081,
          1054,
          1030,
          1005,
          983,
          956,
          930,
          902,
          876,
          855,
          814,
          786,
          760,
          740,
          720,
          702,
          689,
          670,
          654,
          639,
          614,
          589,
          567,
          546,
          516,
          495,
          480,
          458,
          447,
          439,
          422,
          406,
          396,
          383,
          369,
          361,
          349
         ]
        }
       ],
       "layout": {
        "template": {
         "data": {
          "bar": [
           {
            "error_x": {
             "color": "#2a3f5f"
            },
            "error_y": {
             "color": "#2a3f5f"
            },
            "marker": {
             "line": {
              "color": "#E5ECF6",
              "width": 0.5
             },
             "pattern": {
              "fillmode": "overlay",
              "size": 10,
              "solidity": 0.2
             }
            },
            "type": "bar"
           }
          ],
          "barpolar": [
           {
            "marker": {
             "line": {
              "color": "#E5ECF6",
              "width": 0.5
             },
             "pattern": {
              "fillmode": "overlay",
              "size": 10,
              "solidity": 0.2
             }
            },
            "type": "barpolar"
           }
          ],
          "carpet": [
           {
            "aaxis": {
             "endlinecolor": "#2a3f5f",
             "gridcolor": "white",
             "linecolor": "white",
             "minorgridcolor": "white",
             "startlinecolor": "#2a3f5f"
            },
            "baxis": {
             "endlinecolor": "#2a3f5f",
             "gridcolor": "white",
             "linecolor": "white",
             "minorgridcolor": "white",
             "startlinecolor": "#2a3f5f"
            },
            "type": "carpet"
           }
          ],
          "choropleth": [
           {
            "colorbar": {
             "outlinewidth": 0,
             "ticks": ""
            },
            "type": "choropleth"
           }
          ],
          "contour": [
           {
            "colorbar": {
             "outlinewidth": 0,
             "ticks": ""
            },
            "colorscale": [
             [
              0,
              "#0d0887"
             ],
             [
              0.1111111111111111,
              "#46039f"
             ],
             [
              0.2222222222222222,
              "#7201a8"
             ],
             [
              0.3333333333333333,
              "#9c179e"
             ],
             [
              0.4444444444444444,
              "#bd3786"
             ],
             [
              0.5555555555555556,
              "#d8576b"
             ],
             [
              0.6666666666666666,
              "#ed7953"
             ],
             [
              0.7777777777777778,
              "#fb9f3a"
             ],
             [
              0.8888888888888888,
              "#fdca26"
             ],
             [
              1,
              "#f0f921"
             ]
            ],
            "type": "contour"
           }
          ],
          "contourcarpet": [
           {
            "colorbar": {
             "outlinewidth": 0,
             "ticks": ""
            },
            "type": "contourcarpet"
           }
          ],
          "heatmap": [
           {
            "colorbar": {
             "outlinewidth": 0,
             "ticks": ""
            },
            "colorscale": [
             [
              0,
              "#0d0887"
             ],
             [
              0.1111111111111111,
              "#46039f"
             ],
             [
              0.2222222222222222,
              "#7201a8"
             ],
             [
              0.3333333333333333,
              "#9c179e"
             ],
             [
              0.4444444444444444,
              "#bd3786"
             ],
             [
              0.5555555555555556,
              "#d8576b"
             ],
             [
              0.6666666666666666,
              "#ed7953"
             ],
             [
              0.7777777777777778,
              "#fb9f3a"
             ],
             [
              0.8888888888888888,
              "#fdca26"
             ],
             [
              1,
              "#f0f921"
             ]
            ],
            "type": "heatmap"
           }
          ],
          "heatmapgl": [
           {
            "colorbar": {
             "outlinewidth": 0,
             "ticks": ""
            },
            "colorscale": [
             [
              0,
              "#0d0887"
             ],
             [
              0.1111111111111111,
              "#46039f"
             ],
             [
              0.2222222222222222,
              "#7201a8"
             ],
             [
              0.3333333333333333,
              "#9c179e"
             ],
             [
              0.4444444444444444,
              "#bd3786"
             ],
             [
              0.5555555555555556,
              "#d8576b"
             ],
             [
              0.6666666666666666,
              "#ed7953"
             ],
             [
              0.7777777777777778,
              "#fb9f3a"
             ],
             [
              0.8888888888888888,
              "#fdca26"
             ],
             [
              1,
              "#f0f921"
             ]
            ],
            "type": "heatmapgl"
           }
          ],
          "histogram": [
           {
            "marker": {
             "pattern": {
              "fillmode": "overlay",
              "size": 10,
              "solidity": 0.2
             }
            },
            "type": "histogram"
           }
          ],
          "histogram2d": [
           {
            "colorbar": {
             "outlinewidth": 0,
             "ticks": ""
            },
            "colorscale": [
             [
              0,
              "#0d0887"
             ],
             [
              0.1111111111111111,
              "#46039f"
             ],
             [
              0.2222222222222222,
              "#7201a8"
             ],
             [
              0.3333333333333333,
              "#9c179e"
             ],
             [
              0.4444444444444444,
              "#bd3786"
             ],
             [
              0.5555555555555556,
              "#d8576b"
             ],
             [
              0.6666666666666666,
              "#ed7953"
             ],
             [
              0.7777777777777778,
              "#fb9f3a"
             ],
             [
              0.8888888888888888,
              "#fdca26"
             ],
             [
              1,
              "#f0f921"
             ]
            ],
            "type": "histogram2d"
           }
          ],
          "histogram2dcontour": [
           {
            "colorbar": {
             "outlinewidth": 0,
             "ticks": ""
            },
            "colorscale": [
             [
              0,
              "#0d0887"
             ],
             [
              0.1111111111111111,
              "#46039f"
             ],
             [
              0.2222222222222222,
              "#7201a8"
             ],
             [
              0.3333333333333333,
              "#9c179e"
             ],
             [
              0.4444444444444444,
              "#bd3786"
             ],
             [
              0.5555555555555556,
              "#d8576b"
             ],
             [
              0.6666666666666666,
              "#ed7953"
             ],
             [
              0.7777777777777778,
              "#fb9f3a"
             ],
             [
              0.8888888888888888,
              "#fdca26"
             ],
             [
              1,
              "#f0f921"
             ]
            ],
            "type": "histogram2dcontour"
           }
          ],
          "mesh3d": [
           {
            "colorbar": {
             "outlinewidth": 0,
             "ticks": ""
            },
            "type": "mesh3d"
           }
          ],
          "parcoords": [
           {
            "line": {
             "colorbar": {
              "outlinewidth": 0,
              "ticks": ""
             }
            },
            "type": "parcoords"
           }
          ],
          "pie": [
           {
            "automargin": true,
            "type": "pie"
           }
          ],
          "scatter": [
           {
            "fillpattern": {
             "fillmode": "overlay",
             "size": 10,
             "solidity": 0.2
            },
            "type": "scatter"
           }
          ],
          "scatter3d": [
           {
            "line": {
             "colorbar": {
              "outlinewidth": 0,
              "ticks": ""
             }
            },
            "marker": {
             "colorbar": {
              "outlinewidth": 0,
              "ticks": ""
             }
            },
            "type": "scatter3d"
           }
          ],
          "scattercarpet": [
           {
            "marker": {
             "colorbar": {
              "outlinewidth": 0,
              "ticks": ""
             }
            },
            "type": "scattercarpet"
           }
          ],
          "scattergeo": [
           {
            "marker": {
             "colorbar": {
              "outlinewidth": 0,
              "ticks": ""
             }
            },
            "type": "scattergeo"
           }
          ],
          "scattergl": [
           {
            "marker": {
             "colorbar": {
              "outlinewidth": 0,
              "ticks": ""
             }
            },
            "type": "scattergl"
           }
          ],
          "scattermapbox": [
           {
            "marker": {
             "colorbar": {
              "outlinewidth": 0,
              "ticks": ""
             }
            },
            "type": "scattermapbox"
           }
          ],
          "scatterpolar": [
           {
            "marker": {
             "colorbar": {
              "outlinewidth": 0,
              "ticks": ""
             }
            },
            "type": "scatterpolar"
           }
          ],
          "scatterpolargl": [
           {
            "marker": {
             "colorbar": {
              "outlinewidth": 0,
              "ticks": ""
             }
            },
            "type": "scatterpolargl"
           }
          ],
          "scatterternary": [
           {
            "marker": {
             "colorbar": {
              "outlinewidth": 0,
              "ticks": ""
             }
            },
            "type": "scatterternary"
           }
          ],
          "surface": [
           {
            "colorbar": {
             "outlinewidth": 0,
             "ticks": ""
            },
            "colorscale": [
             [
              0,
              "#0d0887"
             ],
             [
              0.1111111111111111,
              "#46039f"
             ],
             [
              0.2222222222222222,
              "#7201a8"
             ],
             [
              0.3333333333333333,
              "#9c179e"
             ],
             [
              0.4444444444444444,
              "#bd3786"
             ],
             [
              0.5555555555555556,
              "#d8576b"
             ],
             [
              0.6666666666666666,
              "#ed7953"
             ],
             [
              0.7777777777777778,
              "#fb9f3a"
             ],
             [
              0.8888888888888888,
              "#fdca26"
             ],
             [
              1,
              "#f0f921"
             ]
            ],
            "type": "surface"
           }
          ],
          "table": [
           {
            "cells": {
             "fill": {
              "color": "#EBF0F8"
             },
             "line": {
              "color": "white"
             }
            },
            "header": {
             "fill": {
              "color": "#C8D4E3"
             },
             "line": {
              "color": "white"
             }
            },
            "type": "table"
           }
          ]
         },
         "layout": {
          "annotationdefaults": {
           "arrowcolor": "#2a3f5f",
           "arrowhead": 0,
           "arrowwidth": 1
          },
          "autotypenumbers": "strict",
          "coloraxis": {
           "colorbar": {
            "outlinewidth": 0,
            "ticks": ""
           }
          },
          "colorscale": {
           "diverging": [
            [
             0,
             "#8e0152"
            ],
            [
             0.1,
             "#c51b7d"
            ],
            [
             0.2,
             "#de77ae"
            ],
            [
             0.3,
             "#f1b6da"
            ],
            [
             0.4,
             "#fde0ef"
            ],
            [
             0.5,
             "#f7f7f7"
            ],
            [
             0.6,
             "#e6f5d0"
            ],
            [
             0.7,
             "#b8e186"
            ],
            [
             0.8,
             "#7fbc41"
            ],
            [
             0.9,
             "#4d9221"
            ],
            [
             1,
             "#276419"
            ]
           ],
           "sequential": [
            [
             0,
             "#0d0887"
            ],
            [
             0.1111111111111111,
             "#46039f"
            ],
            [
             0.2222222222222222,
             "#7201a8"
            ],
            [
             0.3333333333333333,
             "#9c179e"
            ],
            [
             0.4444444444444444,
             "#bd3786"
            ],
            [
             0.5555555555555556,
             "#d8576b"
            ],
            [
             0.6666666666666666,
             "#ed7953"
            ],
            [
             0.7777777777777778,
             "#fb9f3a"
            ],
            [
             0.8888888888888888,
             "#fdca26"
            ],
            [
             1,
             "#f0f921"
            ]
           ],
           "sequentialminus": [
            [
             0,
             "#0d0887"
            ],
            [
             0.1111111111111111,
             "#46039f"
            ],
            [
             0.2222222222222222,
             "#7201a8"
            ],
            [
             0.3333333333333333,
             "#9c179e"
            ],
            [
             0.4444444444444444,
             "#bd3786"
            ],
            [
             0.5555555555555556,
             "#d8576b"
            ],
            [
             0.6666666666666666,
             "#ed7953"
            ],
            [
             0.7777777777777778,
             "#fb9f3a"
            ],
            [
             0.8888888888888888,
             "#fdca26"
            ],
            [
             1,
             "#f0f921"
            ]
           ]
          },
          "colorway": [
           "#636efa",
           "#EF553B",
           "#00cc96",
           "#ab63fa",
           "#FFA15A",
           "#19d3f3",
           "#FF6692",
           "#B6E880",
           "#FF97FF",
           "#FECB52"
          ],
          "font": {
           "color": "#2a3f5f"
          },
          "geo": {
           "bgcolor": "white",
           "lakecolor": "white",
           "landcolor": "#E5ECF6",
           "showlakes": true,
           "showland": true,
           "subunitcolor": "white"
          },
          "hoverlabel": {
           "align": "left"
          },
          "hovermode": "closest",
          "mapbox": {
           "style": "light"
          },
          "paper_bgcolor": "white",
          "plot_bgcolor": "#E5ECF6",
          "polar": {
           "angularaxis": {
            "gridcolor": "white",
            "linecolor": "white",
            "ticks": ""
           },
           "bgcolor": "#E5ECF6",
           "radialaxis": {
            "gridcolor": "white",
            "linecolor": "white",
            "ticks": ""
           }
          },
          "scene": {
           "xaxis": {
            "backgroundcolor": "#E5ECF6",
            "gridcolor": "white",
            "gridwidth": 2,
            "linecolor": "white",
            "showbackground": true,
            "ticks": "",
            "zerolinecolor": "white"
           },
           "yaxis": {
            "backgroundcolor": "#E5ECF6",
            "gridcolor": "white",
            "gridwidth": 2,
            "linecolor": "white",
            "showbackground": true,
            "ticks": "",
            "zerolinecolor": "white"
           },
           "zaxis": {
            "backgroundcolor": "#E5ECF6",
            "gridcolor": "white",
            "gridwidth": 2,
            "linecolor": "white",
            "showbackground": true,
            "ticks": "",
            "zerolinecolor": "white"
           }
          },
          "shapedefaults": {
           "line": {
            "color": "#2a3f5f"
           }
          },
          "ternary": {
           "aaxis": {
            "gridcolor": "white",
            "linecolor": "white",
            "ticks": ""
           },
           "baxis": {
            "gridcolor": "white",
            "linecolor": "white",
            "ticks": ""
           },
           "bgcolor": "#E5ECF6",
           "caxis": {
            "gridcolor": "white",
            "linecolor": "white",
            "ticks": ""
           }
          },
          "title": {
           "x": 0.05
          },
          "xaxis": {
           "automargin": true,
           "gridcolor": "white",
           "linecolor": "white",
           "ticks": "",
           "title": {
            "standoff": 15
           },
           "zerolinecolor": "white",
           "zerolinewidth": 2
          },
          "yaxis": {
           "automargin": true,
           "gridcolor": "white",
           "linecolor": "white",
           "ticks": "",
           "title": {
            "standoff": 15
           },
           "zerolinecolor": "white",
           "zerolinewidth": 2
          }
         }
        },
        "title": {
         "text": "Anzahl der Viertelstunden mit erneuerbarer Energieerzeugung über oder gleich dem Verbrauch"
        },
        "xaxis": {
         "title": {
          "text": "Prozentsatz erneuerbarer Energie"
         }
        },
        "yaxis": {
         "title": {
          "text": "Anzahl der Viertelstunden"
         }
        }
       }
      }
     },
     "metadata": {},
     "output_type": "display_data"
    },
    {
     "name": "stdout",
     "output_type": "stream",
     "text": [
      "gut mit Lastprofile\n",
      "Faktor:  0.9406958527371434\n",
      "Bevor \n",
      "32256   12804.99\n",
      "32257   12676.11\n",
      "32258   12556.17\n",
      "32259   12427.53\n",
      "32260   12259.15\n",
      "          ...   \n",
      "32347   14162.65\n",
      "32348   13934.29\n",
      "32349   13737.92\n",
      "32350   13582.24\n",
      "32351   13466.06\n",
      "Name: Verbrauch [MWh], Length: 96, dtype: float64\n",
      "Nach \n",
      "32256   14472.19\n",
      "32257   14375.31\n",
      "32258   14223.37\n",
      "32259   14075.53\n",
      "32260   13878.35\n",
      "          ...   \n",
      "32347   15733.85\n",
      "32348   15729.49\n",
      "32349   15373.12\n",
      "32350   15153.44\n",
      "32351   15011.66\n",
      "Name: Verbrauch [MWh], Length: 96, dtype: float64\n"
     ]
    },
    {
     "data": {
      "application/vnd.plotly.v1+json": {
       "config": {
        "plotlyServerURL": "https://plot.ly"
       },
       "data": [
        {
         "fill": "tozeroy",
         "mode": "lines",
         "name": "Total Consumption",
         "type": "scatter",
         "x": [
          "00:00",
          "00:15",
          "00:30",
          "00:45",
          "01:00",
          "01:15",
          "01:30",
          "01:45",
          "02:00",
          "02:15",
          "02:30",
          "02:45",
          "03:00",
          "03:15",
          "03:30",
          "03:45",
          "04:00",
          "04:15",
          "04:30",
          "04:45",
          "05:00",
          "05:15",
          "05:30",
          "05:45",
          "06:00",
          "06:15",
          "06:30",
          "06:45",
          "07:00",
          "07:15",
          "07:30",
          "07:45",
          "08:00",
          "08:15",
          "08:30",
          "08:45",
          "09:00",
          "09:15",
          "09:30",
          "09:45",
          "10:00",
          "10:15",
          "10:30",
          "10:45",
          "11:00",
          "11:15",
          "11:30",
          "11:45",
          "12:00",
          "12:15",
          "12:30",
          "12:45",
          "13:00",
          "13:15",
          "13:30",
          "13:45",
          "14:00",
          "14:15",
          "14:30",
          "14:45",
          "15:00",
          "15:15",
          "15:30",
          "15:45",
          "16:00",
          "16:15",
          "16:30",
          "16:45",
          "17:00",
          "17:15",
          "17:30",
          "17:45",
          "18:00",
          "18:15",
          "18:30",
          "18:45",
          "19:00",
          "19:15",
          "19:30",
          "19:45",
          "20:00",
          "20:15",
          "20:30",
          "20:45",
          "21:00",
          "21:15",
          "21:30",
          "21:45",
          "22:00",
          "22:15",
          "22:30",
          "22:45",
          "23:00",
          "23:15",
          "23:30",
          "23:45"
         ],
         "y": [
          14472.18712142118,
          14375.311789596193,
          14223.373068372206,
          14075.532910510401,
          13878.348352870453,
          13773.545030271373,
          13880.673021045464,
          13851.308957661302,
          13695.40624105027,
          13736.728934596531,
          13734.033244509988,
          13638.890955354826,
          13731.035736459296,
          13648.163345907062,
          13774.341707672293,
          13847.505321733011,
          13830.280428896278,
          13863.616658170955,
          14193.277691614872,
          14351.128443932339,
          14471.186672097738,
          14669.597402547632,
          15011.371815055361,
          15350.416575489458,
          16029.993234614401,
          16433.98125084766,
          16890.848166837084,
          17316.646328202565,
          17560.968844413845,
          17855.93546774443,
          18182.253762709748,
          18422.45753463227,
          18847.73248513093,
          19331.404113030516,
          19405.954259359933,
          19895.025437936074,
          19784.85652664752,
          19539.002969051533,
          19385.714237492357,
          19152.49342990736,
          18815.67096102282,
          18734.798189144258,
          18544.82359930155,
          18380.99417188964,
          18285.58274678421,
          18206.440457629047,
          18179.236372377316,
          18138.31738275646,
          17859.922993313503,
          17926.467774417975,
          17992.156124650817,
          17905.881242149273,
          18113.731613140415,
          18097.92465461304,
          18020.333587769164,
          17935.015742127296,
          18040.237829685506,
          17899.76543913327,
          17816.044788212876,
          17828.18956931735,
          17758.109008261643,
          17833.30492300991,
          17767.20469834819,
          17643.01650477995,
          17766.29796448254,
          17973.149166123447,
          18176.834329751444,
          18261.438483000293,
          18246.79922378538,
          18239.66791041221,
          18382.492040596288,
          18417.692040596285,
          18322.328358538452,
          18194.091904602054,
          18233.079199523407,
          18251.715136139246,
          18274.87913152629,
          18134.253272045557,
          17826.68097016081,
          17930.993763906947,
          17819.763369851036,
          17496.63562440904,
          17352.783973444686,
          17211.451312101188,
          17183.297080520035,
          16913.334991764623,
          16573.594159917655,
          16429.49916448665,
          16356.142508953302,
          16380.211958232785,
          16115.506681675326,
          15733.846410884064,
          15729.492492632122,
          15373.122233373242,
          15153.437069745243,
          15011.661131932207
         ]
        },
        {
         "fill": "tozeroy",
         "mode": "lines",
         "name": "Total Renewable Production",
         "type": "scatter",
         "x": [
          "00:00",
          "00:15",
          "00:30",
          "00:45",
          "01:00",
          "01:15",
          "01:30",
          "01:45",
          "02:00",
          "02:15",
          "02:30",
          "02:45",
          "03:00",
          "03:15",
          "03:30",
          "03:45",
          "04:00",
          "04:15",
          "04:30",
          "04:45",
          "05:00",
          "05:15",
          "05:30",
          "05:45",
          "06:00",
          "06:15",
          "06:30",
          "06:45",
          "07:00",
          "07:15",
          "07:30",
          "07:45",
          "08:00",
          "08:15",
          "08:30",
          "08:45",
          "09:00",
          "09:15",
          "09:30",
          "09:45",
          "10:00",
          "10:15",
          "10:30",
          "10:45",
          "11:00",
          "11:15",
          "11:30",
          "11:45",
          "12:00",
          "12:15",
          "12:30",
          "12:45",
          "13:00",
          "13:15",
          "13:30",
          "13:45",
          "14:00",
          "14:15",
          "14:30",
          "14:45",
          "15:00",
          "15:15",
          "15:30",
          "15:45",
          "16:00",
          "16:15",
          "16:30",
          "16:45",
          "17:00",
          "17:15",
          "17:30",
          "17:45",
          "18:00",
          "18:15",
          "18:30",
          "18:45",
          "19:00",
          "19:15",
          "19:30",
          "19:45",
          "20:00",
          "20:15",
          "20:30",
          "20:45",
          "21:00",
          "21:15",
          "21:30",
          "21:45",
          "22:00",
          "22:15",
          "22:30",
          "22:45",
          "23:00",
          "23:15",
          "23:30",
          "23:45"
         ],
         "y": [
          3747.6443025,
          3656.7479725,
          3614.78439,
          3511.346055,
          3435.0689949999996,
          3351.64615,
          3348.0148424999998,
          3419.044085,
          3473.9373574999995,
          3534.63164,
          3508.71512,
          3506.8335499999994,
          3465.80829,
          3392.9562575,
          3342.2354299999997,
          3330.9067375,
          3297.6105150000003,
          3276.6834075,
          3262.7443700000003,
          3270.933955,
          3267.78974,
          3286.53337,
          3284.99097,
          3240.7902375,
          3185.8770824999997,
          3199.0836824999997,
          3252.8618675,
          3338.71282,
          3298.854635,
          3315.4052,
          3349.008603075,
          3453.31795275,
          3647.198253075,
          3795.4605286999995,
          4035.7993963000004,
          4331.1482851,
          4682.677726399999,
          4899.5789889,
          5256.63130805,
          5576.1312275,
          5962.784561275001,
          6218.347759975,
          6433.866529225001,
          6559.125153325,
          6778.117245475,
          7053.371087699999,
          7211.373389400001,
          7237.173586225001,
          7161.130737775001,
          7088.678073875,
          7051.569062525001,
          6935.342604175,
          6710.202954124999,
          6497.2516345,
          6233.1328491,
          5933.023658025,
          5531.650471450001,
          5176.2073915500005,
          4906.465014325,
          4584.144537149999,
          4304.06091785,
          4113.5732474,
          4071.7246562249998,
          3972.80235565,
          4095.8725256749995,
          4284.978579475,
          4521.471785,
          4732.2511275,
          4942.9187825,
          5139.9708825,
          5283.880892499999,
          5417.8044875,
          5578.4466925,
          5613.741309999999,
          5892.8057100000005,
          6073.878000000001,
          6204.2280900000005,
          6345.890842499999,
          6541.359404999999,
          6611.655745,
          6746.229897499999,
          6951.2038575,
          7127.031567499999,
          7316.969892499999,
          7591.960445000001,
          7755.8806525,
          7936.8127325000005,
          8103.4909375,
          8382.4321425,
          8639.9264375,
          8838.4941225,
          8874.2312,
          9144.4183425,
          9418.184475,
          9768.775855,
          10206.487625
         ]
        }
       ],
       "layout": {
        "showlegend": true,
        "template": {
         "data": {
          "bar": [
           {
            "error_x": {
             "color": "#2a3f5f"
            },
            "error_y": {
             "color": "#2a3f5f"
            },
            "marker": {
             "line": {
              "color": "#E5ECF6",
              "width": 0.5
             },
             "pattern": {
              "fillmode": "overlay",
              "size": 10,
              "solidity": 0.2
             }
            },
            "type": "bar"
           }
          ],
          "barpolar": [
           {
            "marker": {
             "line": {
              "color": "#E5ECF6",
              "width": 0.5
             },
             "pattern": {
              "fillmode": "overlay",
              "size": 10,
              "solidity": 0.2
             }
            },
            "type": "barpolar"
           }
          ],
          "carpet": [
           {
            "aaxis": {
             "endlinecolor": "#2a3f5f",
             "gridcolor": "white",
             "linecolor": "white",
             "minorgridcolor": "white",
             "startlinecolor": "#2a3f5f"
            },
            "baxis": {
             "endlinecolor": "#2a3f5f",
             "gridcolor": "white",
             "linecolor": "white",
             "minorgridcolor": "white",
             "startlinecolor": "#2a3f5f"
            },
            "type": "carpet"
           }
          ],
          "choropleth": [
           {
            "colorbar": {
             "outlinewidth": 0,
             "ticks": ""
            },
            "type": "choropleth"
           }
          ],
          "contour": [
           {
            "colorbar": {
             "outlinewidth": 0,
             "ticks": ""
            },
            "colorscale": [
             [
              0,
              "#0d0887"
             ],
             [
              0.1111111111111111,
              "#46039f"
             ],
             [
              0.2222222222222222,
              "#7201a8"
             ],
             [
              0.3333333333333333,
              "#9c179e"
             ],
             [
              0.4444444444444444,
              "#bd3786"
             ],
             [
              0.5555555555555556,
              "#d8576b"
             ],
             [
              0.6666666666666666,
              "#ed7953"
             ],
             [
              0.7777777777777778,
              "#fb9f3a"
             ],
             [
              0.8888888888888888,
              "#fdca26"
             ],
             [
              1,
              "#f0f921"
             ]
            ],
            "type": "contour"
           }
          ],
          "contourcarpet": [
           {
            "colorbar": {
             "outlinewidth": 0,
             "ticks": ""
            },
            "type": "contourcarpet"
           }
          ],
          "heatmap": [
           {
            "colorbar": {
             "outlinewidth": 0,
             "ticks": ""
            },
            "colorscale": [
             [
              0,
              "#0d0887"
             ],
             [
              0.1111111111111111,
              "#46039f"
             ],
             [
              0.2222222222222222,
              "#7201a8"
             ],
             [
              0.3333333333333333,
              "#9c179e"
             ],
             [
              0.4444444444444444,
              "#bd3786"
             ],
             [
              0.5555555555555556,
              "#d8576b"
             ],
             [
              0.6666666666666666,
              "#ed7953"
             ],
             [
              0.7777777777777778,
              "#fb9f3a"
             ],
             [
              0.8888888888888888,
              "#fdca26"
             ],
             [
              1,
              "#f0f921"
             ]
            ],
            "type": "heatmap"
           }
          ],
          "heatmapgl": [
           {
            "colorbar": {
             "outlinewidth": 0,
             "ticks": ""
            },
            "colorscale": [
             [
              0,
              "#0d0887"
             ],
             [
              0.1111111111111111,
              "#46039f"
             ],
             [
              0.2222222222222222,
              "#7201a8"
             ],
             [
              0.3333333333333333,
              "#9c179e"
             ],
             [
              0.4444444444444444,
              "#bd3786"
             ],
             [
              0.5555555555555556,
              "#d8576b"
             ],
             [
              0.6666666666666666,
              "#ed7953"
             ],
             [
              0.7777777777777778,
              "#fb9f3a"
             ],
             [
              0.8888888888888888,
              "#fdca26"
             ],
             [
              1,
              "#f0f921"
             ]
            ],
            "type": "heatmapgl"
           }
          ],
          "histogram": [
           {
            "marker": {
             "pattern": {
              "fillmode": "overlay",
              "size": 10,
              "solidity": 0.2
             }
            },
            "type": "histogram"
           }
          ],
          "histogram2d": [
           {
            "colorbar": {
             "outlinewidth": 0,
             "ticks": ""
            },
            "colorscale": [
             [
              0,
              "#0d0887"
             ],
             [
              0.1111111111111111,
              "#46039f"
             ],
             [
              0.2222222222222222,
              "#7201a8"
             ],
             [
              0.3333333333333333,
              "#9c179e"
             ],
             [
              0.4444444444444444,
              "#bd3786"
             ],
             [
              0.5555555555555556,
              "#d8576b"
             ],
             [
              0.6666666666666666,
              "#ed7953"
             ],
             [
              0.7777777777777778,
              "#fb9f3a"
             ],
             [
              0.8888888888888888,
              "#fdca26"
             ],
             [
              1,
              "#f0f921"
             ]
            ],
            "type": "histogram2d"
           }
          ],
          "histogram2dcontour": [
           {
            "colorbar": {
             "outlinewidth": 0,
             "ticks": ""
            },
            "colorscale": [
             [
              0,
              "#0d0887"
             ],
             [
              0.1111111111111111,
              "#46039f"
             ],
             [
              0.2222222222222222,
              "#7201a8"
             ],
             [
              0.3333333333333333,
              "#9c179e"
             ],
             [
              0.4444444444444444,
              "#bd3786"
             ],
             [
              0.5555555555555556,
              "#d8576b"
             ],
             [
              0.6666666666666666,
              "#ed7953"
             ],
             [
              0.7777777777777778,
              "#fb9f3a"
             ],
             [
              0.8888888888888888,
              "#fdca26"
             ],
             [
              1,
              "#f0f921"
             ]
            ],
            "type": "histogram2dcontour"
           }
          ],
          "mesh3d": [
           {
            "colorbar": {
             "outlinewidth": 0,
             "ticks": ""
            },
            "type": "mesh3d"
           }
          ],
          "parcoords": [
           {
            "line": {
             "colorbar": {
              "outlinewidth": 0,
              "ticks": ""
             }
            },
            "type": "parcoords"
           }
          ],
          "pie": [
           {
            "automargin": true,
            "type": "pie"
           }
          ],
          "scatter": [
           {
            "fillpattern": {
             "fillmode": "overlay",
             "size": 10,
             "solidity": 0.2
            },
            "type": "scatter"
           }
          ],
          "scatter3d": [
           {
            "line": {
             "colorbar": {
              "outlinewidth": 0,
              "ticks": ""
             }
            },
            "marker": {
             "colorbar": {
              "outlinewidth": 0,
              "ticks": ""
             }
            },
            "type": "scatter3d"
           }
          ],
          "scattercarpet": [
           {
            "marker": {
             "colorbar": {
              "outlinewidth": 0,
              "ticks": ""
             }
            },
            "type": "scattercarpet"
           }
          ],
          "scattergeo": [
           {
            "marker": {
             "colorbar": {
              "outlinewidth": 0,
              "ticks": ""
             }
            },
            "type": "scattergeo"
           }
          ],
          "scattergl": [
           {
            "marker": {
             "colorbar": {
              "outlinewidth": 0,
              "ticks": ""
             }
            },
            "type": "scattergl"
           }
          ],
          "scattermapbox": [
           {
            "marker": {
             "colorbar": {
              "outlinewidth": 0,
              "ticks": ""
             }
            },
            "type": "scattermapbox"
           }
          ],
          "scatterpolar": [
           {
            "marker": {
             "colorbar": {
              "outlinewidth": 0,
              "ticks": ""
             }
            },
            "type": "scatterpolar"
           }
          ],
          "scatterpolargl": [
           {
            "marker": {
             "colorbar": {
              "outlinewidth": 0,
              "ticks": ""
             }
            },
            "type": "scatterpolargl"
           }
          ],
          "scatterternary": [
           {
            "marker": {
             "colorbar": {
              "outlinewidth": 0,
              "ticks": ""
             }
            },
            "type": "scatterternary"
           }
          ],
          "surface": [
           {
            "colorbar": {
             "outlinewidth": 0,
             "ticks": ""
            },
            "colorscale": [
             [
              0,
              "#0d0887"
             ],
             [
              0.1111111111111111,
              "#46039f"
             ],
             [
              0.2222222222222222,
              "#7201a8"
             ],
             [
              0.3333333333333333,
              "#9c179e"
             ],
             [
              0.4444444444444444,
              "#bd3786"
             ],
             [
              0.5555555555555556,
              "#d8576b"
             ],
             [
              0.6666666666666666,
              "#ed7953"
             ],
             [
              0.7777777777777778,
              "#fb9f3a"
             ],
             [
              0.8888888888888888,
              "#fdca26"
             ],
             [
              1,
              "#f0f921"
             ]
            ],
            "type": "surface"
           }
          ],
          "table": [
           {
            "cells": {
             "fill": {
              "color": "#EBF0F8"
             },
             "line": {
              "color": "white"
             }
            },
            "header": {
             "fill": {
              "color": "#C8D4E3"
             },
             "line": {
              "color": "white"
             }
            },
            "type": "table"
           }
          ]
         },
         "layout": {
          "annotationdefaults": {
           "arrowcolor": "#2a3f5f",
           "arrowhead": 0,
           "arrowwidth": 1
          },
          "autotypenumbers": "strict",
          "coloraxis": {
           "colorbar": {
            "outlinewidth": 0,
            "ticks": ""
           }
          },
          "colorscale": {
           "diverging": [
            [
             0,
             "#8e0152"
            ],
            [
             0.1,
             "#c51b7d"
            ],
            [
             0.2,
             "#de77ae"
            ],
            [
             0.3,
             "#f1b6da"
            ],
            [
             0.4,
             "#fde0ef"
            ],
            [
             0.5,
             "#f7f7f7"
            ],
            [
             0.6,
             "#e6f5d0"
            ],
            [
             0.7,
             "#b8e186"
            ],
            [
             0.8,
             "#7fbc41"
            ],
            [
             0.9,
             "#4d9221"
            ],
            [
             1,
             "#276419"
            ]
           ],
           "sequential": [
            [
             0,
             "#0d0887"
            ],
            [
             0.1111111111111111,
             "#46039f"
            ],
            [
             0.2222222222222222,
             "#7201a8"
            ],
            [
             0.3333333333333333,
             "#9c179e"
            ],
            [
             0.4444444444444444,
             "#bd3786"
            ],
            [
             0.5555555555555556,
             "#d8576b"
            ],
            [
             0.6666666666666666,
             "#ed7953"
            ],
            [
             0.7777777777777778,
             "#fb9f3a"
            ],
            [
             0.8888888888888888,
             "#fdca26"
            ],
            [
             1,
             "#f0f921"
            ]
           ],
           "sequentialminus": [
            [
             0,
             "#0d0887"
            ],
            [
             0.1111111111111111,
             "#46039f"
            ],
            [
             0.2222222222222222,
             "#7201a8"
            ],
            [
             0.3333333333333333,
             "#9c179e"
            ],
            [
             0.4444444444444444,
             "#bd3786"
            ],
            [
             0.5555555555555556,
             "#d8576b"
            ],
            [
             0.6666666666666666,
             "#ed7953"
            ],
            [
             0.7777777777777778,
             "#fb9f3a"
            ],
            [
             0.8888888888888888,
             "#fdca26"
            ],
            [
             1,
             "#f0f921"
            ]
           ]
          },
          "colorway": [
           "#636efa",
           "#EF553B",
           "#00cc96",
           "#ab63fa",
           "#FFA15A",
           "#19d3f3",
           "#FF6692",
           "#B6E880",
           "#FF97FF",
           "#FECB52"
          ],
          "font": {
           "color": "#2a3f5f"
          },
          "geo": {
           "bgcolor": "white",
           "lakecolor": "white",
           "landcolor": "#E5ECF6",
           "showlakes": true,
           "showland": true,
           "subunitcolor": "white"
          },
          "hoverlabel": {
           "align": "left"
          },
          "hovermode": "closest",
          "mapbox": {
           "style": "light"
          },
          "paper_bgcolor": "white",
          "plot_bgcolor": "#E5ECF6",
          "polar": {
           "angularaxis": {
            "gridcolor": "white",
            "linecolor": "white",
            "ticks": ""
           },
           "bgcolor": "#E5ECF6",
           "radialaxis": {
            "gridcolor": "white",
            "linecolor": "white",
            "ticks": ""
           }
          },
          "scene": {
           "xaxis": {
            "backgroundcolor": "#E5ECF6",
            "gridcolor": "white",
            "gridwidth": 2,
            "linecolor": "white",
            "showbackground": true,
            "ticks": "",
            "zerolinecolor": "white"
           },
           "yaxis": {
            "backgroundcolor": "#E5ECF6",
            "gridcolor": "white",
            "gridwidth": 2,
            "linecolor": "white",
            "showbackground": true,
            "ticks": "",
            "zerolinecolor": "white"
           },
           "zaxis": {
            "backgroundcolor": "#E5ECF6",
            "gridcolor": "white",
            "gridwidth": 2,
            "linecolor": "white",
            "showbackground": true,
            "ticks": "",
            "zerolinecolor": "white"
           }
          },
          "shapedefaults": {
           "line": {
            "color": "#2a3f5f"
           }
          },
          "ternary": {
           "aaxis": {
            "gridcolor": "white",
            "linecolor": "white",
            "ticks": ""
           },
           "baxis": {
            "gridcolor": "white",
            "linecolor": "white",
            "ticks": ""
           },
           "bgcolor": "#E5ECF6",
           "caxis": {
            "gridcolor": "white",
            "linecolor": "white",
            "ticks": ""
           }
          },
          "title": {
           "x": 0.05
          },
          "xaxis": {
           "automargin": true,
           "gridcolor": "white",
           "linecolor": "white",
           "ticks": "",
           "title": {
            "standoff": 15
           },
           "zerolinecolor": "white",
           "zerolinewidth": 2
          },
          "yaxis": {
           "automargin": true,
           "gridcolor": "white",
           "linecolor": "white",
           "ticks": "",
           "title": {
            "standoff": 15
           },
           "zerolinecolor": "white",
           "zerolinewidth": 2
          }
         }
        },
        "title": {
         "text": "Energy Production and Consumption on 2030-12-02 00:00:00"
        },
        "xaxis": {
         "anchor": "y",
         "domain": [
          0,
          1
         ],
         "title": {
          "text": "Time (hours)"
         }
        },
        "yaxis": {
         "anchor": "x",
         "domain": [
          0,
          1
         ],
         "title": {
          "text": "Energy (MWh)"
         }
        }
       }
      }
     },
     "metadata": {},
     "output_type": "display_data"
    },
    {
     "data": {
      "application/vnd.plotly.v1+json": {
       "config": {
        "plotlyServerURL": "https://plot.ly"
       },
       "data": [
        {
         "type": "bar",
         "x": [
          0,
          1,
          2,
          3,
          4,
          5,
          6,
          7,
          8,
          9,
          10,
          11,
          12,
          13,
          14,
          15,
          16,
          17,
          18,
          19,
          20,
          21,
          22,
          23,
          24,
          25,
          26,
          27,
          28,
          29,
          30,
          31,
          32,
          33,
          34,
          35,
          36,
          37,
          38,
          39,
          40,
          41,
          42,
          43,
          44,
          45,
          46,
          47,
          48,
          49,
          50,
          51,
          52,
          53,
          54,
          55,
          56,
          57,
          58,
          59,
          60,
          61,
          62,
          63,
          64,
          65,
          66,
          67,
          68,
          69,
          70,
          71,
          72,
          73,
          74,
          75,
          76,
          77,
          78,
          79,
          80,
          81,
          82,
          83,
          84,
          85,
          86,
          87,
          88,
          89,
          90,
          91,
          92,
          93,
          94,
          95,
          96,
          97,
          98,
          99,
          100,
          101,
          102,
          103,
          104,
          105,
          106,
          107,
          108,
          109,
          110,
          111,
          112,
          113,
          114,
          115,
          116,
          117,
          118,
          119,
          120,
          121,
          122,
          123,
          124,
          125,
          126,
          127,
          128,
          129,
          130,
          131,
          132,
          133,
          134,
          135,
          136,
          137,
          138,
          139,
          140,
          141,
          142,
          143,
          144,
          145,
          146,
          147,
          148,
          149,
          150,
          151,
          152,
          153,
          154,
          155,
          156,
          157,
          158,
          159,
          160,
          161,
          162,
          163,
          164,
          165,
          166,
          167,
          168,
          169,
          170,
          171,
          172,
          173,
          174,
          175,
          176,
          177,
          178,
          179,
          180,
          181,
          182,
          183,
          184,
          185,
          186,
          187,
          188,
          189,
          190,
          191,
          192,
          193,
          194,
          195,
          196,
          197,
          198,
          199,
          200,
          201,
          202,
          203,
          204,
          205,
          206,
          207,
          208,
          209,
          210,
          211,
          212,
          213,
          214,
          215,
          216,
          217,
          218,
          219,
          220,
          221,
          222,
          223,
          224,
          225,
          226,
          227,
          228,
          229,
          230,
          231,
          232,
          233,
          234,
          235,
          236,
          237,
          238,
          239,
          240,
          241,
          242,
          243,
          244,
          245,
          246,
          247,
          248,
          249,
          250,
          251,
          252,
          253,
          254,
          255,
          256,
          257,
          258,
          259,
          260,
          261,
          262,
          263,
          264,
          265,
          266,
          267,
          268,
          269,
          270,
          271,
          272,
          273,
          274,
          275,
          276,
          277,
          278,
          279,
          280,
          281,
          282,
          283,
          284,
          285,
          286,
          287,
          288,
          289,
          290,
          291,
          292,
          293,
          294,
          295,
          296,
          297,
          298,
          299,
          300,
          301,
          302,
          303,
          304,
          305,
          306,
          307,
          308,
          309,
          310,
          311,
          312,
          313,
          314,
          315,
          316,
          317,
          318,
          319,
          320,
          321,
          322,
          323,
          324,
          325,
          326,
          327,
          328
         ],
         "y": [
          0,
          0,
          0,
          0,
          0,
          0,
          0,
          0,
          0,
          0,
          0,
          0,
          0,
          5,
          3,
          10,
          13,
          23,
          27,
          22,
          54,
          69,
          82,
          157,
          115,
          115,
          123,
          160,
          154,
          161,
          138,
          163,
          186,
          143,
          174,
          191,
          171,
          180,
          183,
          202,
          180,
          144,
          176,
          178,
          235,
          203,
          188,
          143,
          156,
          176,
          158,
          175,
          173,
          173,
          177,
          168,
          177,
          164,
          135,
          168,
          175,
          201,
          183,
          180,
          185,
          183,
          191,
          208,
          199,
          185,
          228,
          221,
          210,
          163,
          177,
          186,
          174,
          170,
          193,
          197,
          171,
          205,
          198,
          170,
          184,
          202,
          193,
          199,
          198,
          186,
          213,
          233,
          213,
          209,
          250,
          188,
          204,
          208,
          233,
          185,
          173,
          204,
          187,
          200,
          198,
          178,
          168,
          223,
          198,
          170,
          193,
          196,
          179,
          202,
          174,
          209,
          208,
          212,
          210,
          207,
          171,
          205,
          185,
          189,
          173,
          203,
          177,
          154,
          182,
          181,
          176,
          187,
          158,
          174,
          173,
          185,
          182,
          188,
          185,
          213,
          182,
          186,
          206,
          183,
          167,
          182,
          140,
          166,
          182,
          149,
          154,
          183,
          143,
          154,
          164,
          163,
          181,
          174,
          144,
          151,
          159,
          138,
          142,
          161,
          132,
          140,
          141,
          136,
          138,
          143,
          129,
          144,
          132,
          128,
          97,
          133,
          136,
          114,
          134,
          115,
          123,
          114,
          112,
          130,
          98,
          120,
          109,
          103,
          137,
          103,
          107,
          119,
          106,
          121,
          124,
          95,
          108,
          97,
          121,
          108,
          92,
          112,
          106,
          108,
          100,
          85,
          111,
          120,
          84,
          96,
          76,
          71,
          65,
          67,
          65,
          80,
          62,
          57,
          56,
          63,
          56,
          57,
          48,
          41,
          56,
          53,
          52,
          54,
          52,
          54,
          54,
          58,
          58,
          53,
          69,
          53,
          47,
          57,
          54,
          59,
          48,
          59,
          43,
          47,
          45,
          52,
          51,
          50,
          44,
          39,
          34,
          38,
          44,
          33,
          24,
          24,
          28,
          31,
          25,
          31,
          29,
          26,
          30,
          19,
          24,
          33,
          21,
          29,
          30,
          33,
          29,
          23,
          34,
          26,
          24,
          21,
          22,
          33,
          22,
          25,
          27,
          19,
          39,
          28,
          25,
          20,
          21,
          17,
          12,
          17,
          18,
          12,
          22,
          19,
          31,
          21,
          29,
          18,
          18,
          24,
          11,
          6,
          14,
          14,
          13,
          11,
          15,
          12,
          9,
          11,
          12,
          12,
          6,
          5,
          9,
          15,
          10,
          6,
          6,
          14,
          8,
          7,
          9,
          8,
          4,
          8,
          7,
          6,
          10
         ]
        }
       ],
       "layout": {
        "template": {
         "data": {
          "bar": [
           {
            "error_x": {
             "color": "#2a3f5f"
            },
            "error_y": {
             "color": "#2a3f5f"
            },
            "marker": {
             "line": {
              "color": "#E5ECF6",
              "width": 0.5
             },
             "pattern": {
              "fillmode": "overlay",
              "size": 10,
              "solidity": 0.2
             }
            },
            "type": "bar"
           }
          ],
          "barpolar": [
           {
            "marker": {
             "line": {
              "color": "#E5ECF6",
              "width": 0.5
             },
             "pattern": {
              "fillmode": "overlay",
              "size": 10,
              "solidity": 0.2
             }
            },
            "type": "barpolar"
           }
          ],
          "carpet": [
           {
            "aaxis": {
             "endlinecolor": "#2a3f5f",
             "gridcolor": "white",
             "linecolor": "white",
             "minorgridcolor": "white",
             "startlinecolor": "#2a3f5f"
            },
            "baxis": {
             "endlinecolor": "#2a3f5f",
             "gridcolor": "white",
             "linecolor": "white",
             "minorgridcolor": "white",
             "startlinecolor": "#2a3f5f"
            },
            "type": "carpet"
           }
          ],
          "choropleth": [
           {
            "colorbar": {
             "outlinewidth": 0,
             "ticks": ""
            },
            "type": "choropleth"
           }
          ],
          "contour": [
           {
            "colorbar": {
             "outlinewidth": 0,
             "ticks": ""
            },
            "colorscale": [
             [
              0,
              "#0d0887"
             ],
             [
              0.1111111111111111,
              "#46039f"
             ],
             [
              0.2222222222222222,
              "#7201a8"
             ],
             [
              0.3333333333333333,
              "#9c179e"
             ],
             [
              0.4444444444444444,
              "#bd3786"
             ],
             [
              0.5555555555555556,
              "#d8576b"
             ],
             [
              0.6666666666666666,
              "#ed7953"
             ],
             [
              0.7777777777777778,
              "#fb9f3a"
             ],
             [
              0.8888888888888888,
              "#fdca26"
             ],
             [
              1,
              "#f0f921"
             ]
            ],
            "type": "contour"
           }
          ],
          "contourcarpet": [
           {
            "colorbar": {
             "outlinewidth": 0,
             "ticks": ""
            },
            "type": "contourcarpet"
           }
          ],
          "heatmap": [
           {
            "colorbar": {
             "outlinewidth": 0,
             "ticks": ""
            },
            "colorscale": [
             [
              0,
              "#0d0887"
             ],
             [
              0.1111111111111111,
              "#46039f"
             ],
             [
              0.2222222222222222,
              "#7201a8"
             ],
             [
              0.3333333333333333,
              "#9c179e"
             ],
             [
              0.4444444444444444,
              "#bd3786"
             ],
             [
              0.5555555555555556,
              "#d8576b"
             ],
             [
              0.6666666666666666,
              "#ed7953"
             ],
             [
              0.7777777777777778,
              "#fb9f3a"
             ],
             [
              0.8888888888888888,
              "#fdca26"
             ],
             [
              1,
              "#f0f921"
             ]
            ],
            "type": "heatmap"
           }
          ],
          "heatmapgl": [
           {
            "colorbar": {
             "outlinewidth": 0,
             "ticks": ""
            },
            "colorscale": [
             [
              0,
              "#0d0887"
             ],
             [
              0.1111111111111111,
              "#46039f"
             ],
             [
              0.2222222222222222,
              "#7201a8"
             ],
             [
              0.3333333333333333,
              "#9c179e"
             ],
             [
              0.4444444444444444,
              "#bd3786"
             ],
             [
              0.5555555555555556,
              "#d8576b"
             ],
             [
              0.6666666666666666,
              "#ed7953"
             ],
             [
              0.7777777777777778,
              "#fb9f3a"
             ],
             [
              0.8888888888888888,
              "#fdca26"
             ],
             [
              1,
              "#f0f921"
             ]
            ],
            "type": "heatmapgl"
           }
          ],
          "histogram": [
           {
            "marker": {
             "pattern": {
              "fillmode": "overlay",
              "size": 10,
              "solidity": 0.2
             }
            },
            "type": "histogram"
           }
          ],
          "histogram2d": [
           {
            "colorbar": {
             "outlinewidth": 0,
             "ticks": ""
            },
            "colorscale": [
             [
              0,
              "#0d0887"
             ],
             [
              0.1111111111111111,
              "#46039f"
             ],
             [
              0.2222222222222222,
              "#7201a8"
             ],
             [
              0.3333333333333333,
              "#9c179e"
             ],
             [
              0.4444444444444444,
              "#bd3786"
             ],
             [
              0.5555555555555556,
              "#d8576b"
             ],
             [
              0.6666666666666666,
              "#ed7953"
             ],
             [
              0.7777777777777778,
              "#fb9f3a"
             ],
             [
              0.8888888888888888,
              "#fdca26"
             ],
             [
              1,
              "#f0f921"
             ]
            ],
            "type": "histogram2d"
           }
          ],
          "histogram2dcontour": [
           {
            "colorbar": {
             "outlinewidth": 0,
             "ticks": ""
            },
            "colorscale": [
             [
              0,
              "#0d0887"
             ],
             [
              0.1111111111111111,
              "#46039f"
             ],
             [
              0.2222222222222222,
              "#7201a8"
             ],
             [
              0.3333333333333333,
              "#9c179e"
             ],
             [
              0.4444444444444444,
              "#bd3786"
             ],
             [
              0.5555555555555556,
              "#d8576b"
             ],
             [
              0.6666666666666666,
              "#ed7953"
             ],
             [
              0.7777777777777778,
              "#fb9f3a"
             ],
             [
              0.8888888888888888,
              "#fdca26"
             ],
             [
              1,
              "#f0f921"
             ]
            ],
            "type": "histogram2dcontour"
           }
          ],
          "mesh3d": [
           {
            "colorbar": {
             "outlinewidth": 0,
             "ticks": ""
            },
            "type": "mesh3d"
           }
          ],
          "parcoords": [
           {
            "line": {
             "colorbar": {
              "outlinewidth": 0,
              "ticks": ""
             }
            },
            "type": "parcoords"
           }
          ],
          "pie": [
           {
            "automargin": true,
            "type": "pie"
           }
          ],
          "scatter": [
           {
            "fillpattern": {
             "fillmode": "overlay",
             "size": 10,
             "solidity": 0.2
            },
            "type": "scatter"
           }
          ],
          "scatter3d": [
           {
            "line": {
             "colorbar": {
              "outlinewidth": 0,
              "ticks": ""
             }
            },
            "marker": {
             "colorbar": {
              "outlinewidth": 0,
              "ticks": ""
             }
            },
            "type": "scatter3d"
           }
          ],
          "scattercarpet": [
           {
            "marker": {
             "colorbar": {
              "outlinewidth": 0,
              "ticks": ""
             }
            },
            "type": "scattercarpet"
           }
          ],
          "scattergeo": [
           {
            "marker": {
             "colorbar": {
              "outlinewidth": 0,
              "ticks": ""
             }
            },
            "type": "scattergeo"
           }
          ],
          "scattergl": [
           {
            "marker": {
             "colorbar": {
              "outlinewidth": 0,
              "ticks": ""
             }
            },
            "type": "scattergl"
           }
          ],
          "scattermapbox": [
           {
            "marker": {
             "colorbar": {
              "outlinewidth": 0,
              "ticks": ""
             }
            },
            "type": "scattermapbox"
           }
          ],
          "scatterpolar": [
           {
            "marker": {
             "colorbar": {
              "outlinewidth": 0,
              "ticks": ""
             }
            },
            "type": "scatterpolar"
           }
          ],
          "scatterpolargl": [
           {
            "marker": {
             "colorbar": {
              "outlinewidth": 0,
              "ticks": ""
             }
            },
            "type": "scatterpolargl"
           }
          ],
          "scatterternary": [
           {
            "marker": {
             "colorbar": {
              "outlinewidth": 0,
              "ticks": ""
             }
            },
            "type": "scatterternary"
           }
          ],
          "surface": [
           {
            "colorbar": {
             "outlinewidth": 0,
             "ticks": ""
            },
            "colorscale": [
             [
              0,
              "#0d0887"
             ],
             [
              0.1111111111111111,
              "#46039f"
             ],
             [
              0.2222222222222222,
              "#7201a8"
             ],
             [
              0.3333333333333333,
              "#9c179e"
             ],
             [
              0.4444444444444444,
              "#bd3786"
             ],
             [
              0.5555555555555556,
              "#d8576b"
             ],
             [
              0.6666666666666666,
              "#ed7953"
             ],
             [
              0.7777777777777778,
              "#fb9f3a"
             ],
             [
              0.8888888888888888,
              "#fdca26"
             ],
             [
              1,
              "#f0f921"
             ]
            ],
            "type": "surface"
           }
          ],
          "table": [
           {
            "cells": {
             "fill": {
              "color": "#EBF0F8"
             },
             "line": {
              "color": "white"
             }
            },
            "header": {
             "fill": {
              "color": "#C8D4E3"
             },
             "line": {
              "color": "white"
             }
            },
            "type": "table"
           }
          ]
         },
         "layout": {
          "annotationdefaults": {
           "arrowcolor": "#2a3f5f",
           "arrowhead": 0,
           "arrowwidth": 1
          },
          "autotypenumbers": "strict",
          "coloraxis": {
           "colorbar": {
            "outlinewidth": 0,
            "ticks": ""
           }
          },
          "colorscale": {
           "diverging": [
            [
             0,
             "#8e0152"
            ],
            [
             0.1,
             "#c51b7d"
            ],
            [
             0.2,
             "#de77ae"
            ],
            [
             0.3,
             "#f1b6da"
            ],
            [
             0.4,
             "#fde0ef"
            ],
            [
             0.5,
             "#f7f7f7"
            ],
            [
             0.6,
             "#e6f5d0"
            ],
            [
             0.7,
             "#b8e186"
            ],
            [
             0.8,
             "#7fbc41"
            ],
            [
             0.9,
             "#4d9221"
            ],
            [
             1,
             "#276419"
            ]
           ],
           "sequential": [
            [
             0,
             "#0d0887"
            ],
            [
             0.1111111111111111,
             "#46039f"
            ],
            [
             0.2222222222222222,
             "#7201a8"
            ],
            [
             0.3333333333333333,
             "#9c179e"
            ],
            [
             0.4444444444444444,
             "#bd3786"
            ],
            [
             0.5555555555555556,
             "#d8576b"
            ],
            [
             0.6666666666666666,
             "#ed7953"
            ],
            [
             0.7777777777777778,
             "#fb9f3a"
            ],
            [
             0.8888888888888888,
             "#fdca26"
            ],
            [
             1,
             "#f0f921"
            ]
           ],
           "sequentialminus": [
            [
             0,
             "#0d0887"
            ],
            [
             0.1111111111111111,
             "#46039f"
            ],
            [
             0.2222222222222222,
             "#7201a8"
            ],
            [
             0.3333333333333333,
             "#9c179e"
            ],
            [
             0.4444444444444444,
             "#bd3786"
            ],
            [
             0.5555555555555556,
             "#d8576b"
            ],
            [
             0.6666666666666666,
             "#ed7953"
            ],
            [
             0.7777777777777778,
             "#fb9f3a"
            ],
            [
             0.8888888888888888,
             "#fdca26"
            ],
            [
             1,
             "#f0f921"
            ]
           ]
          },
          "colorway": [
           "#636efa",
           "#EF553B",
           "#00cc96",
           "#ab63fa",
           "#FFA15A",
           "#19d3f3",
           "#FF6692",
           "#B6E880",
           "#FF97FF",
           "#FECB52"
          ],
          "font": {
           "color": "#2a3f5f"
          },
          "geo": {
           "bgcolor": "white",
           "lakecolor": "white",
           "landcolor": "#E5ECF6",
           "showlakes": true,
           "showland": true,
           "subunitcolor": "white"
          },
          "hoverlabel": {
           "align": "left"
          },
          "hovermode": "closest",
          "mapbox": {
           "style": "light"
          },
          "paper_bgcolor": "white",
          "plot_bgcolor": "#E5ECF6",
          "polar": {
           "angularaxis": {
            "gridcolor": "white",
            "linecolor": "white",
            "ticks": ""
           },
           "bgcolor": "#E5ECF6",
           "radialaxis": {
            "gridcolor": "white",
            "linecolor": "white",
            "ticks": ""
           }
          },
          "scene": {
           "xaxis": {
            "backgroundcolor": "#E5ECF6",
            "gridcolor": "white",
            "gridwidth": 2,
            "linecolor": "white",
            "showbackground": true,
            "ticks": "",
            "zerolinecolor": "white"
           },
           "yaxis": {
            "backgroundcolor": "#E5ECF6",
            "gridcolor": "white",
            "gridwidth": 2,
            "linecolor": "white",
            "showbackground": true,
            "ticks": "",
            "zerolinecolor": "white"
           },
           "zaxis": {
            "backgroundcolor": "#E5ECF6",
            "gridcolor": "white",
            "gridwidth": 2,
            "linecolor": "white",
            "showbackground": true,
            "ticks": "",
            "zerolinecolor": "white"
           }
          },
          "shapedefaults": {
           "line": {
            "color": "#2a3f5f"
           }
          },
          "ternary": {
           "aaxis": {
            "gridcolor": "white",
            "linecolor": "white",
            "ticks": ""
           },
           "baxis": {
            "gridcolor": "white",
            "linecolor": "white",
            "ticks": ""
           },
           "bgcolor": "#E5ECF6",
           "caxis": {
            "gridcolor": "white",
            "linecolor": "white",
            "ticks": ""
           }
          },
          "title": {
           "x": 0.05
          },
          "xaxis": {
           "automargin": true,
           "gridcolor": "white",
           "linecolor": "white",
           "ticks": "",
           "title": {
            "standoff": 15
           },
           "zerolinecolor": "white",
           "zerolinewidth": 2
          },
          "yaxis": {
           "automargin": true,
           "gridcolor": "white",
           "linecolor": "white",
           "ticks": "",
           "title": {
            "standoff": 15
           },
           "zerolinecolor": "white",
           "zerolinewidth": 2
          }
         }
        },
        "title": {
         "text": "Anzahl der Viertelstunden im Jahren 2030 mit 0-330 % EE-Anteil"
        },
        "xaxis": {
         "tickmode": "array",
         "ticktext": [
          "0%",
          "5%",
          "10%",
          "15%",
          "20%",
          "25%",
          "30%",
          "35%",
          "40%",
          "45%",
          "50%",
          "55%",
          "60%",
          "65%",
          "70%",
          "75%",
          "80%",
          "85%",
          "90%",
          "95%",
          "100%",
          "105%",
          "110%",
          "115%",
          "120%",
          "125%",
          "130%",
          "135%",
          "140%",
          "145%",
          "150%",
          "155%",
          "160%",
          "165%",
          "170%",
          "175%",
          "180%",
          "185%",
          "190%",
          "195%",
          "200%",
          "205%",
          "210%",
          "215%",
          "220%",
          "225%",
          "230%",
          "235%",
          "240%",
          "245%",
          "250%",
          "255%",
          "260%",
          "265%",
          "270%",
          "275%",
          "280%",
          "285%",
          "290%",
          "295%",
          "300%",
          "305%",
          "310%",
          "315%",
          "320%",
          "325%"
         ],
         "tickvals": [
          0,
          5,
          10,
          15,
          20,
          25,
          30,
          35,
          40,
          45,
          50,
          55,
          60,
          65,
          70,
          75,
          80,
          85,
          90,
          95,
          100,
          105,
          110,
          115,
          120,
          125,
          130,
          135,
          140,
          145,
          150,
          155,
          160,
          165,
          170,
          175,
          180,
          185,
          190,
          195,
          200,
          205,
          210,
          215,
          220,
          225,
          230,
          235,
          240,
          245,
          250,
          255,
          260,
          265,
          270,
          275,
          280,
          285,
          290,
          295,
          300,
          305,
          310,
          315,
          320,
          325
         ],
         "title": {
          "text": "Prozentsatz erneuerbarer Energie"
         }
        },
        "yaxis": {
         "title": {
          "text": "Anzahl der Viertelstunden"
         }
        }
       }
      }
     },
     "metadata": {},
     "output_type": "display_data"
    },
    {
     "data": {
      "application/vnd.plotly.v1+json": {
       "config": {
        "plotlyServerURL": "https://plot.ly"
       },
       "data": [
        {
         "type": "bar",
         "x": [
          0,
          1,
          2,
          3,
          4,
          5,
          6,
          7,
          8,
          9,
          10,
          11,
          12,
          13,
          14,
          15,
          16,
          17,
          18,
          19,
          20,
          21,
          22,
          23,
          24,
          25,
          26,
          27,
          28,
          29,
          30,
          31,
          32,
          33,
          34,
          35,
          36,
          37,
          38,
          39,
          40,
          41,
          42,
          43,
          44,
          45,
          46,
          47,
          48,
          49,
          50,
          51,
          52,
          53,
          54,
          55,
          56,
          57,
          58,
          59,
          60,
          61,
          62,
          63,
          64,
          65,
          66,
          67,
          68,
          69,
          70,
          71,
          72,
          73,
          74,
          75,
          76,
          77,
          78,
          79,
          80,
          81,
          82,
          83,
          84,
          85,
          86,
          87,
          88,
          89,
          90,
          91,
          92,
          93,
          94,
          95,
          96,
          97,
          98,
          99,
          100,
          101,
          102,
          103,
          104,
          105,
          106,
          107,
          108,
          109,
          110,
          111,
          112,
          113,
          114,
          115,
          116,
          117,
          118,
          119,
          120,
          121,
          122,
          123,
          124,
          125,
          126,
          127,
          128,
          129,
          130,
          131,
          132,
          133,
          134,
          135,
          136,
          137,
          138,
          139,
          140,
          141,
          142,
          143,
          144,
          145,
          146,
          147,
          148,
          149,
          150,
          151,
          152,
          153,
          154,
          155,
          156,
          157,
          158,
          159,
          160,
          161,
          162,
          163,
          164,
          165,
          166,
          167,
          168,
          169,
          170,
          171,
          172,
          173,
          174,
          175,
          176,
          177,
          178,
          179,
          180,
          181,
          182,
          183,
          184,
          185,
          186,
          187,
          188,
          189,
          190,
          191,
          192,
          193,
          194,
          195,
          196,
          197,
          198,
          199,
          200,
          201,
          202,
          203,
          204,
          205,
          206,
          207,
          208,
          209,
          210,
          211,
          212,
          213,
          214,
          215,
          216,
          217,
          218,
          219,
          220,
          221,
          222,
          223,
          224,
          225,
          226,
          227,
          228,
          229,
          230,
          231,
          232,
          233,
          234,
          235,
          236,
          237,
          238,
          239,
          240,
          241,
          242,
          243,
          244,
          245,
          246,
          247,
          248,
          249,
          250,
          251,
          252,
          253,
          254,
          255,
          256,
          257,
          258,
          259,
          260,
          261,
          262,
          263,
          264,
          265,
          266,
          267,
          268,
          269,
          270,
          271,
          272,
          273,
          274,
          275,
          276,
          277,
          278,
          279,
          280,
          281,
          282,
          283,
          284,
          285,
          286,
          287,
          288,
          289,
          290,
          291,
          292,
          293,
          294,
          295,
          296,
          297,
          298,
          299,
          300
         ],
         "y": [
          35136,
          35136,
          35136,
          35136,
          35136,
          35136,
          35136,
          35136,
          35136,
          35136,
          35136,
          35136,
          35136,
          35136,
          35131,
          35128,
          35118,
          35105,
          35082,
          35055,
          35033,
          34979,
          34910,
          34828,
          34671,
          34556,
          34441,
          34318,
          34158,
          34004,
          33843,
          33705,
          33542,
          33356,
          33213,
          33039,
          32848,
          32677,
          32497,
          32314,
          32112,
          31932,
          31788,
          31612,
          31434,
          31199,
          30996,
          30808,
          30665,
          30509,
          30333,
          30175,
          30000,
          29827,
          29654,
          29477,
          29309,
          29132,
          28968,
          28833,
          28665,
          28490,
          28289,
          28106,
          27926,
          27741,
          27558,
          27367,
          27159,
          26960,
          26775,
          26547,
          26326,
          26116,
          25953,
          25776,
          25590,
          25416,
          25246,
          25053,
          24856,
          24685,
          24480,
          24282,
          24112,
          23928,
          23726,
          23533,
          23334,
          23136,
          22950,
          22737,
          22504,
          22291,
          22082,
          21832,
          21644,
          21440,
          21232,
          20999,
          20814,
          20641,
          20437,
          20250,
          20050,
          19852,
          19674,
          19506,
          19283,
          19085,
          18915,
          18722,
          18526,
          18347,
          18145,
          17971,
          17762,
          17554,
          17342,
          17132,
          16925,
          16754,
          16549,
          16364,
          16175,
          16002,
          15799,
          15622,
          15468,
          15286,
          15105,
          14929,
          14742,
          14584,
          14410,
          14237,
          14052,
          13870,
          13682,
          13497,
          13284,
          13102,
          12916,
          12710,
          12527,
          12360,
          12178,
          12038,
          11872,
          11690,
          11541,
          11387,
          11204,
          11061,
          10907,
          10743,
          10580,
          10399,
          10225,
          10081,
          9930,
          9771,
          9633,
          9491,
          9330,
          9198,
          9058,
          8917,
          8781,
          8643,
          8500,
          8371,
          8227,
          8095,
          7967,
          7870,
          7737,
          7601,
          7487,
          7353,
          7238,
          7115,
          7001,
          6889,
          6759,
          6661,
          6541,
          6432,
          6329,
          6192,
          6089,
          5982,
          5863,
          5757,
          5636,
          5512,
          5417,
          5309,
          5212,
          5091,
          4983,
          4891,
          4779,
          4673,
          4565,
          4465,
          4380,
          4269,
          4149,
          4065,
          3969,
          3893,
          3822,
          3757,
          3690,
          3625,
          3545,
          3483,
          3426,
          3370,
          3307,
          3251,
          3194,
          3146,
          3105,
          3049,
          2996,
          2944,
          2890,
          2838,
          2784,
          2730,
          2672,
          2614,
          2561,
          2492,
          2439,
          2392,
          2335,
          2281,
          2222,
          2174,
          2115,
          2072,
          2025,
          1980,
          1928,
          1877,
          1827,
          1783,
          1744,
          1710,
          1672,
          1628,
          1595,
          1571,
          1547,
          1519,
          1488,
          1463,
          1432,
          1403,
          1377,
          1347,
          1328,
          1304,
          1271,
          1250,
          1221,
          1191,
          1158,
          1129,
          1106,
          1072,
          1046,
          1022,
          1001,
          979,
          946,
          924,
          899,
          872,
          853,
          814,
          786,
          761,
          741,
          720,
          703,
          691,
          674,
          656,
          644,
          622,
          603,
          572,
          551,
          522,
          504,
          486,
          462
         ]
        }
       ],
       "layout": {
        "template": {
         "data": {
          "bar": [
           {
            "error_x": {
             "color": "#2a3f5f"
            },
            "error_y": {
             "color": "#2a3f5f"
            },
            "marker": {
             "line": {
              "color": "#E5ECF6",
              "width": 0.5
             },
             "pattern": {
              "fillmode": "overlay",
              "size": 10,
              "solidity": 0.2
             }
            },
            "type": "bar"
           }
          ],
          "barpolar": [
           {
            "marker": {
             "line": {
              "color": "#E5ECF6",
              "width": 0.5
             },
             "pattern": {
              "fillmode": "overlay",
              "size": 10,
              "solidity": 0.2
             }
            },
            "type": "barpolar"
           }
          ],
          "carpet": [
           {
            "aaxis": {
             "endlinecolor": "#2a3f5f",
             "gridcolor": "white",
             "linecolor": "white",
             "minorgridcolor": "white",
             "startlinecolor": "#2a3f5f"
            },
            "baxis": {
             "endlinecolor": "#2a3f5f",
             "gridcolor": "white",
             "linecolor": "white",
             "minorgridcolor": "white",
             "startlinecolor": "#2a3f5f"
            },
            "type": "carpet"
           }
          ],
          "choropleth": [
           {
            "colorbar": {
             "outlinewidth": 0,
             "ticks": ""
            },
            "type": "choropleth"
           }
          ],
          "contour": [
           {
            "colorbar": {
             "outlinewidth": 0,
             "ticks": ""
            },
            "colorscale": [
             [
              0,
              "#0d0887"
             ],
             [
              0.1111111111111111,
              "#46039f"
             ],
             [
              0.2222222222222222,
              "#7201a8"
             ],
             [
              0.3333333333333333,
              "#9c179e"
             ],
             [
              0.4444444444444444,
              "#bd3786"
             ],
             [
              0.5555555555555556,
              "#d8576b"
             ],
             [
              0.6666666666666666,
              "#ed7953"
             ],
             [
              0.7777777777777778,
              "#fb9f3a"
             ],
             [
              0.8888888888888888,
              "#fdca26"
             ],
             [
              1,
              "#f0f921"
             ]
            ],
            "type": "contour"
           }
          ],
          "contourcarpet": [
           {
            "colorbar": {
             "outlinewidth": 0,
             "ticks": ""
            },
            "type": "contourcarpet"
           }
          ],
          "heatmap": [
           {
            "colorbar": {
             "outlinewidth": 0,
             "ticks": ""
            },
            "colorscale": [
             [
              0,
              "#0d0887"
             ],
             [
              0.1111111111111111,
              "#46039f"
             ],
             [
              0.2222222222222222,
              "#7201a8"
             ],
             [
              0.3333333333333333,
              "#9c179e"
             ],
             [
              0.4444444444444444,
              "#bd3786"
             ],
             [
              0.5555555555555556,
              "#d8576b"
             ],
             [
              0.6666666666666666,
              "#ed7953"
             ],
             [
              0.7777777777777778,
              "#fb9f3a"
             ],
             [
              0.8888888888888888,
              "#fdca26"
             ],
             [
              1,
              "#f0f921"
             ]
            ],
            "type": "heatmap"
           }
          ],
          "heatmapgl": [
           {
            "colorbar": {
             "outlinewidth": 0,
             "ticks": ""
            },
            "colorscale": [
             [
              0,
              "#0d0887"
             ],
             [
              0.1111111111111111,
              "#46039f"
             ],
             [
              0.2222222222222222,
              "#7201a8"
             ],
             [
              0.3333333333333333,
              "#9c179e"
             ],
             [
              0.4444444444444444,
              "#bd3786"
             ],
             [
              0.5555555555555556,
              "#d8576b"
             ],
             [
              0.6666666666666666,
              "#ed7953"
             ],
             [
              0.7777777777777778,
              "#fb9f3a"
             ],
             [
              0.8888888888888888,
              "#fdca26"
             ],
             [
              1,
              "#f0f921"
             ]
            ],
            "type": "heatmapgl"
           }
          ],
          "histogram": [
           {
            "marker": {
             "pattern": {
              "fillmode": "overlay",
              "size": 10,
              "solidity": 0.2
             }
            },
            "type": "histogram"
           }
          ],
          "histogram2d": [
           {
            "colorbar": {
             "outlinewidth": 0,
             "ticks": ""
            },
            "colorscale": [
             [
              0,
              "#0d0887"
             ],
             [
              0.1111111111111111,
              "#46039f"
             ],
             [
              0.2222222222222222,
              "#7201a8"
             ],
             [
              0.3333333333333333,
              "#9c179e"
             ],
             [
              0.4444444444444444,
              "#bd3786"
             ],
             [
              0.5555555555555556,
              "#d8576b"
             ],
             [
              0.6666666666666666,
              "#ed7953"
             ],
             [
              0.7777777777777778,
              "#fb9f3a"
             ],
             [
              0.8888888888888888,
              "#fdca26"
             ],
             [
              1,
              "#f0f921"
             ]
            ],
            "type": "histogram2d"
           }
          ],
          "histogram2dcontour": [
           {
            "colorbar": {
             "outlinewidth": 0,
             "ticks": ""
            },
            "colorscale": [
             [
              0,
              "#0d0887"
             ],
             [
              0.1111111111111111,
              "#46039f"
             ],
             [
              0.2222222222222222,
              "#7201a8"
             ],
             [
              0.3333333333333333,
              "#9c179e"
             ],
             [
              0.4444444444444444,
              "#bd3786"
             ],
             [
              0.5555555555555556,
              "#d8576b"
             ],
             [
              0.6666666666666666,
              "#ed7953"
             ],
             [
              0.7777777777777778,
              "#fb9f3a"
             ],
             [
              0.8888888888888888,
              "#fdca26"
             ],
             [
              1,
              "#f0f921"
             ]
            ],
            "type": "histogram2dcontour"
           }
          ],
          "mesh3d": [
           {
            "colorbar": {
             "outlinewidth": 0,
             "ticks": ""
            },
            "type": "mesh3d"
           }
          ],
          "parcoords": [
           {
            "line": {
             "colorbar": {
              "outlinewidth": 0,
              "ticks": ""
             }
            },
            "type": "parcoords"
           }
          ],
          "pie": [
           {
            "automargin": true,
            "type": "pie"
           }
          ],
          "scatter": [
           {
            "fillpattern": {
             "fillmode": "overlay",
             "size": 10,
             "solidity": 0.2
            },
            "type": "scatter"
           }
          ],
          "scatter3d": [
           {
            "line": {
             "colorbar": {
              "outlinewidth": 0,
              "ticks": ""
             }
            },
            "marker": {
             "colorbar": {
              "outlinewidth": 0,
              "ticks": ""
             }
            },
            "type": "scatter3d"
           }
          ],
          "scattercarpet": [
           {
            "marker": {
             "colorbar": {
              "outlinewidth": 0,
              "ticks": ""
             }
            },
            "type": "scattercarpet"
           }
          ],
          "scattergeo": [
           {
            "marker": {
             "colorbar": {
              "outlinewidth": 0,
              "ticks": ""
             }
            },
            "type": "scattergeo"
           }
          ],
          "scattergl": [
           {
            "marker": {
             "colorbar": {
              "outlinewidth": 0,
              "ticks": ""
             }
            },
            "type": "scattergl"
           }
          ],
          "scattermapbox": [
           {
            "marker": {
             "colorbar": {
              "outlinewidth": 0,
              "ticks": ""
             }
            },
            "type": "scattermapbox"
           }
          ],
          "scatterpolar": [
           {
            "marker": {
             "colorbar": {
              "outlinewidth": 0,
              "ticks": ""
             }
            },
            "type": "scatterpolar"
           }
          ],
          "scatterpolargl": [
           {
            "marker": {
             "colorbar": {
              "outlinewidth": 0,
              "ticks": ""
             }
            },
            "type": "scatterpolargl"
           }
          ],
          "scatterternary": [
           {
            "marker": {
             "colorbar": {
              "outlinewidth": 0,
              "ticks": ""
             }
            },
            "type": "scatterternary"
           }
          ],
          "surface": [
           {
            "colorbar": {
             "outlinewidth": 0,
             "ticks": ""
            },
            "colorscale": [
             [
              0,
              "#0d0887"
             ],
             [
              0.1111111111111111,
              "#46039f"
             ],
             [
              0.2222222222222222,
              "#7201a8"
             ],
             [
              0.3333333333333333,
              "#9c179e"
             ],
             [
              0.4444444444444444,
              "#bd3786"
             ],
             [
              0.5555555555555556,
              "#d8576b"
             ],
             [
              0.6666666666666666,
              "#ed7953"
             ],
             [
              0.7777777777777778,
              "#fb9f3a"
             ],
             [
              0.8888888888888888,
              "#fdca26"
             ],
             [
              1,
              "#f0f921"
             ]
            ],
            "type": "surface"
           }
          ],
          "table": [
           {
            "cells": {
             "fill": {
              "color": "#EBF0F8"
             },
             "line": {
              "color": "white"
             }
            },
            "header": {
             "fill": {
              "color": "#C8D4E3"
             },
             "line": {
              "color": "white"
             }
            },
            "type": "table"
           }
          ]
         },
         "layout": {
          "annotationdefaults": {
           "arrowcolor": "#2a3f5f",
           "arrowhead": 0,
           "arrowwidth": 1
          },
          "autotypenumbers": "strict",
          "coloraxis": {
           "colorbar": {
            "outlinewidth": 0,
            "ticks": ""
           }
          },
          "colorscale": {
           "diverging": [
            [
             0,
             "#8e0152"
            ],
            [
             0.1,
             "#c51b7d"
            ],
            [
             0.2,
             "#de77ae"
            ],
            [
             0.3,
             "#f1b6da"
            ],
            [
             0.4,
             "#fde0ef"
            ],
            [
             0.5,
             "#f7f7f7"
            ],
            [
             0.6,
             "#e6f5d0"
            ],
            [
             0.7,
             "#b8e186"
            ],
            [
             0.8,
             "#7fbc41"
            ],
            [
             0.9,
             "#4d9221"
            ],
            [
             1,
             "#276419"
            ]
           ],
           "sequential": [
            [
             0,
             "#0d0887"
            ],
            [
             0.1111111111111111,
             "#46039f"
            ],
            [
             0.2222222222222222,
             "#7201a8"
            ],
            [
             0.3333333333333333,
             "#9c179e"
            ],
            [
             0.4444444444444444,
             "#bd3786"
            ],
            [
             0.5555555555555556,
             "#d8576b"
            ],
            [
             0.6666666666666666,
             "#ed7953"
            ],
            [
             0.7777777777777778,
             "#fb9f3a"
            ],
            [
             0.8888888888888888,
             "#fdca26"
            ],
            [
             1,
             "#f0f921"
            ]
           ],
           "sequentialminus": [
            [
             0,
             "#0d0887"
            ],
            [
             0.1111111111111111,
             "#46039f"
            ],
            [
             0.2222222222222222,
             "#7201a8"
            ],
            [
             0.3333333333333333,
             "#9c179e"
            ],
            [
             0.4444444444444444,
             "#bd3786"
            ],
            [
             0.5555555555555556,
             "#d8576b"
            ],
            [
             0.6666666666666666,
             "#ed7953"
            ],
            [
             0.7777777777777778,
             "#fb9f3a"
            ],
            [
             0.8888888888888888,
             "#fdca26"
            ],
            [
             1,
             "#f0f921"
            ]
           ]
          },
          "colorway": [
           "#636efa",
           "#EF553B",
           "#00cc96",
           "#ab63fa",
           "#FFA15A",
           "#19d3f3",
           "#FF6692",
           "#B6E880",
           "#FF97FF",
           "#FECB52"
          ],
          "font": {
           "color": "#2a3f5f"
          },
          "geo": {
           "bgcolor": "white",
           "lakecolor": "white",
           "landcolor": "#E5ECF6",
           "showlakes": true,
           "showland": true,
           "subunitcolor": "white"
          },
          "hoverlabel": {
           "align": "left"
          },
          "hovermode": "closest",
          "mapbox": {
           "style": "light"
          },
          "paper_bgcolor": "white",
          "plot_bgcolor": "#E5ECF6",
          "polar": {
           "angularaxis": {
            "gridcolor": "white",
            "linecolor": "white",
            "ticks": ""
           },
           "bgcolor": "#E5ECF6",
           "radialaxis": {
            "gridcolor": "white",
            "linecolor": "white",
            "ticks": ""
           }
          },
          "scene": {
           "xaxis": {
            "backgroundcolor": "#E5ECF6",
            "gridcolor": "white",
            "gridwidth": 2,
            "linecolor": "white",
            "showbackground": true,
            "ticks": "",
            "zerolinecolor": "white"
           },
           "yaxis": {
            "backgroundcolor": "#E5ECF6",
            "gridcolor": "white",
            "gridwidth": 2,
            "linecolor": "white",
            "showbackground": true,
            "ticks": "",
            "zerolinecolor": "white"
           },
           "zaxis": {
            "backgroundcolor": "#E5ECF6",
            "gridcolor": "white",
            "gridwidth": 2,
            "linecolor": "white",
            "showbackground": true,
            "ticks": "",
            "zerolinecolor": "white"
           }
          },
          "shapedefaults": {
           "line": {
            "color": "#2a3f5f"
           }
          },
          "ternary": {
           "aaxis": {
            "gridcolor": "white",
            "linecolor": "white",
            "ticks": ""
           },
           "baxis": {
            "gridcolor": "white",
            "linecolor": "white",
            "ticks": ""
           },
           "bgcolor": "#E5ECF6",
           "caxis": {
            "gridcolor": "white",
            "linecolor": "white",
            "ticks": ""
           }
          },
          "title": {
           "x": 0.05
          },
          "xaxis": {
           "automargin": true,
           "gridcolor": "white",
           "linecolor": "white",
           "ticks": "",
           "title": {
            "standoff": 15
           },
           "zerolinecolor": "white",
           "zerolinewidth": 2
          },
          "yaxis": {
           "automargin": true,
           "gridcolor": "white",
           "linecolor": "white",
           "ticks": "",
           "title": {
            "standoff": 15
           },
           "zerolinecolor": "white",
           "zerolinewidth": 2
          }
         }
        },
        "title": {
         "text": "Anzahl der Viertelstunden mit erneuerbarer Energieerzeugung über oder gleich dem Verbrauch"
        },
        "xaxis": {
         "title": {
          "text": "Prozentsatz erneuerbarer Energie"
         }
        },
        "yaxis": {
         "title": {
          "text": "Anzahl der Viertelstunden"
         }
        }
       }
      }
     },
     "metadata": {},
     "output_type": "display_data"
    },
    {
     "name": "stdout",
     "output_type": "stream",
     "text": [
      "schlecht\n",
      "MITTEL\n",
      "        Time  Weekday_Summer  Saturday_Summer  Sunday_Summer  Weekday_Winter  \\\n",
      "0   00:15:00         1667.20          1667.20        1667.20         8227.20   \n",
      "1   00:30:00         1699.20          1699.20        1699.20         7724.80   \n",
      "2   00:45:00         1667.20          1667.20        1667.20         7740.80   \n",
      "3   01:00:00         1648.00          1648.00        1648.00         7686.40   \n",
      "4   01:15:00         1619.20          1619.20        1619.20         7737.60   \n",
      "..       ...             ...              ...            ...             ...   \n",
      "91  23:00:00         1571.20          1571.20        1571.20            0.00   \n",
      "92  23:15:00         1795.20          1795.20        1795.20            0.00   \n",
      "93  23:30:00         1635.20          1635.20        1635.20        13392.00   \n",
      "94  23:45:00         1571.20          1571.20        1571.20        10403.20   \n",
      "95  00:00:00         1545.60          1545.60        1545.60         8953.60   \n",
      "\n",
      "    Saturday_Winter  Sunday_Winter  \n",
      "0           8227.20        8227.20  \n",
      "1           7724.80        7724.80  \n",
      "2           7740.80        7740.80  \n",
      "3           7686.40        7686.40  \n",
      "4           7737.60        7737.60  \n",
      "..              ...            ...  \n",
      "91             0.00           0.00  \n",
      "92             0.00           0.00  \n",
      "93         13392.00       13392.00  \n",
      "94         10403.20       10403.20  \n",
      "95          8953.60        8953.60  \n",
      "\n",
      "[96 rows x 7 columns]\n"
     ]
    }
   ],
   "source": [
    "def main():\n",
    "    file_production = 'Realisierte_Erzeugung_202001010000_202212312359_Viertelstunde.csv'                   # File names\n",
    "    file_consumption = 'Realisierter_Stromverbrauch_202001010000_202212312359_Viertelstunde.csv'\n",
    "    load_profile_df = read_load_profile('Lastprofile_SWKiel.xls')\n",
    "\n",
    "    # Read and clean data\n",
    "    production_df, consumption_df, total_renewable_production, total_consumption, data_by_year = read_and_clean_data(file_production, file_consumption)\n",
    "    \n",
    "    # Find dark lulls for the years 2020-2022\n",
    "    find_dark_lulls_for_years(production_df, columns_to_clean=['Biomass', 'Hydroelectric', 'Wind Offshore', 'Wind Onshore', 'Photovoltaic', 'Other Renewable'])\n",
    "\n",
    "    # Berechnung und Anzeige des Histogramms für erneuerbare Anteile\n",
    "    #calculate_and_display_renewable_shares_histogram(total_renewable_production, total_consumption)\n",
    "    #calculate_and_display_data_by_year(data_by_year)\n",
    "\n",
    "    #plot_energy_consumption_and_production(production_df, consumption_df, columns_to_clean=['Biomass', 'Hydroelectric', 'Wind Offshore', 'Wind Onshore', 'Photovoltaic', 'Other Renewable'])\n",
    "\n",
    "    date = get_date() # Get the selected date from the user\n",
    "    print(\"gut\")\n",
    "    process_and_plot_2030_dataGut(production_df, consumption_df, load_profile_df, date)\n",
    "    print(\"gut mit Lastprofile\")\n",
    "    process_and_plot_2030_dataGut2(production_df, consumption_df, load_profile_df, date)\n",
    "    print(\"schlecht\")\n",
    "    #process_and_plot_2030_dataSchlecht(production_df, consumption_df, load_profile_df, date)\n",
    "    print(\"MITTEL\")\n",
    "    #process_and_plot_2030_dataMi(production_df, consumption_df, load_profile_df, date)\n",
    "    \n",
    "    print(load_profile_df)\n",
    "\n",
    "if __name__ == \"__main__\":\n",
    "    main()"
   ]
  }
 ],
 "metadata": {
  "kernelspec": {
   "display_name": "Python 3",
   "language": "python",
   "name": "python3"
  },
  "language_info": {
   "codemirror_mode": {
    "name": "ipython",
    "version": 3
   },
   "file_extension": ".py",
   "mimetype": "text/x-python",
   "name": "python",
   "nbconvert_exporter": "python",
   "pygments_lexer": "ipython3",
   "version": "3.12.0"
  }
 },
 "nbformat": 4,
 "nbformat_minor": 2
}
